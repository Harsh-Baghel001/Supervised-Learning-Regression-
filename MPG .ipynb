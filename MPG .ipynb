{
 "cells": [
  {
   "cell_type": "code",
   "execution_count": 129,
   "id": "6d774d59",
   "metadata": {},
   "outputs": [],
   "source": [
    "import numpy as np\n",
    "import pandas as pd\n",
    "import seaborn as sns\n",
    "import matplotlib.pyplot as plt\n",
    "\n",
    "import statsmodels.formula.api as sfa\n",
    "import statsmodels.api as sma\n",
    "from sklearn.metrics import r2_score,mean_absolute_error,mean_squared_error\n",
    "from sklearn.metrics import mean_absolute_percentage_error\n",
    "\n",
    "from statsmodels.stats.outliers_influence import variance_inflation_factor\n",
    "\n",
    "import scipy.stats as stats\n",
    "\n",
    "from sklearn.model_selection import train_test_split\n",
    "\n",
    "import warnings\n",
    "warnings.filterwarnings('ignore')"
   ]
  },
  {
   "cell_type": "code",
   "execution_count": 65,
   "id": "ef644e73",
   "metadata": {},
   "outputs": [],
   "source": [
    "mpg = sns.load_dataset('mpg')"
   ]
  },
  {
   "cell_type": "code",
   "execution_count": 66,
   "id": "7789e9dc",
   "metadata": {},
   "outputs": [
    {
     "data": {
      "text/html": [
       "<div>\n",
       "<style scoped>\n",
       "    .dataframe tbody tr th:only-of-type {\n",
       "        vertical-align: middle;\n",
       "    }\n",
       "\n",
       "    .dataframe tbody tr th {\n",
       "        vertical-align: top;\n",
       "    }\n",
       "\n",
       "    .dataframe thead th {\n",
       "        text-align: right;\n",
       "    }\n",
       "</style>\n",
       "<table border=\"1\" class=\"dataframe\">\n",
       "  <thead>\n",
       "    <tr style=\"text-align: right;\">\n",
       "      <th></th>\n",
       "      <th>mpg</th>\n",
       "      <th>cylinders</th>\n",
       "      <th>displacement</th>\n",
       "      <th>horsepower</th>\n",
       "      <th>weight</th>\n",
       "      <th>acceleration</th>\n",
       "      <th>model_year</th>\n",
       "      <th>origin</th>\n",
       "      <th>name</th>\n",
       "    </tr>\n",
       "  </thead>\n",
       "  <tbody>\n",
       "    <tr>\n",
       "      <th>0</th>\n",
       "      <td>18.0</td>\n",
       "      <td>8</td>\n",
       "      <td>307.0</td>\n",
       "      <td>130.0</td>\n",
       "      <td>3504</td>\n",
       "      <td>12.0</td>\n",
       "      <td>70</td>\n",
       "      <td>usa</td>\n",
       "      <td>chevrolet chevelle malibu</td>\n",
       "    </tr>\n",
       "    <tr>\n",
       "      <th>1</th>\n",
       "      <td>15.0</td>\n",
       "      <td>8</td>\n",
       "      <td>350.0</td>\n",
       "      <td>165.0</td>\n",
       "      <td>3693</td>\n",
       "      <td>11.5</td>\n",
       "      <td>70</td>\n",
       "      <td>usa</td>\n",
       "      <td>buick skylark 320</td>\n",
       "    </tr>\n",
       "    <tr>\n",
       "      <th>2</th>\n",
       "      <td>18.0</td>\n",
       "      <td>8</td>\n",
       "      <td>318.0</td>\n",
       "      <td>150.0</td>\n",
       "      <td>3436</td>\n",
       "      <td>11.0</td>\n",
       "      <td>70</td>\n",
       "      <td>usa</td>\n",
       "      <td>plymouth satellite</td>\n",
       "    </tr>\n",
       "    <tr>\n",
       "      <th>3</th>\n",
       "      <td>16.0</td>\n",
       "      <td>8</td>\n",
       "      <td>304.0</td>\n",
       "      <td>150.0</td>\n",
       "      <td>3433</td>\n",
       "      <td>12.0</td>\n",
       "      <td>70</td>\n",
       "      <td>usa</td>\n",
       "      <td>amc rebel sst</td>\n",
       "    </tr>\n",
       "    <tr>\n",
       "      <th>4</th>\n",
       "      <td>17.0</td>\n",
       "      <td>8</td>\n",
       "      <td>302.0</td>\n",
       "      <td>140.0</td>\n",
       "      <td>3449</td>\n",
       "      <td>10.5</td>\n",
       "      <td>70</td>\n",
       "      <td>usa</td>\n",
       "      <td>ford torino</td>\n",
       "    </tr>\n",
       "  </tbody>\n",
       "</table>\n",
       "</div>"
      ],
      "text/plain": [
       "    mpg  cylinders  displacement  horsepower  weight  acceleration  \\\n",
       "0  18.0          8         307.0       130.0    3504          12.0   \n",
       "1  15.0          8         350.0       165.0    3693          11.5   \n",
       "2  18.0          8         318.0       150.0    3436          11.0   \n",
       "3  16.0          8         304.0       150.0    3433          12.0   \n",
       "4  17.0          8         302.0       140.0    3449          10.5   \n",
       "\n",
       "   model_year origin                       name  \n",
       "0          70    usa  chevrolet chevelle malibu  \n",
       "1          70    usa          buick skylark 320  \n",
       "2          70    usa         plymouth satellite  \n",
       "3          70    usa              amc rebel sst  \n",
       "4          70    usa                ford torino  "
      ]
     },
     "execution_count": 66,
     "metadata": {},
     "output_type": "execute_result"
    }
   ],
   "source": [
    "# objective: Train a LR model which could predict the milage of the car on the\n",
    "# basis following information.\n",
    "mpg.head()"
   ]
  },
  {
   "cell_type": "code",
   "execution_count": 67,
   "id": "f489d4ec",
   "metadata": {},
   "outputs": [
    {
     "data": {
      "text/plain": [
       "usa       249\n",
       "japan      79\n",
       "europe     70\n",
       "Name: origin, dtype: int64"
      ]
     },
     "execution_count": 67,
     "metadata": {},
     "output_type": "execute_result"
    }
   ],
   "source": [
    "# LR model interpretation when independent model is category (mpg-origin)\n",
    "mpg['origin'].value_counts()"
   ]
  },
  {
   "cell_type": "code",
   "execution_count": 68,
   "id": "8688c2b1",
   "metadata": {},
   "outputs": [
    {
     "data": {
      "text/plain": [
       "origin\n",
       "europe    27.891429\n",
       "japan     30.450633\n",
       "usa       20.083534\n",
       "Name: mpg, dtype: float64"
      ]
     },
     "execution_count": 68,
     "metadata": {},
     "output_type": "execute_result"
    }
   ],
   "source": [
    "mpg.groupby(by='origin')['mpg'].mean()"
   ]
  },
  {
   "cell_type": "code",
   "execution_count": 69,
   "id": "390f19c0",
   "metadata": {},
   "outputs": [],
   "source": [
    "origin = pd.get_dummies(mpg['origin'],dtype=int,drop_first=True)"
   ]
  },
  {
   "cell_type": "code",
   "execution_count": 70,
   "id": "5c8825cb",
   "metadata": {},
   "outputs": [
    {
     "data": {
      "text/html": [
       "<div>\n",
       "<style scoped>\n",
       "    .dataframe tbody tr th:only-of-type {\n",
       "        vertical-align: middle;\n",
       "    }\n",
       "\n",
       "    .dataframe tbody tr th {\n",
       "        vertical-align: top;\n",
       "    }\n",
       "\n",
       "    .dataframe thead th {\n",
       "        text-align: right;\n",
       "    }\n",
       "</style>\n",
       "<table border=\"1\" class=\"dataframe\">\n",
       "  <thead>\n",
       "    <tr style=\"text-align: right;\">\n",
       "      <th></th>\n",
       "      <th>japan</th>\n",
       "      <th>usa</th>\n",
       "    </tr>\n",
       "  </thead>\n",
       "  <tbody>\n",
       "    <tr>\n",
       "      <th>0</th>\n",
       "      <td>0</td>\n",
       "      <td>1</td>\n",
       "    </tr>\n",
       "    <tr>\n",
       "      <th>1</th>\n",
       "      <td>0</td>\n",
       "      <td>1</td>\n",
       "    </tr>\n",
       "    <tr>\n",
       "      <th>2</th>\n",
       "      <td>0</td>\n",
       "      <td>1</td>\n",
       "    </tr>\n",
       "    <tr>\n",
       "      <th>3</th>\n",
       "      <td>0</td>\n",
       "      <td>1</td>\n",
       "    </tr>\n",
       "    <tr>\n",
       "      <th>4</th>\n",
       "      <td>0</td>\n",
       "      <td>1</td>\n",
       "    </tr>\n",
       "    <tr>\n",
       "      <th>...</th>\n",
       "      <td>...</td>\n",
       "      <td>...</td>\n",
       "    </tr>\n",
       "    <tr>\n",
       "      <th>393</th>\n",
       "      <td>0</td>\n",
       "      <td>1</td>\n",
       "    </tr>\n",
       "    <tr>\n",
       "      <th>394</th>\n",
       "      <td>0</td>\n",
       "      <td>0</td>\n",
       "    </tr>\n",
       "    <tr>\n",
       "      <th>395</th>\n",
       "      <td>0</td>\n",
       "      <td>1</td>\n",
       "    </tr>\n",
       "    <tr>\n",
       "      <th>396</th>\n",
       "      <td>0</td>\n",
       "      <td>1</td>\n",
       "    </tr>\n",
       "    <tr>\n",
       "      <th>397</th>\n",
       "      <td>0</td>\n",
       "      <td>1</td>\n",
       "    </tr>\n",
       "  </tbody>\n",
       "</table>\n",
       "<p>398 rows × 2 columns</p>\n",
       "</div>"
      ],
      "text/plain": [
       "     japan  usa\n",
       "0        0    1\n",
       "1        0    1\n",
       "2        0    1\n",
       "3        0    1\n",
       "4        0    1\n",
       "..     ...  ...\n",
       "393      0    1\n",
       "394      0    0\n",
       "395      0    1\n",
       "396      0    1\n",
       "397      0    1\n",
       "\n",
       "[398 rows x 2 columns]"
      ]
     },
     "execution_count": 70,
     "metadata": {},
     "output_type": "execute_result"
    }
   ],
   "source": [
    "origin"
   ]
  },
  {
   "cell_type": "code",
   "execution_count": 71,
   "id": "6088430c",
   "metadata": {},
   "outputs": [],
   "source": [
    "origin = sma.add_constant(origin)"
   ]
  },
  {
   "cell_type": "code",
   "execution_count": 72,
   "id": "dcee5eb9",
   "metadata": {},
   "outputs": [
    {
     "data": {
      "text/html": [
       "<div>\n",
       "<style scoped>\n",
       "    .dataframe tbody tr th:only-of-type {\n",
       "        vertical-align: middle;\n",
       "    }\n",
       "\n",
       "    .dataframe tbody tr th {\n",
       "        vertical-align: top;\n",
       "    }\n",
       "\n",
       "    .dataframe thead th {\n",
       "        text-align: right;\n",
       "    }\n",
       "</style>\n",
       "<table border=\"1\" class=\"dataframe\">\n",
       "  <thead>\n",
       "    <tr style=\"text-align: right;\">\n",
       "      <th></th>\n",
       "      <th>const</th>\n",
       "      <th>japan</th>\n",
       "      <th>usa</th>\n",
       "    </tr>\n",
       "  </thead>\n",
       "  <tbody>\n",
       "    <tr>\n",
       "      <th>0</th>\n",
       "      <td>1.0</td>\n",
       "      <td>0</td>\n",
       "      <td>1</td>\n",
       "    </tr>\n",
       "    <tr>\n",
       "      <th>1</th>\n",
       "      <td>1.0</td>\n",
       "      <td>0</td>\n",
       "      <td>1</td>\n",
       "    </tr>\n",
       "    <tr>\n",
       "      <th>2</th>\n",
       "      <td>1.0</td>\n",
       "      <td>0</td>\n",
       "      <td>1</td>\n",
       "    </tr>\n",
       "    <tr>\n",
       "      <th>3</th>\n",
       "      <td>1.0</td>\n",
       "      <td>0</td>\n",
       "      <td>1</td>\n",
       "    </tr>\n",
       "    <tr>\n",
       "      <th>4</th>\n",
       "      <td>1.0</td>\n",
       "      <td>0</td>\n",
       "      <td>1</td>\n",
       "    </tr>\n",
       "    <tr>\n",
       "      <th>...</th>\n",
       "      <td>...</td>\n",
       "      <td>...</td>\n",
       "      <td>...</td>\n",
       "    </tr>\n",
       "    <tr>\n",
       "      <th>393</th>\n",
       "      <td>1.0</td>\n",
       "      <td>0</td>\n",
       "      <td>1</td>\n",
       "    </tr>\n",
       "    <tr>\n",
       "      <th>394</th>\n",
       "      <td>1.0</td>\n",
       "      <td>0</td>\n",
       "      <td>0</td>\n",
       "    </tr>\n",
       "    <tr>\n",
       "      <th>395</th>\n",
       "      <td>1.0</td>\n",
       "      <td>0</td>\n",
       "      <td>1</td>\n",
       "    </tr>\n",
       "    <tr>\n",
       "      <th>396</th>\n",
       "      <td>1.0</td>\n",
       "      <td>0</td>\n",
       "      <td>1</td>\n",
       "    </tr>\n",
       "    <tr>\n",
       "      <th>397</th>\n",
       "      <td>1.0</td>\n",
       "      <td>0</td>\n",
       "      <td>1</td>\n",
       "    </tr>\n",
       "  </tbody>\n",
       "</table>\n",
       "<p>398 rows × 3 columns</p>\n",
       "</div>"
      ],
      "text/plain": [
       "     const  japan  usa\n",
       "0      1.0      0    1\n",
       "1      1.0      0    1\n",
       "2      1.0      0    1\n",
       "3      1.0      0    1\n",
       "4      1.0      0    1\n",
       "..     ...    ...  ...\n",
       "393    1.0      0    1\n",
       "394    1.0      0    0\n",
       "395    1.0      0    1\n",
       "396    1.0      0    1\n",
       "397    1.0      0    1\n",
       "\n",
       "[398 rows x 3 columns]"
      ]
     },
     "execution_count": 72,
     "metadata": {},
     "output_type": "execute_result"
    }
   ],
   "source": [
    "origin"
   ]
  },
  {
   "cell_type": "code",
   "execution_count": 73,
   "id": "87aeb823",
   "metadata": {},
   "outputs": [],
   "source": [
    "model = sma.OLS(mpg['mpg'],origin).fit()"
   ]
  },
  {
   "cell_type": "code",
   "execution_count": 74,
   "id": "a5411076",
   "metadata": {},
   "outputs": [
    {
     "data": {
      "text/html": [
       "<table class=\"simpletable\">\n",
       "<caption>OLS Regression Results</caption>\n",
       "<tr>\n",
       "  <th>Dep. Variable:</th>           <td>mpg</td>       <th>  R-squared:         </th> <td>   0.333</td>\n",
       "</tr>\n",
       "<tr>\n",
       "  <th>Model:</th>                   <td>OLS</td>       <th>  Adj. R-squared:    </th> <td>   0.329</td>\n",
       "</tr>\n",
       "<tr>\n",
       "  <th>Method:</th>             <td>Least Squares</td>  <th>  F-statistic:       </th> <td>   98.54</td>\n",
       "</tr>\n",
       "<tr>\n",
       "  <th>Date:</th>             <td>Sun, 17 Mar 2024</td> <th>  Prob (F-statistic):</th> <td>1.92e-35</td>\n",
       "</tr>\n",
       "<tr>\n",
       "  <th>Time:</th>                 <td>01:41:17</td>     <th>  Log-Likelihood:    </th> <td> -1302.0</td>\n",
       "</tr>\n",
       "<tr>\n",
       "  <th>No. Observations:</th>      <td>   398</td>      <th>  AIC:               </th> <td>   2610.</td>\n",
       "</tr>\n",
       "<tr>\n",
       "  <th>Df Residuals:</th>          <td>   395</td>      <th>  BIC:               </th> <td>   2622.</td>\n",
       "</tr>\n",
       "<tr>\n",
       "  <th>Df Model:</th>              <td>     2</td>      <th>                     </th>     <td> </td>   \n",
       "</tr>\n",
       "<tr>\n",
       "  <th>Covariance Type:</th>      <td>nonrobust</td>    <th>                     </th>     <td> </td>   \n",
       "</tr>\n",
       "</table>\n",
       "<table class=\"simpletable\">\n",
       "<tr>\n",
       "    <td></td>       <th>coef</th>     <th>std err</th>      <th>t</th>      <th>P>|t|</th>  <th>[0.025</th>    <th>0.975]</th>  \n",
       "</tr>\n",
       "<tr>\n",
       "  <th>const</th> <td>   27.8914</td> <td>    0.765</td> <td>   36.461</td> <td> 0.000</td> <td>   26.388</td> <td>   29.395</td>\n",
       "</tr>\n",
       "<tr>\n",
       "  <th>japan</th> <td>    2.5592</td> <td>    1.051</td> <td>    2.436</td> <td> 0.015</td> <td>    0.494</td> <td>    4.625</td>\n",
       "</tr>\n",
       "<tr>\n",
       "  <th>usa</th>   <td>   -7.8079</td> <td>    0.866</td> <td>   -9.018</td> <td> 0.000</td> <td>   -9.510</td> <td>   -6.106</td>\n",
       "</tr>\n",
       "</table>\n",
       "<table class=\"simpletable\">\n",
       "<tr>\n",
       "  <th>Omnibus:</th>       <td>24.959</td> <th>  Durbin-Watson:     </th> <td>   0.753</td>\n",
       "</tr>\n",
       "<tr>\n",
       "  <th>Prob(Omnibus):</th> <td> 0.000</td> <th>  Jarque-Bera (JB):  </th> <td>  28.429</td>\n",
       "</tr>\n",
       "<tr>\n",
       "  <th>Skew:</th>          <td> 0.655</td> <th>  Prob(JB):          </th> <td>6.71e-07</td>\n",
       "</tr>\n",
       "<tr>\n",
       "  <th>Kurtosis:</th>      <td> 3.021</td> <th>  Cond. No.          </th> <td>    5.39</td>\n",
       "</tr>\n",
       "</table><br/><br/>Notes:<br/>[1] Standard Errors assume that the covariance matrix of the errors is correctly specified."
      ],
      "text/plain": [
       "<class 'statsmodels.iolib.summary.Summary'>\n",
       "\"\"\"\n",
       "                            OLS Regression Results                            \n",
       "==============================================================================\n",
       "Dep. Variable:                    mpg   R-squared:                       0.333\n",
       "Model:                            OLS   Adj. R-squared:                  0.329\n",
       "Method:                 Least Squares   F-statistic:                     98.54\n",
       "Date:                Sun, 17 Mar 2024   Prob (F-statistic):           1.92e-35\n",
       "Time:                        01:41:17   Log-Likelihood:                -1302.0\n",
       "No. Observations:                 398   AIC:                             2610.\n",
       "Df Residuals:                     395   BIC:                             2622.\n",
       "Df Model:                           2                                         \n",
       "Covariance Type:            nonrobust                                         \n",
       "==============================================================================\n",
       "                 coef    std err          t      P>|t|      [0.025      0.975]\n",
       "------------------------------------------------------------------------------\n",
       "const         27.8914      0.765     36.461      0.000      26.388      29.395\n",
       "japan          2.5592      1.051      2.436      0.015       0.494       4.625\n",
       "usa           -7.8079      0.866     -9.018      0.000      -9.510      -6.106\n",
       "==============================================================================\n",
       "Omnibus:                       24.959   Durbin-Watson:                   0.753\n",
       "Prob(Omnibus):                  0.000   Jarque-Bera (JB):               28.429\n",
       "Skew:                           0.655   Prob(JB):                     6.71e-07\n",
       "Kurtosis:                       3.021   Cond. No.                         5.39\n",
       "==============================================================================\n",
       "\n",
       "Notes:\n",
       "[1] Standard Errors assume that the covariance matrix of the errors is correctly specified.\n",
       "\"\"\""
      ]
     },
     "execution_count": 74,
     "metadata": {},
     "output_type": "execute_result"
    }
   ],
   "source": [
    "model.summary()"
   ]
  },
  {
   "cell_type": "code",
   "execution_count": 75,
   "id": "79ea04de",
   "metadata": {},
   "outputs": [],
   "source": [
    "# mpg = 27.8914 + (2.5592)*japan - 7.8079*(usa)\n",
    "# europe 0,0\n",
    "# japan 1,0\n",
    "# usa 0,1"
   ]
  },
  {
   "cell_type": "code",
   "execution_count": 76,
   "id": "24277a07",
   "metadata": {},
   "outputs": [
    {
     "data": {
      "text/plain": [
       "30.4506"
      ]
     },
     "execution_count": 76,
     "metadata": {},
     "output_type": "execute_result"
    }
   ],
   "source": [
    "27.8914 + (2.5592)*1 # JAPAN"
   ]
  },
  {
   "cell_type": "code",
   "execution_count": 77,
   "id": "7a211d21",
   "metadata": {},
   "outputs": [
    {
     "data": {
      "text/plain": [
       "20.0835"
      ]
     },
     "execution_count": 77,
     "metadata": {},
     "output_type": "execute_result"
    }
   ],
   "source": [
    "27.8914 + (2.5592)*0 - 7.8079*(1) # USA "
   ]
  },
  {
   "cell_type": "code",
   "execution_count": 78,
   "id": "e84da7d8",
   "metadata": {},
   "outputs": [
    {
     "data": {
      "text/plain": [
       "27.8914"
      ]
     },
     "execution_count": 78,
     "metadata": {},
     "output_type": "execute_result"
    }
   ],
   "source": [
    "27.8914 + (2.5592)*0 - 7.8079*(0) # EUROPE"
   ]
  },
  {
   "cell_type": "code",
   "execution_count": 79,
   "id": "5d5f9057",
   "metadata": {},
   "outputs": [],
   "source": [
    "# So basically it predicts the average of the target in that category !"
   ]
  },
  {
   "cell_type": "code",
   "execution_count": 80,
   "id": "b9f03f95",
   "metadata": {},
   "outputs": [
    {
     "data": {
      "text/plain": [
       "cylinders\n",
       "3    20.550000\n",
       "4    29.286765\n",
       "5    27.366667\n",
       "6    19.985714\n",
       "8    14.963107\n",
       "Name: mpg, dtype: float64"
      ]
     },
     "execution_count": 80,
     "metadata": {},
     "output_type": "execute_result"
    }
   ],
   "source": [
    "# what if the category is not one hot encoding or dummy encoded\n",
    "mpg.groupby(by='cylinders')['mpg'].mean()"
   ]
  },
  {
   "cell_type": "code",
   "execution_count": 81,
   "id": "13bb2e08",
   "metadata": {},
   "outputs": [
    {
     "data": {
      "text/plain": [
       "<Axes: xlabel='cylinders', ylabel='mpg'>"
      ]
     },
     "execution_count": 81,
     "metadata": {},
     "output_type": "execute_result"
    },
    {
     "data": {
      "image/png": "[encoded data removed]",
      "text/plain": [
       "<Figure size 640x480 with 1 Axes>"
      ]
     },
     "metadata": {},
     "output_type": "display_data"
    }
   ],
   "source": [
    "sns.scatterplot(x=mpg['cylinders'],y = mpg['mpg'])"
   ]
  },
  {
   "cell_type": "code",
   "execution_count": 82,
   "id": "a01d63f7",
   "metadata": {},
   "outputs": [],
   "source": [
    "cylinder = sma.add_constant(mpg['cylinders'])"
   ]
  },
  {
   "cell_type": "code",
   "execution_count": 83,
   "id": "7fd24a5e",
   "metadata": {},
   "outputs": [],
   "source": [
    "model = sma.OLS(mpg['mpg'],cylinder).fit()"
   ]
  },
  {
   "cell_type": "code",
   "execution_count": 84,
   "id": "cedc186c",
   "metadata": {},
   "outputs": [
    {
     "data": {
      "text/html": [
       "<table class=\"simpletable\">\n",
       "<caption>OLS Regression Results</caption>\n",
       "<tr>\n",
       "  <th>Dep. Variable:</th>           <td>mpg</td>       <th>  R-squared:         </th> <td>   0.601</td>\n",
       "</tr>\n",
       "<tr>\n",
       "  <th>Model:</th>                   <td>OLS</td>       <th>  Adj. R-squared:    </th> <td>   0.600</td>\n",
       "</tr>\n",
       "<tr>\n",
       "  <th>Method:</th>             <td>Least Squares</td>  <th>  F-statistic:       </th> <td>   597.1</td>\n",
       "</tr>\n",
       "<tr>\n",
       "  <th>Date:</th>             <td>Sun, 17 Mar 2024</td> <th>  Prob (F-statistic):</th> <td>4.50e-81</td>\n",
       "</tr>\n",
       "<tr>\n",
       "  <th>Time:</th>                 <td>01:41:18</td>     <th>  Log-Likelihood:    </th> <td> -1199.6</td>\n",
       "</tr>\n",
       "<tr>\n",
       "  <th>No. Observations:</th>      <td>   398</td>      <th>  AIC:               </th> <td>   2403.</td>\n",
       "</tr>\n",
       "<tr>\n",
       "  <th>Df Residuals:</th>          <td>   396</td>      <th>  BIC:               </th> <td>   2411.</td>\n",
       "</tr>\n",
       "<tr>\n",
       "  <th>Df Model:</th>              <td>     1</td>      <th>                     </th>     <td> </td>   \n",
       "</tr>\n",
       "<tr>\n",
       "  <th>Covariance Type:</th>      <td>nonrobust</td>    <th>                     </th>     <td> </td>   \n",
       "</tr>\n",
       "</table>\n",
       "<table class=\"simpletable\">\n",
       "<tr>\n",
       "      <td></td>         <th>coef</th>     <th>std err</th>      <th>t</th>      <th>P>|t|</th>  <th>[0.025</th>    <th>0.975]</th>  \n",
       "</tr>\n",
       "<tr>\n",
       "  <th>const</th>     <td>   42.9493</td> <td>    0.833</td> <td>   51.557</td> <td> 0.000</td> <td>   41.312</td> <td>   44.587</td>\n",
       "</tr>\n",
       "<tr>\n",
       "  <th>cylinders</th> <td>   -3.5629</td> <td>    0.146</td> <td>  -24.435</td> <td> 0.000</td> <td>   -3.850</td> <td>   -3.276</td>\n",
       "</tr>\n",
       "</table>\n",
       "<table class=\"simpletable\">\n",
       "<tr>\n",
       "  <th>Omnibus:</th>       <td>39.142</td> <th>  Durbin-Watson:     </th> <td>   1.014</td>\n",
       "</tr>\n",
       "<tr>\n",
       "  <th>Prob(Omnibus):</th> <td> 0.000</td> <th>  Jarque-Bera (JB):  </th> <td>  53.841</td>\n",
       "</tr>\n",
       "<tr>\n",
       "  <th>Skew:</th>          <td> 0.704</td> <th>  Prob(JB):          </th> <td>2.03e-12</td>\n",
       "</tr>\n",
       "<tr>\n",
       "  <th>Kurtosis:</th>      <td> 4.124</td> <th>  Cond. No.          </th> <td>    19.8</td>\n",
       "</tr>\n",
       "</table><br/><br/>Notes:<br/>[1] Standard Errors assume that the covariance matrix of the errors is correctly specified."
      ],
      "text/plain": [
       "<class 'statsmodels.iolib.summary.Summary'>\n",
       "\"\"\"\n",
       "                            OLS Regression Results                            \n",
       "==============================================================================\n",
       "Dep. Variable:                    mpg   R-squared:                       0.601\n",
       "Model:                            OLS   Adj. R-squared:                  0.600\n",
       "Method:                 Least Squares   F-statistic:                     597.1\n",
       "Date:                Sun, 17 Mar 2024   Prob (F-statistic):           4.50e-81\n",
       "Time:                        01:41:18   Log-Likelihood:                -1199.6\n",
       "No. Observations:                 398   AIC:                             2403.\n",
       "Df Residuals:                     396   BIC:                             2411.\n",
       "Df Model:                           1                                         \n",
       "Covariance Type:            nonrobust                                         \n",
       "==============================================================================\n",
       "                 coef    std err          t      P>|t|      [0.025      0.975]\n",
       "------------------------------------------------------------------------------\n",
       "const         42.9493      0.833     51.557      0.000      41.312      44.587\n",
       "cylinders     -3.5629      0.146    -24.435      0.000      -3.850      -3.276\n",
       "==============================================================================\n",
       "Omnibus:                       39.142   Durbin-Watson:                   1.014\n",
       "Prob(Omnibus):                  0.000   Jarque-Bera (JB):               53.841\n",
       "Skew:                           0.704   Prob(JB):                     2.03e-12\n",
       "Kurtosis:                       4.124   Cond. No.                         19.8\n",
       "==============================================================================\n",
       "\n",
       "Notes:\n",
       "[1] Standard Errors assume that the covariance matrix of the errors is correctly specified.\n",
       "\"\"\""
      ]
     },
     "execution_count": 84,
     "metadata": {},
     "output_type": "execute_result"
    }
   ],
   "source": [
    "model.summary()"
   ]
  },
  {
   "cell_type": "code",
   "execution_count": 85,
   "id": "df6c7a1f",
   "metadata": {},
   "outputs": [],
   "source": [
    "# mpg = 42.9493 - -3.5629*cylinders"
   ]
  },
  {
   "cell_type": "code",
   "execution_count": 86,
   "id": "b93caf88",
   "metadata": {},
   "outputs": [
    {
     "name": "stdout",
     "output_type": "stream",
     "text": [
      "32.2606\n",
      "28.6977\n",
      "25.134800000000002\n",
      "21.5719\n",
      "14.446100000000001\n"
     ]
    }
   ],
   "source": [
    "print(42.9493 - 3.5629*3)\n",
    "print(42.9493 - 3.5629*4)\n",
    "print(42.9493 - 3.5629*5)\n",
    "print(42.9493 - 3.5629*6)\n",
    "print(42.9493 - 3.5629*8)"
   ]
  },
  {
   "cell_type": "code",
   "execution_count": 87,
   "id": "0c2c1f70",
   "metadata": {},
   "outputs": [
    {
     "data": {
      "text/plain": [
       "<Axes: xlabel='cylinders', ylabel='mpg'>"
      ]
     },
     "execution_count": 87,
     "metadata": {},
     "output_type": "execute_result"
    },
    {
     "data": {
      "image/png": "[encoded data removed]",
      "text/plain": [
       "<Figure size 640x480 with 1 Axes>"
      ]
     },
     "metadata": {},
     "output_type": "display_data"
    }
   ],
   "source": [
    "sns.regplot(x=mpg['cylinders'],y=mpg['mpg'],ci=0,line_kws={'color':'red'})"
   ]
  },
  {
   "cell_type": "code",
   "execution_count": 88,
   "id": "e227ec24",
   "metadata": {},
   "outputs": [],
   "source": [
    "# here it regresses the model between the avg of each category"
   ]
  },
  {
   "cell_type": "markdown",
   "id": "b88cb87e",
   "metadata": {},
   "source": [
    "### Lets make  a LR model on This data"
   ]
  },
  {
   "cell_type": "markdown",
   "id": "3a42cf38",
   "metadata": {},
   "source": [
    "# **Data Preprocessing**"
   ]
  },
  {
   "cell_type": "code",
   "execution_count": 89,
   "id": "4e6d4d08",
   "metadata": {},
   "outputs": [
    {
     "data": {
      "text/html": [
       "<div>\n",
       "<style scoped>\n",
       "    .dataframe tbody tr th:only-of-type {\n",
       "        vertical-align: middle;\n",
       "    }\n",
       "\n",
       "    .dataframe tbody tr th {\n",
       "        vertical-align: top;\n",
       "    }\n",
       "\n",
       "    .dataframe thead th {\n",
       "        text-align: right;\n",
       "    }\n",
       "</style>\n",
       "<table border=\"1\" class=\"dataframe\">\n",
       "  <thead>\n",
       "    <tr style=\"text-align: right;\">\n",
       "      <th></th>\n",
       "      <th>mpg</th>\n",
       "      <th>cylinders</th>\n",
       "      <th>displacement</th>\n",
       "      <th>horsepower</th>\n",
       "      <th>weight</th>\n",
       "      <th>acceleration</th>\n",
       "      <th>model_year</th>\n",
       "    </tr>\n",
       "  </thead>\n",
       "  <tbody>\n",
       "    <tr>\n",
       "      <th>count</th>\n",
       "      <td>398.000000</td>\n",
       "      <td>398.000000</td>\n",
       "      <td>398.000000</td>\n",
       "      <td>392.000000</td>\n",
       "      <td>398.000000</td>\n",
       "      <td>398.000000</td>\n",
       "      <td>398.000000</td>\n",
       "    </tr>\n",
       "    <tr>\n",
       "      <th>mean</th>\n",
       "      <td>23.514573</td>\n",
       "      <td>5.454774</td>\n",
       "      <td>193.425879</td>\n",
       "      <td>104.469388</td>\n",
       "      <td>2970.424623</td>\n",
       "      <td>15.568090</td>\n",
       "      <td>76.010050</td>\n",
       "    </tr>\n",
       "    <tr>\n",
       "      <th>std</th>\n",
       "      <td>7.815984</td>\n",
       "      <td>1.701004</td>\n",
       "      <td>104.269838</td>\n",
       "      <td>38.491160</td>\n",
       "      <td>846.841774</td>\n",
       "      <td>2.757689</td>\n",
       "      <td>3.697627</td>\n",
       "    </tr>\n",
       "    <tr>\n",
       "      <th>min</th>\n",
       "      <td>9.000000</td>\n",
       "      <td>3.000000</td>\n",
       "      <td>68.000000</td>\n",
       "      <td>46.000000</td>\n",
       "      <td>1613.000000</td>\n",
       "      <td>8.000000</td>\n",
       "      <td>70.000000</td>\n",
       "    </tr>\n",
       "    <tr>\n",
       "      <th>25%</th>\n",
       "      <td>17.500000</td>\n",
       "      <td>4.000000</td>\n",
       "      <td>104.250000</td>\n",
       "      <td>75.000000</td>\n",
       "      <td>2223.750000</td>\n",
       "      <td>13.825000</td>\n",
       "      <td>73.000000</td>\n",
       "    </tr>\n",
       "    <tr>\n",
       "      <th>50%</th>\n",
       "      <td>23.000000</td>\n",
       "      <td>4.000000</td>\n",
       "      <td>148.500000</td>\n",
       "      <td>93.500000</td>\n",
       "      <td>2803.500000</td>\n",
       "      <td>15.500000</td>\n",
       "      <td>76.000000</td>\n",
       "    </tr>\n",
       "    <tr>\n",
       "      <th>75%</th>\n",
       "      <td>29.000000</td>\n",
       "      <td>8.000000</td>\n",
       "      <td>262.000000</td>\n",
       "      <td>126.000000</td>\n",
       "      <td>3608.000000</td>\n",
       "      <td>17.175000</td>\n",
       "      <td>79.000000</td>\n",
       "    </tr>\n",
       "    <tr>\n",
       "      <th>max</th>\n",
       "      <td>46.600000</td>\n",
       "      <td>8.000000</td>\n",
       "      <td>455.000000</td>\n",
       "      <td>230.000000</td>\n",
       "      <td>5140.000000</td>\n",
       "      <td>24.800000</td>\n",
       "      <td>82.000000</td>\n",
       "    </tr>\n",
       "  </tbody>\n",
       "</table>\n",
       "</div>"
      ],
      "text/plain": [
       "              mpg   cylinders  displacement  horsepower       weight  \\\n",
       "count  398.000000  398.000000    398.000000  392.000000   398.000000   \n",
       "mean    23.514573    5.454774    193.425879  104.469388  2970.424623   \n",
       "std      7.815984    1.701004    104.269838   38.491160   846.841774   \n",
       "min      9.000000    3.000000     68.000000   46.000000  1613.000000   \n",
       "25%     17.500000    4.000000    104.250000   75.000000  2223.750000   \n",
       "50%     23.000000    4.000000    148.500000   93.500000  2803.500000   \n",
       "75%     29.000000    8.000000    262.000000  126.000000  3608.000000   \n",
       "max     46.600000    8.000000    455.000000  230.000000  5140.000000   \n",
       "\n",
       "       acceleration  model_year  \n",
       "count    398.000000  398.000000  \n",
       "mean      15.568090   76.010050  \n",
       "std        2.757689    3.697627  \n",
       "min        8.000000   70.000000  \n",
       "25%       13.825000   73.000000  \n",
       "50%       15.500000   76.000000  \n",
       "75%       17.175000   79.000000  \n",
       "max       24.800000   82.000000  "
      ]
     },
     "execution_count": 89,
     "metadata": {},
     "output_type": "execute_result"
    }
   ],
   "source": [
    "mpg.describe()"
   ]
  },
  {
   "cell_type": "code",
   "execution_count": 90,
   "id": "371b0f9a",
   "metadata": {},
   "outputs": [
    {
     "data": {
      "text/html": [
       "<div>\n",
       "<style scoped>\n",
       "    .dataframe tbody tr th:only-of-type {\n",
       "        vertical-align: middle;\n",
       "    }\n",
       "\n",
       "    .dataframe tbody tr th {\n",
       "        vertical-align: top;\n",
       "    }\n",
       "\n",
       "    .dataframe thead th {\n",
       "        text-align: right;\n",
       "    }\n",
       "</style>\n",
       "<table border=\"1\" class=\"dataframe\">\n",
       "  <thead>\n",
       "    <tr style=\"text-align: right;\">\n",
       "      <th></th>\n",
       "      <th>count</th>\n",
       "      <th>unique</th>\n",
       "      <th>top</th>\n",
       "      <th>freq</th>\n",
       "    </tr>\n",
       "  </thead>\n",
       "  <tbody>\n",
       "    <tr>\n",
       "      <th>origin</th>\n",
       "      <td>398</td>\n",
       "      <td>3</td>\n",
       "      <td>usa</td>\n",
       "      <td>249</td>\n",
       "    </tr>\n",
       "    <tr>\n",
       "      <th>name</th>\n",
       "      <td>398</td>\n",
       "      <td>305</td>\n",
       "      <td>ford pinto</td>\n",
       "      <td>6</td>\n",
       "    </tr>\n",
       "  </tbody>\n",
       "</table>\n",
       "</div>"
      ],
      "text/plain": [
       "       count unique         top freq\n",
       "origin   398      3         usa  249\n",
       "name     398    305  ford pinto    6"
      ]
     },
     "execution_count": 90,
     "metadata": {},
     "output_type": "execute_result"
    }
   ],
   "source": [
    "\n",
    "mpg.describe(include='object').T"
   ]
  },
  {
   "cell_type": "markdown",
   "id": "801353ea",
   "metadata": {},
   "source": [
    "* **Missing Value imputation**"
   ]
  },
  {
   "cell_type": "code",
   "execution_count": 91,
   "id": "638448ae",
   "metadata": {},
   "outputs": [
    {
     "data": {
      "text/plain": [
       "mpg             0\n",
       "cylinders       0\n",
       "displacement    0\n",
       "horsepower      6\n",
       "weight          0\n",
       "acceleration    0\n",
       "model_year      0\n",
       "origin          0\n",
       "name            0\n",
       "dtype: int64"
      ]
     },
     "execution_count": 91,
     "metadata": {},
     "output_type": "execute_result"
    }
   ],
   "source": [
    "mpg.isnull().sum()"
   ]
  },
  {
   "cell_type": "code",
   "execution_count": 92,
   "id": "1f581ffd",
   "metadata": {},
   "outputs": [],
   "source": [
    "mpg['horsepower'].fillna(mpg['horsepower'].median(),inplace=True)"
   ]
  },
  {
   "cell_type": "code",
   "execution_count": 93,
   "id": "f2e38880",
   "metadata": {},
   "outputs": [],
   "source": [
    "# Dummy encoding on origin"
   ]
  },
  {
   "cell_type": "code",
   "execution_count": 94,
   "id": "5b8c293e",
   "metadata": {},
   "outputs": [
    {
     "data": {
      "text/plain": [
       "0      chevrolet chevelle malibu\n",
       "1              buick skylark 320\n",
       "2             plymouth satellite\n",
       "3                  amc rebel sst\n",
       "4                    ford torino\n",
       "                 ...            \n",
       "393              ford mustang gl\n",
       "394                    vw pickup\n",
       "395                dodge rampage\n",
       "396                  ford ranger\n",
       "397                   chevy s-10\n",
       "Name: name, Length: 398, dtype: object"
      ]
     },
     "execution_count": 94,
     "metadata": {},
     "output_type": "execute_result"
    }
   ],
   "source": [
    "mpg['name']"
   ]
  },
  {
   "cell_type": "code",
   "execution_count": 95,
   "id": "a5b1723c",
   "metadata": {},
   "outputs": [],
   "source": [
    "mpg['brand'] = mpg['name'].str.split(expand=True).iloc[:,0]"
   ]
  },
  {
   "cell_type": "code",
   "execution_count": 96,
   "id": "81256b2f",
   "metadata": {},
   "outputs": [],
   "source": [
    "top_10 = mpg['brand'].value_counts()[:10].index"
   ]
  },
  {
   "cell_type": "code",
   "execution_count": 97,
   "id": "7559fc25",
   "metadata": {},
   "outputs": [
    {
     "data": {
      "text/plain": [
       "Index(['ford', 'chevrolet', 'plymouth', 'amc', 'dodge', 'toyota', 'datsun',\n",
       "       'buick', 'pontiac', 'volkswagen'],\n",
       "      dtype='object')"
      ]
     },
     "execution_count": 97,
     "metadata": {},
     "output_type": "execute_result"
    }
   ],
   "source": [
    "top_10"
   ]
  },
  {
   "cell_type": "code",
   "execution_count": 98,
   "id": "107041d0",
   "metadata": {},
   "outputs": [],
   "source": [
    "def brands(brand):\n",
    "    if brand not in top_10:\n",
    "        return 'others'\n",
    "    else:\n",
    "        return brand"
   ]
  },
  {
   "cell_type": "code",
   "execution_count": 99,
   "id": "a83fdcbf",
   "metadata": {},
   "outputs": [],
   "source": [
    "mpg['brand'] = mpg['brand'].apply(brands)"
   ]
  },
  {
   "cell_type": "code",
   "execution_count": 100,
   "id": "18109a21",
   "metadata": {},
   "outputs": [],
   "source": [
    "map_dict = mpg['brand'].value_counts().to_dict()"
   ]
  },
  {
   "cell_type": "code",
   "execution_count": 101,
   "id": "fd5fb6a1",
   "metadata": {},
   "outputs": [],
   "source": [
    "mpg['brand'] = mpg['brand'].map(map_dict)"
   ]
  },
  {
   "cell_type": "code",
   "execution_count": 102,
   "id": "4cacb066",
   "metadata": {},
   "outputs": [],
   "source": [
    "del mpg['name']"
   ]
  },
  {
   "cell_type": "code",
   "execution_count": 103,
   "id": "ebbdeaa8",
   "metadata": {},
   "outputs": [],
   "source": [
    "mpg = pd.get_dummies(mpg,dtype=int)\n",
    "del mpg['origin_usa']"
   ]
  },
  {
   "cell_type": "code",
   "execution_count": 104,
   "id": "ab696fd1",
   "metadata": {},
   "outputs": [
    {
     "data": {
      "text/html": [
       "<div>\n",
       "<style scoped>\n",
       "    .dataframe tbody tr th:only-of-type {\n",
       "        vertical-align: middle;\n",
       "    }\n",
       "\n",
       "    .dataframe tbody tr th {\n",
       "        vertical-align: top;\n",
       "    }\n",
       "\n",
       "    .dataframe thead th {\n",
       "        text-align: right;\n",
       "    }\n",
       "</style>\n",
       "<table border=\"1\" class=\"dataframe\">\n",
       "  <thead>\n",
       "    <tr style=\"text-align: right;\">\n",
       "      <th></th>\n",
       "      <th>mpg</th>\n",
       "      <th>cylinders</th>\n",
       "      <th>displacement</th>\n",
       "      <th>horsepower</th>\n",
       "      <th>weight</th>\n",
       "      <th>acceleration</th>\n",
       "      <th>model_year</th>\n",
       "      <th>brand</th>\n",
       "      <th>origin_europe</th>\n",
       "      <th>origin_japan</th>\n",
       "    </tr>\n",
       "  </thead>\n",
       "  <tbody>\n",
       "    <tr>\n",
       "      <th>0</th>\n",
       "      <td>18.0</td>\n",
       "      <td>8</td>\n",
       "      <td>307.0</td>\n",
       "      <td>130.0</td>\n",
       "      <td>3504</td>\n",
       "      <td>12.0</td>\n",
       "      <td>70</td>\n",
       "      <td>43</td>\n",
       "      <td>0</td>\n",
       "      <td>0</td>\n",
       "    </tr>\n",
       "    <tr>\n",
       "      <th>1</th>\n",
       "      <td>15.0</td>\n",
       "      <td>8</td>\n",
       "      <td>350.0</td>\n",
       "      <td>165.0</td>\n",
       "      <td>3693</td>\n",
       "      <td>11.5</td>\n",
       "      <td>70</td>\n",
       "      <td>17</td>\n",
       "      <td>0</td>\n",
       "      <td>0</td>\n",
       "    </tr>\n",
       "    <tr>\n",
       "      <th>2</th>\n",
       "      <td>18.0</td>\n",
       "      <td>8</td>\n",
       "      <td>318.0</td>\n",
       "      <td>150.0</td>\n",
       "      <td>3436</td>\n",
       "      <td>11.0</td>\n",
       "      <td>70</td>\n",
       "      <td>31</td>\n",
       "      <td>0</td>\n",
       "      <td>0</td>\n",
       "    </tr>\n",
       "    <tr>\n",
       "      <th>3</th>\n",
       "      <td>16.0</td>\n",
       "      <td>8</td>\n",
       "      <td>304.0</td>\n",
       "      <td>150.0</td>\n",
       "      <td>3433</td>\n",
       "      <td>12.0</td>\n",
       "      <td>70</td>\n",
       "      <td>28</td>\n",
       "      <td>0</td>\n",
       "      <td>0</td>\n",
       "    </tr>\n",
       "    <tr>\n",
       "      <th>4</th>\n",
       "      <td>17.0</td>\n",
       "      <td>8</td>\n",
       "      <td>302.0</td>\n",
       "      <td>140.0</td>\n",
       "      <td>3449</td>\n",
       "      <td>10.5</td>\n",
       "      <td>70</td>\n",
       "      <td>51</td>\n",
       "      <td>0</td>\n",
       "      <td>0</td>\n",
       "    </tr>\n",
       "    <tr>\n",
       "      <th>...</th>\n",
       "      <td>...</td>\n",
       "      <td>...</td>\n",
       "      <td>...</td>\n",
       "      <td>...</td>\n",
       "      <td>...</td>\n",
       "      <td>...</td>\n",
       "      <td>...</td>\n",
       "      <td>...</td>\n",
       "      <td>...</td>\n",
       "      <td>...</td>\n",
       "    </tr>\n",
       "    <tr>\n",
       "      <th>393</th>\n",
       "      <td>27.0</td>\n",
       "      <td>4</td>\n",
       "      <td>140.0</td>\n",
       "      <td>86.0</td>\n",
       "      <td>2790</td>\n",
       "      <td>15.6</td>\n",
       "      <td>82</td>\n",
       "      <td>51</td>\n",
       "      <td>0</td>\n",
       "      <td>0</td>\n",
       "    </tr>\n",
       "    <tr>\n",
       "      <th>394</th>\n",
       "      <td>44.0</td>\n",
       "      <td>4</td>\n",
       "      <td>97.0</td>\n",
       "      <td>52.0</td>\n",
       "      <td>2130</td>\n",
       "      <td>24.6</td>\n",
       "      <td>82</td>\n",
       "      <td>121</td>\n",
       "      <td>1</td>\n",
       "      <td>0</td>\n",
       "    </tr>\n",
       "    <tr>\n",
       "      <th>395</th>\n",
       "      <td>32.0</td>\n",
       "      <td>4</td>\n",
       "      <td>135.0</td>\n",
       "      <td>84.0</td>\n",
       "      <td>2295</td>\n",
       "      <td>11.6</td>\n",
       "      <td>82</td>\n",
       "      <td>28</td>\n",
       "      <td>0</td>\n",
       "      <td>0</td>\n",
       "    </tr>\n",
       "    <tr>\n",
       "      <th>396</th>\n",
       "      <td>28.0</td>\n",
       "      <td>4</td>\n",
       "      <td>120.0</td>\n",
       "      <td>79.0</td>\n",
       "      <td>2625</td>\n",
       "      <td>18.6</td>\n",
       "      <td>82</td>\n",
       "      <td>51</td>\n",
       "      <td>0</td>\n",
       "      <td>0</td>\n",
       "    </tr>\n",
       "    <tr>\n",
       "      <th>397</th>\n",
       "      <td>31.0</td>\n",
       "      <td>4</td>\n",
       "      <td>119.0</td>\n",
       "      <td>82.0</td>\n",
       "      <td>2720</td>\n",
       "      <td>19.4</td>\n",
       "      <td>82</td>\n",
       "      <td>121</td>\n",
       "      <td>0</td>\n",
       "      <td>0</td>\n",
       "    </tr>\n",
       "  </tbody>\n",
       "</table>\n",
       "<p>398 rows × 10 columns</p>\n",
       "</div>"
      ],
      "text/plain": [
       "      mpg  cylinders  displacement  horsepower  weight  acceleration  \\\n",
       "0    18.0          8         307.0       130.0    3504          12.0   \n",
       "1    15.0          8         350.0       165.0    3693          11.5   \n",
       "2    18.0          8         318.0       150.0    3436          11.0   \n",
       "3    16.0          8         304.0       150.0    3433          12.0   \n",
       "4    17.0          8         302.0       140.0    3449          10.5   \n",
       "..    ...        ...           ...         ...     ...           ...   \n",
       "393  27.0          4         140.0        86.0    2790          15.6   \n",
       "394  44.0          4          97.0        52.0    2130          24.6   \n",
       "395  32.0          4         135.0        84.0    2295          11.6   \n",
       "396  28.0          4         120.0        79.0    2625          18.6   \n",
       "397  31.0          4         119.0        82.0    2720          19.4   \n",
       "\n",
       "     model_year  brand  origin_europe  origin_japan  \n",
       "0            70     43              0             0  \n",
       "1            70     17              0             0  \n",
       "2            70     31              0             0  \n",
       "3            70     28              0             0  \n",
       "4            70     51              0             0  \n",
       "..          ...    ...            ...           ...  \n",
       "393          82     51              0             0  \n",
       "394          82    121              1             0  \n",
       "395          82     28              0             0  \n",
       "396          82     51              0             0  \n",
       "397          82    121              0             0  \n",
       "\n",
       "[398 rows x 10 columns]"
      ]
     },
     "execution_count": 104,
     "metadata": {},
     "output_type": "execute_result"
    }
   ],
   "source": [
    "mpg"
   ]
  },
  {
   "cell_type": "code",
   "execution_count": 105,
   "id": "340c36dc",
   "metadata": {},
   "outputs": [],
   "source": [
    "mpg['Engine para'] = mpg['horsepower']+mpg['weight']+mpg['cylinders']+mpg['displacement']+mpg['acceleration']\n",
    "mpg.drop(columns=['horsepower','weight','cylinders','displacement','acceleration'],inplace=True)"
   ]
  },
  {
   "cell_type": "code",
   "execution_count": 106,
   "id": "0d4c8c61",
   "metadata": {},
   "outputs": [
    {
     "data": {
      "text/plain": [
       "<Axes: >"
      ]
     },
     "execution_count": 106,
     "metadata": {},
     "output_type": "execute_result"
    },
    {
     "data": {
      "image/png": "[encoded data removed]",
      "text/plain": [
       "<Figure size 640x480 with 2 Axes>"
      ]
     },
     "metadata": {},
     "output_type": "display_data"
    }
   ],
   "source": [
    "sns.heatmap(mpg.corr(),annot=True,vmax=1,vmin=-1)"
   ]
  },
  {
   "cell_type": "markdown",
   "id": "4b440236",
   "metadata": {},
   "source": [
    "### Build a base model"
   ]
  },
  {
   "cell_type": "code",
   "execution_count": 107,
   "id": "1debb76b",
   "metadata": {},
   "outputs": [],
   "source": [
    "x = mpg.drop(columns=['mpg'])\n",
    "y = mpg['mpg']"
   ]
  },
  {
   "cell_type": "code",
   "execution_count": 108,
   "id": "9eac32e7",
   "metadata": {},
   "outputs": [],
   "source": [
    "x_train , x_test,y_train,y_test = train_test_split(x,y,train_size=0.80,random_state=2)"
   ]
  },
  {
   "cell_type": "code",
   "execution_count": 109,
   "id": "158d620f",
   "metadata": {},
   "outputs": [
    {
     "name": "stdout",
     "output_type": "stream",
     "text": [
      "(318, 5) (80, 5) (318,) (80,)\n"
     ]
    }
   ],
   "source": [
    "print(x_train.shape , x_test.shape,y_train.shape,y_test.shape)"
   ]
  },
  {
   "cell_type": "code",
   "execution_count": 110,
   "id": "142f06e8",
   "metadata": {},
   "outputs": [],
   "source": [
    "# Assumptions 1 : target is number\n",
    "# Assumptions 2 : check multicollinearity\n"
   ]
  },
  {
   "cell_type": "code",
   "execution_count": 111,
   "id": "1481bc72",
   "metadata": {},
   "outputs": [
    {
     "data": {
      "text/html": [
       "<div>\n",
       "<style scoped>\n",
       "    .dataframe tbody tr th:only-of-type {\n",
       "        vertical-align: middle;\n",
       "    }\n",
       "\n",
       "    .dataframe tbody tr th {\n",
       "        vertical-align: top;\n",
       "    }\n",
       "\n",
       "    .dataframe thead th {\n",
       "        text-align: right;\n",
       "    }\n",
       "</style>\n",
       "<table border=\"1\" class=\"dataframe\">\n",
       "  <thead>\n",
       "    <tr style=\"text-align: right;\">\n",
       "      <th></th>\n",
       "      <th>Feature Names</th>\n",
       "      <th>VIF</th>\n",
       "    </tr>\n",
       "  </thead>\n",
       "  <tbody>\n",
       "    <tr>\n",
       "      <th>0</th>\n",
       "      <td>model_year</td>\n",
       "      <td>21.790668</td>\n",
       "    </tr>\n",
       "    <tr>\n",
       "      <th>4</th>\n",
       "      <td>Engine para</td>\n",
       "      <td>16.109106</td>\n",
       "    </tr>\n",
       "    <tr>\n",
       "      <th>1</th>\n",
       "      <td>brand</td>\n",
       "      <td>4.081041</td>\n",
       "    </tr>\n",
       "    <tr>\n",
       "      <th>2</th>\n",
       "      <td>origin_europe</td>\n",
       "      <td>1.974735</td>\n",
       "    </tr>\n",
       "    <tr>\n",
       "      <th>3</th>\n",
       "      <td>origin_japan</td>\n",
       "      <td>1.797227</td>\n",
       "    </tr>\n",
       "  </tbody>\n",
       "</table>\n",
       "</div>"
      ],
      "text/plain": [
       "   Feature Names        VIF\n",
       "0     model_year  21.790668\n",
       "4    Engine para  16.109106\n",
       "1          brand   4.081041\n",
       "2  origin_europe   1.974735\n",
       "3   origin_japan   1.797227"
      ]
     },
     "execution_count": 111,
     "metadata": {},
     "output_type": "execute_result"
    }
   ],
   "source": [
    "# 2. check for the multicollinearity \n",
    "\n",
    "# VIF\n",
    "\n",
    "# VIF\n",
    "vif_list = []\n",
    "\n",
    "for i in range(x_train.shape[1]):\n",
    "\n",
    "    vif_list.append(variance_inflation_factor(x_train.values,i))\n",
    "\n",
    "                    \n",
    "\n",
    "pd.DataFrame({'Feature Names':x_train.columns,'VIF':vif_list}).sort_values(by='VIF',ascending=False)"
   ]
  },
  {
   "cell_type": "code",
   "execution_count": 112,
   "id": "a430f9e9",
   "metadata": {},
   "outputs": [
    {
     "data": {
      "text/html": [
       "<table class=\"simpletable\">\n",
       "<caption>OLS Regression Results</caption>\n",
       "<tr>\n",
       "  <th>Dep. Variable:</th>           <td>mpg</td>       <th>  R-squared:         </th> <td>   0.802</td> \n",
       "</tr>\n",
       "<tr>\n",
       "  <th>Model:</th>                   <td>OLS</td>       <th>  Adj. R-squared:    </th> <td>   0.798</td> \n",
       "</tr>\n",
       "<tr>\n",
       "  <th>Method:</th>             <td>Least Squares</td>  <th>  F-statistic:       </th> <td>   252.2</td> \n",
       "</tr>\n",
       "<tr>\n",
       "  <th>Date:</th>             <td>Sun, 17 Mar 2024</td> <th>  Prob (F-statistic):</th> <td>2.67e-107</td>\n",
       "</tr>\n",
       "<tr>\n",
       "  <th>Time:</th>                 <td>01:44:55</td>     <th>  Log-Likelihood:    </th> <td> -846.80</td> \n",
       "</tr>\n",
       "<tr>\n",
       "  <th>No. Observations:</th>      <td>   318</td>      <th>  AIC:               </th> <td>   1706.</td> \n",
       "</tr>\n",
       "<tr>\n",
       "  <th>Df Residuals:</th>          <td>   312</td>      <th>  BIC:               </th> <td>   1728.</td> \n",
       "</tr>\n",
       "<tr>\n",
       "  <th>Df Model:</th>              <td>     5</td>      <th>                     </th>     <td> </td>    \n",
       "</tr>\n",
       "<tr>\n",
       "  <th>Covariance Type:</th>      <td>nonrobust</td>    <th>                     </th>     <td> </td>    \n",
       "</tr>\n",
       "</table>\n",
       "<table class=\"simpletable\">\n",
       "<tr>\n",
       "        <td></td>           <th>coef</th>     <th>std err</th>      <th>t</th>      <th>P>|t|</th>  <th>[0.025</th>    <th>0.975]</th>  \n",
       "</tr>\n",
       "<tr>\n",
       "  <th>const</th>         <td>  -17.2696</td> <td>    4.707</td> <td>   -3.669</td> <td> 0.000</td> <td>  -26.530</td> <td>   -8.009</td>\n",
       "</tr>\n",
       "<tr>\n",
       "  <th>model_year</th>    <td>    0.7559</td> <td>    0.057</td> <td>   13.225</td> <td> 0.000</td> <td>    0.643</td> <td>    0.868</td>\n",
       "</tr>\n",
       "<tr>\n",
       "  <th>brand</th>         <td>   -0.0068</td> <td>    0.006</td> <td>   -1.212</td> <td> 0.227</td> <td>   -0.018</td> <td>    0.004</td>\n",
       "</tr>\n",
       "<tr>\n",
       "  <th>origin_europe</th> <td>    2.3723</td> <td>    0.692</td> <td>    3.430</td> <td> 0.001</td> <td>    1.012</td> <td>    3.733</td>\n",
       "</tr>\n",
       "<tr>\n",
       "  <th>origin_japan</th>  <td>    1.7963</td> <td>    0.609</td> <td>    2.951</td> <td> 0.003</td> <td>    0.599</td> <td>    2.994</td>\n",
       "</tr>\n",
       "<tr>\n",
       "  <th>Engine para</th>   <td>   -0.0052</td> <td>    0.000</td> <td>  -19.702</td> <td> 0.000</td> <td>   -0.006</td> <td>   -0.005</td>\n",
       "</tr>\n",
       "</table>\n",
       "<table class=\"simpletable\">\n",
       "<tr>\n",
       "  <th>Omnibus:</th>       <td>28.525</td> <th>  Durbin-Watson:     </th> <td>   1.989</td>\n",
       "</tr>\n",
       "<tr>\n",
       "  <th>Prob(Omnibus):</th> <td> 0.000</td> <th>  Jarque-Bera (JB):  </th> <td>  44.686</td>\n",
       "</tr>\n",
       "<tr>\n",
       "  <th>Skew:</th>          <td> 0.579</td> <th>  Prob(JB):          </th> <td>1.98e-10</td>\n",
       "</tr>\n",
       "<tr>\n",
       "  <th>Kurtosis:</th>      <td> 4.426</td> <th>  Cond. No.          </th> <td>8.22e+04</td>\n",
       "</tr>\n",
       "</table><br/><br/>Notes:<br/>[1] Standard Errors assume that the covariance matrix of the errors is correctly specified.<br/>[2] The condition number is large, 8.22e+04. This might indicate that there are<br/>strong multicollinearity or other numerical problems."
      ],
      "text/plain": [
       "<class 'statsmodels.iolib.summary.Summary'>\n",
       "\"\"\"\n",
       "                            OLS Regression Results                            \n",
       "==============================================================================\n",
       "Dep. Variable:                    mpg   R-squared:                       0.802\n",
       "Model:                            OLS   Adj. R-squared:                  0.798\n",
       "Method:                 Least Squares   F-statistic:                     252.2\n",
       "Date:                Sun, 17 Mar 2024   Prob (F-statistic):          2.67e-107\n",
       "Time:                        01:44:55   Log-Likelihood:                -846.80\n",
       "No. Observations:                 318   AIC:                             1706.\n",
       "Df Residuals:                     312   BIC:                             1728.\n",
       "Df Model:                           5                                         \n",
       "Covariance Type:            nonrobust                                         \n",
       "=================================================================================\n",
       "                    coef    std err          t      P>|t|      [0.025      0.975]\n",
       "---------------------------------------------------------------------------------\n",
       "const           -17.2696      4.707     -3.669      0.000     -26.530      -8.009\n",
       "model_year        0.7559      0.057     13.225      0.000       0.643       0.868\n",
       "brand            -0.0068      0.006     -1.212      0.227      -0.018       0.004\n",
       "origin_europe     2.3723      0.692      3.430      0.001       1.012       3.733\n",
       "origin_japan      1.7963      0.609      2.951      0.003       0.599       2.994\n",
       "Engine para      -0.0052      0.000    -19.702      0.000      -0.006      -0.005\n",
       "==============================================================================\n",
       "Omnibus:                       28.525   Durbin-Watson:                   1.989\n",
       "Prob(Omnibus):                  0.000   Jarque-Bera (JB):               44.686\n",
       "Skew:                           0.579   Prob(JB):                     1.98e-10\n",
       "Kurtosis:                       4.426   Cond. No.                     8.22e+04\n",
       "==============================================================================\n",
       "\n",
       "Notes:\n",
       "[1] Standard Errors assume that the covariance matrix of the errors is correctly specified.\n",
       "[2] The condition number is large, 8.22e+04. This might indicate that there are\n",
       "strong multicollinearity or other numerical problems.\n",
       "\"\"\""
      ]
     },
     "execution_count": 112,
     "metadata": {},
     "output_type": "execute_result"
    }
   ],
   "source": [
    "# fit a model\n",
    "x_train_c = sma.add_constant(x_train)\n",
    "x_test_c = sma.add_constant(x_test)\n",
    "\n",
    "base_model = sma.OLS(y_train,x_train_c).fit()\n",
    "base_model.summary()"
   ]
  },
  {
   "cell_type": "code",
   "execution_count": 114,
   "id": "ed554c2e",
   "metadata": {},
   "outputs": [
    {
     "name": "stdout",
     "output_type": "stream",
     "text": [
      "Fail to Reject Ho : Variables are linear\n"
     ]
    }
   ],
   "source": [
    "# In order to have the final conclusion lets apply rainbow test to check for linearity.\n",
    "from statsmodels.stats.diagnostic import linear_rainbow\n",
    "# this is new test (test for linearity of variable)\n",
    "\n",
    "# Ho: Variables are linear\n",
    "# Ha: Variables are not linear\n",
    "\n",
    "p_value = linear_rainbow(base_model)[1]\n",
    "\n",
    "if p_value<0.05:\n",
    "    print('Reject Ho : Variables are not linear')\n",
    "else:\n",
    "    print('Fail to Reject Ho : Variables are linear')"
   ]
  },
  {
   "cell_type": "code",
   "execution_count": 115,
   "id": "c7457687",
   "metadata": {},
   "outputs": [],
   "source": [
    "# Assumption of Homoscidasticity"
   ]
  },
  {
   "cell_type": "code",
   "execution_count": 116,
   "id": "d07e0e9f",
   "metadata": {},
   "outputs": [
    {
     "data": {
      "image/png": "[encoded data removed]",
      "text/plain": [
       "<Figure size 640x480 with 1 Axes>"
      ]
     },
     "metadata": {},
     "output_type": "display_data"
    }
   ],
   "source": [
    "# residual Plot\n",
    "sns.residplot(x=base_model.fittedvalues,y=base_model.resid,color='c')\n",
    "plt.xlabel('Fitted Predicted values')\n",
    "plt.ylabel('Residual')\n",
    "plt.title('Resid Plot')\n",
    "plt.show()"
   ]
  },
  {
   "cell_type": "code",
   "execution_count": 117,
   "id": "7205392b",
   "metadata": {},
   "outputs": [
    {
     "name": "stdout",
     "output_type": "stream",
     "text": [
      "Reject Ho\n",
      "2.9792979132527944e-06\n"
     ]
    }
   ],
   "source": [
    "# Breusch Pagan test\n",
    "\n",
    "# Ho : The variance is same: Homoscedasticity\n",
    "# Ha : The variance is not same : Hetroscedasticity\n",
    "\n",
    "p_value = sma.stats.diagnostic.het_breuschpagan(resid = base_model.resid,exog_het=base_model.model.exog)[1]\n",
    "\n",
    "if p_value>0.05:\n",
    "    print('Fail to Reject Ho')\n",
    "else:\n",
    "    print('Reject Ho')\n",
    "print(p_value)"
   ]
  },
  {
   "cell_type": "code",
   "execution_count": 118,
   "id": "bb14097a",
   "metadata": {},
   "outputs": [
    {
     "data": {
      "image/png": "[encoded data removed]",
      "text/plain": [
       "<Figure size 640x480 with 1 Axes>"
      ]
     },
     "metadata": {},
     "output_type": "display_data"
    }
   ],
   "source": [
    "# Assumption for normality .\n",
    "# qqplot for distribution\n",
    "stats.probplot(base_model.resid,plot=plt)\n",
    "plt.show()"
   ]
  },
  {
   "cell_type": "code",
   "execution_count": 120,
   "id": "f181e3da",
   "metadata": {},
   "outputs": [
    {
     "name": "stdout",
     "output_type": "stream",
     "text": [
      "Reject Ho : Residuals are not normal\n",
      "5.0687198381638154e-05\n"
     ]
    }
   ],
   "source": [
    "# Shapiro-Wilk Test n<5000\n",
    "# Ho: The residuals are normal\n",
    "# Ha: The residuals are not normal\n",
    "\n",
    "\n",
    "p_value = stats.shapiro(base_model.resid)[1]\n",
    "if p_value>0.05:\n",
    "    print('Fail to reject Ho : Residuals are normal')\n",
    "else:\n",
    "    print('Reject Ho : Residuals are not normal')\n",
    "print(p_value)"
   ]
  },
  {
   "cell_type": "code",
   "execution_count": 226,
   "id": "4b68608e",
   "metadata": {},
   "outputs": [],
   "source": [
    "# summary \n",
    "# Assumption 1 :number target met\n",
    "# Assumption 2 :multicollinearity not met (category)\n",
    "# Assumption 3 : linearity : met\n",
    "# Assumption 4 : Autocorrelation : met\n",
    "# Assumption 5 : Homoscedasticity : not met\n",
    "# Assumption 6 : residual Normality : not met"
   ]
  },
  {
   "cell_type": "code",
   "execution_count": 121,
   "id": "df7cbf63",
   "metadata": {},
   "outputs": [
    {
     "data": {
      "text/plain": [
       "Engine para      1.039520e-56\n",
       "model_year       5.272542e-32\n",
       "const            2.860637e-04\n",
       "origin_europe    6.838864e-04\n",
       "origin_japan     3.407523e-03\n",
       "brand            2.265045e-01\n",
       "dtype: float64"
      ]
     },
     "execution_count": 121,
     "metadata": {},
     "output_type": "execute_result"
    }
   ],
   "source": [
    "# As per p values these is signicance order\n",
    "base_model.pvalues.sort_values()"
   ]
  },
  {
   "cell_type": "markdown",
   "id": "ba2d3d4f",
   "metadata": {},
   "source": [
    "## Validation:"
   ]
  },
  {
   "cell_type": "code",
   "execution_count": 130,
   "id": "746bf8aa",
   "metadata": {},
   "outputs": [],
   "source": [
    "def validation(test,pred,data):\n",
    "    r2 = r2_score(test,pred)\n",
    "    print('R Squared:',r2)\n",
    "    n = data.shape[0]\n",
    "    k = data.shape[1]\n",
    "    r2_adj = 1 - ((1-r2)*(n-1)/(n-k-1))\n",
    "    print('Adj R Square:',r2_adj)\n",
    "    print('MSE:',mean_squared_error(test,pred))\n",
    "    print('RMSE:',np.sqrt(mean_squared_error(test,pred)))\n",
    "    print('MAE:',mean_absolute_error(test,pred))\n",
    "    print('MAPE:',mean_absolute_percentage_error(test,pred))"
   ]
  },
  {
   "cell_type": "code",
   "execution_count": 131,
   "id": "a1fb273c",
   "metadata": {},
   "outputs": [
    {
     "name": "stdout",
     "output_type": "stream",
     "text": [
      "R Squared: 0.801652744344105\n",
      "Adj R Square: 0.7978261091867566\n",
      "MSE: 12.036409976272013\n",
      "RMSE: 3.469352962192232\n",
      "MAE: 2.654530531898785\n",
      "MAPE: 0.12167122749062433\n"
     ]
    }
   ],
   "source": [
    "# Train dataset\n",
    "pred_train = base_model.predict(x_train_c)\n",
    "\n",
    "validation(y_train,pred_train,x_train_c)"
   ]
  },
  {
   "cell_type": "code",
   "execution_count": 132,
   "id": "7cd84c21",
   "metadata": {},
   "outputs": [
    {
     "name": "stdout",
     "output_type": "stream",
     "text": [
      "R Squared: 0.8661637424748252\n",
      "Adj R Square: 0.8551635021302902\n",
      "MSE: 8.232435495695409\n",
      "RMSE: 2.8692221063722845\n",
      "MAE: 2.192044064536154\n",
      "MAPE: 0.09921209103567048\n"
     ]
    }
   ],
   "source": [
    "# test dataset\n",
    "pred_test = base_model.predict(x_test_c)\n",
    "\n",
    "validation(y_test,pred_test,x_test_c)"
   ]
  },
  {
   "cell_type": "code",
   "execution_count": 133,
   "id": "6bcab5f0",
   "metadata": {},
   "outputs": [],
   "source": [
    "# it seems that the model is good fit or very lil variance"
   ]
  },
  {
   "cell_type": "markdown",
   "id": "8eadcca9",
   "metadata": {},
   "source": [
    "#### Make the prediction"
   ]
  },
  {
   "cell_type": "code",
   "execution_count": 134,
   "id": "5ce8198f",
   "metadata": {},
   "outputs": [],
   "source": [
    "# Lets assume some input data"
   ]
  },
  {
   "cell_type": "code",
   "execution_count": 135,
   "id": "444de35a",
   "metadata": {},
   "outputs": [],
   "source": [
    "origonal = sns.load_dataset('mpg')"
   ]
  },
  {
   "cell_type": "code",
   "execution_count": 136,
   "id": "3cc5455a",
   "metadata": {},
   "outputs": [],
   "source": [
    "#origonal\n",
    "cyl = 6\n",
    "displ = 200\n",
    "hsp = 200\n",
    "weight = 4000\n",
    "accl = 20\n",
    "model = 80\n",
    "origin = 'usa'\n",
    "name = 'ford'"
   ]
  },
  {
   "cell_type": "code",
   "execution_count": 137,
   "id": "d4efdec0",
   "metadata": {},
   "outputs": [],
   "source": [
    "eng_p = cyl+displ+hsp+weight+accl\n",
    "model = 80\n",
    "org_japan = 0\n",
    "org_europe = 0\n",
    "name = 51"
   ]
  },
  {
   "cell_type": "code",
   "execution_count": 138,
   "id": "8c0f8713",
   "metadata": {},
   "outputs": [
    {
     "data": {
      "text/plain": [
       "array([19.71214482])"
      ]
     },
     "execution_count": 138,
     "metadata": {},
     "output_type": "execute_result"
    }
   ],
   "source": [
    "base_model.predict(np.array([1,80,51,0,0,eng_p]))"
   ]
  },
  {
   "cell_type": "code",
   "execution_count": null,
   "id": "8fd61952",
   "metadata": {},
   "outputs": [],
   "source": []
  },
  {
   "cell_type": "code",
   "execution_count": null,
   "id": "bbca833b",
   "metadata": {},
   "outputs": [],
   "source": []
  }
 ],
 "metadata": {
  "kernelspec": {
   "display_name": "Python 3 (ipykernel)",
   "language": "python",
   "name": "python3"
  },
  "language_info": {
   "codemirror_mode": {
    "name": "ipython",
    "version": 3
   },
   "file_extension": ".py",
   "mimetype": "text/x-python",
   "name": "python",
   "nbconvert_exporter": "python",
   "pygments_lexer": "ipython3",
   "version": "3.11.3"
  }
 },
 "nbformat": 4,
 "nbformat_minor": 5
}
