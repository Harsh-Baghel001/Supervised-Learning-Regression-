{
 "cells": [
  {
   "cell_type": "markdown",
   "id": "2a9e027f",
   "metadata": {},
   "source": [
    "## Hackathon Workation Price Prediction "
   ]
  },
  {
   "cell_type": "code",
   "execution_count": 123,
   "id": "b7652570",
   "metadata": {},
   "outputs": [],
   "source": [
    "import pandas as pd\n",
    "import seaborn as sns\n",
    "import numpy as np\n",
    "import matplotlib.pyplot as plt\n",
    "import warnings\n",
    "warnings.filterwarnings('ignore')"
   ]
  },
  {
   "cell_type": "code",
   "execution_count": 124,
   "id": "568a9d8e",
   "metadata": {},
   "outputs": [],
   "source": [
    "train = pd.read_csv('train.csv')\n",
    "test = pd.read_csv('test.csv')\n"
   ]
  },
  {
   "cell_type": "code",
   "execution_count": 125,
   "id": "fdad4b7a",
   "metadata": {},
   "outputs": [
    {
     "name": "stdout",
     "output_type": "stream",
     "text": [
      "(21000, 15) (9000, 14) (30000, 15)\n"
     ]
    }
   ],
   "source": [
    "combined = pd.concat([train,test],ignore_index=False)\n",
    "\n",
    "print(train.shape , test.shape , combined.shape)"
   ]
  },
  {
   "cell_type": "code",
   "execution_count": 126,
   "id": "ea6fc69b",
   "metadata": {},
   "outputs": [
    {
     "data": {
      "text/html": [
       "<div>\n",
       "<style scoped>\n",
       "    .dataframe tbody tr th:only-of-type {\n",
       "        vertical-align: middle;\n",
       "    }\n",
       "\n",
       "    .dataframe tbody tr th {\n",
       "        vertical-align: top;\n",
       "    }\n",
       "\n",
       "    .dataframe thead th {\n",
       "        text-align: right;\n",
       "    }\n",
       "</style>\n",
       "<table border=\"1\" class=\"dataframe\">\n",
       "  <thead>\n",
       "    <tr style=\"text-align: right;\">\n",
       "      <th></th>\n",
       "      <th>Uniq Id</th>\n",
       "      <th>Package Name</th>\n",
       "      <th>Package Type</th>\n",
       "      <th>Destination</th>\n",
       "      <th>Itinerary</th>\n",
       "      <th>Places Covered</th>\n",
       "      <th>Travel Date</th>\n",
       "      <th>Hotel Details</th>\n",
       "      <th>Start City</th>\n",
       "      <th>Airline</th>\n",
       "      <th>Flight Stops</th>\n",
       "      <th>Meals</th>\n",
       "      <th>Sightseeing Places Covered</th>\n",
       "      <th>Cancellation Rules</th>\n",
       "      <th>Per Person Price</th>\n",
       "    </tr>\n",
       "  </thead>\n",
       "  <tbody>\n",
       "    <tr>\n",
       "      <th>0</th>\n",
       "      <td>e788ab76d9d8cf1e6ed2f139645ca5d1</td>\n",
       "      <td>Best of Shimla and Manali Holiday from Delhi</td>\n",
       "      <td>Standard</td>\n",
       "      <td>New Delhi|Shimla|Manali|Chandigarh</td>\n",
       "      <td>1N New Delhi . 2N Shimla . 2N Manali . 1N Chan...</td>\n",
       "      <td>New Delhi|Shimla|Manali|Chandigarh</td>\n",
       "      <td>30-07-2021</td>\n",
       "      <td>Not Available</td>\n",
       "      <td>Mumbai</td>\n",
       "      <td>Not Available</td>\n",
       "      <td>2</td>\n",
       "      <td>3</td>\n",
       "      <td>Not Available</td>\n",
       "      <td>Not Available</td>\n",
       "      <td>11509.0</td>\n",
       "    </tr>\n",
       "    <tr>\n",
       "      <th>1</th>\n",
       "      <td>178f892630ce3e335a5a41d5d83937fd</td>\n",
       "      <td>Kashmir Valley vacation</td>\n",
       "      <td>Premium</td>\n",
       "      <td>Srinagar|Pahalgam|Srinagar</td>\n",
       "      <td>1N Srinagar . 2N Pahalgam . 1N Srinagar</td>\n",
       "      <td>Srinagar|Pahalgam|Srinagar</td>\n",
       "      <td>08-12-2021</td>\n",
       "      <td>The Orchard Retreat &amp; Spa:4.6|WelcomHotel Pine...</td>\n",
       "      <td>New Delhi</td>\n",
       "      <td>IndiGo|IndiGo</td>\n",
       "      <td>0</td>\n",
       "      <td>5</td>\n",
       "      <td>Dal Lake | Avantipura Ruins | Mughal Gardens ...</td>\n",
       "      <td>Cancellation any time after making the 1st pay...</td>\n",
       "      <td>22485.5</td>\n",
       "    </tr>\n",
       "    <tr>\n",
       "      <th>2</th>\n",
       "      <td>f060f2954840503cc2fdaf495357b7df</td>\n",
       "      <td>Might of Mewar- Udaipur and Chittorgarh</td>\n",
       "      <td>Luxury</td>\n",
       "      <td>Udaipur|Chittorgarh</td>\n",
       "      <td>2N Udaipur . 1N Chittorgarh</td>\n",
       "      <td>Udaipur|Chittorgarh</td>\n",
       "      <td>26-04-2021</td>\n",
       "      <td>The Ananta:4.4|juSTa Lake Nahargarh Palace:4</td>\n",
       "      <td>New Delhi</td>\n",
       "      <td>IndiGo</td>\n",
       "      <td>0</td>\n",
       "      <td>4</td>\n",
       "      <td>Lake Pichola | Jag Mandir Palace | Saheliyon ...</td>\n",
       "      <td>Cancellation any time after making the 1st pay...</td>\n",
       "      <td>12421.5</td>\n",
       "    </tr>\n",
       "    <tr>\n",
       "      <th>3</th>\n",
       "      <td>32a19a6c171e67448f2346da46c619dc</td>\n",
       "      <td>Colorful Kerala ( Romantic Getaway )</td>\n",
       "      <td>Premium</td>\n",
       "      <td>Munnar|Kumarakom|Allepey|Kovalam and Poovar</td>\n",
       "      <td>2N Munnar . 1N Kumarakom . 1N Allepey . 2N Kov...</td>\n",
       "      <td>Munnar|Kumarakom|Allepey|Kovalam and Poovar</td>\n",
       "      <td>27-08-2021</td>\n",
       "      <td>Elixir Hills Suites Resort &amp; Spa-MMT Holidays ...</td>\n",
       "      <td>New Delhi</td>\n",
       "      <td>IndiGo</td>\n",
       "      <td>0</td>\n",
       "      <td>5</td>\n",
       "      <td>Mattupetty Dam | Echo Point | Tata Tea Museum...</td>\n",
       "      <td>Cancellation any time after making the 1st pay...</td>\n",
       "      <td>35967.0</td>\n",
       "    </tr>\n",
       "    <tr>\n",
       "      <th>4</th>\n",
       "      <td>107b068aa0ca03bc6248966f594d105f</td>\n",
       "      <td>A Week In Bangkok &amp; Pattaya</td>\n",
       "      <td>Premium</td>\n",
       "      <td>Pattaya|Bangkok</td>\n",
       "      <td>4N Pattaya . 3N Bangkok</td>\n",
       "      <td>Pattaya|Bangkok</td>\n",
       "      <td>12-12-2021</td>\n",
       "      <td>Dusit Thani Pattaya - MMT Special:4.5|Amari Wa...</td>\n",
       "      <td>New Delhi</td>\n",
       "      <td>Spicejet|Go Air</td>\n",
       "      <td>0</td>\n",
       "      <td>5</td>\n",
       "      <td>Coral Island Tour with Indian Lunch, Join Spe...</td>\n",
       "      <td>Cancellation any time after making the 1st pay...</td>\n",
       "      <td>25584.0</td>\n",
       "    </tr>\n",
       "  </tbody>\n",
       "</table>\n",
       "</div>"
      ],
      "text/plain": [
       "                            Uniq Id  \\\n",
       "0  e788ab76d9d8cf1e6ed2f139645ca5d1   \n",
       "1  178f892630ce3e335a5a41d5d83937fd   \n",
       "2  f060f2954840503cc2fdaf495357b7df   \n",
       "3  32a19a6c171e67448f2346da46c619dc   \n",
       "4  107b068aa0ca03bc6248966f594d105f   \n",
       "\n",
       "                                   Package Name Package Type  \\\n",
       "0  Best of Shimla and Manali Holiday from Delhi     Standard   \n",
       "1                       Kashmir Valley vacation      Premium   \n",
       "2       Might of Mewar- Udaipur and Chittorgarh       Luxury   \n",
       "3          Colorful Kerala ( Romantic Getaway )      Premium   \n",
       "4                   A Week In Bangkok & Pattaya      Premium   \n",
       "\n",
       "                                   Destination  \\\n",
       "0           New Delhi|Shimla|Manali|Chandigarh   \n",
       "1                   Srinagar|Pahalgam|Srinagar   \n",
       "2                          Udaipur|Chittorgarh   \n",
       "3  Munnar|Kumarakom|Allepey|Kovalam and Poovar   \n",
       "4                              Pattaya|Bangkok   \n",
       "\n",
       "                                           Itinerary  \\\n",
       "0  1N New Delhi . 2N Shimla . 2N Manali . 1N Chan...   \n",
       "1            1N Srinagar . 2N Pahalgam . 1N Srinagar   \n",
       "2                        2N Udaipur . 1N Chittorgarh   \n",
       "3  2N Munnar . 1N Kumarakom . 1N Allepey . 2N Kov...   \n",
       "4                            4N Pattaya . 3N Bangkok   \n",
       "\n",
       "                                Places Covered Travel Date  \\\n",
       "0           New Delhi|Shimla|Manali|Chandigarh  30-07-2021   \n",
       "1                   Srinagar|Pahalgam|Srinagar  08-12-2021   \n",
       "2                          Udaipur|Chittorgarh  26-04-2021   \n",
       "3  Munnar|Kumarakom|Allepey|Kovalam and Poovar  27-08-2021   \n",
       "4                              Pattaya|Bangkok  12-12-2021   \n",
       "\n",
       "                                       Hotel Details Start City  \\\n",
       "0                                      Not Available     Mumbai   \n",
       "1  The Orchard Retreat & Spa:4.6|WelcomHotel Pine...  New Delhi   \n",
       "2       The Ananta:4.4|juSTa Lake Nahargarh Palace:4  New Delhi   \n",
       "3  Elixir Hills Suites Resort & Spa-MMT Holidays ...  New Delhi   \n",
       "4  Dusit Thani Pattaya - MMT Special:4.5|Amari Wa...  New Delhi   \n",
       "\n",
       "           Airline  Flight Stops  Meals  \\\n",
       "0    Not Available             2      3   \n",
       "1    IndiGo|IndiGo             0      5   \n",
       "2           IndiGo             0      4   \n",
       "3           IndiGo             0      5   \n",
       "4  Spicejet|Go Air             0      5   \n",
       "\n",
       "                          Sightseeing Places Covered  \\\n",
       "0                                      Not Available   \n",
       "1   Dal Lake | Avantipura Ruins | Mughal Gardens ...   \n",
       "2   Lake Pichola | Jag Mandir Palace | Saheliyon ...   \n",
       "3   Mattupetty Dam | Echo Point | Tata Tea Museum...   \n",
       "4   Coral Island Tour with Indian Lunch, Join Spe...   \n",
       "\n",
       "                                  Cancellation Rules  Per Person Price  \n",
       "0                                      Not Available           11509.0  \n",
       "1  Cancellation any time after making the 1st pay...           22485.5  \n",
       "2  Cancellation any time after making the 1st pay...           12421.5  \n",
       "3  Cancellation any time after making the 1st pay...           35967.0  \n",
       "4  Cancellation any time after making the 1st pay...           25584.0  "
      ]
     },
     "execution_count": 126,
     "metadata": {},
     "output_type": "execute_result"
    }
   ],
   "source": [
    "combined.head()"
   ]
  },
  {
   "cell_type": "code",
   "execution_count": 127,
   "id": "56c41ff1",
   "metadata": {},
   "outputs": [
    {
     "data": {
      "text/plain": [
       "[3, 5, 4, 2]"
      ]
     },
     "execution_count": 127,
     "metadata": {},
     "output_type": "execute_result"
    }
   ],
   "source": [
    "list(combined['Meals'].unique())"
   ]
  },
  {
   "cell_type": "code",
   "execution_count": 128,
   "id": "c5902d37",
   "metadata": {},
   "outputs": [],
   "source": [
    "import datetime as dt\n"
   ]
  },
  {
   "cell_type": "code",
   "execution_count": 129,
   "id": "998960e8",
   "metadata": {},
   "outputs": [
    {
     "data": {
      "text/plain": [
       "Uniq Id                        object\n",
       "Package Name                   object\n",
       "Package Type                   object\n",
       "Destination                    object\n",
       "Itinerary                      object\n",
       "Places Covered                 object\n",
       "Travel Date                    object\n",
       "Hotel Details                  object\n",
       "Start City                     object\n",
       "Airline                        object\n",
       "Flight Stops                    int64\n",
       "Meals                           int64\n",
       "Sightseeing Places Covered     object\n",
       "Cancellation Rules             object\n",
       "Per Person Price              float64\n",
       "dtype: object"
      ]
     },
     "execution_count": 129,
     "metadata": {},
     "output_type": "execute_result"
    }
   ],
   "source": [
    "combined.dtypes"
   ]
  },
  {
   "cell_type": "code",
   "execution_count": 130,
   "id": "08a21410",
   "metadata": {},
   "outputs": [
    {
     "data": {
      "text/plain": [
       "Uniq Id                          0\n",
       "Package Name                     0\n",
       "Package Type                     0\n",
       "Destination                      0\n",
       "Itinerary                        0\n",
       "Places Covered                   0\n",
       "Travel Date                      0\n",
       "Hotel Details                    0\n",
       "Start City                       0\n",
       "Airline                          0\n",
       "Flight Stops                     0\n",
       "Meals                            0\n",
       "Sightseeing Places Covered       0\n",
       "Cancellation Rules               0\n",
       "Per Person Price              9000\n",
       "dtype: int64"
      ]
     },
     "execution_count": 130,
     "metadata": {},
     "output_type": "execute_result"
    }
   ],
   "source": [
    "combined.isna().sum()"
   ]
  },
  {
   "cell_type": "markdown",
   "id": "c3675738",
   "metadata": {},
   "source": [
    "### Feature Engg."
   ]
  },
  {
   "cell_type": "code",
   "execution_count": 131,
   "id": "6ef1ee70",
   "metadata": {},
   "outputs": [],
   "source": [
    "combined['Travel Date'] = pd.to_datetime(combined['Travel Date'],dayfirst=True)"
   ]
  },
  {
   "cell_type": "code",
   "execution_count": 132,
   "id": "1abd72da",
   "metadata": {},
   "outputs": [],
   "source": [
    "combined['Day'] = combined['Travel Date'].dt.day\n",
    "combined['Month'] = combined['Travel Date'].dt.month\n",
    "combined['Year'] = combined['Travel Date'].dt.year\n",
    "combined['Week_Day'] = combined['Travel Date'].dt.dayofweek\n"
   ]
  },
  {
   "cell_type": "code",
   "execution_count": 133,
   "id": "a2a5314e",
   "metadata": {},
   "outputs": [
    {
     "data": {
      "image/png": "[encoded data removed]",
      "text/plain": [
       "<Figure size 640x480 with 1 Axes>"
      ]
     },
     "metadata": {},
     "output_type": "display_data"
    }
   ],
   "source": [
    "sns.boxplot(y=combined['Month'] , x=combined['Per Person Price'],orient='h');"
   ]
  },
  {
   "cell_type": "code",
   "execution_count": 134,
   "id": "43139fcf",
   "metadata": {},
   "outputs": [],
   "source": [
    "# jan,april,may,july,sept,oct,nov\n",
    "\n",
    "combined['Season'] = combined.Month.apply(lambda x:'Peak_Month' if x in [1,4,5,7,9,10,11] else 'Normal')"
   ]
  },
  {
   "cell_type": "code",
   "execution_count": 135,
   "id": "b9c545bf",
   "metadata": {},
   "outputs": [
    {
     "data": {
      "image/png": "[encoded data removed]",
      "text/plain": [
       "<Figure size 640x480 with 1 Axes>"
      ]
     },
     "metadata": {},
     "output_type": "display_data"
    }
   ],
   "source": [
    "sns.boxplot(y=combined['Season'] , x=combined['Per Person Price'],orient='h');"
   ]
  },
  {
   "cell_type": "code",
   "execution_count": 136,
   "id": "81f2eaea",
   "metadata": {},
   "outputs": [
    {
     "data": {
      "image/png": "[encoded data removed]",
      "text/plain": [
       "<Figure size 640x480 with 1 Axes>"
      ]
     },
     "metadata": {},
     "output_type": "display_data"
    }
   ],
   "source": [
    "sns.boxplot(y=combined['Year'] , x=combined['Per Person Price'],orient='h');"
   ]
  },
  {
   "cell_type": "code",
   "execution_count": 137,
   "id": "f0ed37a7",
   "metadata": {},
   "outputs": [
    {
     "data": {
      "image/png": "[encoded data removed]",
      "text/plain": [
       "<Figure size 1000x1000 with 1 Axes>"
      ]
     },
     "metadata": {},
     "output_type": "display_data"
    }
   ],
   "source": [
    "plt.figure(figsize=(10,10))\n",
    "sns.boxplot(y=combined['Day'] , x=combined['Per Person Price'],orient='h');\n",
    "# 5,8,10,11,15,16,18,19,21,22,24,,27,28,29"
   ]
  },
  {
   "cell_type": "code",
   "execution_count": 138,
   "id": "325c366f",
   "metadata": {},
   "outputs": [
    {
     "data": {
      "image/png": "[encoded data removed]",
      "text/plain": [
       "<Figure size 640x480 with 1 Axes>"
      ]
     },
     "metadata": {},
     "output_type": "display_data"
    }
   ],
   "source": [
    "sns.boxplot(y=combined['Week_Day'] , x=combined['Per Person Price'],orient='h');"
   ]
  },
  {
   "cell_type": "code",
   "execution_count": 139,
   "id": "229ddb33",
   "metadata": {},
   "outputs": [],
   "source": [
    "combined['Day_Season'] = combined.Day.apply(lambda x:'Peak_Days' if x in [5,8,10,11,15,18,19,27,29,30] else 'Normal_Days')"
   ]
  },
  {
   "cell_type": "code",
   "execution_count": 140,
   "id": "05d2ba34",
   "metadata": {},
   "outputs": [
    {
     "data": {
      "text/plain": [
       "3    16670\n",
       "5     7960\n",
       "4     4688\n",
       "2      682\n",
       "Name: Meals, dtype: int64"
      ]
     },
     "execution_count": 140,
     "metadata": {},
     "output_type": "execute_result"
    }
   ],
   "source": [
    "# check meals and airline......\n",
    "combined['Meals'].value_counts()"
   ]
  },
  {
   "cell_type": "code",
   "execution_count": 141,
   "id": "aaf5f66e",
   "metadata": {},
   "outputs": [
    {
     "data": {
      "text/plain": [
       "Not Available                  7010\n",
       "IndiGo                         5292\n",
       "Spicejet                       4378\n",
       "Go Air                         3033\n",
       "IndiGo|IndiGo                  1584\n",
       "Spicejet|Spicejet              1346\n",
       "Vistara                         852\n",
       "Air India                       729\n",
       "IndiGo|IndiGo|IndiGo|IndiGo     667\n",
       "IndiGo|Spicejet                 499\n",
       "Name: Airline, dtype: int64"
      ]
     },
     "execution_count": 141,
     "metadata": {},
     "output_type": "execute_result"
    }
   ],
   "source": [
    "combined['Airline'].value_counts().head(10)"
   ]
  },
  {
   "cell_type": "code",
   "execution_count": 142,
   "id": "4a1a6bd1",
   "metadata": {},
   "outputs": [
    {
     "data": {
      "image/png": "[encoded data removed]",
      "text/plain": [
       "<Figure size 640x480 with 1 Axes>"
      ]
     },
     "metadata": {},
     "output_type": "display_data"
    }
   ],
   "source": [
    "sns.boxplot(y=combined['Meals'] , x=combined['Per Person Price'],orient='h');"
   ]
  },
  {
   "cell_type": "code",
   "execution_count": 143,
   "id": "20dd23af",
   "metadata": {},
   "outputs": [],
   "source": [
    "combined['Flights'] = combined.Airline.str.split('|',expand=True)[0]"
   ]
  },
  {
   "cell_type": "code",
   "execution_count": 144,
   "id": "9fc27e05",
   "metadata": {},
   "outputs": [],
   "source": [
    "a=combined.Flights.value_counts()[:5].index.to_list()"
   ]
  },
  {
   "cell_type": "code",
   "execution_count": 145,
   "id": "8948ef52",
   "metadata": {},
   "outputs": [],
   "source": [
    "combined['Flights_cat'] = combined.Flights.apply(lambda x:'Top5' if x in a else 'Others')"
   ]
  },
  {
   "cell_type": "code",
   "execution_count": 146,
   "id": "9d11503d",
   "metadata": {},
   "outputs": [
    {
     "data": {
      "image/png": "[encoded data removed]",
      "text/plain": [
       "<Figure size 640x480 with 1 Axes>"
      ]
     },
     "metadata": {},
     "output_type": "display_data"
    }
   ],
   "source": [
    "sns.boxplot(x=combined['Flights_cat'],y = combined['Per Person Price']);"
   ]
  },
  {
   "cell_type": "code",
   "execution_count": 147,
   "id": "9bd0d96b",
   "metadata": {},
   "outputs": [
    {
     "data": {
      "image/png": "[encoded data removed]",
      "text/plain": [
       "<Figure size 640x480 with 1 Axes>"
      ]
     },
     "metadata": {},
     "output_type": "display_data"
    }
   ],
   "source": [
    "# Get the top 5 most common flights\n",
    "top_flights = combined['Flights'].value_counts().nlargest(5).index\n",
    "\n",
    "# Filter the DataFrame for the top flights\n",
    "filtered_data = combined[combined['Flights'].isin(top_flights)]\n",
    "\n",
    "# Group by 'Flights' and calculate the mean of 'Per Person Price'\n",
    "result = filtered_data.groupby('Flights')['Per Person Price'].mean()\n",
    "\n",
    "# Plot the results\n",
    "plt.bar(result.index, result)\n",
    "plt.xlabel('Flights')\n",
    "plt.ylabel('Mean Per Person Price')\n",
    "plt.title('Mean Per Person Price for Top 5 Flights')\n",
    "plt.show()"
   ]
  },
  {
   "cell_type": "code",
   "execution_count": 148,
   "id": "c4ff6598",
   "metadata": {},
   "outputs": [
    {
     "data": {
      "text/html": [
       "<div>\n",
       "<style scoped>\n",
       "    .dataframe tbody tr th:only-of-type {\n",
       "        vertical-align: middle;\n",
       "    }\n",
       "\n",
       "    .dataframe tbody tr th {\n",
       "        vertical-align: top;\n",
       "    }\n",
       "\n",
       "    .dataframe thead th {\n",
       "        text-align: right;\n",
       "    }\n",
       "</style>\n",
       "<table border=\"1\" class=\"dataframe\">\n",
       "  <thead>\n",
       "    <tr style=\"text-align: right;\">\n",
       "      <th></th>\n",
       "      <th>Uniq Id</th>\n",
       "      <th>Package Name</th>\n",
       "      <th>Package Type</th>\n",
       "      <th>Destination</th>\n",
       "      <th>Itinerary</th>\n",
       "      <th>Places Covered</th>\n",
       "      <th>Travel Date</th>\n",
       "      <th>Hotel Details</th>\n",
       "      <th>Start City</th>\n",
       "      <th>Airline</th>\n",
       "      <th>...</th>\n",
       "      <th>Cancellation Rules</th>\n",
       "      <th>Per Person Price</th>\n",
       "      <th>Day</th>\n",
       "      <th>Month</th>\n",
       "      <th>Year</th>\n",
       "      <th>Week_Day</th>\n",
       "      <th>Season</th>\n",
       "      <th>Day_Season</th>\n",
       "      <th>Flights</th>\n",
       "      <th>Flights_cat</th>\n",
       "    </tr>\n",
       "  </thead>\n",
       "  <tbody>\n",
       "    <tr>\n",
       "      <th>8998</th>\n",
       "      <td>c9ce916ec5e1b93134a2f84090284bf9</td>\n",
       "      <td>Colorful Rajasthan- Jaipur, Jodhpur, Jaisalmer...</td>\n",
       "      <td>Deluxe</td>\n",
       "      <td>Jaipur|Jodhpur|Jaisalmer|Udaipur</td>\n",
       "      <td>2N Jaipur . 1N Jodhpur . 2N Jaisalmer . 2N Uda...</td>\n",
       "      <td>Jaipur|Jodhpur|Jaisalmer|Udaipur</td>\n",
       "      <td>2021-03-19</td>\n",
       "      <td>Souvenir Peppermint:3.9|Lariya Resort:4.3|Gorb...</td>\n",
       "      <td>New Delhi</td>\n",
       "      <td>IndiGo|IndiGo</td>\n",
       "      <td>...</td>\n",
       "      <td>Cancellation any time after making the 1st pay...</td>\n",
       "      <td>NaN</td>\n",
       "      <td>19</td>\n",
       "      <td>3</td>\n",
       "      <td>2021</td>\n",
       "      <td>4</td>\n",
       "      <td>Normal</td>\n",
       "      <td>Peak_Days</td>\n",
       "      <td>IndiGo</td>\n",
       "      <td>Top5</td>\n",
       "    </tr>\n",
       "    <tr>\n",
       "      <th>8999</th>\n",
       "      <td>63f248718bd829ec8a3d234f85637734</td>\n",
       "      <td>Short Trip to Shirdi for Darshan</td>\n",
       "      <td>Budget</td>\n",
       "      <td>Shirdi</td>\n",
       "      <td>2N Shirdi</td>\n",
       "      <td>Shirdi</td>\n",
       "      <td>2021-02-15</td>\n",
       "      <td>Hotel Sai Balaji:3.5</td>\n",
       "      <td>New Delhi</td>\n",
       "      <td>IndiGo|IndiGo</td>\n",
       "      <td>...</td>\n",
       "      <td>This cancellation policy is applicable for boo...</td>\n",
       "      <td>NaN</td>\n",
       "      <td>15</td>\n",
       "      <td>2</td>\n",
       "      <td>2021</td>\n",
       "      <td>0</td>\n",
       "      <td>Normal</td>\n",
       "      <td>Peak_Days</td>\n",
       "      <td>IndiGo</td>\n",
       "      <td>Top5</td>\n",
       "    </tr>\n",
       "  </tbody>\n",
       "</table>\n",
       "<p>2 rows × 23 columns</p>\n",
       "</div>"
      ],
      "text/plain": [
       "                               Uniq Id  \\\n",
       "8998  c9ce916ec5e1b93134a2f84090284bf9   \n",
       "8999  63f248718bd829ec8a3d234f85637734   \n",
       "\n",
       "                                           Package Name Package Type  \\\n",
       "8998  Colorful Rajasthan- Jaipur, Jodhpur, Jaisalmer...       Deluxe   \n",
       "8999                   Short Trip to Shirdi for Darshan       Budget   \n",
       "\n",
       "                           Destination  \\\n",
       "8998  Jaipur|Jodhpur|Jaisalmer|Udaipur   \n",
       "8999                            Shirdi   \n",
       "\n",
       "                                              Itinerary  \\\n",
       "8998  2N Jaipur . 1N Jodhpur . 2N Jaisalmer . 2N Uda...   \n",
       "8999                                          2N Shirdi   \n",
       "\n",
       "                        Places Covered Travel Date  \\\n",
       "8998  Jaipur|Jodhpur|Jaisalmer|Udaipur  2021-03-19   \n",
       "8999                            Shirdi  2021-02-15   \n",
       "\n",
       "                                          Hotel Details Start City  \\\n",
       "8998  Souvenir Peppermint:3.9|Lariya Resort:4.3|Gorb...  New Delhi   \n",
       "8999                               Hotel Sai Balaji:3.5  New Delhi   \n",
       "\n",
       "            Airline  ...                                 Cancellation Rules  \\\n",
       "8998  IndiGo|IndiGo  ...  Cancellation any time after making the 1st pay...   \n",
       "8999  IndiGo|IndiGo  ...  This cancellation policy is applicable for boo...   \n",
       "\n",
       "      Per Person Price Day Month  Year  Week_Day  Season  Day_Season  Flights  \\\n",
       "8998               NaN  19     3  2021         4  Normal   Peak_Days   IndiGo   \n",
       "8999               NaN  15     2  2021         0  Normal   Peak_Days   IndiGo   \n",
       "\n",
       "     Flights_cat  \n",
       "8998        Top5  \n",
       "8999        Top5  \n",
       "\n",
       "[2 rows x 23 columns]"
      ]
     },
     "execution_count": 148,
     "metadata": {},
     "output_type": "execute_result"
    }
   ],
   "source": [
    "combined.tail(2)"
   ]
  },
  {
   "cell_type": "code",
   "execution_count": 149,
   "id": "0754608e",
   "metadata": {},
   "outputs": [],
   "source": [
    "# combined places covered\n",
    "# combined['Places Covered'].str.split('|',expand=True)\n",
    "\n",
    "combined['Count_Locs'] = combined['Places Covered'].apply(lambda x:len(x.split('|')))"
   ]
  },
  {
   "cell_type": "raw",
   "id": "56c6f33a",
   "metadata": {},
   "source": [
    "for i in combined.Itinerary.str.split(',').replace(',','.'):\n",
    "    a = i[0].split('.')\n",
    "    b = a[0].split(' ')[0]\n",
    "    c =b.split('N')[0]\n",
    "    for i in combined.Itinerary.str.split(',').replace(',','.'):\n",
    "        d = i[0].split('.')\n",
    "        e = d[0].split(' ')[1]\n",
    "        f =e.split('N')[0]\n",
    "        print(c,f)"
   ]
  },
  {
   "cell_type": "code",
   "execution_count": 150,
   "id": "be6537c5",
   "metadata": {},
   "outputs": [],
   "source": [
    "list_m = []\n",
    "for i in range(0,11):\n",
    "    saved = combined.Itinerary.str.split('.',expand=True)[i].str.split('N',expand=True)[0]\\\n",
    "    .apply(lambda x: 0 if x==None else x).astype(int)\n",
    "    list_m.append(saved)"
   ]
  },
  {
   "cell_type": "code",
   "execution_count": 151,
   "id": "5f53a32a",
   "metadata": {},
   "outputs": [
    {
     "data": {
      "text/plain": [
       "30000"
      ]
     },
     "execution_count": 151,
     "metadata": {},
     "output_type": "execute_result"
    }
   ],
   "source": [
    "len(list_m[0])"
   ]
  },
  {
   "cell_type": "code",
   "execution_count": 152,
   "id": "e1365a0a",
   "metadata": {},
   "outputs": [],
   "source": [
    "combined['Total_Travel_Days'] = pd.concat(list_m,axis=1).sum(axis=1)"
   ]
  },
  {
   "cell_type": "code",
   "execution_count": 153,
   "id": "42bef3a5",
   "metadata": {},
   "outputs": [],
   "source": [
    "rating = []\n",
    "for i in range(0,10):\n",
    "    rating.append(combined['Hotel Details'].str.split('|',expand=True)[i].str.split(':',expand=True)[1]\\\n",
    "                   .apply(lambda x: 0 if x is None else x ))"
   ]
  },
  {
   "cell_type": "code",
   "execution_count": 154,
   "id": "9a32bda0",
   "metadata": {},
   "outputs": [
    {
     "data": {
      "text/plain": [
       "array([0, '4.6', '4.4', '4.5', '4.1', 'Four', '3.6', '4', '3.8', 'Five',\n",
       "       '3.5', '4.0', '3', '4.2', '4.8', '2.4', '', '4.3', 'Three', '3.0',\n",
       "       '2.9', '1.5', '3.7', '3.4', '3.9', '2.1', '3.3', '2.6', '4.7',\n",
       "       '4.9', '2.3', '3.2', '1.9', '5', '3.1', '2', '5.0', '2.5', '2.8',\n",
       "       '2.0', 'Two', '1.6', 'A member of The Leading Hotels Of The World'],\n",
       "      dtype=object)"
      ]
     },
     "execution_count": 154,
     "metadata": {},
     "output_type": "execute_result"
    }
   ],
   "source": [
    "combined['Rating'] = pd.concat(rating , ignore_index=True)\n",
    "combined['Rating'].unique()"
   ]
  },
  {
   "cell_type": "code",
   "execution_count": null,
   "id": "eb0539fa",
   "metadata": {},
   "outputs": [],
   "source": []
  },
  {
   "cell_type": "code",
   "execution_count": 155,
   "id": "d14a2a22",
   "metadata": {},
   "outputs": [],
   "source": [
    "combined['Rating'] = combined['Rating'].replace('Five',5)\n",
    "combined['Rating'] = combined['Rating'].replace('Two',5)\n",
    "combined['Rating'] = combined['Rating'].replace('Three',5)\n",
    "combined['Rating'] = combined['Rating'].replace('Four',5)\n",
    "combined['Rating'] = combined['Rating'].replace('A member of The Leading Hotels Of The World',0)\n",
    "combined['Rating'] = combined['Rating'].replace('',0)"
   ]
  },
  {
   "cell_type": "code",
   "execution_count": 156,
   "id": "6d81b7c9",
   "metadata": {},
   "outputs": [],
   "source": [
    "combined['Rating'] = combined['Rating'].astype(float)"
   ]
  },
  {
   "cell_type": "code",
   "execution_count": 157,
   "id": "2ab774a0",
   "metadata": {},
   "outputs": [
    {
     "data": {
      "text/plain": [
       "array([0. , 4.6, 4.4, 4.5, 4.1, 5. , 3.6, 4. , 3.8, 3.5, 3. , 4.2, 4.8,\n",
       "       2.4, 4.3, 2.9, 1.5, 3.7, 3.4, 3.9, 2.1, 3.3, 2.6, 4.7, 4.9, 2.3,\n",
       "       3.2, 1.9, 3.1, 2. , 2.5, 2.8, 1.6])"
      ]
     },
     "execution_count": 157,
     "metadata": {},
     "output_type": "execute_result"
    }
   ],
   "source": [
    "combined['Rating'].unique()"
   ]
  },
  {
   "cell_type": "code",
   "execution_count": 158,
   "id": "3a955eb9",
   "metadata": {},
   "outputs": [],
   "source": [
    "combined['Count_Sighting'] = combined['Sightseeing Places Covered'].apply(lambda x: 0 if x=='Not Available'\\\n",
    "                                            else len(x.split('|')))"
   ]
  },
  {
   "cell_type": "code",
   "execution_count": 159,
   "id": "4e880010",
   "metadata": {},
   "outputs": [
    {
     "data": {
      "text/html": [
       "<div>\n",
       "<style scoped>\n",
       "    .dataframe tbody tr th:only-of-type {\n",
       "        vertical-align: middle;\n",
       "    }\n",
       "\n",
       "    .dataframe tbody tr th {\n",
       "        vertical-align: top;\n",
       "    }\n",
       "\n",
       "    .dataframe thead th {\n",
       "        text-align: right;\n",
       "    }\n",
       "</style>\n",
       "<table border=\"1\" class=\"dataframe\">\n",
       "  <thead>\n",
       "    <tr style=\"text-align: right;\">\n",
       "      <th></th>\n",
       "      <th>count</th>\n",
       "      <th>mean</th>\n",
       "      <th>std</th>\n",
       "      <th>min</th>\n",
       "      <th>25%</th>\n",
       "      <th>50%</th>\n",
       "      <th>75%</th>\n",
       "      <th>max</th>\n",
       "    </tr>\n",
       "    <tr>\n",
       "      <th>Package Type</th>\n",
       "      <th></th>\n",
       "      <th></th>\n",
       "      <th></th>\n",
       "      <th></th>\n",
       "      <th></th>\n",
       "      <th></th>\n",
       "      <th></th>\n",
       "      <th></th>\n",
       "    </tr>\n",
       "  </thead>\n",
       "  <tbody>\n",
       "    <tr>\n",
       "      <th>Budget</th>\n",
       "      <td>466.0</td>\n",
       "      <td>14151.447425</td>\n",
       "      <td>8236.467588</td>\n",
       "      <td>1757.0</td>\n",
       "      <td>8901.250</td>\n",
       "      <td>13114.25</td>\n",
       "      <td>17927.00</td>\n",
       "      <td>64008.5</td>\n",
       "    </tr>\n",
       "    <tr>\n",
       "      <th>Deluxe</th>\n",
       "      <td>6006.0</td>\n",
       "      <td>18409.508825</td>\n",
       "      <td>10228.326587</td>\n",
       "      <td>1198.0</td>\n",
       "      <td>12119.000</td>\n",
       "      <td>16426.75</td>\n",
       "      <td>22774.25</td>\n",
       "      <td>171062.5</td>\n",
       "    </tr>\n",
       "    <tr>\n",
       "      <th>Luxury</th>\n",
       "      <td>3278.0</td>\n",
       "      <td>23679.556437</td>\n",
       "      <td>11958.923869</td>\n",
       "      <td>2963.0</td>\n",
       "      <td>15471.625</td>\n",
       "      <td>22222.50</td>\n",
       "      <td>29170.75</td>\n",
       "      <td>107850.0</td>\n",
       "    </tr>\n",
       "    <tr>\n",
       "      <th>Premium</th>\n",
       "      <td>5581.0</td>\n",
       "      <td>23965.407006</td>\n",
       "      <td>13272.618593</td>\n",
       "      <td>2967.0</td>\n",
       "      <td>15232.000</td>\n",
       "      <td>21767.50</td>\n",
       "      <td>29188.00</td>\n",
       "      <td>170763.0</td>\n",
       "    </tr>\n",
       "    <tr>\n",
       "      <th>Standard</th>\n",
       "      <td>5669.0</td>\n",
       "      <td>16354.089081</td>\n",
       "      <td>9363.498521</td>\n",
       "      <td>791.0</td>\n",
       "      <td>10563.500</td>\n",
       "      <td>14729.50</td>\n",
       "      <td>19972.00</td>\n",
       "      <td>153795.0</td>\n",
       "    </tr>\n",
       "  </tbody>\n",
       "</table>\n",
       "</div>"
      ],
      "text/plain": [
       "               count          mean           std     min        25%       50%  \\\n",
       "Package Type                                                                    \n",
       "Budget         466.0  14151.447425   8236.467588  1757.0   8901.250  13114.25   \n",
       "Deluxe        6006.0  18409.508825  10228.326587  1198.0  12119.000  16426.75   \n",
       "Luxury        3278.0  23679.556437  11958.923869  2963.0  15471.625  22222.50   \n",
       "Premium       5581.0  23965.407006  13272.618593  2967.0  15232.000  21767.50   \n",
       "Standard      5669.0  16354.089081   9363.498521   791.0  10563.500  14729.50   \n",
       "\n",
       "                   75%       max  \n",
       "Package Type                      \n",
       "Budget        17927.00   64008.5  \n",
       "Deluxe        22774.25  171062.5  \n",
       "Luxury        29170.75  107850.0  \n",
       "Premium       29188.00  170763.0  \n",
       "Standard      19972.00  153795.0  "
      ]
     },
     "execution_count": 159,
     "metadata": {},
     "output_type": "execute_result"
    }
   ],
   "source": [
    "combined.groupby('Package Type')['Per Person Price'].describe()"
   ]
  },
  {
   "cell_type": "code",
   "execution_count": 160,
   "id": "08b4dbed",
   "metadata": {},
   "outputs": [
    {
     "data": {
      "image/png": "[encoded data removed]",
      "text/plain": [
       "<Figure size 640x480 with 1 Axes>"
      ]
     },
     "metadata": {},
     "output_type": "display_data"
    }
   ],
   "source": [
    "sns.boxplot(x=combined['Package Type'],y = combined['Per Person Price']);"
   ]
  },
  {
   "cell_type": "code",
   "execution_count": 161,
   "id": "528e67a6",
   "metadata": {},
   "outputs": [],
   "source": [
    "mapped = {'Luxury':5,'Premium':4,'Deluxe':3,'Standard':2,'Budget':1}\n",
    "combined['Package Type'] = combined['Package Type'].map(mapped)"
   ]
  },
  {
   "cell_type": "code",
   "execution_count": 162,
   "id": "8f491e1c",
   "metadata": {},
   "outputs": [],
   "source": [
    "combined['Hotel_Count'] = combined['Hotel Details']\\\n",
    ".apply(lambda x: 0 if x=='Not Available' else len(x.split('|')))"
   ]
  },
  {
   "cell_type": "code",
   "execution_count": 163,
   "id": "143a1bc9",
   "metadata": {},
   "outputs": [
    {
     "data": {
      "text/plain": [
       "10"
      ]
     },
     "execution_count": 163,
     "metadata": {},
     "output_type": "execute_result"
    }
   ],
   "source": [
    "combined['Cancellation Rules'].nunique() # rules will drop"
   ]
  },
  {
   "cell_type": "code",
   "execution_count": 164,
   "id": "1298cb1d",
   "metadata": {},
   "outputs": [],
   "source": [
    "new_data = combined.drop(columns=['Uniq Id','Package Name', 'Destination', 'Itinerary',\n",
    "       'Places Covered', 'Travel Date', 'Hotel Details','Start City','Flights',\n",
    "       'Airline', 'Sightseeing Places Covered','Cancellation Rules'],axis=1)"
   ]
  },
  {
   "cell_type": "code",
   "execution_count": 165,
   "id": "02852b34",
   "metadata": {},
   "outputs": [
    {
     "data": {
      "text/plain": [
       "Index(['Uniq Id', 'Package Name', 'Package Type', 'Destination', 'Itinerary',\n",
       "       'Places Covered', 'Travel Date', 'Hotel Details', 'Start City',\n",
       "       'Airline', 'Flight Stops', 'Meals', 'Sightseeing Places Covered',\n",
       "       'Cancellation Rules', 'Per Person Price', 'Day', 'Month', 'Year',\n",
       "       'Week_Day', 'Season', 'Day_Season', 'Flights', 'Flights_cat',\n",
       "       'Count_Locs', 'Total_Travel_Days', 'Rating', 'Count_Sighting',\n",
       "       'Hotel_Count'],\n",
       "      dtype='object')"
      ]
     },
     "execution_count": 165,
     "metadata": {},
     "output_type": "execute_result"
    }
   ],
   "source": [
    "combined.columns"
   ]
  },
  {
   "cell_type": "code",
   "execution_count": 166,
   "id": "d5d56717",
   "metadata": {},
   "outputs": [
    {
     "data": {
      "text/html": [
       "<div>\n",
       "<style scoped>\n",
       "    .dataframe tbody tr th:only-of-type {\n",
       "        vertical-align: middle;\n",
       "    }\n",
       "\n",
       "    .dataframe tbody tr th {\n",
       "        vertical-align: top;\n",
       "    }\n",
       "\n",
       "    .dataframe thead th {\n",
       "        text-align: right;\n",
       "    }\n",
       "</style>\n",
       "<table border=\"1\" class=\"dataframe\">\n",
       "  <thead>\n",
       "    <tr style=\"text-align: right;\">\n",
       "      <th></th>\n",
       "      <th>Package Type</th>\n",
       "      <th>Flight Stops</th>\n",
       "      <th>Meals</th>\n",
       "      <th>Per Person Price</th>\n",
       "      <th>Day</th>\n",
       "      <th>Month</th>\n",
       "      <th>Year</th>\n",
       "      <th>Week_Day</th>\n",
       "      <th>Season</th>\n",
       "      <th>Day_Season</th>\n",
       "      <th>Flights_cat</th>\n",
       "      <th>Count_Locs</th>\n",
       "      <th>Total_Travel_Days</th>\n",
       "      <th>Rating</th>\n",
       "      <th>Count_Sighting</th>\n",
       "      <th>Hotel_Count</th>\n",
       "    </tr>\n",
       "  </thead>\n",
       "  <tbody>\n",
       "    <tr>\n",
       "      <th>0</th>\n",
       "      <td>2</td>\n",
       "      <td>2</td>\n",
       "      <td>3</td>\n",
       "      <td>11509.0</td>\n",
       "      <td>30</td>\n",
       "      <td>7</td>\n",
       "      <td>2021</td>\n",
       "      <td>4</td>\n",
       "      <td>Peak_Month</td>\n",
       "      <td>Peak_Days</td>\n",
       "      <td>Top5</td>\n",
       "      <td>4</td>\n",
       "      <td>6</td>\n",
       "      <td>0.0</td>\n",
       "      <td>0</td>\n",
       "      <td>0</td>\n",
       "    </tr>\n",
       "    <tr>\n",
       "      <th>1</th>\n",
       "      <td>4</td>\n",
       "      <td>0</td>\n",
       "      <td>5</td>\n",
       "      <td>22485.5</td>\n",
       "      <td>8</td>\n",
       "      <td>12</td>\n",
       "      <td>2021</td>\n",
       "      <td>2</td>\n",
       "      <td>Normal</td>\n",
       "      <td>Peak_Days</td>\n",
       "      <td>Top5</td>\n",
       "      <td>3</td>\n",
       "      <td>4</td>\n",
       "      <td>4.6</td>\n",
       "      <td>7</td>\n",
       "      <td>3</td>\n",
       "    </tr>\n",
       "    <tr>\n",
       "      <th>2</th>\n",
       "      <td>5</td>\n",
       "      <td>0</td>\n",
       "      <td>4</td>\n",
       "      <td>12421.5</td>\n",
       "      <td>26</td>\n",
       "      <td>4</td>\n",
       "      <td>2021</td>\n",
       "      <td>0</td>\n",
       "      <td>Peak_Month</td>\n",
       "      <td>Normal_Days</td>\n",
       "      <td>Top5</td>\n",
       "      <td>2</td>\n",
       "      <td>3</td>\n",
       "      <td>4.4</td>\n",
       "      <td>8</td>\n",
       "      <td>2</td>\n",
       "    </tr>\n",
       "    <tr>\n",
       "      <th>3</th>\n",
       "      <td>4</td>\n",
       "      <td>0</td>\n",
       "      <td>5</td>\n",
       "      <td>35967.0</td>\n",
       "      <td>27</td>\n",
       "      <td>8</td>\n",
       "      <td>2021</td>\n",
       "      <td>4</td>\n",
       "      <td>Normal</td>\n",
       "      <td>Peak_Days</td>\n",
       "      <td>Top5</td>\n",
       "      <td>4</td>\n",
       "      <td>6</td>\n",
       "      <td>4.6</td>\n",
       "      <td>9</td>\n",
       "      <td>4</td>\n",
       "    </tr>\n",
       "    <tr>\n",
       "      <th>4</th>\n",
       "      <td>4</td>\n",
       "      <td>0</td>\n",
       "      <td>5</td>\n",
       "      <td>25584.0</td>\n",
       "      <td>12</td>\n",
       "      <td>12</td>\n",
       "      <td>2021</td>\n",
       "      <td>6</td>\n",
       "      <td>Normal</td>\n",
       "      <td>Normal_Days</td>\n",
       "      <td>Top5</td>\n",
       "      <td>2</td>\n",
       "      <td>7</td>\n",
       "      <td>4.5</td>\n",
       "      <td>2</td>\n",
       "      <td>2</td>\n",
       "    </tr>\n",
       "  </tbody>\n",
       "</table>\n",
       "</div>"
      ],
      "text/plain": [
       "   Package Type  Flight Stops  Meals  Per Person Price  Day  Month  Year  \\\n",
       "0             2             2      3           11509.0   30      7  2021   \n",
       "1             4             0      5           22485.5    8     12  2021   \n",
       "2             5             0      4           12421.5   26      4  2021   \n",
       "3             4             0      5           35967.0   27      8  2021   \n",
       "4             4             0      5           25584.0   12     12  2021   \n",
       "\n",
       "   Week_Day      Season   Day_Season Flights_cat  Count_Locs  \\\n",
       "0         4  Peak_Month    Peak_Days        Top5           4   \n",
       "1         2      Normal    Peak_Days        Top5           3   \n",
       "2         0  Peak_Month  Normal_Days        Top5           2   \n",
       "3         4      Normal    Peak_Days        Top5           4   \n",
       "4         6      Normal  Normal_Days        Top5           2   \n",
       "\n",
       "   Total_Travel_Days  Rating  Count_Sighting  Hotel_Count  \n",
       "0                  6     0.0               0            0  \n",
       "1                  4     4.6               7            3  \n",
       "2                  3     4.4               8            2  \n",
       "3                  6     4.6               9            4  \n",
       "4                  7     4.5               2            2  "
      ]
     },
     "execution_count": 166,
     "metadata": {},
     "output_type": "execute_result"
    }
   ],
   "source": [
    "new_data.head()"
   ]
  },
  {
   "cell_type": "code",
   "execution_count": 167,
   "id": "73e75498",
   "metadata": {},
   "outputs": [
    {
     "data": {
      "text/plain": [
       "(30000, 16)"
      ]
     },
     "execution_count": 167,
     "metadata": {},
     "output_type": "execute_result"
    }
   ],
   "source": [
    "new_data.shape\n",
    "#em deep learning blue interface"
   ]
  },
  {
   "cell_type": "code",
   "execution_count": null,
   "id": "fa848ce2",
   "metadata": {},
   "outputs": [],
   "source": []
  },
  {
   "cell_type": "code",
   "execution_count": 168,
   "id": "608556b7",
   "metadata": {},
   "outputs": [],
   "source": [
    "newtrain = new_data.iloc[0:train.shape[0],:]\n",
    "newtest = new_data.iloc[train.shape[0]:,:]"
   ]
  },
  {
   "cell_type": "code",
   "execution_count": 169,
   "id": "fb5d8500",
   "metadata": {},
   "outputs": [],
   "source": [
    "newtrain['Package_count'] = newtrain.groupby('Package Type')['Per Person Price'].transform('count')\n",
    "newtest['Package_count'] = newtrain.groupby('Package Type')['Per Person Price'].transform('count')\n",
    "\n",
    "newtrain['Package_min'] = newtrain.groupby('Package Type')['Per Person Price'].transform('min')\n",
    "newtest['Package_min'] = newtrain.groupby('Package Type')['Per Person Price'].transform('min')\n",
    " \n",
    "newtrain['Package_max'] = newtrain.groupby('Package Type')['Per Person Price'].transform('max')\n",
    "newtest['Package_max'] = newtrain.groupby('Package Type')['Per Person Price'].transform('max')\n",
    "\n",
    "newtrain['Package_median'] = newtrain.groupby('Package Type')['Per Person Price'].transform('median')\n",
    "newtest['Package_median'] = newtrain.groupby('Package Type')['Per Person Price'].transform('median')\n",
    "\n",
    "newtrain['Package_mean'] = newtrain.groupby('Package Type')['Per Person Price'].transform('mean')\n",
    "newtest['Package_mean'] = newtrain.groupby('Package Type')['Per Person Price'].transform('mean')\n",
    "\n"
   ]
  },
  {
   "cell_type": "code",
   "execution_count": 170,
   "id": "3a57b644",
   "metadata": {},
   "outputs": [],
   "source": [
    "dummy_train = pd.get_dummies(newtrain,drop_first=True)\n",
    "dummy_test = pd.get_dummies(newtest,drop_first=True)\n"
   ]
  },
  {
   "cell_type": "code",
   "execution_count": 171,
   "id": "2480f61c",
   "metadata": {},
   "outputs": [],
   "source": [
    "x = dummy_train.drop(columns='Per Person Price')\n",
    "y = dummy_train['Per Person Price']\n",
    "\n",
    "dummy_test.drop(columns='Per Person Price',inplace=True)\n"
   ]
  },
  {
   "cell_type": "code",
   "execution_count": 172,
   "id": "baaf70a9",
   "metadata": {},
   "outputs": [
    {
     "data": {
      "text/plain": [
       "((9000, 21),\n",
       " (21000, 21),\n",
       " (9000, 14),\n",
       " (21000, 15),\n",
       " (30000, 28),\n",
       " (9000, 20),\n",
       " (21000, 20),\n",
       " (30000, 16))"
      ]
     },
     "execution_count": 172,
     "metadata": {},
     "output_type": "execute_result"
    }
   ],
   "source": [
    "newtest.shape,newtrain.shape,test.shape,train.shape,combined.shape,dummy_test.shape,x.shape,new_data.shape"
   ]
  },
  {
   "cell_type": "markdown",
   "id": "e4ab863a",
   "metadata": {},
   "source": [
    "### Modelling"
   ]
  },
  {
   "cell_type": "code",
   "execution_count": 173,
   "id": "4cce71f1",
   "metadata": {},
   "outputs": [],
   "source": [
    "from sklearn.linear_model import LinearRegression\n",
    "from sklearn.tree import DecisionTreeRegressor\n",
    "from sklearn.ensemble import RandomForestRegressor,GradientBoostingRegressor,AdaBoostRegressor\n",
    "from xgboost import XGBRegressor"
   ]
  },
  {
   "cell_type": "code",
   "execution_count": 174,
   "id": "4892922d",
   "metadata": {},
   "outputs": [],
   "source": [
    "# base model\n",
    "def base_models():\n",
    "    models = dict()\n",
    "    models['LR'] = LinearRegression()\n",
    "    models['DTREE'] = DecisionTreeRegressor()\n",
    "    models['RF'] = RandomForestRegressor()\n",
    "    models['GBM'] = GradientBoostingRegressor()\n",
    "    models['XGB'] = XGBRegressor()\n",
    "    models['ADA'] = AdaBoostRegressor()\n",
    "    return models"
   ]
  },
  {
   "cell_type": "code",
   "execution_count": 175,
   "id": "81e91a0d",
   "metadata": {},
   "outputs": [],
   "source": [
    "from sklearn.model_selection import KFold,cross_val_score\n",
    "\n",
    "def eval_models(model):\n",
    "    cv = KFold(n_splits=5,shuffle=True,random_state=1001)\n",
    "    scores = -cross_val_score(estimator=model,X =x,y = y,cv=cv,scoring='neg_mean_squared_error',\n",
    "                            n_jobs=-1)\n",
    "    return scores\n",
    "\n",
    "\n"
   ]
  },
  {
   "cell_type": "code",
   "execution_count": 176,
   "id": "514f7c97",
   "metadata": {},
   "outputs": [
    {
     "name": "stdout",
     "output_type": "stream",
     "text": [
      "LR 18.1625768245123\n",
      "DTREE 18.254636208235233\n",
      "RF 18.076720232196145\n",
      "GBM 18.03110102841716\n",
      "XGB 17.971232562675876\n",
      "ADA 18.101802574865943\n"
     ]
    }
   ],
   "source": [
    "# lets use the functions to calculate the scores........\n",
    "\n",
    "models = base_models()\n",
    "\n",
    "result , names = list() , list()\n",
    "\n",
    "for name , mymodel in models.items():\n",
    "    finalscore = eval_models(mymodel)\n",
    "    result.append(finalscore)\n",
    "    names.append(name)\n",
    "    print(name,np.mean(np.log(result)))"
   ]
  },
  {
   "cell_type": "code",
   "execution_count": 177,
   "id": "bc238011",
   "metadata": {},
   "outputs": [
    {
     "data": {
      "text/plain": [
       "(9000, 20)"
      ]
     },
     "execution_count": 177,
     "metadata": {},
     "output_type": "execute_result"
    }
   ],
   "source": [
    "dummy_test.shape"
   ]
  },
  {
   "cell_type": "code",
   "execution_count": 178,
   "id": "9f52087b",
   "metadata": {},
   "outputs": [
    {
     "data": {
      "text/plain": [
       "(21000, 21)"
      ]
     },
     "execution_count": 178,
     "metadata": {},
     "output_type": "execute_result"
    }
   ],
   "source": [
    "dummy_train.shape"
   ]
  },
  {
   "cell_type": "code",
   "execution_count": 179,
   "id": "d21b2232",
   "metadata": {},
   "outputs": [],
   "source": [
    "from sklearn.ensemble import StackingRegressor\n",
    "\n",
    "GBM = GradientBoostingRegressor()\n",
    "XGB = XGBRegressor()\n",
    "RF = RandomForestRegressor()\n",
    "base_estimators = [('GBM',GBM),('RF',RF)]\n",
    "stack = StackingRegressor(estimators = base_estimators,final_estimator=XGB,cv=5)\n",
    "\n",
    "pred = stack.fit(x,y).predict(dummy_test)"
   ]
  },
  {
   "cell_type": "code",
   "execution_count": 180,
   "id": "f5d01d2e",
   "metadata": {},
   "outputs": [
    {
     "data": {
      "text/html": [
       "<div>\n",
       "<style scoped>\n",
       "    .dataframe tbody tr th:only-of-type {\n",
       "        vertical-align: middle;\n",
       "    }\n",
       "\n",
       "    .dataframe tbody tr th {\n",
       "        vertical-align: top;\n",
       "    }\n",
       "\n",
       "    .dataframe thead th {\n",
       "        text-align: right;\n",
       "    }\n",
       "</style>\n",
       "<table border=\"1\" class=\"dataframe\">\n",
       "  <thead>\n",
       "    <tr style=\"text-align: right;\">\n",
       "      <th></th>\n",
       "      <th>Per Person Price</th>\n",
       "    </tr>\n",
       "  </thead>\n",
       "  <tbody>\n",
       "    <tr>\n",
       "      <th>0</th>\n",
       "      <td>0.0</td>\n",
       "    </tr>\n",
       "    <tr>\n",
       "      <th>1</th>\n",
       "      <td>0.0</td>\n",
       "    </tr>\n",
       "  </tbody>\n",
       "</table>\n",
       "</div>"
      ],
      "text/plain": [
       "   Per Person Price\n",
       "0               0.0\n",
       "1               0.0"
      ]
     },
     "execution_count": 180,
     "metadata": {},
     "output_type": "execute_result"
    }
   ],
   "source": [
    "submission = pd.read_csv('sample submission.csv')\n",
    "submission.head(2)"
   ]
  },
  {
   "cell_type": "code",
   "execution_count": 181,
   "id": "36d0d5a6",
   "metadata": {},
   "outputs": [],
   "source": [
    "submission['Per Person Price'] = pred\n",
    "\n",
    "submission.to_csv('stack2.csv',index=False)"
   ]
  },
  {
   "cell_type": "code",
   "execution_count": 182,
   "id": "56f3111d",
   "metadata": {},
   "outputs": [
    {
     "data": {
      "text/plain": [
       "array([19189.912, 12312.39 ,  9934.845, ..., 23023.203, 23885.445,\n",
       "        8608.876], dtype=float32)"
      ]
     },
     "execution_count": 182,
     "metadata": {},
     "output_type": "execute_result"
    }
   ],
   "source": [
    "pred"
   ]
  },
  {
   "cell_type": "markdown",
   "id": "469b5c6a",
   "metadata": {},
   "source": [
    "#### Private Score 0.39331\n",
    "#### Public Score 0.38724\n",
    "#### Rank 133 "
   ]
  },
  {
   "cell_type": "markdown",
   "id": "7870d08b",
   "metadata": {},
   "source": [
    "# END........."
   ]
  },
  {
   "cell_type": "code",
   "execution_count": null,
   "id": "3ddb4344",
   "metadata": {},
   "outputs": [],
   "source": []
  }
 ],
 "metadata": {
  "kernelspec": {
   "display_name": "Python 3 (ipykernel)",
   "language": "python",
   "name": "python3"
  },
  "language_info": {
   "codemirror_mode": {
    "name": "ipython",
    "version": 3
   },
   "file_extension": ".py",
   "mimetype": "text/x-python",
   "name": "python",
   "nbconvert_exporter": "python",
   "pygments_lexer": "ipython3",
   "version": "3.11.3"
  }
 },
 "nbformat": 4,
 "nbformat_minor": 5
}
