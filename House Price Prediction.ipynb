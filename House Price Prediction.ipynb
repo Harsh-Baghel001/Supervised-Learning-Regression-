{
 "cells": [
  {
   "cell_type": "code",
   "execution_count": 1,
   "id": "4fb89538",
   "metadata": {},
   "outputs": [],
   "source": [
    "import pandas as pd\n",
    "import numpy as np\n",
    "import seaborn as sns\n",
    "import matplotlib.pyplot as plt\n",
    "\n",
    "import warnings \n",
    "\n",
    "warnings.filterwarnings('ignore')"
   ]
  },
  {
   "cell_type": "code",
   "execution_count": 2,
   "id": "db1c44bd",
   "metadata": {},
   "outputs": [],
   "source": [
    "train = pd.read_csv('train.csv')\n"
   ]
  },
  {
   "cell_type": "code",
   "execution_count": 3,
   "id": "94bd7a23",
   "metadata": {},
   "outputs": [],
   "source": [
    "test = pd.read_csv('test.csv')"
   ]
  },
  {
   "cell_type": "code",
   "execution_count": 4,
   "id": "582694ee",
   "metadata": {},
   "outputs": [],
   "source": [
    "combined = pd.concat([train,test],ignore_index=False)"
   ]
  },
  {
   "cell_type": "code",
   "execution_count": 5,
   "id": "db7f4d59",
   "metadata": {},
   "outputs": [
    {
     "data": {
      "text/plain": [
       "((98171, 12), (68720, 11), (29451, 12))"
      ]
     },
     "execution_count": 5,
     "metadata": {},
     "output_type": "execute_result"
    }
   ],
   "source": [
    "combined.shape,test.shape,train.shape"
   ]
  },
  {
   "cell_type": "code",
   "execution_count": 6,
   "id": "127423de",
   "metadata": {},
   "outputs": [
    {
     "data": {
      "text/plain": [
       "POSTED_BY                    0\n",
       "UNDER_CONSTRUCTION           0\n",
       "RERA                         0\n",
       "BHK_NO.                      0\n",
       "BHK_OR_RK                    0\n",
       "SQUARE_FT                    0\n",
       "READY_TO_MOVE                0\n",
       "RESALE                       0\n",
       "ADDRESS                      0\n",
       "LONGITUDE                    0\n",
       "LATITUDE                     0\n",
       "TARGET(PRICE_IN_LACS)    68720\n",
       "dtype: int64"
      ]
     },
     "execution_count": 6,
     "metadata": {},
     "output_type": "execute_result"
    }
   ],
   "source": [
    "combined.isna().sum()"
   ]
  },
  {
   "cell_type": "code",
   "execution_count": 7,
   "id": "6c37339c",
   "metadata": {},
   "outputs": [
    {
     "data": {
      "text/html": [
       "<div>\n",
       "<style scoped>\n",
       "    .dataframe tbody tr th:only-of-type {\n",
       "        vertical-align: middle;\n",
       "    }\n",
       "\n",
       "    .dataframe tbody tr th {\n",
       "        vertical-align: top;\n",
       "    }\n",
       "\n",
       "    .dataframe thead th {\n",
       "        text-align: right;\n",
       "    }\n",
       "</style>\n",
       "<table border=\"1\" class=\"dataframe\">\n",
       "  <thead>\n",
       "    <tr style=\"text-align: right;\">\n",
       "      <th></th>\n",
       "      <th>POSTED_BY</th>\n",
       "      <th>UNDER_CONSTRUCTION</th>\n",
       "      <th>RERA</th>\n",
       "      <th>BHK_NO.</th>\n",
       "      <th>BHK_OR_RK</th>\n",
       "      <th>SQUARE_FT</th>\n",
       "      <th>READY_TO_MOVE</th>\n",
       "      <th>RESALE</th>\n",
       "      <th>ADDRESS</th>\n",
       "      <th>LONGITUDE</th>\n",
       "      <th>LATITUDE</th>\n",
       "      <th>TARGET(PRICE_IN_LACS)</th>\n",
       "    </tr>\n",
       "  </thead>\n",
       "  <tbody>\n",
       "    <tr>\n",
       "      <th>0</th>\n",
       "      <td>Owner</td>\n",
       "      <td>0</td>\n",
       "      <td>0</td>\n",
       "      <td>2</td>\n",
       "      <td>BHK</td>\n",
       "      <td>1300.236407</td>\n",
       "      <td>1</td>\n",
       "      <td>1</td>\n",
       "      <td>Ksfc Layout,Bangalore</td>\n",
       "      <td>12.969910</td>\n",
       "      <td>77.597960</td>\n",
       "      <td>55.0</td>\n",
       "    </tr>\n",
       "    <tr>\n",
       "      <th>1</th>\n",
       "      <td>Dealer</td>\n",
       "      <td>0</td>\n",
       "      <td>0</td>\n",
       "      <td>2</td>\n",
       "      <td>BHK</td>\n",
       "      <td>1275.000000</td>\n",
       "      <td>1</td>\n",
       "      <td>1</td>\n",
       "      <td>Vishweshwara Nagar,Mysore</td>\n",
       "      <td>12.274538</td>\n",
       "      <td>76.644605</td>\n",
       "      <td>51.0</td>\n",
       "    </tr>\n",
       "    <tr>\n",
       "      <th>2</th>\n",
       "      <td>Owner</td>\n",
       "      <td>0</td>\n",
       "      <td>0</td>\n",
       "      <td>2</td>\n",
       "      <td>BHK</td>\n",
       "      <td>933.159722</td>\n",
       "      <td>1</td>\n",
       "      <td>1</td>\n",
       "      <td>Jigani,Bangalore</td>\n",
       "      <td>12.778033</td>\n",
       "      <td>77.632191</td>\n",
       "      <td>43.0</td>\n",
       "    </tr>\n",
       "    <tr>\n",
       "      <th>3</th>\n",
       "      <td>Owner</td>\n",
       "      <td>0</td>\n",
       "      <td>1</td>\n",
       "      <td>2</td>\n",
       "      <td>BHK</td>\n",
       "      <td>929.921143</td>\n",
       "      <td>1</td>\n",
       "      <td>1</td>\n",
       "      <td>Sector-1 Vaishali,Ghaziabad</td>\n",
       "      <td>28.642300</td>\n",
       "      <td>77.344500</td>\n",
       "      <td>62.5</td>\n",
       "    </tr>\n",
       "    <tr>\n",
       "      <th>4</th>\n",
       "      <td>Dealer</td>\n",
       "      <td>1</td>\n",
       "      <td>0</td>\n",
       "      <td>2</td>\n",
       "      <td>BHK</td>\n",
       "      <td>999.009247</td>\n",
       "      <td>0</td>\n",
       "      <td>1</td>\n",
       "      <td>New Town,Kolkata</td>\n",
       "      <td>22.592200</td>\n",
       "      <td>88.484911</td>\n",
       "      <td>60.5</td>\n",
       "    </tr>\n",
       "  </tbody>\n",
       "</table>\n",
       "</div>"
      ],
      "text/plain": [
       "  POSTED_BY  UNDER_CONSTRUCTION  RERA  BHK_NO. BHK_OR_RK    SQUARE_FT  \\\n",
       "0     Owner                   0     0        2       BHK  1300.236407   \n",
       "1    Dealer                   0     0        2       BHK  1275.000000   \n",
       "2     Owner                   0     0        2       BHK   933.159722   \n",
       "3     Owner                   0     1        2       BHK   929.921143   \n",
       "4    Dealer                   1     0        2       BHK   999.009247   \n",
       "\n",
       "   READY_TO_MOVE  RESALE                      ADDRESS  LONGITUDE   LATITUDE  \\\n",
       "0              1       1        Ksfc Layout,Bangalore  12.969910  77.597960   \n",
       "1              1       1    Vishweshwara Nagar,Mysore  12.274538  76.644605   \n",
       "2              1       1             Jigani,Bangalore  12.778033  77.632191   \n",
       "3              1       1  Sector-1 Vaishali,Ghaziabad  28.642300  77.344500   \n",
       "4              0       1             New Town,Kolkata  22.592200  88.484911   \n",
       "\n",
       "   TARGET(PRICE_IN_LACS)  \n",
       "0                   55.0  \n",
       "1                   51.0  \n",
       "2                   43.0  \n",
       "3                   62.5  \n",
       "4                   60.5  "
      ]
     },
     "execution_count": 7,
     "metadata": {},
     "output_type": "execute_result"
    }
   ],
   "source": [
    "combined.head()"
   ]
  },
  {
   "cell_type": "code",
   "execution_count": 8,
   "id": "72ef3cbb",
   "metadata": {},
   "outputs": [
    {
     "data": {
      "text/plain": [
       "2871"
      ]
     },
     "execution_count": 8,
     "metadata": {},
     "output_type": "execute_result"
    }
   ],
   "source": [
    "combined.duplicated().sum()"
   ]
  },
  {
   "cell_type": "code",
   "execution_count": 9,
   "id": "31623768",
   "metadata": {},
   "outputs": [],
   "source": [
    "combined.drop_duplicates(inplace=True)"
   ]
  },
  {
   "cell_type": "code",
   "execution_count": 10,
   "id": "37976a8f",
   "metadata": {},
   "outputs": [
    {
     "data": {
      "text/plain": [
       "POSTED_BY                 object\n",
       "UNDER_CONSTRUCTION         int64\n",
       "RERA                       int64\n",
       "BHK_NO.                    int64\n",
       "BHK_OR_RK                 object\n",
       "SQUARE_FT                float64\n",
       "READY_TO_MOVE              int64\n",
       "RESALE                     int64\n",
       "ADDRESS                   object\n",
       "LONGITUDE                float64\n",
       "LATITUDE                 float64\n",
       "TARGET(PRICE_IN_LACS)    float64\n",
       "dtype: object"
      ]
     },
     "execution_count": 10,
     "metadata": {},
     "output_type": "execute_result"
    }
   ],
   "source": [
    "combined.dtypes"
   ]
  },
  {
   "cell_type": "code",
   "execution_count": 11,
   "id": "dde65d74",
   "metadata": {},
   "outputs": [
    {
     "data": {
      "text/html": [
       "<div>\n",
       "<style scoped>\n",
       "    .dataframe tbody tr th:only-of-type {\n",
       "        vertical-align: middle;\n",
       "    }\n",
       "\n",
       "    .dataframe tbody tr th {\n",
       "        vertical-align: top;\n",
       "    }\n",
       "\n",
       "    .dataframe thead th {\n",
       "        text-align: right;\n",
       "    }\n",
       "</style>\n",
       "<table border=\"1\" class=\"dataframe\">\n",
       "  <thead>\n",
       "    <tr style=\"text-align: right;\">\n",
       "      <th></th>\n",
       "      <th>UNDER_CONSTRUCTION</th>\n",
       "      <th>RERA</th>\n",
       "      <th>BHK_NO.</th>\n",
       "      <th>SQUARE_FT</th>\n",
       "      <th>READY_TO_MOVE</th>\n",
       "      <th>RESALE</th>\n",
       "      <th>LONGITUDE</th>\n",
       "      <th>LATITUDE</th>\n",
       "      <th>TARGET(PRICE_IN_LACS)</th>\n",
       "    </tr>\n",
       "  </thead>\n",
       "  <tbody>\n",
       "    <tr>\n",
       "      <th>count</th>\n",
       "      <td>95300.000000</td>\n",
       "      <td>95300.000000</td>\n",
       "      <td>95300.000000</td>\n",
       "      <td>9.530000e+04</td>\n",
       "      <td>95300.000000</td>\n",
       "      <td>95300.000000</td>\n",
       "      <td>95300.000000</td>\n",
       "      <td>95300.000000</td>\n",
       "      <td>29050.000000</td>\n",
       "    </tr>\n",
       "    <tr>\n",
       "      <th>mean</th>\n",
       "      <td>0.176915</td>\n",
       "      <td>0.313190</td>\n",
       "      <td>2.386684</td>\n",
       "      <td>8.054115e+03</td>\n",
       "      <td>0.823085</td>\n",
       "      <td>0.932949</td>\n",
       "      <td>21.226560</td>\n",
       "      <td>76.876867</td>\n",
       "      <td>141.712677</td>\n",
       "    </tr>\n",
       "    <tr>\n",
       "      <th>std</th>\n",
       "      <td>0.381599</td>\n",
       "      <td>0.463793</td>\n",
       "      <td>0.871732</td>\n",
       "      <td>1.066131e+06</td>\n",
       "      <td>0.381599</td>\n",
       "      <td>0.250112</td>\n",
       "      <td>6.168104</td>\n",
       "      <td>10.289415</td>\n",
       "      <td>650.055763</td>\n",
       "    </tr>\n",
       "    <tr>\n",
       "      <th>min</th>\n",
       "      <td>0.000000</td>\n",
       "      <td>0.000000</td>\n",
       "      <td>1.000000</td>\n",
       "      <td>1.000000e+00</td>\n",
       "      <td>0.000000</td>\n",
       "      <td>0.000000</td>\n",
       "      <td>-38.391261</td>\n",
       "      <td>-121.761248</td>\n",
       "      <td>0.250000</td>\n",
       "    </tr>\n",
       "    <tr>\n",
       "      <th>25%</th>\n",
       "      <td>0.000000</td>\n",
       "      <td>0.000000</td>\n",
       "      <td>2.000000</td>\n",
       "      <td>9.000000e+02</td>\n",
       "      <td>1.000000</td>\n",
       "      <td>1.000000</td>\n",
       "      <td>18.442587</td>\n",
       "      <td>73.783016</td>\n",
       "      <td>38.000000</td>\n",
       "    </tr>\n",
       "    <tr>\n",
       "      <th>50%</th>\n",
       "      <td>0.000000</td>\n",
       "      <td>0.000000</td>\n",
       "      <td>2.000000</td>\n",
       "      <td>1.171062e+03</td>\n",
       "      <td>1.000000</td>\n",
       "      <td>1.000000</td>\n",
       "      <td>20.597132</td>\n",
       "      <td>77.322738</td>\n",
       "      <td>61.750000</td>\n",
       "    </tr>\n",
       "    <tr>\n",
       "      <th>75%</th>\n",
       "      <td>0.000000</td>\n",
       "      <td>1.000000</td>\n",
       "      <td>3.000000</td>\n",
       "      <td>1.550121e+03</td>\n",
       "      <td>1.000000</td>\n",
       "      <td>1.000000</td>\n",
       "      <td>26.860560</td>\n",
       "      <td>78.021650</td>\n",
       "      <td>100.000000</td>\n",
       "    </tr>\n",
       "    <tr>\n",
       "      <th>max</th>\n",
       "      <td>1.000000</td>\n",
       "      <td>1.000000</td>\n",
       "      <td>31.000000</td>\n",
       "      <td>2.545455e+08</td>\n",
       "      <td>1.000000</td>\n",
       "      <td>1.000000</td>\n",
       "      <td>65.183330</td>\n",
       "      <td>175.278040</td>\n",
       "      <td>30000.000000</td>\n",
       "    </tr>\n",
       "  </tbody>\n",
       "</table>\n",
       "</div>"
      ],
      "text/plain": [
       "       UNDER_CONSTRUCTION          RERA       BHK_NO.     SQUARE_FT  \\\n",
       "count        95300.000000  95300.000000  95300.000000  9.530000e+04   \n",
       "mean             0.176915      0.313190      2.386684  8.054115e+03   \n",
       "std              0.381599      0.463793      0.871732  1.066131e+06   \n",
       "min              0.000000      0.000000      1.000000  1.000000e+00   \n",
       "25%              0.000000      0.000000      2.000000  9.000000e+02   \n",
       "50%              0.000000      0.000000      2.000000  1.171062e+03   \n",
       "75%              0.000000      1.000000      3.000000  1.550121e+03   \n",
       "max              1.000000      1.000000     31.000000  2.545455e+08   \n",
       "\n",
       "       READY_TO_MOVE        RESALE     LONGITUDE      LATITUDE  \\\n",
       "count   95300.000000  95300.000000  95300.000000  95300.000000   \n",
       "mean        0.823085      0.932949     21.226560     76.876867   \n",
       "std         0.381599      0.250112      6.168104     10.289415   \n",
       "min         0.000000      0.000000    -38.391261   -121.761248   \n",
       "25%         1.000000      1.000000     18.442587     73.783016   \n",
       "50%         1.000000      1.000000     20.597132     77.322738   \n",
       "75%         1.000000      1.000000     26.860560     78.021650   \n",
       "max         1.000000      1.000000     65.183330    175.278040   \n",
       "\n",
       "       TARGET(PRICE_IN_LACS)  \n",
       "count           29050.000000  \n",
       "mean              141.712677  \n",
       "std               650.055763  \n",
       "min                 0.250000  \n",
       "25%                38.000000  \n",
       "50%                61.750000  \n",
       "75%               100.000000  \n",
       "max             30000.000000  "
      ]
     },
     "execution_count": 11,
     "metadata": {},
     "output_type": "execute_result"
    }
   ],
   "source": [
    "combined.describe()"
   ]
  },
  {
   "cell_type": "code",
   "execution_count": 12,
   "id": "e2696baf",
   "metadata": {},
   "outputs": [
    {
     "data": {
      "text/plain": [
       "Index(['UNDER_CONSTRUCTION', 'RERA', 'BHK_NO.', 'SQUARE_FT', 'READY_TO_MOVE',\n",
       "       'RESALE', 'LONGITUDE', 'LATITUDE', 'TARGET(PRICE_IN_LACS)'],\n",
       "      dtype='object')"
      ]
     },
     "execution_count": 12,
     "metadata": {},
     "output_type": "execute_result"
    }
   ],
   "source": [
    "num_cols = combined.select_dtypes(include=np.number).columns\n",
    "num_cols"
   ]
  },
  {
   "cell_type": "code",
   "execution_count": 13,
   "id": "ae1bf8df",
   "metadata": {},
   "outputs": [],
   "source": [
    "num_cols = ['SQUARE_FT','LONGITUDE','LATITUDE','TARGET(PRICE_IN_LACS)']"
   ]
  },
  {
   "cell_type": "code",
   "execution_count": 14,
   "id": "9b74b062",
   "metadata": {},
   "outputs": [],
   "source": [
    "cat_cols = combined.select_dtypes(exclude=np.number).columns\n",
    "cat_cols = ['POSTED_BY','UNDER_CONSTRUCTION','RERA','BHK_NO.','BHK_OR_RK','READY_TO_MOVE',\\\n",
    "            'RESALE']"
   ]
  },
  {
   "cell_type": "code",
   "execution_count": 15,
   "id": "cf704341",
   "metadata": {},
   "outputs": [
    {
     "data": {
      "text/html": [
       "<div>\n",
       "<style scoped>\n",
       "    .dataframe tbody tr th:only-of-type {\n",
       "        vertical-align: middle;\n",
       "    }\n",
       "\n",
       "    .dataframe tbody tr th {\n",
       "        vertical-align: top;\n",
       "    }\n",
       "\n",
       "    .dataframe thead th {\n",
       "        text-align: right;\n",
       "    }\n",
       "</style>\n",
       "<table border=\"1\" class=\"dataframe\">\n",
       "  <thead>\n",
       "    <tr style=\"text-align: right;\">\n",
       "      <th></th>\n",
       "      <th>POSTED_BY</th>\n",
       "      <th>UNDER_CONSTRUCTION</th>\n",
       "      <th>RERA</th>\n",
       "      <th>BHK_NO.</th>\n",
       "      <th>BHK_OR_RK</th>\n",
       "      <th>SQUARE_FT</th>\n",
       "      <th>READY_TO_MOVE</th>\n",
       "      <th>RESALE</th>\n",
       "      <th>ADDRESS</th>\n",
       "      <th>LONGITUDE</th>\n",
       "      <th>LATITUDE</th>\n",
       "      <th>TARGET(PRICE_IN_LACS)</th>\n",
       "    </tr>\n",
       "  </thead>\n",
       "  <tbody>\n",
       "    <tr>\n",
       "      <th>0</th>\n",
       "      <td>Owner</td>\n",
       "      <td>0</td>\n",
       "      <td>0</td>\n",
       "      <td>2</td>\n",
       "      <td>BHK</td>\n",
       "      <td>1300.236407</td>\n",
       "      <td>1</td>\n",
       "      <td>1</td>\n",
       "      <td>Ksfc Layout,Bangalore</td>\n",
       "      <td>12.969910</td>\n",
       "      <td>77.597960</td>\n",
       "      <td>55.0</td>\n",
       "    </tr>\n",
       "    <tr>\n",
       "      <th>1</th>\n",
       "      <td>Dealer</td>\n",
       "      <td>0</td>\n",
       "      <td>0</td>\n",
       "      <td>2</td>\n",
       "      <td>BHK</td>\n",
       "      <td>1275.000000</td>\n",
       "      <td>1</td>\n",
       "      <td>1</td>\n",
       "      <td>Vishweshwara Nagar,Mysore</td>\n",
       "      <td>12.274538</td>\n",
       "      <td>76.644605</td>\n",
       "      <td>51.0</td>\n",
       "    </tr>\n",
       "  </tbody>\n",
       "</table>\n",
       "</div>"
      ],
      "text/plain": [
       "  POSTED_BY  UNDER_CONSTRUCTION  RERA  BHK_NO. BHK_OR_RK    SQUARE_FT  \\\n",
       "0     Owner                   0     0        2       BHK  1300.236407   \n",
       "1    Dealer                   0     0        2       BHK  1275.000000   \n",
       "\n",
       "   READY_TO_MOVE  RESALE                    ADDRESS  LONGITUDE   LATITUDE  \\\n",
       "0              1       1      Ksfc Layout,Bangalore  12.969910  77.597960   \n",
       "1              1       1  Vishweshwara Nagar,Mysore  12.274538  76.644605   \n",
       "\n",
       "   TARGET(PRICE_IN_LACS)  \n",
       "0                   55.0  \n",
       "1                   51.0  "
      ]
     },
     "execution_count": 15,
     "metadata": {},
     "output_type": "execute_result"
    }
   ],
   "source": [
    "combined.head(2)"
   ]
  },
  {
   "cell_type": "code",
   "execution_count": 16,
   "id": "e64d1777",
   "metadata": {},
   "outputs": [],
   "source": [
    "## Univariate Analysis:\n"
   ]
  },
  {
   "cell_type": "code",
   "execution_count": 17,
   "id": "878d157d",
   "metadata": {},
   "outputs": [
    {
     "data": {
      "image/png": "[encoded data removed]",
      "text/plain": [
       "<Figure size 640x480 with 4 Axes>"
      ]
     },
     "metadata": {},
     "output_type": "display_data"
    }
   ],
   "source": [
    "t = 1\n",
    "for i in num_cols:\n",
    "    plt.subplot(2,2,t)\n",
    "    sns.boxplot(x=combined[i])\n",
    "    t += 1\n",
    "plt.tight_layout()\n",
    "plt.show()"
   ]
  },
  {
   "cell_type": "markdown",
   "id": "efa2bcb7",
   "metadata": {},
   "source": [
    "* There are many outliers in all columns we will remove most extreme."
   ]
  },
  {
   "cell_type": "code",
   "execution_count": 18,
   "id": "100b3110",
   "metadata": {},
   "outputs": [
    {
     "data": {
      "image/png": "[encoded data removed]",
      "text/plain": [
       "<Figure size 2000x2000 with 4 Axes>"
      ]
     },
     "metadata": {},
     "output_type": "display_data"
    }
   ],
   "source": [
    "plt.figure(figsize=(20,20))\n",
    "t = 1\n",
    "for i in num_cols:\n",
    "    plt.subplot(5,2,t)\n",
    "    sns.distplot(x=combined[i])\n",
    "    t += 1\n",
    "plt.tight_layout()\n",
    "plt.show()"
   ]
  },
  {
   "cell_type": "code",
   "execution_count": 19,
   "id": "ccc3276c",
   "metadata": {},
   "outputs": [
    {
     "data": {
      "image/png": "[encoded data removed]",
      "text/plain": [
       "<Figure size 2000x2000 with 4 Axes>"
      ]
     },
     "metadata": {},
     "output_type": "display_data"
    }
   ],
   "source": [
    "plt.figure(figsize=(20,20))\n",
    "t = 1\n",
    "for i in num_cols:\n",
    "    plt.subplot(5,2,t)\n",
    "    plt.hist(x=combined[i])\n",
    "    t += 1\n",
    "plt.tight_layout()\n",
    "plt.show()"
   ]
  },
  {
   "cell_type": "code",
   "execution_count": 20,
   "id": "a21f546b",
   "metadata": {},
   "outputs": [
    {
     "data": {
      "image/png": "[encoded data removed]",
      "text/plain": [
       "<Figure size 640x480 with 7 Axes>"
      ]
     },
     "metadata": {},
     "output_type": "display_data"
    }
   ],
   "source": [
    "t = 1\n",
    "for i in cat_cols:\n",
    "    plt.subplot(4,2,t)\n",
    "    sns.countplot(x=combined[i])\n",
    "    t += 1\n",
    "plt.tight_layout()\n",
    "plt.show()"
   ]
  },
  {
   "cell_type": "code",
   "execution_count": 21,
   "id": "05779b4d",
   "metadata": {},
   "outputs": [
    {
     "data": {
      "image/png": "[encoded data removed]",
      "text/plain": [
       "<Figure size 1000x2000 with 7 Axes>"
      ]
     },
     "metadata": {},
     "output_type": "display_data"
    }
   ],
   "source": [
    "plt.figure(figsize=(10,20))\n",
    "t = 1\n",
    "for i in cat_cols:\n",
    "    plt.subplot(4,2,t)\n",
    "    combined[i].value_counts().plot(kind='bar')\n",
    "    t += 1\n",
    "plt.tight_layout()\n",
    "plt.show()"
   ]
  },
  {
   "cell_type": "code",
   "execution_count": 22,
   "id": "3ac37761",
   "metadata": {},
   "outputs": [
    {
     "data": {
      "text/plain": [
       "Zirakpur,Chandigarh                                1397\n",
       "Raj Nagar Extension,Ghaziabad                       677\n",
       "Whitefield,Bangalore                                648\n",
       "Rajarhat,Kolkata                                    447\n",
       "New Town,Kolkata                                    442\n",
       "                                                   ... \n",
       "Paradise Circle,Secunderabad                          1\n",
       "netaji Nagar,Nellore                                  1\n",
       "OPPOSITE ROAD OF LIONS CLUB FUNCTION HALL,Eluru       1\n",
       "Salokhe Nagar,Kolhapur                                1\n",
       "Thakurganj,Lucknow                                    1\n",
       "Name: ADDRESS, Length: 13322, dtype: int64"
      ]
     },
     "execution_count": 22,
     "metadata": {},
     "output_type": "execute_result"
    }
   ],
   "source": [
    "combined['ADDRESS'].value_counts()"
   ]
  },
  {
   "cell_type": "code",
   "execution_count": 23,
   "id": "d44f2f3d",
   "metadata": {},
   "outputs": [],
   "source": [
    "# Bivariate Analysis:"
   ]
  },
  {
   "cell_type": "code",
   "execution_count": 24,
   "id": "cc574a74",
   "metadata": {},
   "outputs": [
    {
     "data": {
      "image/png": "[encoded data removed]",
      "text/plain": [
       "<Figure size 1000x1000 with 7 Axes>"
      ]
     },
     "metadata": {},
     "output_type": "display_data"
    }
   ],
   "source": [
    "plt.figure(figsize=(10,10))\n",
    "t = 1\n",
    "for i in cat_cols:\n",
    "    plt.subplot(4,2,t)\n",
    "    sns.boxplot(x=combined[i],y=combined['TARGET(PRICE_IN_LACS)'])\n",
    "    t += 1\n",
    "plt.tight_layout()\n",
    "plt.show()"
   ]
  },
  {
   "cell_type": "code",
   "execution_count": 25,
   "id": "c3b7a106",
   "metadata": {},
   "outputs": [
    {
     "data": {
      "image/png": "[encoded data removed]",
      "text/plain": [
       "<Figure size 1000x1000 with 4 Axes>"
      ]
     },
     "metadata": {},
     "output_type": "display_data"
    }
   ],
   "source": [
    "plt.figure(figsize=(10,10))\n",
    "t = 1\n",
    "for i in num_cols:\n",
    "    plt.subplot(4,2,t)\n",
    "    sns.regplot(x=combined[i],y=combined['TARGET(PRICE_IN_LACS)'])\n",
    "    t += 1\n",
    "plt.tight_layout()\n",
    "plt.show()"
   ]
  },
  {
   "cell_type": "code",
   "execution_count": 26,
   "id": "8fd02041",
   "metadata": {},
   "outputs": [
    {
     "data": {
      "image/png": "[encoded data removed]",
      "text/plain": [
       "<Figure size 1000x1000 with 4 Axes>"
      ]
     },
     "metadata": {},
     "output_type": "display_data"
    }
   ],
   "source": [
    "plt.figure(figsize=(10,10))\n",
    "t = 1\n",
    "for i in num_cols:\n",
    "    plt.subplot(4,2,t)\n",
    "    sns.scatterplot(x=combined[i],y=combined['TARGET(PRICE_IN_LACS)'])\n",
    "    t += 1\n",
    "plt.tight_layout()\n",
    "plt.show()"
   ]
  },
  {
   "cell_type": "code",
   "execution_count": 27,
   "id": "51553cd4",
   "metadata": {},
   "outputs": [
    {
     "data": {
      "image/png": "[encoded data removed]",
      "text/plain": [
       "<Figure size 640x480 with 2 Axes>"
      ]
     },
     "metadata": {},
     "output_type": "display_data"
    }
   ],
   "source": [
    "sns.heatmap(combined.corr(),annot=True,cmap='coolwarm');"
   ]
  },
  {
   "cell_type": "code",
   "execution_count": 28,
   "id": "d20b2432",
   "metadata": {},
   "outputs": [
    {
     "data": {
      "text/plain": [
       "POSTED_BY                    0\n",
       "UNDER_CONSTRUCTION           0\n",
       "RERA                         0\n",
       "BHK_NO.                      0\n",
       "BHK_OR_RK                    0\n",
       "SQUARE_FT                    0\n",
       "READY_TO_MOVE                0\n",
       "RESALE                       0\n",
       "ADDRESS                      0\n",
       "LONGITUDE                    0\n",
       "LATITUDE                     0\n",
       "TARGET(PRICE_IN_LACS)    66250\n",
       "dtype: int64"
      ]
     },
     "execution_count": 28,
     "metadata": {},
     "output_type": "execute_result"
    }
   ],
   "source": [
    "combined.isna().sum()"
   ]
  },
  {
   "cell_type": "markdown",
   "id": "87d85506",
   "metadata": {},
   "source": [
    "* There is no missing values there."
   ]
  },
  {
   "cell_type": "markdown",
   "id": "ca1a7549",
   "metadata": {},
   "source": [
    "### Outliers Treatment"
   ]
  },
  {
   "cell_type": "markdown",
   "id": "4e871be7",
   "metadata": {},
   "source": [
    "* Removing the outliers"
   ]
  },
  {
   "cell_type": "code",
   "execution_count": 29,
   "id": "bb22436b",
   "metadata": {},
   "outputs": [],
   "source": [
    "df = combined[combined['SQUARE_FT']<30000000]"
   ]
  },
  {
   "cell_type": "code",
   "execution_count": 30,
   "id": "54dee2e7",
   "metadata": {},
   "outputs": [
    {
     "data": {
      "text/plain": [
       "(95300, 12)"
      ]
     },
     "execution_count": 30,
     "metadata": {},
     "output_type": "execute_result"
    }
   ],
   "source": [
    "combined.shape"
   ]
  },
  {
   "cell_type": "code",
   "execution_count": 31,
   "id": "90ccf50b",
   "metadata": {},
   "outputs": [
    {
     "data": {
      "text/plain": [
       "(95296, 12)"
      ]
     },
     "execution_count": 31,
     "metadata": {},
     "output_type": "execute_result"
    }
   ],
   "source": [
    "df.shape"
   ]
  },
  {
   "cell_type": "markdown",
   "id": "44d6ea2d",
   "metadata": {},
   "source": [
    "### Feature Engg. and preprocessing"
   ]
  },
  {
   "cell_type": "code",
   "execution_count": 32,
   "id": "385ef07d",
   "metadata": {},
   "outputs": [],
   "source": [
    "df['State'] = df['ADDRESS'].str.split(',',expand=True)[1]"
   ]
  },
  {
   "cell_type": "code",
   "execution_count": 33,
   "id": "be2ef27a",
   "metadata": {},
   "outputs": [],
   "source": [
    "df['State'] = df['State'].str.lower()"
   ]
  },
  {
   "cell_type": "code",
   "execution_count": 34,
   "id": "e704b237",
   "metadata": {},
   "outputs": [
    {
     "data": {
      "text/plain": [
       "Dealer     58492\n",
       "Owner      34830\n",
       "Builder     1974\n",
       "Name: POSTED_BY, dtype: int64"
      ]
     },
     "execution_count": 34,
     "metadata": {},
     "output_type": "execute_result"
    }
   ],
   "source": [
    "df['POSTED_BY'].value_counts()"
   ]
  },
  {
   "cell_type": "code",
   "execution_count": 35,
   "id": "0be943ec",
   "metadata": {},
   "outputs": [],
   "source": [
    "df['POSTED_BY'].replace('Builder','Dealer',inplace=True)"
   ]
  },
  {
   "cell_type": "code",
   "execution_count": 36,
   "id": "f5eb77d9",
   "metadata": {},
   "outputs": [
    {
     "data": {
      "text/html": [
       "<div>\n",
       "<style scoped>\n",
       "    .dataframe tbody tr th:only-of-type {\n",
       "        vertical-align: middle;\n",
       "    }\n",
       "\n",
       "    .dataframe tbody tr th {\n",
       "        vertical-align: top;\n",
       "    }\n",
       "\n",
       "    .dataframe thead th {\n",
       "        text-align: right;\n",
       "    }\n",
       "</style>\n",
       "<table border=\"1\" class=\"dataframe\">\n",
       "  <thead>\n",
       "    <tr style=\"text-align: right;\">\n",
       "      <th></th>\n",
       "      <th>POSTED_BY</th>\n",
       "      <th>UNDER_CONSTRUCTION</th>\n",
       "      <th>RERA</th>\n",
       "      <th>BHK_NO.</th>\n",
       "      <th>BHK_OR_RK</th>\n",
       "      <th>SQUARE_FT</th>\n",
       "      <th>READY_TO_MOVE</th>\n",
       "      <th>RESALE</th>\n",
       "      <th>ADDRESS</th>\n",
       "      <th>LONGITUDE</th>\n",
       "      <th>LATITUDE</th>\n",
       "      <th>TARGET(PRICE_IN_LACS)</th>\n",
       "      <th>State</th>\n",
       "    </tr>\n",
       "  </thead>\n",
       "  <tbody>\n",
       "    <tr>\n",
       "      <th>0</th>\n",
       "      <td>Owner</td>\n",
       "      <td>0</td>\n",
       "      <td>0</td>\n",
       "      <td>2</td>\n",
       "      <td>BHK</td>\n",
       "      <td>1300.236407</td>\n",
       "      <td>1</td>\n",
       "      <td>1</td>\n",
       "      <td>Ksfc Layout,Bangalore</td>\n",
       "      <td>12.969910</td>\n",
       "      <td>77.597960</td>\n",
       "      <td>55.0</td>\n",
       "      <td>bangalore</td>\n",
       "    </tr>\n",
       "    <tr>\n",
       "      <th>1</th>\n",
       "      <td>Dealer</td>\n",
       "      <td>0</td>\n",
       "      <td>0</td>\n",
       "      <td>2</td>\n",
       "      <td>BHK</td>\n",
       "      <td>1275.000000</td>\n",
       "      <td>1</td>\n",
       "      <td>1</td>\n",
       "      <td>Vishweshwara Nagar,Mysore</td>\n",
       "      <td>12.274538</td>\n",
       "      <td>76.644605</td>\n",
       "      <td>51.0</td>\n",
       "      <td>mysore</td>\n",
       "    </tr>\n",
       "    <tr>\n",
       "      <th>2</th>\n",
       "      <td>Owner</td>\n",
       "      <td>0</td>\n",
       "      <td>0</td>\n",
       "      <td>2</td>\n",
       "      <td>BHK</td>\n",
       "      <td>933.159722</td>\n",
       "      <td>1</td>\n",
       "      <td>1</td>\n",
       "      <td>Jigani,Bangalore</td>\n",
       "      <td>12.778033</td>\n",
       "      <td>77.632191</td>\n",
       "      <td>43.0</td>\n",
       "      <td>bangalore</td>\n",
       "    </tr>\n",
       "    <tr>\n",
       "      <th>3</th>\n",
       "      <td>Owner</td>\n",
       "      <td>0</td>\n",
       "      <td>1</td>\n",
       "      <td>2</td>\n",
       "      <td>BHK</td>\n",
       "      <td>929.921143</td>\n",
       "      <td>1</td>\n",
       "      <td>1</td>\n",
       "      <td>Sector-1 Vaishali,Ghaziabad</td>\n",
       "      <td>28.642300</td>\n",
       "      <td>77.344500</td>\n",
       "      <td>62.5</td>\n",
       "      <td>ghaziabad</td>\n",
       "    </tr>\n",
       "    <tr>\n",
       "      <th>4</th>\n",
       "      <td>Dealer</td>\n",
       "      <td>1</td>\n",
       "      <td>0</td>\n",
       "      <td>2</td>\n",
       "      <td>BHK</td>\n",
       "      <td>999.009247</td>\n",
       "      <td>0</td>\n",
       "      <td>1</td>\n",
       "      <td>New Town,Kolkata</td>\n",
       "      <td>22.592200</td>\n",
       "      <td>88.484911</td>\n",
       "      <td>60.5</td>\n",
       "      <td>kolkata</td>\n",
       "    </tr>\n",
       "  </tbody>\n",
       "</table>\n",
       "</div>"
      ],
      "text/plain": [
       "  POSTED_BY  UNDER_CONSTRUCTION  RERA  BHK_NO. BHK_OR_RK    SQUARE_FT  \\\n",
       "0     Owner                   0     0        2       BHK  1300.236407   \n",
       "1    Dealer                   0     0        2       BHK  1275.000000   \n",
       "2     Owner                   0     0        2       BHK   933.159722   \n",
       "3     Owner                   0     1        2       BHK   929.921143   \n",
       "4    Dealer                   1     0        2       BHK   999.009247   \n",
       "\n",
       "   READY_TO_MOVE  RESALE                      ADDRESS  LONGITUDE   LATITUDE  \\\n",
       "0              1       1        Ksfc Layout,Bangalore  12.969910  77.597960   \n",
       "1              1       1    Vishweshwara Nagar,Mysore  12.274538  76.644605   \n",
       "2              1       1             Jigani,Bangalore  12.778033  77.632191   \n",
       "3              1       1  Sector-1 Vaishali,Ghaziabad  28.642300  77.344500   \n",
       "4              0       1             New Town,Kolkata  22.592200  88.484911   \n",
       "\n",
       "   TARGET(PRICE_IN_LACS)      State  \n",
       "0                   55.0  bangalore  \n",
       "1                   51.0     mysore  \n",
       "2                   43.0  bangalore  \n",
       "3                   62.5  ghaziabad  \n",
       "4                   60.5    kolkata  "
      ]
     },
     "execution_count": 36,
     "metadata": {},
     "output_type": "execute_result"
    }
   ],
   "source": [
    "df.head()"
   ]
  },
  {
   "cell_type": "code",
   "execution_count": 37,
   "id": "004c9f08",
   "metadata": {},
   "outputs": [],
   "source": [
    "def size(x):\n",
    "    if x>=4:\n",
    "        return'Large'\n",
    "    else:\n",
    "        return 'Small'"
   ]
  },
  {
   "cell_type": "code",
   "execution_count": 38,
   "id": "6c665ec2",
   "metadata": {},
   "outputs": [],
   "source": [
    "df['Size'] = df['BHK_NO.'].apply(size)"
   ]
  },
  {
   "cell_type": "code",
   "execution_count": 39,
   "id": "5f1aec36",
   "metadata": {},
   "outputs": [
    {
     "data": {
      "text/plain": [
       "array(['BHK', 'RK'], dtype=object)"
      ]
     },
     "execution_count": 39,
     "metadata": {},
     "output_type": "execute_result"
    }
   ],
   "source": [
    "df['BHK_OR_RK'].unique()"
   ]
  },
  {
   "cell_type": "code",
   "execution_count": 40,
   "id": "4b7ed997",
   "metadata": {},
   "outputs": [
    {
     "data": {
      "text/html": [
       "<div>\n",
       "<style scoped>\n",
       "    .dataframe tbody tr th:only-of-type {\n",
       "        vertical-align: middle;\n",
       "    }\n",
       "\n",
       "    .dataframe tbody tr th {\n",
       "        vertical-align: top;\n",
       "    }\n",
       "\n",
       "    .dataframe thead th {\n",
       "        text-align: right;\n",
       "    }\n",
       "</style>\n",
       "<table border=\"1\" class=\"dataframe\">\n",
       "  <thead>\n",
       "    <tr style=\"text-align: right;\">\n",
       "      <th></th>\n",
       "      <th>POSTED_BY</th>\n",
       "      <th>UNDER_CONSTRUCTION</th>\n",
       "      <th>RERA</th>\n",
       "      <th>BHK_NO.</th>\n",
       "      <th>BHK_OR_RK</th>\n",
       "      <th>SQUARE_FT</th>\n",
       "      <th>READY_TO_MOVE</th>\n",
       "      <th>RESALE</th>\n",
       "      <th>ADDRESS</th>\n",
       "      <th>LONGITUDE</th>\n",
       "      <th>LATITUDE</th>\n",
       "      <th>TARGET(PRICE_IN_LACS)</th>\n",
       "      <th>State</th>\n",
       "      <th>Size</th>\n",
       "    </tr>\n",
       "  </thead>\n",
       "  <tbody>\n",
       "    <tr>\n",
       "      <th>0</th>\n",
       "      <td>Owner</td>\n",
       "      <td>0</td>\n",
       "      <td>0</td>\n",
       "      <td>2</td>\n",
       "      <td>BHK</td>\n",
       "      <td>1300.236407</td>\n",
       "      <td>1</td>\n",
       "      <td>1</td>\n",
       "      <td>Ksfc Layout,Bangalore</td>\n",
       "      <td>12.969910</td>\n",
       "      <td>77.597960</td>\n",
       "      <td>55.0</td>\n",
       "      <td>bangalore</td>\n",
       "      <td>Small</td>\n",
       "    </tr>\n",
       "    <tr>\n",
       "      <th>1</th>\n",
       "      <td>Dealer</td>\n",
       "      <td>0</td>\n",
       "      <td>0</td>\n",
       "      <td>2</td>\n",
       "      <td>BHK</td>\n",
       "      <td>1275.000000</td>\n",
       "      <td>1</td>\n",
       "      <td>1</td>\n",
       "      <td>Vishweshwara Nagar,Mysore</td>\n",
       "      <td>12.274538</td>\n",
       "      <td>76.644605</td>\n",
       "      <td>51.0</td>\n",
       "      <td>mysore</td>\n",
       "      <td>Small</td>\n",
       "    </tr>\n",
       "    <tr>\n",
       "      <th>2</th>\n",
       "      <td>Owner</td>\n",
       "      <td>0</td>\n",
       "      <td>0</td>\n",
       "      <td>2</td>\n",
       "      <td>BHK</td>\n",
       "      <td>933.159722</td>\n",
       "      <td>1</td>\n",
       "      <td>1</td>\n",
       "      <td>Jigani,Bangalore</td>\n",
       "      <td>12.778033</td>\n",
       "      <td>77.632191</td>\n",
       "      <td>43.0</td>\n",
       "      <td>bangalore</td>\n",
       "      <td>Small</td>\n",
       "    </tr>\n",
       "    <tr>\n",
       "      <th>3</th>\n",
       "      <td>Owner</td>\n",
       "      <td>0</td>\n",
       "      <td>1</td>\n",
       "      <td>2</td>\n",
       "      <td>BHK</td>\n",
       "      <td>929.921143</td>\n",
       "      <td>1</td>\n",
       "      <td>1</td>\n",
       "      <td>Sector-1 Vaishali,Ghaziabad</td>\n",
       "      <td>28.642300</td>\n",
       "      <td>77.344500</td>\n",
       "      <td>62.5</td>\n",
       "      <td>ghaziabad</td>\n",
       "      <td>Small</td>\n",
       "    </tr>\n",
       "    <tr>\n",
       "      <th>4</th>\n",
       "      <td>Dealer</td>\n",
       "      <td>1</td>\n",
       "      <td>0</td>\n",
       "      <td>2</td>\n",
       "      <td>BHK</td>\n",
       "      <td>999.009247</td>\n",
       "      <td>0</td>\n",
       "      <td>1</td>\n",
       "      <td>New Town,Kolkata</td>\n",
       "      <td>22.592200</td>\n",
       "      <td>88.484911</td>\n",
       "      <td>60.5</td>\n",
       "      <td>kolkata</td>\n",
       "      <td>Small</td>\n",
       "    </tr>\n",
       "  </tbody>\n",
       "</table>\n",
       "</div>"
      ],
      "text/plain": [
       "  POSTED_BY  UNDER_CONSTRUCTION  RERA  BHK_NO. BHK_OR_RK    SQUARE_FT  \\\n",
       "0     Owner                   0     0        2       BHK  1300.236407   \n",
       "1    Dealer                   0     0        2       BHK  1275.000000   \n",
       "2     Owner                   0     0        2       BHK   933.159722   \n",
       "3     Owner                   0     1        2       BHK   929.921143   \n",
       "4    Dealer                   1     0        2       BHK   999.009247   \n",
       "\n",
       "   READY_TO_MOVE  RESALE                      ADDRESS  LONGITUDE   LATITUDE  \\\n",
       "0              1       1        Ksfc Layout,Bangalore  12.969910  77.597960   \n",
       "1              1       1    Vishweshwara Nagar,Mysore  12.274538  76.644605   \n",
       "2              1       1             Jigani,Bangalore  12.778033  77.632191   \n",
       "3              1       1  Sector-1 Vaishali,Ghaziabad  28.642300  77.344500   \n",
       "4              0       1             New Town,Kolkata  22.592200  88.484911   \n",
       "\n",
       "   TARGET(PRICE_IN_LACS)      State   Size  \n",
       "0                   55.0  bangalore  Small  \n",
       "1                   51.0     mysore  Small  \n",
       "2                   43.0  bangalore  Small  \n",
       "3                   62.5  ghaziabad  Small  \n",
       "4                   60.5    kolkata  Small  "
      ]
     },
     "execution_count": 40,
     "metadata": {},
     "output_type": "execute_result"
    }
   ],
   "source": [
    "df.head()"
   ]
  },
  {
   "cell_type": "code",
   "execution_count": 41,
   "id": "a47faa3b",
   "metadata": {},
   "outputs": [
    {
     "data": {
      "text/plain": [
       "Index(['POSTED_BY', 'UNDER_CONSTRUCTION', 'RERA', 'BHK_NO.', 'BHK_OR_RK',\n",
       "       'SQUARE_FT', 'READY_TO_MOVE', 'RESALE', 'ADDRESS', 'LONGITUDE',\n",
       "       'LATITUDE', 'TARGET(PRICE_IN_LACS)', 'State', 'Size'],\n",
       "      dtype='object')"
      ]
     },
     "execution_count": 41,
     "metadata": {},
     "output_type": "execute_result"
    }
   ],
   "source": [
    "df.columns"
   ]
  },
  {
   "cell_type": "raw",
   "id": "545ea3bd",
   "metadata": {},
   "source": [
    "df['flate_descrip'] = df['BHK_NO.'].astype(str) + df['BHK_OR_RK']"
   ]
  },
  {
   "cell_type": "raw",
   "id": "1d6713be",
   "metadata": {},
   "source": [
    "df['flate_descrip'].nunique()"
   ]
  },
  {
   "cell_type": "code",
   "execution_count": null,
   "id": "05dd7a15",
   "metadata": {},
   "outputs": [],
   "source": []
  },
  {
   "cell_type": "code",
   "execution_count": 42,
   "id": "e5d697f3",
   "metadata": {},
   "outputs": [],
   "source": [
    "# As the name of longitude and latitude are reversed so we have to change it."
   ]
  },
  {
   "cell_type": "code",
   "execution_count": 43,
   "id": "1edb5769",
   "metadata": {},
   "outputs": [],
   "source": [
    "df = df.rename(columns={'LONGITUDE':'Latitude','LATITUDE':'Longitude'})"
   ]
  },
  {
   "cell_type": "code",
   "execution_count": 44,
   "id": "ed1d6a07",
   "metadata": {},
   "outputs": [
    {
     "data": {
      "text/html": [
       "<div>\n",
       "<style scoped>\n",
       "    .dataframe tbody tr th:only-of-type {\n",
       "        vertical-align: middle;\n",
       "    }\n",
       "\n",
       "    .dataframe tbody tr th {\n",
       "        vertical-align: top;\n",
       "    }\n",
       "\n",
       "    .dataframe thead th {\n",
       "        text-align: right;\n",
       "    }\n",
       "</style>\n",
       "<table border=\"1\" class=\"dataframe\">\n",
       "  <thead>\n",
       "    <tr style=\"text-align: right;\">\n",
       "      <th></th>\n",
       "      <th>POSTED_BY</th>\n",
       "      <th>UNDER_CONSTRUCTION</th>\n",
       "      <th>RERA</th>\n",
       "      <th>BHK_NO.</th>\n",
       "      <th>BHK_OR_RK</th>\n",
       "      <th>SQUARE_FT</th>\n",
       "      <th>READY_TO_MOVE</th>\n",
       "      <th>RESALE</th>\n",
       "      <th>ADDRESS</th>\n",
       "      <th>Latitude</th>\n",
       "      <th>Longitude</th>\n",
       "      <th>TARGET(PRICE_IN_LACS)</th>\n",
       "      <th>State</th>\n",
       "      <th>Size</th>\n",
       "      <th>Region1</th>\n",
       "    </tr>\n",
       "  </thead>\n",
       "  <tbody>\n",
       "    <tr>\n",
       "      <th>0</th>\n",
       "      <td>Owner</td>\n",
       "      <td>0</td>\n",
       "      <td>0</td>\n",
       "      <td>2</td>\n",
       "      <td>BHK</td>\n",
       "      <td>1300.236407</td>\n",
       "      <td>1</td>\n",
       "      <td>1</td>\n",
       "      <td>Ksfc Layout,Bangalore</td>\n",
       "      <td>12.969910</td>\n",
       "      <td>77.597960</td>\n",
       "      <td>55.0</td>\n",
       "      <td>bangalore</td>\n",
       "      <td>Small</td>\n",
       "      <td>S</td>\n",
       "    </tr>\n",
       "    <tr>\n",
       "      <th>1</th>\n",
       "      <td>Dealer</td>\n",
       "      <td>0</td>\n",
       "      <td>0</td>\n",
       "      <td>2</td>\n",
       "      <td>BHK</td>\n",
       "      <td>1275.000000</td>\n",
       "      <td>1</td>\n",
       "      <td>1</td>\n",
       "      <td>Vishweshwara Nagar,Mysore</td>\n",
       "      <td>12.274538</td>\n",
       "      <td>76.644605</td>\n",
       "      <td>51.0</td>\n",
       "      <td>mysore</td>\n",
       "      <td>Small</td>\n",
       "      <td>S</td>\n",
       "    </tr>\n",
       "    <tr>\n",
       "      <th>2</th>\n",
       "      <td>Owner</td>\n",
       "      <td>0</td>\n",
       "      <td>0</td>\n",
       "      <td>2</td>\n",
       "      <td>BHK</td>\n",
       "      <td>933.159722</td>\n",
       "      <td>1</td>\n",
       "      <td>1</td>\n",
       "      <td>Jigani,Bangalore</td>\n",
       "      <td>12.778033</td>\n",
       "      <td>77.632191</td>\n",
       "      <td>43.0</td>\n",
       "      <td>bangalore</td>\n",
       "      <td>Small</td>\n",
       "      <td>S</td>\n",
       "    </tr>\n",
       "    <tr>\n",
       "      <th>3</th>\n",
       "      <td>Owner</td>\n",
       "      <td>0</td>\n",
       "      <td>1</td>\n",
       "      <td>2</td>\n",
       "      <td>BHK</td>\n",
       "      <td>929.921143</td>\n",
       "      <td>1</td>\n",
       "      <td>1</td>\n",
       "      <td>Sector-1 Vaishali,Ghaziabad</td>\n",
       "      <td>28.642300</td>\n",
       "      <td>77.344500</td>\n",
       "      <td>62.5</td>\n",
       "      <td>ghaziabad</td>\n",
       "      <td>Small</td>\n",
       "      <td>N</td>\n",
       "    </tr>\n",
       "    <tr>\n",
       "      <th>4</th>\n",
       "      <td>Dealer</td>\n",
       "      <td>1</td>\n",
       "      <td>0</td>\n",
       "      <td>2</td>\n",
       "      <td>BHK</td>\n",
       "      <td>999.009247</td>\n",
       "      <td>0</td>\n",
       "      <td>1</td>\n",
       "      <td>New Town,Kolkata</td>\n",
       "      <td>22.592200</td>\n",
       "      <td>88.484911</td>\n",
       "      <td>60.5</td>\n",
       "      <td>kolkata</td>\n",
       "      <td>Small</td>\n",
       "      <td>C</td>\n",
       "    </tr>\n",
       "  </tbody>\n",
       "</table>\n",
       "</div>"
      ],
      "text/plain": [
       "  POSTED_BY  UNDER_CONSTRUCTION  RERA  BHK_NO. BHK_OR_RK    SQUARE_FT  \\\n",
       "0     Owner                   0     0        2       BHK  1300.236407   \n",
       "1    Dealer                   0     0        2       BHK  1275.000000   \n",
       "2     Owner                   0     0        2       BHK   933.159722   \n",
       "3     Owner                   0     1        2       BHK   929.921143   \n",
       "4    Dealer                   1     0        2       BHK   999.009247   \n",
       "\n",
       "   READY_TO_MOVE  RESALE                      ADDRESS   Latitude  Longitude  \\\n",
       "0              1       1        Ksfc Layout,Bangalore  12.969910  77.597960   \n",
       "1              1       1    Vishweshwara Nagar,Mysore  12.274538  76.644605   \n",
       "2              1       1             Jigani,Bangalore  12.778033  77.632191   \n",
       "3              1       1  Sector-1 Vaishali,Ghaziabad  28.642300  77.344500   \n",
       "4              0       1             New Town,Kolkata  22.592200  88.484911   \n",
       "\n",
       "   TARGET(PRICE_IN_LACS)      State   Size Region1  \n",
       "0                   55.0  bangalore  Small       S  \n",
       "1                   51.0     mysore  Small       S  \n",
       "2                   43.0  bangalore  Small       S  \n",
       "3                   62.5  ghaziabad  Small       N  \n",
       "4                   60.5    kolkata  Small       C  "
      ]
     },
     "execution_count": 44,
     "metadata": {},
     "output_type": "execute_result"
    }
   ],
   "source": [
    "def get_region(longitude,latitude):\n",
    "    if 8.4 <= latitude <= 21:\n",
    "        return \"S\"\n",
    "    elif 25 <= latitude <= 37.6:\n",
    "        return \"N\"\n",
    "    else:\n",
    "        return \"C\"\n",
    "\n",
    "df['Region1'] = df.apply(lambda row: get_region(row['Longitude'],row['Latitude']), axis=1)\n",
    "df.head()"
   ]
  },
  {
   "cell_type": "code",
   "execution_count": 45,
   "id": "162068d3",
   "metadata": {},
   "outputs": [
    {
     "data": {
      "text/html": [
       "<div>\n",
       "<style scoped>\n",
       "    .dataframe tbody tr th:only-of-type {\n",
       "        vertical-align: middle;\n",
       "    }\n",
       "\n",
       "    .dataframe tbody tr th {\n",
       "        vertical-align: top;\n",
       "    }\n",
       "\n",
       "    .dataframe thead th {\n",
       "        text-align: right;\n",
       "    }\n",
       "</style>\n",
       "<table border=\"1\" class=\"dataframe\">\n",
       "  <thead>\n",
       "    <tr style=\"text-align: right;\">\n",
       "      <th></th>\n",
       "      <th>POSTED_BY</th>\n",
       "      <th>UNDER_CONSTRUCTION</th>\n",
       "      <th>RERA</th>\n",
       "      <th>BHK_NO.</th>\n",
       "      <th>BHK_OR_RK</th>\n",
       "      <th>SQUARE_FT</th>\n",
       "      <th>READY_TO_MOVE</th>\n",
       "      <th>RESALE</th>\n",
       "      <th>ADDRESS</th>\n",
       "      <th>Latitude</th>\n",
       "      <th>Longitude</th>\n",
       "      <th>TARGET(PRICE_IN_LACS)</th>\n",
       "      <th>State</th>\n",
       "      <th>Size</th>\n",
       "      <th>Region1</th>\n",
       "      <th>Region2</th>\n",
       "    </tr>\n",
       "  </thead>\n",
       "  <tbody>\n",
       "    <tr>\n",
       "      <th>0</th>\n",
       "      <td>Owner</td>\n",
       "      <td>0</td>\n",
       "      <td>0</td>\n",
       "      <td>2</td>\n",
       "      <td>BHK</td>\n",
       "      <td>1300.236407</td>\n",
       "      <td>1</td>\n",
       "      <td>1</td>\n",
       "      <td>Ksfc Layout,Bangalore</td>\n",
       "      <td>12.969910</td>\n",
       "      <td>77.597960</td>\n",
       "      <td>55.0</td>\n",
       "      <td>bangalore</td>\n",
       "      <td>Small</td>\n",
       "      <td>S</td>\n",
       "      <td>C</td>\n",
       "    </tr>\n",
       "    <tr>\n",
       "      <th>1</th>\n",
       "      <td>Dealer</td>\n",
       "      <td>0</td>\n",
       "      <td>0</td>\n",
       "      <td>2</td>\n",
       "      <td>BHK</td>\n",
       "      <td>1275.000000</td>\n",
       "      <td>1</td>\n",
       "      <td>1</td>\n",
       "      <td>Vishweshwara Nagar,Mysore</td>\n",
       "      <td>12.274538</td>\n",
       "      <td>76.644605</td>\n",
       "      <td>51.0</td>\n",
       "      <td>mysore</td>\n",
       "      <td>Small</td>\n",
       "      <td>S</td>\n",
       "      <td>C</td>\n",
       "    </tr>\n",
       "    <tr>\n",
       "      <th>2</th>\n",
       "      <td>Owner</td>\n",
       "      <td>0</td>\n",
       "      <td>0</td>\n",
       "      <td>2</td>\n",
       "      <td>BHK</td>\n",
       "      <td>933.159722</td>\n",
       "      <td>1</td>\n",
       "      <td>1</td>\n",
       "      <td>Jigani,Bangalore</td>\n",
       "      <td>12.778033</td>\n",
       "      <td>77.632191</td>\n",
       "      <td>43.0</td>\n",
       "      <td>bangalore</td>\n",
       "      <td>Small</td>\n",
       "      <td>S</td>\n",
       "      <td>C</td>\n",
       "    </tr>\n",
       "    <tr>\n",
       "      <th>3</th>\n",
       "      <td>Owner</td>\n",
       "      <td>0</td>\n",
       "      <td>1</td>\n",
       "      <td>2</td>\n",
       "      <td>BHK</td>\n",
       "      <td>929.921143</td>\n",
       "      <td>1</td>\n",
       "      <td>1</td>\n",
       "      <td>Sector-1 Vaishali,Ghaziabad</td>\n",
       "      <td>28.642300</td>\n",
       "      <td>77.344500</td>\n",
       "      <td>62.5</td>\n",
       "      <td>ghaziabad</td>\n",
       "      <td>Small</td>\n",
       "      <td>N</td>\n",
       "      <td>C</td>\n",
       "    </tr>\n",
       "    <tr>\n",
       "      <th>4</th>\n",
       "      <td>Dealer</td>\n",
       "      <td>1</td>\n",
       "      <td>0</td>\n",
       "      <td>2</td>\n",
       "      <td>BHK</td>\n",
       "      <td>999.009247</td>\n",
       "      <td>0</td>\n",
       "      <td>1</td>\n",
       "      <td>New Town,Kolkata</td>\n",
       "      <td>22.592200</td>\n",
       "      <td>88.484911</td>\n",
       "      <td>60.5</td>\n",
       "      <td>kolkata</td>\n",
       "      <td>Small</td>\n",
       "      <td>C</td>\n",
       "      <td>W</td>\n",
       "    </tr>\n",
       "  </tbody>\n",
       "</table>\n",
       "</div>"
      ],
      "text/plain": [
       "  POSTED_BY  UNDER_CONSTRUCTION  RERA  BHK_NO. BHK_OR_RK    SQUARE_FT  \\\n",
       "0     Owner                   0     0        2       BHK  1300.236407   \n",
       "1    Dealer                   0     0        2       BHK  1275.000000   \n",
       "2     Owner                   0     0        2       BHK   933.159722   \n",
       "3     Owner                   0     1        2       BHK   929.921143   \n",
       "4    Dealer                   1     0        2       BHK   999.009247   \n",
       "\n",
       "   READY_TO_MOVE  RESALE                      ADDRESS   Latitude  Longitude  \\\n",
       "0              1       1        Ksfc Layout,Bangalore  12.969910  77.597960   \n",
       "1              1       1    Vishweshwara Nagar,Mysore  12.274538  76.644605   \n",
       "2              1       1             Jigani,Bangalore  12.778033  77.632191   \n",
       "3              1       1  Sector-1 Vaishali,Ghaziabad  28.642300  77.344500   \n",
       "4              0       1             New Town,Kolkata  22.592200  88.484911   \n",
       "\n",
       "   TARGET(PRICE_IN_LACS)      State   Size Region1 Region2  \n",
       "0                   55.0  bangalore  Small       S       C  \n",
       "1                   51.0     mysore  Small       S       C  \n",
       "2                   43.0  bangalore  Small       S       C  \n",
       "3                   62.5  ghaziabad  Small       N       C  \n",
       "4                   60.5    kolkata  Small       C       W  "
      ]
     },
     "execution_count": 45,
     "metadata": {},
     "output_type": "execute_result"
    }
   ],
   "source": [
    "def get_region(latitude,longitude):\n",
    "    if 68.7 <= longitude <= 71:\n",
    "        return \"E\"\n",
    "    elif 85 <= longitude <= 97.25:\n",
    "        return 'W'\n",
    "    else:\n",
    "        return \"C\"\n",
    "\n",
    "\n",
    "df['Region2'] = df.apply(lambda row: get_region(row['Latitude'],row['Longitude']), axis=1)\n",
    "df.head()"
   ]
  },
  {
   "cell_type": "code",
   "execution_count": 46,
   "id": "8b0aa493",
   "metadata": {},
   "outputs": [],
   "source": [
    "def final_region(Region1,Region2):\n",
    "    if Region1 == 'C' and Region2 == 'C':\n",
    "        return 'C'\n",
    "    else:\n",
    "        return Region1+Region2\n",
    "\n",
    "def final_region(row):\n",
    "    if row['Region1'] == 'C' and row['Region2'] == 'C':\n",
    "        return 'C'\n",
    "    else:\n",
    "        return row['Region1'] + row['Region2']\n",
    "\n",
    "# Apply the function to create the 'Final_Region' column\n",
    "df['Final_Region'] = df.apply(final_region,axis=1)"
   ]
  },
  {
   "cell_type": "code",
   "execution_count": 47,
   "id": "fbfada68",
   "metadata": {},
   "outputs": [],
   "source": [
    "def jadoo(final_region):\n",
    "    if final_region == 'SC':\n",
    "        return 'S'\n",
    "    elif final_region == 'NC':\n",
    "        return 'N'\n",
    "    elif final_region == 'CW':\n",
    "        return 'W'\n",
    "    elif final_region == 'NW':\n",
    "        return 'NW'\n",
    "    elif final_region == 'SW':\n",
    "        return 'SW'\n",
    "    elif final_region == 'CE':\n",
    "        return 'E'\n",
    "    elif final_region == 'SE':\n",
    "        return 'SE'\n",
    "    elif final_region == 'NE':\n",
    "        return 'NE'\n",
    "    else:\n",
    "        return 'C'"
   ]
  },
  {
   "cell_type": "code",
   "execution_count": 48,
   "id": "f646a779",
   "metadata": {},
   "outputs": [],
   "source": [
    "df['Final'] = df['Final_Region'].apply(jadoo)"
   ]
  },
  {
   "cell_type": "code",
   "execution_count": 49,
   "id": "279c10f5",
   "metadata": {},
   "outputs": [
    {
     "data": {
      "text/plain": [
       "S     47794\n",
       "N     26089\n",
       "C     11885\n",
       "W      6987\n",
       "NW     1081\n",
       "SW      768\n",
       "E       684\n",
       "NE        6\n",
       "SE        2\n",
       "Name: Final, dtype: int64"
      ]
     },
     "execution_count": 49,
     "metadata": {},
     "output_type": "execute_result"
    }
   ],
   "source": [
    "df['Final'].value_counts()"
   ]
  },
  {
   "cell_type": "raw",
   "id": "e70b7b4c",
   "metadata": {},
   "source": [
    "# co-relation b/w category columns\n",
    "from dython.nominal import cramers_v\n",
    "cramers_matx = pd.DataFrame(index=cat_cols,columns=cat_cols)\n",
    "for i in cat_cols:\n",
    "    for j in cat_cols:\n",
    "        if i!=j :\n",
    "            cramers_matx.loc[i,j] = cramers_v(df[i],df[j])\n",
    "\n",
    "sns.heatmap(cramers_matx.astype(float),annot=True,cmap='coolwarm');"
   ]
  },
  {
   "cell_type": "code",
   "execution_count": 50,
   "id": "eacdb5b7",
   "metadata": {},
   "outputs": [],
   "source": [
    "df = df.drop(columns=['Region1','Region2','Final_Region'])"
   ]
  },
  {
   "cell_type": "code",
   "execution_count": 51,
   "id": "bcda0619",
   "metadata": {},
   "outputs": [],
   "source": [
    "df['Region'] = df['Final']"
   ]
  },
  {
   "cell_type": "code",
   "execution_count": 52,
   "id": "0a939794",
   "metadata": {},
   "outputs": [],
   "source": [
    "df = df.drop(columns=['Final'])"
   ]
  },
  {
   "cell_type": "code",
   "execution_count": 53,
   "id": "6fd1e7f7",
   "metadata": {},
   "outputs": [
    {
     "data": {
      "text/html": [
       "<div>\n",
       "<style scoped>\n",
       "    .dataframe tbody tr th:only-of-type {\n",
       "        vertical-align: middle;\n",
       "    }\n",
       "\n",
       "    .dataframe tbody tr th {\n",
       "        vertical-align: top;\n",
       "    }\n",
       "\n",
       "    .dataframe thead th {\n",
       "        text-align: right;\n",
       "    }\n",
       "</style>\n",
       "<table border=\"1\" class=\"dataframe\">\n",
       "  <thead>\n",
       "    <tr style=\"text-align: right;\">\n",
       "      <th></th>\n",
       "      <th>POSTED_BY</th>\n",
       "      <th>UNDER_CONSTRUCTION</th>\n",
       "      <th>RERA</th>\n",
       "      <th>BHK_NO.</th>\n",
       "      <th>BHK_OR_RK</th>\n",
       "      <th>SQUARE_FT</th>\n",
       "      <th>READY_TO_MOVE</th>\n",
       "      <th>RESALE</th>\n",
       "      <th>ADDRESS</th>\n",
       "      <th>Latitude</th>\n",
       "      <th>Longitude</th>\n",
       "      <th>TARGET(PRICE_IN_LACS)</th>\n",
       "      <th>State</th>\n",
       "      <th>Size</th>\n",
       "      <th>Region</th>\n",
       "    </tr>\n",
       "  </thead>\n",
       "  <tbody>\n",
       "    <tr>\n",
       "      <th>0</th>\n",
       "      <td>Owner</td>\n",
       "      <td>0</td>\n",
       "      <td>0</td>\n",
       "      <td>2</td>\n",
       "      <td>BHK</td>\n",
       "      <td>1300.236407</td>\n",
       "      <td>1</td>\n",
       "      <td>1</td>\n",
       "      <td>Ksfc Layout,Bangalore</td>\n",
       "      <td>12.969910</td>\n",
       "      <td>77.597960</td>\n",
       "      <td>55.0</td>\n",
       "      <td>bangalore</td>\n",
       "      <td>Small</td>\n",
       "      <td>S</td>\n",
       "    </tr>\n",
       "    <tr>\n",
       "      <th>1</th>\n",
       "      <td>Dealer</td>\n",
       "      <td>0</td>\n",
       "      <td>0</td>\n",
       "      <td>2</td>\n",
       "      <td>BHK</td>\n",
       "      <td>1275.000000</td>\n",
       "      <td>1</td>\n",
       "      <td>1</td>\n",
       "      <td>Vishweshwara Nagar,Mysore</td>\n",
       "      <td>12.274538</td>\n",
       "      <td>76.644605</td>\n",
       "      <td>51.0</td>\n",
       "      <td>mysore</td>\n",
       "      <td>Small</td>\n",
       "      <td>S</td>\n",
       "    </tr>\n",
       "    <tr>\n",
       "      <th>2</th>\n",
       "      <td>Owner</td>\n",
       "      <td>0</td>\n",
       "      <td>0</td>\n",
       "      <td>2</td>\n",
       "      <td>BHK</td>\n",
       "      <td>933.159722</td>\n",
       "      <td>1</td>\n",
       "      <td>1</td>\n",
       "      <td>Jigani,Bangalore</td>\n",
       "      <td>12.778033</td>\n",
       "      <td>77.632191</td>\n",
       "      <td>43.0</td>\n",
       "      <td>bangalore</td>\n",
       "      <td>Small</td>\n",
       "      <td>S</td>\n",
       "    </tr>\n",
       "    <tr>\n",
       "      <th>3</th>\n",
       "      <td>Owner</td>\n",
       "      <td>0</td>\n",
       "      <td>1</td>\n",
       "      <td>2</td>\n",
       "      <td>BHK</td>\n",
       "      <td>929.921143</td>\n",
       "      <td>1</td>\n",
       "      <td>1</td>\n",
       "      <td>Sector-1 Vaishali,Ghaziabad</td>\n",
       "      <td>28.642300</td>\n",
       "      <td>77.344500</td>\n",
       "      <td>62.5</td>\n",
       "      <td>ghaziabad</td>\n",
       "      <td>Small</td>\n",
       "      <td>N</td>\n",
       "    </tr>\n",
       "    <tr>\n",
       "      <th>4</th>\n",
       "      <td>Dealer</td>\n",
       "      <td>1</td>\n",
       "      <td>0</td>\n",
       "      <td>2</td>\n",
       "      <td>BHK</td>\n",
       "      <td>999.009247</td>\n",
       "      <td>0</td>\n",
       "      <td>1</td>\n",
       "      <td>New Town,Kolkata</td>\n",
       "      <td>22.592200</td>\n",
       "      <td>88.484911</td>\n",
       "      <td>60.5</td>\n",
       "      <td>kolkata</td>\n",
       "      <td>Small</td>\n",
       "      <td>W</td>\n",
       "    </tr>\n",
       "  </tbody>\n",
       "</table>\n",
       "</div>"
      ],
      "text/plain": [
       "  POSTED_BY  UNDER_CONSTRUCTION  RERA  BHK_NO. BHK_OR_RK    SQUARE_FT  \\\n",
       "0     Owner                   0     0        2       BHK  1300.236407   \n",
       "1    Dealer                   0     0        2       BHK  1275.000000   \n",
       "2     Owner                   0     0        2       BHK   933.159722   \n",
       "3     Owner                   0     1        2       BHK   929.921143   \n",
       "4    Dealer                   1     0        2       BHK   999.009247   \n",
       "\n",
       "   READY_TO_MOVE  RESALE                      ADDRESS   Latitude  Longitude  \\\n",
       "0              1       1        Ksfc Layout,Bangalore  12.969910  77.597960   \n",
       "1              1       1    Vishweshwara Nagar,Mysore  12.274538  76.644605   \n",
       "2              1       1             Jigani,Bangalore  12.778033  77.632191   \n",
       "3              1       1  Sector-1 Vaishali,Ghaziabad  28.642300  77.344500   \n",
       "4              0       1             New Town,Kolkata  22.592200  88.484911   \n",
       "\n",
       "   TARGET(PRICE_IN_LACS)      State   Size Region  \n",
       "0                   55.0  bangalore  Small      S  \n",
       "1                   51.0     mysore  Small      S  \n",
       "2                   43.0  bangalore  Small      S  \n",
       "3                   62.5  ghaziabad  Small      N  \n",
       "4                   60.5    kolkata  Small      W  "
      ]
     },
     "execution_count": 53,
     "metadata": {},
     "output_type": "execute_result"
    }
   ],
   "source": [
    "df.head()"
   ]
  },
  {
   "cell_type": "code",
   "execution_count": 54,
   "id": "ee88ea41",
   "metadata": {},
   "outputs": [],
   "source": [
    "del df['Latitude']\n",
    "del df['Longitude']\n",
    "del df['ADDRESS']"
   ]
  },
  {
   "cell_type": "code",
   "execution_count": null,
   "id": "54ebef3b",
   "metadata": {},
   "outputs": [],
   "source": []
  },
  {
   "cell_type": "code",
   "execution_count": 55,
   "id": "9a9b8e8f",
   "metadata": {},
   "outputs": [
    {
     "data": {
      "text/html": [
       "<div>\n",
       "<style scoped>\n",
       "    .dataframe tbody tr th:only-of-type {\n",
       "        vertical-align: middle;\n",
       "    }\n",
       "\n",
       "    .dataframe tbody tr th {\n",
       "        vertical-align: top;\n",
       "    }\n",
       "\n",
       "    .dataframe thead th {\n",
       "        text-align: right;\n",
       "    }\n",
       "</style>\n",
       "<table border=\"1\" class=\"dataframe\">\n",
       "  <thead>\n",
       "    <tr style=\"text-align: right;\">\n",
       "      <th></th>\n",
       "      <th>POSTED_BY</th>\n",
       "      <th>UNDER_CONSTRUCTION</th>\n",
       "      <th>RERA</th>\n",
       "      <th>BHK_NO.</th>\n",
       "      <th>BHK_OR_RK</th>\n",
       "      <th>SQUARE_FT</th>\n",
       "      <th>READY_TO_MOVE</th>\n",
       "      <th>RESALE</th>\n",
       "      <th>TARGET(PRICE_IN_LACS)</th>\n",
       "      <th>State</th>\n",
       "      <th>Size</th>\n",
       "      <th>Region</th>\n",
       "    </tr>\n",
       "  </thead>\n",
       "  <tbody>\n",
       "    <tr>\n",
       "      <th>0</th>\n",
       "      <td>Owner</td>\n",
       "      <td>0</td>\n",
       "      <td>0</td>\n",
       "      <td>2</td>\n",
       "      <td>BHK</td>\n",
       "      <td>1300.236407</td>\n",
       "      <td>1</td>\n",
       "      <td>1</td>\n",
       "      <td>55.0</td>\n",
       "      <td>bangalore</td>\n",
       "      <td>Small</td>\n",
       "      <td>S</td>\n",
       "    </tr>\n",
       "    <tr>\n",
       "      <th>1</th>\n",
       "      <td>Dealer</td>\n",
       "      <td>0</td>\n",
       "      <td>0</td>\n",
       "      <td>2</td>\n",
       "      <td>BHK</td>\n",
       "      <td>1275.000000</td>\n",
       "      <td>1</td>\n",
       "      <td>1</td>\n",
       "      <td>51.0</td>\n",
       "      <td>mysore</td>\n",
       "      <td>Small</td>\n",
       "      <td>S</td>\n",
       "    </tr>\n",
       "    <tr>\n",
       "      <th>2</th>\n",
       "      <td>Owner</td>\n",
       "      <td>0</td>\n",
       "      <td>0</td>\n",
       "      <td>2</td>\n",
       "      <td>BHK</td>\n",
       "      <td>933.159722</td>\n",
       "      <td>1</td>\n",
       "      <td>1</td>\n",
       "      <td>43.0</td>\n",
       "      <td>bangalore</td>\n",
       "      <td>Small</td>\n",
       "      <td>S</td>\n",
       "    </tr>\n",
       "    <tr>\n",
       "      <th>3</th>\n",
       "      <td>Owner</td>\n",
       "      <td>0</td>\n",
       "      <td>1</td>\n",
       "      <td>2</td>\n",
       "      <td>BHK</td>\n",
       "      <td>929.921143</td>\n",
       "      <td>1</td>\n",
       "      <td>1</td>\n",
       "      <td>62.5</td>\n",
       "      <td>ghaziabad</td>\n",
       "      <td>Small</td>\n",
       "      <td>N</td>\n",
       "    </tr>\n",
       "    <tr>\n",
       "      <th>4</th>\n",
       "      <td>Dealer</td>\n",
       "      <td>1</td>\n",
       "      <td>0</td>\n",
       "      <td>2</td>\n",
       "      <td>BHK</td>\n",
       "      <td>999.009247</td>\n",
       "      <td>0</td>\n",
       "      <td>1</td>\n",
       "      <td>60.5</td>\n",
       "      <td>kolkata</td>\n",
       "      <td>Small</td>\n",
       "      <td>W</td>\n",
       "    </tr>\n",
       "  </tbody>\n",
       "</table>\n",
       "</div>"
      ],
      "text/plain": [
       "  POSTED_BY  UNDER_CONSTRUCTION  RERA  BHK_NO. BHK_OR_RK    SQUARE_FT  \\\n",
       "0     Owner                   0     0        2       BHK  1300.236407   \n",
       "1    Dealer                   0     0        2       BHK  1275.000000   \n",
       "2     Owner                   0     0        2       BHK   933.159722   \n",
       "3     Owner                   0     1        2       BHK   929.921143   \n",
       "4    Dealer                   1     0        2       BHK   999.009247   \n",
       "\n",
       "   READY_TO_MOVE  RESALE  TARGET(PRICE_IN_LACS)      State   Size Region  \n",
       "0              1       1                   55.0  bangalore  Small      S  \n",
       "1              1       1                   51.0     mysore  Small      S  \n",
       "2              1       1                   43.0  bangalore  Small      S  \n",
       "3              1       1                   62.5  ghaziabad  Small      N  \n",
       "4              0       1                   60.5    kolkata  Small      W  "
      ]
     },
     "execution_count": 55,
     "metadata": {},
     "output_type": "execute_result"
    }
   ],
   "source": [
    "df.head()"
   ]
  },
  {
   "cell_type": "code",
   "execution_count": 56,
   "id": "9da4dae4",
   "metadata": {},
   "outputs": [
    {
     "data": {
      "text/plain": [
       "Index(['POSTED_BY', 'UNDER_CONSTRUCTION', 'RERA', 'BHK_NO.', 'BHK_OR_RK',\n",
       "       'SQUARE_FT', 'READY_TO_MOVE', 'RESALE', 'TARGET(PRICE_IN_LACS)',\n",
       "       'State', 'Size', 'Region'],\n",
       "      dtype='object')"
      ]
     },
     "execution_count": 56,
     "metadata": {},
     "output_type": "execute_result"
    }
   ],
   "source": [
    "df.columns"
   ]
  },
  {
   "cell_type": "code",
   "execution_count": 57,
   "id": "ae5ddecc",
   "metadata": {},
   "outputs": [],
   "source": [
    "num = ['SQUARE_FT']\n",
    "cat = ['POSTED_BY', 'UNDER_CONSTRUCTION', 'RERA','READY_TO_MOVE', 'RESALE','BHK_NO.', 'BHK_OR_RK','State', 'Size', 'Region']"
   ]
  },
  {
   "cell_type": "code",
   "execution_count": 58,
   "id": "fe958a5c",
   "metadata": {},
   "outputs": [],
   "source": [
    "df = df.rename(columns={'TARGET(PRICE_IN_LACS)':'Price'})\n",
    "df = df.rename(columns={'BHK_NO.':'BHK_NO'})"
   ]
  },
  {
   "cell_type": "code",
   "execution_count": 59,
   "id": "51940757",
   "metadata": {},
   "outputs": [],
   "source": [
    "top20 = df['State'].value_counts().head(20).to_dict()"
   ]
  },
  {
   "cell_type": "code",
   "execution_count": 60,
   "id": "915bd29a",
   "metadata": {},
   "outputs": [],
   "source": [
    "def state(x):\n",
    "    if x in top20.keys():\n",
    "        return x\n",
    "    else:\n",
    "        return 'Others'"
   ]
  },
  {
   "cell_type": "code",
   "execution_count": 61,
   "id": "11eeb22d",
   "metadata": {},
   "outputs": [],
   "source": [
    "df['State'] = df['State'].apply(state)"
   ]
  },
  {
   "cell_type": "code",
   "execution_count": 62,
   "id": "755b3c56",
   "metadata": {},
   "outputs": [],
   "source": [
    "newtrain = df[df['Price'].notnull()]\n",
    "newtest = df.loc[df['Price'].isna()]"
   ]
  },
  {
   "cell_type": "code",
   "execution_count": 63,
   "id": "b6661ce7",
   "metadata": {},
   "outputs": [
    {
     "data": {
      "text/plain": [
       "((95296, 12), (66249, 12), (29047, 12))"
      ]
     },
     "execution_count": 63,
     "metadata": {},
     "output_type": "execute_result"
    }
   ],
   "source": [
    "df.shape , newtest.shape , newtrain.shape"
   ]
  },
  {
   "cell_type": "code",
   "execution_count": 64,
   "id": "fe114964",
   "metadata": {},
   "outputs": [
    {
     "data": {
      "text/plain": [
       "array(['bangalore', 'Others', 'ghaziabad', 'kolkata', 'kochi', 'jaipur',\n",
       "       'mohali', 'chennai', 'noida', 'pune', 'mumbai', 'nagpur',\n",
       "       'faridabad', 'lalitpur', 'maharashtra', 'vadodara', 'lucknow',\n",
       "       'gurgaon', 'indore', 'surat', 'chandigarh'], dtype=object)"
      ]
     },
     "execution_count": 64,
     "metadata": {},
     "output_type": "execute_result"
    }
   ],
   "source": [
    "newtrain['State'].unique()"
   ]
  },
  {
   "cell_type": "code",
   "execution_count": 65,
   "id": "d59af0e1",
   "metadata": {},
   "outputs": [],
   "source": [
    "a =['bangalore', 'Others', 'ghaziabad', 'kolkata', 'kochi', 'jaipur',\n",
    "       'mohali', 'chennai', 'noida', 'pune', 'mumbai', 'nagpur',\n",
    "       'faridabad', 'lalitpur', 'maharashtra', 'vadodara', 'lucknow',\n",
    "       'gurgaon', 'indore', 'surat', 'chandigarh']\n",
    "b = {}\n",
    "add = 0\n",
    "for i in a:\n",
    "    b[i] = add\n",
    "    add+=1"
   ]
  },
  {
   "cell_type": "code",
   "execution_count": 66,
   "id": "459c911b",
   "metadata": {},
   "outputs": [],
   "source": [
    "## Statistical Tests:"
   ]
  },
  {
   "cell_type": "code",
   "execution_count": 67,
   "id": "c07bf1ad",
   "metadata": {},
   "outputs": [],
   "source": [
    "from scipy.stats import stats\n",
    "import statsmodels.formula.api as sfa\n",
    "from statsmodels.stats.anova import anova_lm"
   ]
  },
  {
   "cell_type": "code",
   "execution_count": 68,
   "id": "efc2fc33",
   "metadata": {},
   "outputs": [
    {
     "data": {
      "text/plain": [
       "POSTED_BY                 2\n",
       "UNDER_CONSTRUCTION        2\n",
       "RERA                      2\n",
       "BHK_NO                   16\n",
       "BHK_OR_RK                 2\n",
       "SQUARE_FT             19558\n",
       "READY_TO_MOVE             2\n",
       "RESALE                    2\n",
       "Price                  1169\n",
       "State                    21\n",
       "Size                      2\n",
       "Region                    8\n",
       "dtype: int64"
      ]
     },
     "execution_count": 68,
     "metadata": {},
     "output_type": "execute_result"
    }
   ],
   "source": [
    "newtrain.nunique()"
   ]
  },
  {
   "cell_type": "code",
   "execution_count": 69,
   "id": "d084d90a",
   "metadata": {},
   "outputs": [
    {
     "data": {
      "text/plain": [
       "POSTED_BY     3.359059e-76\n",
       "State         2.668533e-67\n",
       "BHK_OR_RK     7.725005e-02\n",
       "Region        1.635305e-02\n",
       "BHK_NO       2.200295e-118\n",
       "Residual               NaN\n",
       "Name: PR(>F), dtype: float64"
      ]
     },
     "execution_count": 69,
     "metadata": {},
     "output_type": "execute_result"
    }
   ],
   "source": [
    "model = sfa.ols('Price~POSTED_BY+State+BHK_NO+BHK_OR_RK+Region',data=newtrain).fit()\n",
    "anova_lm(model).iloc[:,-1]"
   ]
  },
  {
   "cell_type": "code",
   "execution_count": 70,
   "id": "cea9110b",
   "metadata": {},
   "outputs": [
    {
     "data": {
      "text/plain": [
       "POSTED_BY     True\n",
       "State         True\n",
       "BHK_OR_RK    False\n",
       "Region        True\n",
       "BHK_NO        True\n",
       "Residual     False\n",
       "Name: PR(>F), dtype: bool"
      ]
     },
     "execution_count": 70,
     "metadata": {},
     "output_type": "execute_result"
    }
   ],
   "source": [
    "anova_lm(model).iloc[:,-1]<0.05"
   ]
  },
  {
   "cell_type": "code",
   "execution_count": 71,
   "id": "3c08008a",
   "metadata": {},
   "outputs": [],
   "source": [
    "newtest['State'] = newtest['State'].map(b)\n",
    "newtrain['State'] = newtrain['State'].map(b)"
   ]
  },
  {
   "cell_type": "code",
   "execution_count": 72,
   "id": "08f02f1a",
   "metadata": {},
   "outputs": [],
   "source": [
    "newtrain['BHK_OR_RK'] = newtrain['BHK_OR_RK'].map({'BHK':0, 'RK':1})\n",
    "newtest['BHK_OR_RK'] = newtest['BHK_OR_RK'].map({'BHK':0, 'RK':1})\n",
    "newtrain['Size'] = newtrain['Size'].map({'Small':0, 'Large':1})\n",
    "newtest['Size'] = newtest['Size'].map({'Small':0, 'Large':1})\n"
   ]
  },
  {
   "cell_type": "code",
   "execution_count": 73,
   "id": "1d7596b5",
   "metadata": {},
   "outputs": [
    {
     "name": "stdout",
     "output_type": "stream",
     "text": [
      "P_value for UNDER_CONSTRUCTION is 0.0\n",
      "P_value for RERA is 0.0\n",
      "P_value for READY_TO_MOVE is 0.0\n",
      "P_value for RESALE is 0.0\n",
      "P_value for Size is 0.0\n",
      "P_value for SQUARE_FT is 6.474886213297981e-32\n",
      "P_value for BHK_OR_RK is 0.0\n"
     ]
    }
   ],
   "source": [
    "# UNDER_CONSTRUCTION+RERA BHK_OR_RK+READY_TO_MOVE+RESALE+Size\n",
    "for i in ['UNDER_CONSTRUCTION','RERA','READY_TO_MOVE','RESALE','Size','SQUARE_FT','BHK_OR_RK']:\n",
    "    p_value = stats.ttest_ind(newtrain[i],newtrain['Price'])[1]\n",
    "    print(f'P_value for {i} is {p_value}')"
   ]
  },
  {
   "cell_type": "code",
   "execution_count": null,
   "id": "2dc68aa4",
   "metadata": {},
   "outputs": [],
   "source": []
  },
  {
   "cell_type": "code",
   "execution_count": 74,
   "id": "d27e4f75",
   "metadata": {},
   "outputs": [
    {
     "data": {
      "text/html": [
       "<div>\n",
       "<style scoped>\n",
       "    .dataframe tbody tr th:only-of-type {\n",
       "        vertical-align: middle;\n",
       "    }\n",
       "\n",
       "    .dataframe tbody tr th {\n",
       "        vertical-align: top;\n",
       "    }\n",
       "\n",
       "    .dataframe thead th {\n",
       "        text-align: right;\n",
       "    }\n",
       "</style>\n",
       "<table border=\"1\" class=\"dataframe\">\n",
       "  <thead>\n",
       "    <tr style=\"text-align: right;\">\n",
       "      <th></th>\n",
       "      <th>POSTED_BY</th>\n",
       "      <th>UNDER_CONSTRUCTION</th>\n",
       "      <th>RERA</th>\n",
       "      <th>BHK_NO</th>\n",
       "      <th>BHK_OR_RK</th>\n",
       "      <th>SQUARE_FT</th>\n",
       "      <th>READY_TO_MOVE</th>\n",
       "      <th>RESALE</th>\n",
       "      <th>Price</th>\n",
       "      <th>State</th>\n",
       "      <th>Size</th>\n",
       "      <th>Region</th>\n",
       "    </tr>\n",
       "  </thead>\n",
       "  <tbody>\n",
       "    <tr>\n",
       "      <th>0</th>\n",
       "      <td>Owner</td>\n",
       "      <td>0</td>\n",
       "      <td>0</td>\n",
       "      <td>2</td>\n",
       "      <td>0</td>\n",
       "      <td>1300.236407</td>\n",
       "      <td>1</td>\n",
       "      <td>1</td>\n",
       "      <td>55.0</td>\n",
       "      <td>0</td>\n",
       "      <td>0</td>\n",
       "      <td>S</td>\n",
       "    </tr>\n",
       "    <tr>\n",
       "      <th>1</th>\n",
       "      <td>Dealer</td>\n",
       "      <td>0</td>\n",
       "      <td>0</td>\n",
       "      <td>2</td>\n",
       "      <td>0</td>\n",
       "      <td>1275.000000</td>\n",
       "      <td>1</td>\n",
       "      <td>1</td>\n",
       "      <td>51.0</td>\n",
       "      <td>1</td>\n",
       "      <td>0</td>\n",
       "      <td>S</td>\n",
       "    </tr>\n",
       "    <tr>\n",
       "      <th>2</th>\n",
       "      <td>Owner</td>\n",
       "      <td>0</td>\n",
       "      <td>0</td>\n",
       "      <td>2</td>\n",
       "      <td>0</td>\n",
       "      <td>933.159722</td>\n",
       "      <td>1</td>\n",
       "      <td>1</td>\n",
       "      <td>43.0</td>\n",
       "      <td>0</td>\n",
       "      <td>0</td>\n",
       "      <td>S</td>\n",
       "    </tr>\n",
       "    <tr>\n",
       "      <th>3</th>\n",
       "      <td>Owner</td>\n",
       "      <td>0</td>\n",
       "      <td>1</td>\n",
       "      <td>2</td>\n",
       "      <td>0</td>\n",
       "      <td>929.921143</td>\n",
       "      <td>1</td>\n",
       "      <td>1</td>\n",
       "      <td>62.5</td>\n",
       "      <td>2</td>\n",
       "      <td>0</td>\n",
       "      <td>N</td>\n",
       "    </tr>\n",
       "    <tr>\n",
       "      <th>4</th>\n",
       "      <td>Dealer</td>\n",
       "      <td>1</td>\n",
       "      <td>0</td>\n",
       "      <td>2</td>\n",
       "      <td>0</td>\n",
       "      <td>999.009247</td>\n",
       "      <td>0</td>\n",
       "      <td>1</td>\n",
       "      <td>60.5</td>\n",
       "      <td>3</td>\n",
       "      <td>0</td>\n",
       "      <td>W</td>\n",
       "    </tr>\n",
       "  </tbody>\n",
       "</table>\n",
       "</div>"
      ],
      "text/plain": [
       "  POSTED_BY  UNDER_CONSTRUCTION  RERA  BHK_NO  BHK_OR_RK    SQUARE_FT  \\\n",
       "0     Owner                   0     0       2          0  1300.236407   \n",
       "1    Dealer                   0     0       2          0  1275.000000   \n",
       "2     Owner                   0     0       2          0   933.159722   \n",
       "3     Owner                   0     1       2          0   929.921143   \n",
       "4    Dealer                   1     0       2          0   999.009247   \n",
       "\n",
       "   READY_TO_MOVE  RESALE  Price  State  Size Region  \n",
       "0              1       1   55.0      0     0      S  \n",
       "1              1       1   51.0      1     0      S  \n",
       "2              1       1   43.0      0     0      S  \n",
       "3              1       1   62.5      2     0      N  \n",
       "4              0       1   60.5      3     0      W  "
      ]
     },
     "execution_count": 74,
     "metadata": {},
     "output_type": "execute_result"
    }
   ],
   "source": [
    "newtrain.head()"
   ]
  },
  {
   "cell_type": "code",
   "execution_count": 75,
   "id": "6fa58c26",
   "metadata": {},
   "outputs": [
    {
     "data": {
      "text/plain": [
       "Dealer    18579\n",
       "Owner     10468\n",
       "Name: POSTED_BY, dtype: int64"
      ]
     },
     "execution_count": 75,
     "metadata": {},
     "output_type": "execute_result"
    }
   ],
   "source": [
    "newtrain['POSTED_BY'].value_counts()"
   ]
  },
  {
   "cell_type": "code",
   "execution_count": 76,
   "id": "be4f8b43",
   "metadata": {},
   "outputs": [
    {
     "data": {
      "text/plain": [
       "8"
      ]
     },
     "execution_count": 76,
     "metadata": {},
     "output_type": "execute_result"
    }
   ],
   "source": [
    "newtrain['Region'].nunique()"
   ]
  },
  {
   "cell_type": "code",
   "execution_count": 77,
   "id": "0a285f08",
   "metadata": {},
   "outputs": [
    {
     "data": {
      "text/plain": [
       "9"
      ]
     },
     "execution_count": 77,
     "metadata": {},
     "output_type": "execute_result"
    }
   ],
   "source": [
    "newtest['Region'].nunique()"
   ]
  },
  {
   "cell_type": "raw",
   "id": "e787cc46",
   "metadata": {},
   "source": [
    "d = newtrain['flate_descrip'].value_counts()\n",
    "newtrain['flate_descrip'] = newtrain['flate_descrip'].map(d)\n",
    "newtest['flate_descrip'] = newtest['flate_descrip'].map(d)"
   ]
  },
  {
   "cell_type": "code",
   "execution_count": 78,
   "id": "5c9a8a5c",
   "metadata": {},
   "outputs": [
    {
     "data": {
      "text/plain": [
       "['SQUARE_FT', 'LONGITUDE', 'LATITUDE', 'TARGET(PRICE_IN_LACS)']"
      ]
     },
     "execution_count": 78,
     "metadata": {},
     "output_type": "execute_result"
    }
   ],
   "source": [
    "num_cols"
   ]
  },
  {
   "cell_type": "code",
   "execution_count": 79,
   "id": "75df4382",
   "metadata": {},
   "outputs": [
    {
     "data": {
      "text/plain": [
       "SQUARE_FT    26.130977\n",
       "Price         7.506110\n",
       "dtype: float64"
      ]
     },
     "execution_count": 79,
     "metadata": {},
     "output_type": "execute_result"
    }
   ],
   "source": [
    "np.sqrt(newtrain[['SQUARE_FT','Price']]).skew()"
   ]
  },
  {
   "cell_type": "code",
   "execution_count": 80,
   "id": "539d41e7",
   "metadata": {},
   "outputs": [],
   "source": [
    "newtrain['SQUARE_FT'] = np.log(newtrain['SQUARE_FT'])\n",
    "newtest['SQUARE_FT'] = np.log(newtest['SQUARE_FT'])"
   ]
  },
  {
   "cell_type": "code",
   "execution_count": 81,
   "id": "762ff77d",
   "metadata": {},
   "outputs": [],
   "source": [
    "newtrain = pd.get_dummies(newtrain,drop_first=True)\n",
    "newtest = pd.get_dummies(newtest,drop_first=True)"
   ]
  },
  {
   "cell_type": "code",
   "execution_count": 82,
   "id": "e637e0e5",
   "metadata": {},
   "outputs": [],
   "source": [
    "del newtest['Region_NE']"
   ]
  },
  {
   "cell_type": "code",
   "execution_count": 83,
   "id": "26239d70",
   "metadata": {},
   "outputs": [],
   "source": [
    "from sklearn.model_selection import KFold,LeaveOneOut,cross_val_score,GridSearchCV\n",
    "import statsmodels.formula.api as sfa\n",
    "import statsmodels.api as sma\n",
    "from statsmodels.stats.outliers_influence import variance_inflation_factor\n",
    "from sklearn.preprocessing import StandardScaler,RobustScaler"
   ]
  },
  {
   "cell_type": "code",
   "execution_count": 84,
   "id": "e62fb194",
   "metadata": {},
   "outputs": [
    {
     "data": {
      "text/html": [
       "<div>\n",
       "<style scoped>\n",
       "    .dataframe tbody tr th:only-of-type {\n",
       "        vertical-align: middle;\n",
       "    }\n",
       "\n",
       "    .dataframe tbody tr th {\n",
       "        vertical-align: top;\n",
       "    }\n",
       "\n",
       "    .dataframe thead th {\n",
       "        text-align: right;\n",
       "    }\n",
       "</style>\n",
       "<table border=\"1\" class=\"dataframe\">\n",
       "  <thead>\n",
       "    <tr style=\"text-align: right;\">\n",
       "      <th></th>\n",
       "      <th>UNDER_CONSTRUCTION</th>\n",
       "      <th>RERA</th>\n",
       "      <th>BHK_NO</th>\n",
       "      <th>BHK_OR_RK</th>\n",
       "      <th>SQUARE_FT</th>\n",
       "      <th>READY_TO_MOVE</th>\n",
       "      <th>RESALE</th>\n",
       "      <th>Price</th>\n",
       "      <th>State</th>\n",
       "      <th>Size</th>\n",
       "      <th>POSTED_BY_Owner</th>\n",
       "      <th>Region_E</th>\n",
       "      <th>Region_N</th>\n",
       "      <th>Region_NW</th>\n",
       "      <th>Region_S</th>\n",
       "      <th>Region_SE</th>\n",
       "      <th>Region_SW</th>\n",
       "      <th>Region_W</th>\n",
       "    </tr>\n",
       "  </thead>\n",
       "  <tbody>\n",
       "    <tr>\n",
       "      <th>0</th>\n",
       "      <td>0</td>\n",
       "      <td>0</td>\n",
       "      <td>2</td>\n",
       "      <td>0</td>\n",
       "      <td>7.170301</td>\n",
       "      <td>1</td>\n",
       "      <td>1</td>\n",
       "      <td>55.0</td>\n",
       "      <td>0</td>\n",
       "      <td>0</td>\n",
       "      <td>1</td>\n",
       "      <td>0</td>\n",
       "      <td>0</td>\n",
       "      <td>0</td>\n",
       "      <td>1</td>\n",
       "      <td>0</td>\n",
       "      <td>0</td>\n",
       "      <td>0</td>\n",
       "    </tr>\n",
       "    <tr>\n",
       "      <th>1</th>\n",
       "      <td>0</td>\n",
       "      <td>0</td>\n",
       "      <td>2</td>\n",
       "      <td>0</td>\n",
       "      <td>7.150701</td>\n",
       "      <td>1</td>\n",
       "      <td>1</td>\n",
       "      <td>51.0</td>\n",
       "      <td>1</td>\n",
       "      <td>0</td>\n",
       "      <td>0</td>\n",
       "      <td>0</td>\n",
       "      <td>0</td>\n",
       "      <td>0</td>\n",
       "      <td>1</td>\n",
       "      <td>0</td>\n",
       "      <td>0</td>\n",
       "      <td>0</td>\n",
       "    </tr>\n",
       "    <tr>\n",
       "      <th>2</th>\n",
       "      <td>0</td>\n",
       "      <td>0</td>\n",
       "      <td>2</td>\n",
       "      <td>0</td>\n",
       "      <td>6.838576</td>\n",
       "      <td>1</td>\n",
       "      <td>1</td>\n",
       "      <td>43.0</td>\n",
       "      <td>0</td>\n",
       "      <td>0</td>\n",
       "      <td>1</td>\n",
       "      <td>0</td>\n",
       "      <td>0</td>\n",
       "      <td>0</td>\n",
       "      <td>1</td>\n",
       "      <td>0</td>\n",
       "      <td>0</td>\n",
       "      <td>0</td>\n",
       "    </tr>\n",
       "    <tr>\n",
       "      <th>3</th>\n",
       "      <td>0</td>\n",
       "      <td>1</td>\n",
       "      <td>2</td>\n",
       "      <td>0</td>\n",
       "      <td>6.835100</td>\n",
       "      <td>1</td>\n",
       "      <td>1</td>\n",
       "      <td>62.5</td>\n",
       "      <td>2</td>\n",
       "      <td>0</td>\n",
       "      <td>1</td>\n",
       "      <td>0</td>\n",
       "      <td>1</td>\n",
       "      <td>0</td>\n",
       "      <td>0</td>\n",
       "      <td>0</td>\n",
       "      <td>0</td>\n",
       "      <td>0</td>\n",
       "    </tr>\n",
       "    <tr>\n",
       "      <th>4</th>\n",
       "      <td>1</td>\n",
       "      <td>0</td>\n",
       "      <td>2</td>\n",
       "      <td>0</td>\n",
       "      <td>6.906764</td>\n",
       "      <td>0</td>\n",
       "      <td>1</td>\n",
       "      <td>60.5</td>\n",
       "      <td>3</td>\n",
       "      <td>0</td>\n",
       "      <td>0</td>\n",
       "      <td>0</td>\n",
       "      <td>0</td>\n",
       "      <td>0</td>\n",
       "      <td>0</td>\n",
       "      <td>0</td>\n",
       "      <td>0</td>\n",
       "      <td>1</td>\n",
       "    </tr>\n",
       "  </tbody>\n",
       "</table>\n",
       "</div>"
      ],
      "text/plain": [
       "   UNDER_CONSTRUCTION  RERA  BHK_NO  BHK_OR_RK  SQUARE_FT  READY_TO_MOVE  \\\n",
       "0                   0     0       2          0   7.170301              1   \n",
       "1                   0     0       2          0   7.150701              1   \n",
       "2                   0     0       2          0   6.838576              1   \n",
       "3                   0     1       2          0   6.835100              1   \n",
       "4                   1     0       2          0   6.906764              0   \n",
       "\n",
       "   RESALE  Price  State  Size  POSTED_BY_Owner  Region_E  Region_N  Region_NW  \\\n",
       "0       1   55.0      0     0                1         0         0          0   \n",
       "1       1   51.0      1     0                0         0         0          0   \n",
       "2       1   43.0      0     0                1         0         0          0   \n",
       "3       1   62.5      2     0                1         0         1          0   \n",
       "4       1   60.5      3     0                0         0         0          0   \n",
       "\n",
       "   Region_S  Region_SE  Region_SW  Region_W  \n",
       "0         1          0          0         0  \n",
       "1         1          0          0         0  \n",
       "2         1          0          0         0  \n",
       "3         0          0          0         0  \n",
       "4         0          0          0         1  "
      ]
     },
     "execution_count": 84,
     "metadata": {},
     "output_type": "execute_result"
    }
   ],
   "source": [
    "newtrain.head()"
   ]
  },
  {
   "cell_type": "code",
   "execution_count": 85,
   "id": "e4bb39a5",
   "metadata": {},
   "outputs": [
    {
     "data": {
      "text/html": [
       "<div>\n",
       "<style scoped>\n",
       "    .dataframe tbody tr th:only-of-type {\n",
       "        vertical-align: middle;\n",
       "    }\n",
       "\n",
       "    .dataframe tbody tr th {\n",
       "        vertical-align: top;\n",
       "    }\n",
       "\n",
       "    .dataframe thead th {\n",
       "        text-align: right;\n",
       "    }\n",
       "</style>\n",
       "<table border=\"1\" class=\"dataframe\">\n",
       "  <thead>\n",
       "    <tr style=\"text-align: right;\">\n",
       "      <th></th>\n",
       "      <th>UNDER_CONSTRUCTION</th>\n",
       "      <th>RERA</th>\n",
       "      <th>BHK_NO</th>\n",
       "      <th>BHK_OR_RK</th>\n",
       "      <th>SQUARE_FT</th>\n",
       "      <th>READY_TO_MOVE</th>\n",
       "      <th>RESALE</th>\n",
       "      <th>Price</th>\n",
       "      <th>State</th>\n",
       "      <th>Size</th>\n",
       "      <th>POSTED_BY_Owner</th>\n",
       "      <th>Region_E</th>\n",
       "      <th>Region_N</th>\n",
       "      <th>Region_NW</th>\n",
       "      <th>Region_S</th>\n",
       "      <th>Region_SE</th>\n",
       "      <th>Region_SW</th>\n",
       "      <th>Region_W</th>\n",
       "    </tr>\n",
       "  </thead>\n",
       "  <tbody>\n",
       "    <tr>\n",
       "      <th>0</th>\n",
       "      <td>0</td>\n",
       "      <td>0</td>\n",
       "      <td>1</td>\n",
       "      <td>0</td>\n",
       "      <td>6.301100</td>\n",
       "      <td>1</td>\n",
       "      <td>1</td>\n",
       "      <td>NaN</td>\n",
       "      <td>19</td>\n",
       "      <td>0</td>\n",
       "      <td>1</td>\n",
       "      <td>0</td>\n",
       "      <td>0</td>\n",
       "      <td>0</td>\n",
       "      <td>0</td>\n",
       "      <td>0</td>\n",
       "      <td>0</td>\n",
       "      <td>0</td>\n",
       "    </tr>\n",
       "    <tr>\n",
       "      <th>1</th>\n",
       "      <td>1</td>\n",
       "      <td>1</td>\n",
       "      <td>2</td>\n",
       "      <td>0</td>\n",
       "      <td>6.684612</td>\n",
       "      <td>0</td>\n",
       "      <td>0</td>\n",
       "      <td>NaN</td>\n",
       "      <td>13</td>\n",
       "      <td>0</td>\n",
       "      <td>0</td>\n",
       "      <td>0</td>\n",
       "      <td>0</td>\n",
       "      <td>0</td>\n",
       "      <td>1</td>\n",
       "      <td>0</td>\n",
       "      <td>0</td>\n",
       "      <td>0</td>\n",
       "    </tr>\n",
       "    <tr>\n",
       "      <th>2</th>\n",
       "      <td>0</td>\n",
       "      <td>0</td>\n",
       "      <td>2</td>\n",
       "      <td>0</td>\n",
       "      <td>7.136560</td>\n",
       "      <td>1</td>\n",
       "      <td>1</td>\n",
       "      <td>NaN</td>\n",
       "      <td>3</td>\n",
       "      <td>0</td>\n",
       "      <td>0</td>\n",
       "      <td>0</td>\n",
       "      <td>0</td>\n",
       "      <td>0</td>\n",
       "      <td>0</td>\n",
       "      <td>0</td>\n",
       "      <td>0</td>\n",
       "      <td>1</td>\n",
       "    </tr>\n",
       "    <tr>\n",
       "      <th>3</th>\n",
       "      <td>0</td>\n",
       "      <td>0</td>\n",
       "      <td>3</td>\n",
       "      <td>0</td>\n",
       "      <td>7.244463</td>\n",
       "      <td>1</td>\n",
       "      <td>1</td>\n",
       "      <td>NaN</td>\n",
       "      <td>5</td>\n",
       "      <td>0</td>\n",
       "      <td>0</td>\n",
       "      <td>0</td>\n",
       "      <td>1</td>\n",
       "      <td>0</td>\n",
       "      <td>0</td>\n",
       "      <td>0</td>\n",
       "      <td>0</td>\n",
       "      <td>0</td>\n",
       "    </tr>\n",
       "    <tr>\n",
       "      <th>4</th>\n",
       "      <td>0</td>\n",
       "      <td>0</td>\n",
       "      <td>1</td>\n",
       "      <td>0</td>\n",
       "      <td>6.064896</td>\n",
       "      <td>1</td>\n",
       "      <td>1</td>\n",
       "      <td>NaN</td>\n",
       "      <td>1</td>\n",
       "      <td>0</td>\n",
       "      <td>1</td>\n",
       "      <td>0</td>\n",
       "      <td>0</td>\n",
       "      <td>0</td>\n",
       "      <td>0</td>\n",
       "      <td>0</td>\n",
       "      <td>0</td>\n",
       "      <td>0</td>\n",
       "    </tr>\n",
       "  </tbody>\n",
       "</table>\n",
       "</div>"
      ],
      "text/plain": [
       "   UNDER_CONSTRUCTION  RERA  BHK_NO  BHK_OR_RK  SQUARE_FT  READY_TO_MOVE  \\\n",
       "0                   0     0       1          0   6.301100              1   \n",
       "1                   1     1       2          0   6.684612              0   \n",
       "2                   0     0       2          0   7.136560              1   \n",
       "3                   0     0       3          0   7.244463              1   \n",
       "4                   0     0       1          0   6.064896              1   \n",
       "\n",
       "   RESALE  Price  State  Size  POSTED_BY_Owner  Region_E  Region_N  Region_NW  \\\n",
       "0       1    NaN     19     0                1         0         0          0   \n",
       "1       0    NaN     13     0                0         0         0          0   \n",
       "2       1    NaN      3     0                0         0         0          0   \n",
       "3       1    NaN      5     0                0         0         1          0   \n",
       "4       1    NaN      1     0                1         0         0          0   \n",
       "\n",
       "   Region_S  Region_SE  Region_SW  Region_W  \n",
       "0         0          0          0         0  \n",
       "1         1          0          0         0  \n",
       "2         0          0          0         1  \n",
       "3         0          0          0         0  \n",
       "4         0          0          0         0  "
      ]
     },
     "execution_count": 85,
     "metadata": {},
     "output_type": "execute_result"
    }
   ],
   "source": [
    "newtest.head()"
   ]
  },
  {
   "cell_type": "code",
   "execution_count": 86,
   "id": "0cce5025",
   "metadata": {},
   "outputs": [],
   "source": [
    "sc = StandardScaler()\n",
    "a = sc.fit_transform(newtrain[['SQUARE_FT','Price']])\n",
    "newtrain['SQUARE_FT'] = a[:,0]"
   ]
  },
  {
   "cell_type": "code",
   "execution_count": 87,
   "id": "00127393",
   "metadata": {},
   "outputs": [],
   "source": [
    "b = sc.transform(newtest[['SQUARE_FT','Price']])\n",
    "newtest['SQUARE_FT'] = b[:,0]"
   ]
  },
  {
   "cell_type": "code",
   "execution_count": 88,
   "id": "6f82d180",
   "metadata": {},
   "outputs": [],
   "source": [
    "del newtest['Price']"
   ]
  },
  {
   "cell_type": "code",
   "execution_count": 89,
   "id": "74f2b66e",
   "metadata": {},
   "outputs": [],
   "source": [
    "# Assumptions before model building\n",
    "# 1. target should be numeric\n",
    "# 2. No multicollinearity b/w independent variables"
   ]
  },
  {
   "cell_type": "code",
   "execution_count": null,
   "id": "f2cafe81",
   "metadata": {},
   "outputs": [],
   "source": []
  },
  {
   "cell_type": "code",
   "execution_count": 90,
   "id": "b1d86139",
   "metadata": {},
   "outputs": [],
   "source": [
    "x = newtrain.drop(columns='Price')\n",
    "y = newtrain['Price']"
   ]
  },
  {
   "cell_type": "code",
   "execution_count": 91,
   "id": "916aa083",
   "metadata": {},
   "outputs": [
    {
     "data": {
      "text/html": [
       "<div>\n",
       "<style scoped>\n",
       "    .dataframe tbody tr th:only-of-type {\n",
       "        vertical-align: middle;\n",
       "    }\n",
       "\n",
       "    .dataframe tbody tr th {\n",
       "        vertical-align: top;\n",
       "    }\n",
       "\n",
       "    .dataframe thead th {\n",
       "        text-align: right;\n",
       "    }\n",
       "</style>\n",
       "<table border=\"1\" class=\"dataframe\">\n",
       "  <thead>\n",
       "    <tr style=\"text-align: right;\">\n",
       "      <th></th>\n",
       "      <th>Feature Names</th>\n",
       "      <th>VIF</th>\n",
       "    </tr>\n",
       "  </thead>\n",
       "  <tbody>\n",
       "    <tr>\n",
       "      <th>5</th>\n",
       "      <td>READY_TO_MOVE</td>\n",
       "      <td>38.538601</td>\n",
       "    </tr>\n",
       "    <tr>\n",
       "      <th>0</th>\n",
       "      <td>UNDER_CONSTRUCTION</td>\n",
       "      <td>8.572513</td>\n",
       "    </tr>\n",
       "    <tr>\n",
       "      <th>13</th>\n",
       "      <td>Region_S</td>\n",
       "      <td>2.827591</td>\n",
       "    </tr>\n",
       "    <tr>\n",
       "      <th>11</th>\n",
       "      <td>Region_N</td>\n",
       "      <td>2.518795</td>\n",
       "    </tr>\n",
       "    <tr>\n",
       "      <th>2</th>\n",
       "      <td>BHK_NO</td>\n",
       "      <td>2.266940</td>\n",
       "    </tr>\n",
       "    <tr>\n",
       "      <th>4</th>\n",
       "      <td>SQUARE_FT</td>\n",
       "      <td>1.778864</td>\n",
       "    </tr>\n",
       "    <tr>\n",
       "      <th>16</th>\n",
       "      <td>Region_W</td>\n",
       "      <td>1.694092</td>\n",
       "    </tr>\n",
       "    <tr>\n",
       "      <th>8</th>\n",
       "      <td>Size</td>\n",
       "      <td>1.535061</td>\n",
       "    </tr>\n",
       "    <tr>\n",
       "      <th>7</th>\n",
       "      <td>State</td>\n",
       "      <td>1.370534</td>\n",
       "    </tr>\n",
       "    <tr>\n",
       "      <th>1</th>\n",
       "      <td>RERA</td>\n",
       "      <td>1.322436</td>\n",
       "    </tr>\n",
       "    <tr>\n",
       "      <th>9</th>\n",
       "      <td>POSTED_BY_Owner</td>\n",
       "      <td>1.291233</td>\n",
       "    </tr>\n",
       "    <tr>\n",
       "      <th>6</th>\n",
       "      <td>RESALE</td>\n",
       "      <td>1.189202</td>\n",
       "    </tr>\n",
       "    <tr>\n",
       "      <th>12</th>\n",
       "      <td>Region_NW</td>\n",
       "      <td>1.120820</td>\n",
       "    </tr>\n",
       "    <tr>\n",
       "      <th>15</th>\n",
       "      <td>Region_SW</td>\n",
       "      <td>1.099931</td>\n",
       "    </tr>\n",
       "    <tr>\n",
       "      <th>10</th>\n",
       "      <td>Region_E</td>\n",
       "      <td>1.068627</td>\n",
       "    </tr>\n",
       "    <tr>\n",
       "      <th>3</th>\n",
       "      <td>BHK_OR_RK</td>\n",
       "      <td>1.007984</td>\n",
       "    </tr>\n",
       "    <tr>\n",
       "      <th>14</th>\n",
       "      <td>Region_SE</td>\n",
       "      <td>1.000422</td>\n",
       "    </tr>\n",
       "  </tbody>\n",
       "</table>\n",
       "</div>"
      ],
      "text/plain": [
       "         Feature Names        VIF\n",
       "5        READY_TO_MOVE  38.538601\n",
       "0   UNDER_CONSTRUCTION   8.572513\n",
       "13            Region_S   2.827591\n",
       "11            Region_N   2.518795\n",
       "2               BHK_NO   2.266940\n",
       "4            SQUARE_FT   1.778864\n",
       "16            Region_W   1.694092\n",
       "8                 Size   1.535061\n",
       "7                State   1.370534\n",
       "1                 RERA   1.322436\n",
       "9      POSTED_BY_Owner   1.291233\n",
       "6               RESALE   1.189202\n",
       "12           Region_NW   1.120820\n",
       "15           Region_SW   1.099931\n",
       "10            Region_E   1.068627\n",
       "3            BHK_OR_RK   1.007984\n",
       "14           Region_SE   1.000422"
      ]
     },
     "execution_count": 91,
     "metadata": {},
     "output_type": "execute_result"
    }
   ],
   "source": [
    "vif_list = []\n",
    "for i in range(x.shape[1]):\n",
    "    vif_list.append(variance_inflation_factor(x.values,i))\n",
    "                    \n",
    "pd.DataFrame({'Feature Names':x.columns,'VIF':vif_list}).sort_values(by='VIF',ascending=False)"
   ]
  },
  {
   "cell_type": "code",
   "execution_count": 92,
   "id": "0a89534b",
   "metadata": {},
   "outputs": [],
   "source": [
    "del x['READY_TO_MOVE']\n",
    "del newtest['READY_TO_MOVE']"
   ]
  },
  {
   "cell_type": "code",
   "execution_count": 93,
   "id": "5a914451",
   "metadata": {},
   "outputs": [
    {
     "data": {
      "text/html": [
       "<div>\n",
       "<style scoped>\n",
       "    .dataframe tbody tr th:only-of-type {\n",
       "        vertical-align: middle;\n",
       "    }\n",
       "\n",
       "    .dataframe tbody tr th {\n",
       "        vertical-align: top;\n",
       "    }\n",
       "\n",
       "    .dataframe thead th {\n",
       "        text-align: right;\n",
       "    }\n",
       "</style>\n",
       "<table border=\"1\" class=\"dataframe\">\n",
       "  <thead>\n",
       "    <tr style=\"text-align: right;\">\n",
       "      <th></th>\n",
       "      <th>Feature Names</th>\n",
       "      <th>VIF</th>\n",
       "    </tr>\n",
       "  </thead>\n",
       "  <tbody>\n",
       "    <tr>\n",
       "      <th>2</th>\n",
       "      <td>BHK_NO</td>\n",
       "      <td>13.288661</td>\n",
       "    </tr>\n",
       "    <tr>\n",
       "      <th>5</th>\n",
       "      <td>RESALE</td>\n",
       "      <td>11.510576</td>\n",
       "    </tr>\n",
       "    <tr>\n",
       "      <th>12</th>\n",
       "      <td>Region_S</td>\n",
       "      <td>4.401047</td>\n",
       "    </tr>\n",
       "    <tr>\n",
       "      <th>10</th>\n",
       "      <td>Region_N</td>\n",
       "      <td>3.063532</td>\n",
       "    </tr>\n",
       "    <tr>\n",
       "      <th>6</th>\n",
       "      <td>State</td>\n",
       "      <td>2.740234</td>\n",
       "    </tr>\n",
       "    <tr>\n",
       "      <th>8</th>\n",
       "      <td>POSTED_BY_Owner</td>\n",
       "      <td>1.900458</td>\n",
       "    </tr>\n",
       "    <tr>\n",
       "      <th>1</th>\n",
       "      <td>RERA</td>\n",
       "      <td>1.885072</td>\n",
       "    </tr>\n",
       "    <tr>\n",
       "      <th>4</th>\n",
       "      <td>SQUARE_FT</td>\n",
       "      <td>1.641552</td>\n",
       "    </tr>\n",
       "    <tr>\n",
       "      <th>15</th>\n",
       "      <td>Region_W</td>\n",
       "      <td>1.638216</td>\n",
       "    </tr>\n",
       "    <tr>\n",
       "      <th>7</th>\n",
       "      <td>Size</td>\n",
       "      <td>1.567974</td>\n",
       "    </tr>\n",
       "    <tr>\n",
       "      <th>0</th>\n",
       "      <td>UNDER_CONSTRUCTION</td>\n",
       "      <td>1.517543</td>\n",
       "    </tr>\n",
       "    <tr>\n",
       "      <th>11</th>\n",
       "      <td>Region_NW</td>\n",
       "      <td>1.102905</td>\n",
       "    </tr>\n",
       "    <tr>\n",
       "      <th>14</th>\n",
       "      <td>Region_SW</td>\n",
       "      <td>1.085830</td>\n",
       "    </tr>\n",
       "    <tr>\n",
       "      <th>9</th>\n",
       "      <td>Region_E</td>\n",
       "      <td>1.057094</td>\n",
       "    </tr>\n",
       "    <tr>\n",
       "      <th>3</th>\n",
       "      <td>BHK_OR_RK</td>\n",
       "      <td>1.007201</td>\n",
       "    </tr>\n",
       "    <tr>\n",
       "      <th>13</th>\n",
       "      <td>Region_SE</td>\n",
       "      <td>1.000418</td>\n",
       "    </tr>\n",
       "  </tbody>\n",
       "</table>\n",
       "</div>"
      ],
      "text/plain": [
       "         Feature Names        VIF\n",
       "2               BHK_NO  13.288661\n",
       "5               RESALE  11.510576\n",
       "12            Region_S   4.401047\n",
       "10            Region_N   3.063532\n",
       "6                State   2.740234\n",
       "8      POSTED_BY_Owner   1.900458\n",
       "1                 RERA   1.885072\n",
       "4            SQUARE_FT   1.641552\n",
       "15            Region_W   1.638216\n",
       "7                 Size   1.567974\n",
       "0   UNDER_CONSTRUCTION   1.517543\n",
       "11           Region_NW   1.102905\n",
       "14           Region_SW   1.085830\n",
       "9             Region_E   1.057094\n",
       "3            BHK_OR_RK   1.007201\n",
       "13           Region_SE   1.000418"
      ]
     },
     "execution_count": 93,
     "metadata": {},
     "output_type": "execute_result"
    }
   ],
   "source": [
    "vif_list = []\n",
    "for i in range(x.shape[1]):\n",
    "    vif_list.append(variance_inflation_factor(x.values,i))\n",
    "                    \n",
    "pd.DataFrame({'Feature Names':x.columns,'VIF':vif_list}).sort_values(by='VIF',ascending=False)"
   ]
  },
  {
   "cell_type": "code",
   "execution_count": 94,
   "id": "95336044",
   "metadata": {},
   "outputs": [
    {
     "data": {
      "text/html": [
       "<div>\n",
       "<style scoped>\n",
       "    .dataframe tbody tr th:only-of-type {\n",
       "        vertical-align: middle;\n",
       "    }\n",
       "\n",
       "    .dataframe tbody tr th {\n",
       "        vertical-align: top;\n",
       "    }\n",
       "\n",
       "    .dataframe thead th {\n",
       "        text-align: right;\n",
       "    }\n",
       "</style>\n",
       "<table border=\"1\" class=\"dataframe\">\n",
       "  <thead>\n",
       "    <tr style=\"text-align: right;\">\n",
       "      <th></th>\n",
       "      <th>UNDER_CONSTRUCTION</th>\n",
       "      <th>RERA</th>\n",
       "      <th>BHK_NO</th>\n",
       "      <th>BHK_OR_RK</th>\n",
       "      <th>SQUARE_FT</th>\n",
       "      <th>RESALE</th>\n",
       "      <th>State</th>\n",
       "      <th>Size</th>\n",
       "      <th>POSTED_BY_Owner</th>\n",
       "      <th>Region_E</th>\n",
       "      <th>Region_N</th>\n",
       "      <th>Region_NW</th>\n",
       "      <th>Region_S</th>\n",
       "      <th>Region_SE</th>\n",
       "      <th>Region_SW</th>\n",
       "      <th>Region_W</th>\n",
       "    </tr>\n",
       "  </thead>\n",
       "  <tbody>\n",
       "    <tr>\n",
       "      <th>0</th>\n",
       "      <td>0</td>\n",
       "      <td>0</td>\n",
       "      <td>2</td>\n",
       "      <td>0</td>\n",
       "      <td>0.149188</td>\n",
       "      <td>1</td>\n",
       "      <td>0</td>\n",
       "      <td>0</td>\n",
       "      <td>1</td>\n",
       "      <td>0</td>\n",
       "      <td>0</td>\n",
       "      <td>0</td>\n",
       "      <td>1</td>\n",
       "      <td>0</td>\n",
       "      <td>0</td>\n",
       "      <td>0</td>\n",
       "    </tr>\n",
       "    <tr>\n",
       "      <th>1</th>\n",
       "      <td>0</td>\n",
       "      <td>0</td>\n",
       "      <td>2</td>\n",
       "      <td>0</td>\n",
       "      <td>0.115320</td>\n",
       "      <td>1</td>\n",
       "      <td>1</td>\n",
       "      <td>0</td>\n",
       "      <td>0</td>\n",
       "      <td>0</td>\n",
       "      <td>0</td>\n",
       "      <td>0</td>\n",
       "      <td>1</td>\n",
       "      <td>0</td>\n",
       "      <td>0</td>\n",
       "      <td>0</td>\n",
       "    </tr>\n",
       "    <tr>\n",
       "      <th>2</th>\n",
       "      <td>0</td>\n",
       "      <td>0</td>\n",
       "      <td>2</td>\n",
       "      <td>0</td>\n",
       "      <td>-0.424034</td>\n",
       "      <td>1</td>\n",
       "      <td>0</td>\n",
       "      <td>0</td>\n",
       "      <td>1</td>\n",
       "      <td>0</td>\n",
       "      <td>0</td>\n",
       "      <td>0</td>\n",
       "      <td>1</td>\n",
       "      <td>0</td>\n",
       "      <td>0</td>\n",
       "      <td>0</td>\n",
       "    </tr>\n",
       "    <tr>\n",
       "      <th>3</th>\n",
       "      <td>0</td>\n",
       "      <td>1</td>\n",
       "      <td>2</td>\n",
       "      <td>0</td>\n",
       "      <td>-0.430042</td>\n",
       "      <td>1</td>\n",
       "      <td>2</td>\n",
       "      <td>0</td>\n",
       "      <td>1</td>\n",
       "      <td>0</td>\n",
       "      <td>1</td>\n",
       "      <td>0</td>\n",
       "      <td>0</td>\n",
       "      <td>0</td>\n",
       "      <td>0</td>\n",
       "      <td>0</td>\n",
       "    </tr>\n",
       "    <tr>\n",
       "      <th>4</th>\n",
       "      <td>1</td>\n",
       "      <td>0</td>\n",
       "      <td>2</td>\n",
       "      <td>0</td>\n",
       "      <td>-0.306206</td>\n",
       "      <td>1</td>\n",
       "      <td>3</td>\n",
       "      <td>0</td>\n",
       "      <td>0</td>\n",
       "      <td>0</td>\n",
       "      <td>0</td>\n",
       "      <td>0</td>\n",
       "      <td>0</td>\n",
       "      <td>0</td>\n",
       "      <td>0</td>\n",
       "      <td>1</td>\n",
       "    </tr>\n",
       "    <tr>\n",
       "      <th>...</th>\n",
       "      <td>...</td>\n",
       "      <td>...</td>\n",
       "      <td>...</td>\n",
       "      <td>...</td>\n",
       "      <td>...</td>\n",
       "      <td>...</td>\n",
       "      <td>...</td>\n",
       "      <td>...</td>\n",
       "      <td>...</td>\n",
       "      <td>...</td>\n",
       "      <td>...</td>\n",
       "      <td>...</td>\n",
       "      <td>...</td>\n",
       "      <td>...</td>\n",
       "      <td>...</td>\n",
       "      <td>...</td>\n",
       "    </tr>\n",
       "    <tr>\n",
       "      <th>29446</th>\n",
       "      <td>0</td>\n",
       "      <td>0</td>\n",
       "      <td>3</td>\n",
       "      <td>0</td>\n",
       "      <td>1.278863</td>\n",
       "      <td>1</td>\n",
       "      <td>1</td>\n",
       "      <td>0</td>\n",
       "      <td>1</td>\n",
       "      <td>0</td>\n",
       "      <td>1</td>\n",
       "      <td>0</td>\n",
       "      <td>0</td>\n",
       "      <td>0</td>\n",
       "      <td>0</td>\n",
       "      <td>0</td>\n",
       "    </tr>\n",
       "    <tr>\n",
       "      <th>29447</th>\n",
       "      <td>0</td>\n",
       "      <td>0</td>\n",
       "      <td>2</td>\n",
       "      <td>0</td>\n",
       "      <td>-0.757860</td>\n",
       "      <td>1</td>\n",
       "      <td>1</td>\n",
       "      <td>0</td>\n",
       "      <td>1</td>\n",
       "      <td>0</td>\n",
       "      <td>0</td>\n",
       "      <td>0</td>\n",
       "      <td>0</td>\n",
       "      <td>0</td>\n",
       "      <td>0</td>\n",
       "      <td>0</td>\n",
       "    </tr>\n",
       "    <tr>\n",
       "      <th>29448</th>\n",
       "      <td>0</td>\n",
       "      <td>0</td>\n",
       "      <td>2</td>\n",
       "      <td>0</td>\n",
       "      <td>-0.265805</td>\n",
       "      <td>1</td>\n",
       "      <td>5</td>\n",
       "      <td>0</td>\n",
       "      <td>0</td>\n",
       "      <td>0</td>\n",
       "      <td>1</td>\n",
       "      <td>0</td>\n",
       "      <td>0</td>\n",
       "      <td>0</td>\n",
       "      <td>0</td>\n",
       "      <td>0</td>\n",
       "    </tr>\n",
       "    <tr>\n",
       "      <th>29449</th>\n",
       "      <td>0</td>\n",
       "      <td>0</td>\n",
       "      <td>2</td>\n",
       "      <td>0</td>\n",
       "      <td>-0.435331</td>\n",
       "      <td>1</td>\n",
       "      <td>7</td>\n",
       "      <td>0</td>\n",
       "      <td>1</td>\n",
       "      <td>0</td>\n",
       "      <td>0</td>\n",
       "      <td>0</td>\n",
       "      <td>1</td>\n",
       "      <td>0</td>\n",
       "      <td>0</td>\n",
       "      <td>0</td>\n",
       "    </tr>\n",
       "    <tr>\n",
       "      <th>29450</th>\n",
       "      <td>0</td>\n",
       "      <td>1</td>\n",
       "      <td>2</td>\n",
       "      <td>0</td>\n",
       "      <td>-0.492761</td>\n",
       "      <td>1</td>\n",
       "      <td>5</td>\n",
       "      <td>0</td>\n",
       "      <td>0</td>\n",
       "      <td>0</td>\n",
       "      <td>1</td>\n",
       "      <td>0</td>\n",
       "      <td>0</td>\n",
       "      <td>0</td>\n",
       "      <td>0</td>\n",
       "      <td>0</td>\n",
       "    </tr>\n",
       "  </tbody>\n",
       "</table>\n",
       "<p>29047 rows × 16 columns</p>\n",
       "</div>"
      ],
      "text/plain": [
       "       UNDER_CONSTRUCTION  RERA  BHK_NO  BHK_OR_RK  SQUARE_FT  RESALE  State  \\\n",
       "0                       0     0       2          0   0.149188       1      0   \n",
       "1                       0     0       2          0   0.115320       1      1   \n",
       "2                       0     0       2          0  -0.424034       1      0   \n",
       "3                       0     1       2          0  -0.430042       1      2   \n",
       "4                       1     0       2          0  -0.306206       1      3   \n",
       "...                   ...   ...     ...        ...        ...     ...    ...   \n",
       "29446                   0     0       3          0   1.278863       1      1   \n",
       "29447                   0     0       2          0  -0.757860       1      1   \n",
       "29448                   0     0       2          0  -0.265805       1      5   \n",
       "29449                   0     0       2          0  -0.435331       1      7   \n",
       "29450                   0     1       2          0  -0.492761       1      5   \n",
       "\n",
       "       Size  POSTED_BY_Owner  Region_E  Region_N  Region_NW  Region_S  \\\n",
       "0         0                1         0         0          0         1   \n",
       "1         0                0         0         0          0         1   \n",
       "2         0                1         0         0          0         1   \n",
       "3         0                1         0         1          0         0   \n",
       "4         0                0         0         0          0         0   \n",
       "...     ...              ...       ...       ...        ...       ...   \n",
       "29446     0                1         0         1          0         0   \n",
       "29447     0                1         0         0          0         0   \n",
       "29448     0                0         0         1          0         0   \n",
       "29449     0                1         0         0          0         1   \n",
       "29450     0                0         0         1          0         0   \n",
       "\n",
       "       Region_SE  Region_SW  Region_W  \n",
       "0              0          0         0  \n",
       "1              0          0         0  \n",
       "2              0          0         0  \n",
       "3              0          0         0  \n",
       "4              0          0         1  \n",
       "...          ...        ...       ...  \n",
       "29446          0          0         0  \n",
       "29447          0          0         0  \n",
       "29448          0          0         0  \n",
       "29449          0          0         0  \n",
       "29450          0          0         0  \n",
       "\n",
       "[29047 rows x 16 columns]"
      ]
     },
     "execution_count": 94,
     "metadata": {},
     "output_type": "execute_result"
    }
   ],
   "source": [
    "x"
   ]
  },
  {
   "cell_type": "code",
   "execution_count": 95,
   "id": "f73eef94",
   "metadata": {},
   "outputs": [],
   "source": [
    "x_c = sma.add_constant(x)"
   ]
  },
  {
   "cell_type": "code",
   "execution_count": 96,
   "id": "d1a2637c",
   "metadata": {},
   "outputs": [
    {
     "data": {
      "text/html": [
       "<table class=\"simpletable\">\n",
       "<caption>OLS Regression Results</caption>\n",
       "<tr>\n",
       "  <th>Dep. Variable:</th>          <td>Price</td>      <th>  R-squared:         </th>  <td>   0.487</td>  \n",
       "</tr>\n",
       "<tr>\n",
       "  <th>Model:</th>                   <td>OLS</td>       <th>  Adj. R-squared:    </th>  <td>   0.487</td>  \n",
       "</tr>\n",
       "<tr>\n",
       "  <th>Method:</th>             <td>Least Squares</td>  <th>  F-statistic:       </th>  <td>   1722.</td>  \n",
       "</tr>\n",
       "<tr>\n",
       "  <th>Date:</th>             <td>Tue, 19 Mar 2024</td> <th>  Prob (F-statistic):</th>   <td>  0.00</td>   \n",
       "</tr>\n",
       "<tr>\n",
       "  <th>Time:</th>                 <td>03:12:22</td>     <th>  Log-Likelihood:    </th> <td>-2.1667e+05</td>\n",
       "</tr>\n",
       "<tr>\n",
       "  <th>No. Observations:</th>      <td> 29047</td>      <th>  AIC:               </th>  <td>4.334e+05</td> \n",
       "</tr>\n",
       "<tr>\n",
       "  <th>Df Residuals:</th>          <td> 29030</td>      <th>  BIC:               </th>  <td>4.335e+05</td> \n",
       "</tr>\n",
       "<tr>\n",
       "  <th>Df Model:</th>              <td>    16</td>      <th>                     </th>      <td> </td>     \n",
       "</tr>\n",
       "<tr>\n",
       "  <th>Covariance Type:</th>      <td>nonrobust</td>    <th>                     </th>      <td> </td>     \n",
       "</tr>\n",
       "</table>\n",
       "<table class=\"simpletable\">\n",
       "<tr>\n",
       "           <td></td>             <th>coef</th>     <th>std err</th>      <th>t</th>      <th>P>|t|</th>  <th>[0.025</th>    <th>0.975]</th>  \n",
       "</tr>\n",
       "<tr>\n",
       "  <th>const</th>              <td> 1076.9439</td> <td>   16.891</td> <td>   63.757</td> <td> 0.000</td> <td> 1043.836</td> <td> 1110.052</td>\n",
       "</tr>\n",
       "<tr>\n",
       "  <th>UNDER_CONSTRUCTION</th> <td>   44.0894</td> <td>    7.316</td> <td>    6.026</td> <td> 0.000</td> <td>   29.749</td> <td>   58.430</td>\n",
       "</tr>\n",
       "<tr>\n",
       "  <th>RERA</th>               <td>    1.2821</td> <td>    6.099</td> <td>    0.210</td> <td> 0.833</td> <td>  -10.672</td> <td>   13.236</td>\n",
       "</tr>\n",
       "<tr>\n",
       "  <th>BHK_NO</th>             <td> -281.6560</td> <td>    4.215</td> <td>  -66.824</td> <td> 0.000</td> <td> -289.917</td> <td> -273.395</td>\n",
       "</tr>\n",
       "<tr>\n",
       "  <th>BHK_OR_RK</th>          <td>  492.0891</td> <td>   86.147</td> <td>    5.712</td> <td> 0.000</td> <td>  323.237</td> <td>  660.942</td>\n",
       "</tr>\n",
       "<tr>\n",
       "  <th>SQUARE_FT</th>          <td>  499.2945</td> <td>    3.288</td> <td>  151.843</td> <td> 0.000</td> <td>  492.849</td> <td>  505.740</td>\n",
       "</tr>\n",
       "<tr>\n",
       "  <th>RESALE</th>             <td> -425.4729</td> <td>   10.562</td> <td>  -40.283</td> <td> 0.000</td> <td> -446.175</td> <td> -404.771</td>\n",
       "</tr>\n",
       "<tr>\n",
       "  <th>State</th>              <td>    8.7903</td> <td>    0.492</td> <td>   17.868</td> <td> 0.000</td> <td>    7.826</td> <td>    9.755</td>\n",
       "</tr>\n",
       "<tr>\n",
       "  <th>Size</th>               <td>   56.2346</td> <td>   12.117</td> <td>    4.641</td> <td> 0.000</td> <td>   32.485</td> <td>   79.985</td>\n",
       "</tr>\n",
       "<tr>\n",
       "  <th>POSTED_BY_Owner</th>    <td>   38.4364</td> <td>    5.835</td> <td>    6.587</td> <td> 0.000</td> <td>   26.999</td> <td>   49.874</td>\n",
       "</tr>\n",
       "<tr>\n",
       "  <th>Region_E</th>           <td>  223.0557</td> <td>   30.593</td> <td>    7.291</td> <td> 0.000</td> <td>  163.091</td> <td>  283.020</td>\n",
       "</tr>\n",
       "<tr>\n",
       "  <th>Region_N</th>           <td>  -36.3032</td> <td>    8.728</td> <td>   -4.159</td> <td> 0.000</td> <td>  -53.411</td> <td>  -19.196</td>\n",
       "</tr>\n",
       "<tr>\n",
       "  <th>Region_NW</th>          <td>   64.6023</td> <td>   25.483</td> <td>    2.535</td> <td> 0.011</td> <td>   14.655</td> <td>  114.550</td>\n",
       "</tr>\n",
       "<tr>\n",
       "  <th>Region_S</th>           <td>   86.5158</td> <td>    8.291</td> <td>   10.434</td> <td> 0.000</td> <td>   70.264</td> <td>  102.767</td>\n",
       "</tr>\n",
       "<tr>\n",
       "  <th>Region_SE</th>          <td>   48.8309</td> <td>  420.281</td> <td>    0.116</td> <td> 0.908</td> <td> -774.939</td> <td>  872.601</td>\n",
       "</tr>\n",
       "<tr>\n",
       "  <th>Region_SW</th>          <td>  -18.0196</td> <td>   27.611</td> <td>   -0.653</td> <td> 0.514</td> <td>  -72.139</td> <td>   36.100</td>\n",
       "</tr>\n",
       "<tr>\n",
       "  <th>Region_W</th>           <td>  129.3542</td> <td>   12.413</td> <td>   10.421</td> <td> 0.000</td> <td>  105.025</td> <td>  153.683</td>\n",
       "</tr>\n",
       "</table>\n",
       "<table class=\"simpletable\">\n",
       "<tr>\n",
       "  <th>Omnibus:</th>       <td>33957.284</td> <th>  Durbin-Watson:     </th>  <td>   2.001</td>  \n",
       "</tr>\n",
       "<tr>\n",
       "  <th>Prob(Omnibus):</th>  <td> 0.000</td>   <th>  Jarque-Bera (JB):  </th> <td>8703534.162</td>\n",
       "</tr>\n",
       "<tr>\n",
       "  <th>Skew:</th>           <td> 5.868</td>   <th>  Prob(JB):          </th>  <td>    0.00</td>  \n",
       "</tr>\n",
       "<tr>\n",
       "  <th>Kurtosis:</th>       <td>86.985</td>   <th>  Cond. No.          </th>  <td>1.58e+03</td>  \n",
       "</tr>\n",
       "</table><br/><br/>Notes:<br/>[1] Standard Errors assume that the covariance matrix of the errors is correctly specified.<br/>[2] The condition number is large, 1.58e+03. This might indicate that there are<br/>strong multicollinearity or other numerical problems."
      ],
      "text/plain": [
       "<class 'statsmodels.iolib.summary.Summary'>\n",
       "\"\"\"\n",
       "                            OLS Regression Results                            \n",
       "==============================================================================\n",
       "Dep. Variable:                  Price   R-squared:                       0.487\n",
       "Model:                            OLS   Adj. R-squared:                  0.487\n",
       "Method:                 Least Squares   F-statistic:                     1722.\n",
       "Date:                Tue, 19 Mar 2024   Prob (F-statistic):               0.00\n",
       "Time:                        03:12:22   Log-Likelihood:            -2.1667e+05\n",
       "No. Observations:               29047   AIC:                         4.334e+05\n",
       "Df Residuals:                   29030   BIC:                         4.335e+05\n",
       "Df Model:                          16                                         \n",
       "Covariance Type:            nonrobust                                         \n",
       "======================================================================================\n",
       "                         coef    std err          t      P>|t|      [0.025      0.975]\n",
       "--------------------------------------------------------------------------------------\n",
       "const               1076.9439     16.891     63.757      0.000    1043.836    1110.052\n",
       "UNDER_CONSTRUCTION    44.0894      7.316      6.026      0.000      29.749      58.430\n",
       "RERA                   1.2821      6.099      0.210      0.833     -10.672      13.236\n",
       "BHK_NO              -281.6560      4.215    -66.824      0.000    -289.917    -273.395\n",
       "BHK_OR_RK            492.0891     86.147      5.712      0.000     323.237     660.942\n",
       "SQUARE_FT            499.2945      3.288    151.843      0.000     492.849     505.740\n",
       "RESALE              -425.4729     10.562    -40.283      0.000    -446.175    -404.771\n",
       "State                  8.7903      0.492     17.868      0.000       7.826       9.755\n",
       "Size                  56.2346     12.117      4.641      0.000      32.485      79.985\n",
       "POSTED_BY_Owner       38.4364      5.835      6.587      0.000      26.999      49.874\n",
       "Region_E             223.0557     30.593      7.291      0.000     163.091     283.020\n",
       "Region_N             -36.3032      8.728     -4.159      0.000     -53.411     -19.196\n",
       "Region_NW             64.6023     25.483      2.535      0.011      14.655     114.550\n",
       "Region_S              86.5158      8.291     10.434      0.000      70.264     102.767\n",
       "Region_SE             48.8309    420.281      0.116      0.908    -774.939     872.601\n",
       "Region_SW            -18.0196     27.611     -0.653      0.514     -72.139      36.100\n",
       "Region_W             129.3542     12.413     10.421      0.000     105.025     153.683\n",
       "==============================================================================\n",
       "Omnibus:                    33957.284   Durbin-Watson:                   2.001\n",
       "Prob(Omnibus):                  0.000   Jarque-Bera (JB):          8703534.162\n",
       "Skew:                           5.868   Prob(JB):                         0.00\n",
       "Kurtosis:                      86.985   Cond. No.                     1.58e+03\n",
       "==============================================================================\n",
       "\n",
       "Notes:\n",
       "[1] Standard Errors assume that the covariance matrix of the errors is correctly specified.\n",
       "[2] The condition number is large, 1.58e+03. This might indicate that there are\n",
       "strong multicollinearity or other numerical problems.\n",
       "\"\"\""
      ]
     },
     "execution_count": 96,
     "metadata": {},
     "output_type": "execute_result"
    }
   ],
   "source": [
    "model = sma.OLS(y,x_c).fit()\n",
    "model.summary()"
   ]
  },
  {
   "cell_type": "code",
   "execution_count": 97,
   "id": "e5c8165d",
   "metadata": {},
   "outputs": [],
   "source": [
    "from sklearn.linear_model import LinearRegression\n",
    "from sklearn.tree import DecisionTreeRegressor\n",
    "from sklearn.ensemble import RandomForestRegressor,GradientBoostingRegressor,AdaBoostRegressor\n",
    "from xgboost import XGBRegressor"
   ]
  },
  {
   "cell_type": "code",
   "execution_count": 98,
   "id": "e38b8f50",
   "metadata": {},
   "outputs": [],
   "source": [
    "# base model\n",
    "def base_models():\n",
    "    models = dict()\n",
    "    models['LR'] = LinearRegression()\n",
    "    models['DTREE'] = DecisionTreeRegressor()\n",
    "    models['RF'] = RandomForestRegressor()\n",
    "    models['GBM'] = GradientBoostingRegressor()\n",
    "    models['XGB'] = XGBRegressor()\n",
    "    models['ADA'] = AdaBoostRegressor()\n",
    "    return models"
   ]
  },
  {
   "cell_type": "code",
   "execution_count": 99,
   "id": "a6343b32",
   "metadata": {},
   "outputs": [],
   "source": [
    "from sklearn.model_selection import KFold,cross_val_score\n",
    "\n",
    "def eval_models(model):\n",
    "    cv = KFold(n_splits=5,shuffle=True,random_state=1001)\n",
    "    scores = cross_val_score(estimator=model,X =x,y = y,cv=cv,scoring='r2',\n",
    "                            n_jobs=-1)\n",
    "    return scores\n",
    "\n",
    "\n"
   ]
  },
  {
   "cell_type": "code",
   "execution_count": 100,
   "id": "0fa2da96",
   "metadata": {},
   "outputs": [
    {
     "name": "stdout",
     "output_type": "stream",
     "text": [
      "LR 0.47284448933274953\n",
      "DTREE 0.6830551191856016\n",
      "RF 0.7675647576847484\n",
      "GBM 0.8092338170055264\n",
      "XGB 0.8321835271395294\n",
      "ADA 0.8142534173727183\n"
     ]
    }
   ],
   "source": [
    "# lets use the functions to calculate the scores........\n",
    "\n",
    "models = base_models()\n",
    "\n",
    "result , names = list() , list()\n",
    "\n",
    "for name , mymodel in models.items():\n",
    "    finalscore = eval_models(mymodel)\n",
    "    result.append(finalscore)\n",
    "    names.append(name)\n",
    "    print(name,np.mean(result))"
   ]
  },
  {
   "cell_type": "code",
   "execution_count": 101,
   "id": "10c128bd",
   "metadata": {},
   "outputs": [],
   "source": [
    "from sklearn.ensemble import StackingRegressor\n",
    "\n",
    "GBM = GradientBoostingRegressor()\n",
    "XGB = XGBRegressor()\n",
    "RF = RandomForestRegressor()\n",
    "\n",
    "base_estimators = [('GBM',GBM),('XGB',XGB)]\n",
    "stack = StackingRegressor(estimators = base_estimators,final_estimator=RF,cv=5)\n",
    "\n",
    "pred = stack.fit(x,y).predict(newtest)"
   ]
  },
  {
   "cell_type": "code",
   "execution_count": 102,
   "id": "b4de14c7",
   "metadata": {},
   "outputs": [
    {
     "data": {
      "text/plain": [
       "array([  18.91716667,  128.07000649,   51.88333333, ..., 9355.85      ,\n",
       "         85.17696508,  502.63416667])"
      ]
     },
     "execution_count": 102,
     "metadata": {},
     "output_type": "execute_result"
    }
   ],
   "source": [
    "pred"
   ]
  },
  {
   "cell_type": "code",
   "execution_count": null,
   "id": "1a9eeed1",
   "metadata": {},
   "outputs": [],
   "source": []
  }
 ],
 "metadata": {
  "kernelspec": {
   "display_name": "Python 3 (ipykernel)",
   "language": "python",
   "name": "python3"
  },
  "language_info": {
   "codemirror_mode": {
    "name": "ipython",
    "version": 3
   },
   "file_extension": ".py",
   "mimetype": "text/x-python",
   "name": "python",
   "nbconvert_exporter": "python",
   "pygments_lexer": "ipython3",
   "version": "3.11.3"
  }
 },
 "nbformat": 4,
 "nbformat_minor": 5
}
