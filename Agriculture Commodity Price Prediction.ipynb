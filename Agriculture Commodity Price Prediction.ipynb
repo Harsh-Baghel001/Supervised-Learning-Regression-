{
 "cells": [
  {
   "cell_type": "markdown",
   "id": "c836fd6e",
   "metadata": {},
   "source": [
    "# Commodity Model Price Prediction(Big Data)"
   ]
  },
  {
   "cell_type": "code",
   "execution_count": 149,
   "id": "299d683b",
   "metadata": {
    "execution": {
     "iopub.execute_input": "2024-04-05T18:34:13.314550Z",
     "iopub.status.busy": "2024-04-05T18:34:13.313937Z",
     "iopub.status.idle": "2024-04-05T18:34:13.322096Z",
     "shell.execute_reply": "2024-04-05T18:34:13.320616Z",
     "shell.execute_reply.started": "2024-04-05T18:34:13.314487Z"
    }
   },
   "outputs": [],
   "source": [
    "import numpy as np\n",
    "import pandas as pd\n",
    "import warnings\n",
    "warnings.filterwarnings('ignore')\n",
    "import seaborn as sns\n",
    "import matplotlib.pyplot as plt"
   ]
  },
  {
   "cell_type": "code",
   "execution_count": 150,
   "id": "e4f6769a",
   "metadata": {
    "execution": {
     "iopub.execute_input": "2024-04-05T18:34:13.340936Z",
     "iopub.status.busy": "2024-04-05T18:34:13.340031Z",
     "iopub.status.idle": "2024-04-05T18:34:14.843818Z",
     "shell.execute_reply": "2024-04-05T18:34:14.842575Z",
     "shell.execute_reply.started": "2024-04-05T18:34:13.340893Z"
    }
   },
   "outputs": [
    {
     "data": {
      "text/html": [
       "<div>\n",
       "<style scoped>\n",
       "    .dataframe tbody tr th:only-of-type {\n",
       "        vertical-align: middle;\n",
       "    }\n",
       "\n",
       "    .dataframe tbody tr th {\n",
       "        vertical-align: top;\n",
       "    }\n",
       "\n",
       "    .dataframe thead th {\n",
       "        text-align: right;\n",
       "    }\n",
       "</style>\n",
       "<table border=\"1\" class=\"dataframe\">\n",
       "  <thead>\n",
       "    <tr style=\"text-align: right;\">\n",
       "      <th></th>\n",
       "      <th>commodity_name</th>\n",
       "      <th>state</th>\n",
       "      <th>district</th>\n",
       "      <th>market</th>\n",
       "      <th>min_price</th>\n",
       "      <th>max_price</th>\n",
       "      <th>modal_price</th>\n",
       "      <th>date</th>\n",
       "    </tr>\n",
       "  </thead>\n",
       "  <tbody>\n",
       "    <tr>\n",
       "      <th>0</th>\n",
       "      <td>Ajwan</td>\n",
       "      <td>Gujarat</td>\n",
       "      <td>Amreli</td>\n",
       "      <td>Amreli</td>\n",
       "      <td>63.25</td>\n",
       "      <td>79.55</td>\n",
       "      <td>79.55</td>\n",
       "      <td>2019-05-22</td>\n",
       "    </tr>\n",
       "    <tr>\n",
       "      <th>1</th>\n",
       "      <td>Ajwan</td>\n",
       "      <td>Gujarat</td>\n",
       "      <td>Banaskanth</td>\n",
       "      <td>Dhanera</td>\n",
       "      <td>80.05</td>\n",
       "      <td>80.05</td>\n",
       "      <td>80.05</td>\n",
       "      <td>2019-05-22</td>\n",
       "    </tr>\n",
       "    <tr>\n",
       "      <th>2</th>\n",
       "      <td>Ajwan</td>\n",
       "      <td>Gujarat</td>\n",
       "      <td>Jamnagar</td>\n",
       "      <td>Jamnagar</td>\n",
       "      <td>90.00</td>\n",
       "      <td>155.00</td>\n",
       "      <td>122.50</td>\n",
       "      <td>2019-05-22</td>\n",
       "    </tr>\n",
       "    <tr>\n",
       "      <th>3</th>\n",
       "      <td>Ajwan</td>\n",
       "      <td>Gujarat</td>\n",
       "      <td>Mehsana</td>\n",
       "      <td>Kadi</td>\n",
       "      <td>94.50</td>\n",
       "      <td>112.50</td>\n",
       "      <td>107.00</td>\n",
       "      <td>2019-05-22</td>\n",
       "    </tr>\n",
       "    <tr>\n",
       "      <th>4</th>\n",
       "      <td>Ajwan</td>\n",
       "      <td>Gujarat</td>\n",
       "      <td>Mehsana</td>\n",
       "      <td>Unjha</td>\n",
       "      <td>21.25</td>\n",
       "      <td>148.50</td>\n",
       "      <td>99.75</td>\n",
       "      <td>2019-05-22</td>\n",
       "    </tr>\n",
       "    <tr>\n",
       "      <th>5</th>\n",
       "      <td>Ajwan</td>\n",
       "      <td>Madhya Pradesh</td>\n",
       "      <td>Neemuch</td>\n",
       "      <td>Neemuch</td>\n",
       "      <td>80.00</td>\n",
       "      <td>132.00</td>\n",
       "      <td>95.00</td>\n",
       "      <td>2019-05-22</td>\n",
       "    </tr>\n",
       "    <tr>\n",
       "      <th>6</th>\n",
       "      <td>Ajwan</td>\n",
       "      <td>Rajasthan</td>\n",
       "      <td>Chittorgarh</td>\n",
       "      <td>Nimbahera</td>\n",
       "      <td>9.77</td>\n",
       "      <td>9.95</td>\n",
       "      <td>9.80</td>\n",
       "      <td>2019-05-22</td>\n",
       "    </tr>\n",
       "    <tr>\n",
       "      <th>7</th>\n",
       "      <td>Ajwan</td>\n",
       "      <td>Rajasthan</td>\n",
       "      <td>Chittorgarh</td>\n",
       "      <td>Pratapgarh</td>\n",
       "      <td>100.50</td>\n",
       "      <td>120.90</td>\n",
       "      <td>110.70</td>\n",
       "      <td>2019-05-22</td>\n",
       "    </tr>\n",
       "    <tr>\n",
       "      <th>8</th>\n",
       "      <td>Alasande+Gram</td>\n",
       "      <td>Karnataka</td>\n",
       "      <td>Bagalkot</td>\n",
       "      <td>Bagalakot</td>\n",
       "      <td>46.01</td>\n",
       "      <td>46.50</td>\n",
       "      <td>46.46</td>\n",
       "      <td>2019-05-22</td>\n",
       "    </tr>\n",
       "    <tr>\n",
       "      <th>9</th>\n",
       "      <td>Alasande+Gram</td>\n",
       "      <td>Karnataka</td>\n",
       "      <td>Bangalore</td>\n",
       "      <td>Bangalore</td>\n",
       "      <td>48.00</td>\n",
       "      <td>53.00</td>\n",
       "      <td>50.50</td>\n",
       "      <td>2019-05-22</td>\n",
       "    </tr>\n",
       "  </tbody>\n",
       "</table>\n",
       "</div>"
      ],
      "text/plain": [
       "  commodity_name           state     district      market  min_price  \\\n",
       "0          Ajwan         Gujarat       Amreli      Amreli      63.25   \n",
       "1          Ajwan         Gujarat   Banaskanth     Dhanera      80.05   \n",
       "2          Ajwan         Gujarat     Jamnagar    Jamnagar      90.00   \n",
       "3          Ajwan         Gujarat      Mehsana        Kadi      94.50   \n",
       "4          Ajwan         Gujarat      Mehsana       Unjha      21.25   \n",
       "5          Ajwan  Madhya Pradesh      Neemuch     Neemuch      80.00   \n",
       "6          Ajwan       Rajasthan  Chittorgarh   Nimbahera       9.77   \n",
       "7          Ajwan       Rajasthan  Chittorgarh  Pratapgarh     100.50   \n",
       "8  Alasande+Gram       Karnataka     Bagalkot   Bagalakot      46.01   \n",
       "9  Alasande+Gram       Karnataka    Bangalore   Bangalore      48.00   \n",
       "\n",
       "   max_price  modal_price        date  \n",
       "0      79.55        79.55  2019-05-22  \n",
       "1      80.05        80.05  2019-05-22  \n",
       "2     155.00       122.50  2019-05-22  \n",
       "3     112.50       107.00  2019-05-22  \n",
       "4     148.50        99.75  2019-05-22  \n",
       "5     132.00        95.00  2019-05-22  \n",
       "6       9.95         9.80  2019-05-22  \n",
       "7     120.90       110.70  2019-05-22  \n",
       "8      46.50        46.46  2019-05-22  \n",
       "9      53.00        50.50  2019-05-22  "
      ]
     },
     "execution_count": 150,
     "metadata": {},
     "output_type": "execute_result"
    }
   ],
   "source": [
    "data = pd.read_csv('/kaggle/input/agriculture/agridata_csv_202110311352.csv')\n",
    "data.head(10)"
   ]
  },
  {
   "cell_type": "code",
   "execution_count": 151,
   "id": "d83fc1d1",
   "metadata": {
    "execution": {
     "iopub.execute_input": "2024-04-05T18:34:14.847119Z",
     "iopub.status.busy": "2024-04-05T18:34:14.846655Z",
     "iopub.status.idle": "2024-04-05T18:34:14.854545Z",
     "shell.execute_reply": "2024-04-05T18:34:14.853416Z",
     "shell.execute_reply.started": "2024-04-05T18:34:14.847078Z"
    }
   },
   "outputs": [
    {
     "data": {
      "text/plain": [
       "(836977, 8)"
      ]
     },
     "execution_count": 151,
     "metadata": {},
     "output_type": "execute_result"
    }
   ],
   "source": [
    "data.shape"
   ]
  },
  {
   "cell_type": "code",
   "execution_count": 152,
   "id": "63af24a9",
   "metadata": {
    "execution": {
     "iopub.execute_input": "2024-04-05T18:34:14.856320Z",
     "iopub.status.busy": "2024-04-05T18:34:14.855989Z",
     "iopub.status.idle": "2024-04-05T18:34:14.951093Z",
     "shell.execute_reply": "2024-04-05T18:34:14.949873Z",
     "shell.execute_reply.started": "2024-04-05T18:34:14.856293Z"
    }
   },
   "outputs": [
    {
     "data": {
      "text/plain": [
       "2392"
      ]
     },
     "execution_count": 152,
     "metadata": {},
     "output_type": "execute_result"
    }
   ],
   "source": [
    "data.market.nunique()"
   ]
  },
  {
   "cell_type": "code",
   "execution_count": 153,
   "id": "82ee52cd",
   "metadata": {
    "execution": {
     "iopub.execute_input": "2024-04-05T18:34:14.954175Z",
     "iopub.status.busy": "2024-04-05T18:34:14.953806Z",
     "iopub.status.idle": "2024-04-05T18:34:15.394370Z",
     "shell.execute_reply": "2024-04-05T18:34:15.393190Z",
     "shell.execute_reply.started": "2024-04-05T18:34:14.954144Z"
    }
   },
   "outputs": [
    {
     "data": {
      "text/plain": [
       "commodity_name      249\n",
       "state                30\n",
       "district            487\n",
       "market             2392\n",
       "min_price         10028\n",
       "max_price         12164\n",
       "modal_price       12101\n",
       "date                370\n",
       "dtype: int64"
      ]
     },
     "execution_count": 153,
     "metadata": {},
     "output_type": "execute_result"
    }
   ],
   "source": [
    "data.nunique()"
   ]
  },
  {
   "cell_type": "code",
   "execution_count": 154,
   "id": "3569c32d",
   "metadata": {
    "execution": {
     "iopub.execute_input": "2024-04-05T18:34:15.396129Z",
     "iopub.status.busy": "2024-04-05T18:34:15.395686Z",
     "iopub.status.idle": "2024-04-05T18:34:15.481549Z",
     "shell.execute_reply": "2024-04-05T18:34:15.480588Z",
     "shell.execute_reply.started": "2024-04-05T18:34:15.396088Z"
    }
   },
   "outputs": [
    {
     "data": {
      "text/plain": [
       "array(['Gujarat', 'Madhya Pradesh', 'Rajasthan', 'Karnataka', 'Kerala',\n",
       "       'Punjab', 'Uttar Pradesh', 'Chattisgarh', 'Haryana',\n",
       "       'Himachal Pradesh', 'Maharashtra', 'NCT of Delhi', 'Odisha',\n",
       "       'Uttrakhand', 'West Bengal', 'Assam', 'Manipur',\n",
       "       'Jammu and Kashmir', 'Meghalaya', 'Nagaland', 'Tripura',\n",
       "       'Telangana', 'Tamil Nadu', 'Andhra Pradesh', 'Pondicherry',\n",
       "       'Jharkhand', 'Goa', 'Mizoram', 'Andaman and Nicobar', '1.50'],\n",
       "      dtype=object)"
      ]
     },
     "execution_count": 154,
     "metadata": {},
     "output_type": "execute_result"
    }
   ],
   "source": [
    "data.state.unique()"
   ]
  },
  {
   "cell_type": "code",
   "execution_count": 155,
   "id": "be446baa",
   "metadata": {
    "execution": {
     "iopub.execute_input": "2024-04-05T18:34:15.483217Z",
     "iopub.status.busy": "2024-04-05T18:34:15.482772Z",
     "iopub.status.idle": "2024-04-05T18:34:15.492366Z",
     "shell.execute_reply": "2024-04-05T18:34:15.491237Z",
     "shell.execute_reply.started": "2024-04-05T18:34:15.483174Z"
    }
   },
   "outputs": [
    {
     "data": {
      "text/plain": [
       "0          2019-05-22\n",
       "1          2019-05-22\n",
       "2          2019-05-22\n",
       "3          2019-05-22\n",
       "4          2019-05-22\n",
       "             ...     \n",
       "836972    06 Oct 2021\n",
       "836973    06 Oct 2021\n",
       "836974    06 Oct 2021\n",
       "836975    06 Oct 2021\n",
       "836976    06 Oct 2021\n",
       "Name: date, Length: 836977, dtype: object"
      ]
     },
     "execution_count": 155,
     "metadata": {},
     "output_type": "execute_result"
    }
   ],
   "source": [
    "data['date']"
   ]
  },
  {
   "cell_type": "code",
   "execution_count": 156,
   "id": "2dd025f3",
   "metadata": {
    "execution": {
     "iopub.execute_input": "2024-04-05T18:34:15.493972Z",
     "iopub.status.busy": "2024-04-05T18:34:15.493528Z",
     "iopub.status.idle": "2024-04-05T18:34:15.692106Z",
     "shell.execute_reply": "2024-04-05T18:34:15.691003Z",
     "shell.execute_reply.started": "2024-04-05T18:34:15.493942Z"
    }
   },
   "outputs": [],
   "source": [
    "data['date'] = pd.to_datetime(data['date'],format=\"mixed\",dayfirst=True)"
   ]
  },
  {
   "cell_type": "code",
   "execution_count": 157,
   "id": "4cc2c08d",
   "metadata": {
    "execution": {
     "iopub.execute_input": "2024-04-05T18:34:15.693983Z",
     "iopub.status.busy": "2024-04-05T18:34:15.693440Z",
     "iopub.status.idle": "2024-04-05T18:34:17.335892Z",
     "shell.execute_reply": "2024-04-05T18:34:17.334648Z",
     "shell.execute_reply.started": "2024-04-05T18:34:15.693952Z"
    }
   },
   "outputs": [
    {
     "data": {
      "image/png": "[encoded data removed]",
      "text/plain": [
       "<Figure size 640x480 with 1 Axes>"
      ]
     },
     "metadata": {},
     "output_type": "display_data"
    }
   ],
   "source": [
    "sns.histplot(x=data['date'])\n",
    "plt.xticks(rotation=90);"
   ]
  },
  {
   "cell_type": "code",
   "execution_count": null,
   "id": "265090f5",
   "metadata": {},
   "outputs": [],
   "source": []
  },
  {
   "cell_type": "code",
   "execution_count": 158,
   "id": "49464009",
   "metadata": {
    "execution": {
     "iopub.execute_input": "2024-04-05T18:34:17.337752Z",
     "iopub.status.busy": "2024-04-05T18:34:17.337091Z",
     "iopub.status.idle": "2024-04-05T18:34:17.341690Z",
     "shell.execute_reply": "2024-04-05T18:34:17.340806Z",
     "shell.execute_reply.started": "2024-04-05T18:34:17.337720Z"
    }
   },
   "outputs": [],
   "source": [
    "num_cols = ['min_price','max_price', 'modal_price']"
   ]
  },
  {
   "cell_type": "code",
   "execution_count": 159,
   "id": "e2de33e9",
   "metadata": {
    "execution": {
     "iopub.execute_input": "2024-04-05T18:34:17.346707Z",
     "iopub.status.busy": "2024-04-05T18:34:17.346290Z",
     "iopub.status.idle": "2024-04-05T18:34:17.354852Z",
     "shell.execute_reply": "2024-04-05T18:34:17.353697Z",
     "shell.execute_reply.started": "2024-04-05T18:34:17.346674Z"
    }
   },
   "outputs": [],
   "source": [
    "cat_cols = ['commodity_name', 'state', 'district', 'market']"
   ]
  },
  {
   "cell_type": "code",
   "execution_count": 160,
   "id": "c8251936",
   "metadata": {
    "execution": {
     "iopub.execute_input": "2024-04-05T18:34:17.357017Z",
     "iopub.status.busy": "2024-04-05T18:34:17.356411Z",
     "iopub.status.idle": "2024-04-05T18:34:18.388903Z",
     "shell.execute_reply": "2024-04-05T18:34:18.387462Z",
     "shell.execute_reply.started": "2024-04-05T18:34:17.356984Z"
    }
   },
   "outputs": [
    {
     "data": {
      "image/png": "[encoded data removed]",
      "text/plain": [
       "<Figure size 1000x1000 with 3 Axes>"
      ]
     },
     "metadata": {},
     "output_type": "display_data"
    }
   ],
   "source": [
    "t = 1\n",
    "plt.figure(figsize=(10,10))\n",
    "for i in num_cols:\n",
    "    plt.subplot(2,2,t)\n",
    "    sns.boxplot(data[i])\n",
    "    t+=1\n",
    "plt.tight_layout()\n",
    "plt.show()"
   ]
  },
  {
   "cell_type": "code",
   "execution_count": 161,
   "id": "7254fda6",
   "metadata": {
    "execution": {
     "iopub.execute_input": "2024-04-05T18:34:18.391784Z",
     "iopub.status.busy": "2024-04-05T18:34:18.390939Z",
     "iopub.status.idle": "2024-04-05T18:34:19.038606Z",
     "shell.execute_reply": "2024-04-05T18:34:19.037598Z",
     "shell.execute_reply.started": "2024-04-05T18:34:18.391728Z"
    }
   },
   "outputs": [
    {
     "name": "stdout",
     "output_type": "stream",
     "text": [
      "commodity_name\n",
      "Onion            44908\n",
      "Tomato           42715\n",
      "Wheat            41172\n",
      "Potato           37810\n",
      "Brinjal          33687\n",
      "                 ...  \n",
      "Lukad                2\n",
      "Siddota              1\n",
      "Sunhemp              1\n",
      "its                  1\n",
      "Almond(Badam)        1\n",
      "Name: count, Length: 249, dtype: int64\n",
      "---------------------------------------------\n",
      "state\n",
      "Uttar Pradesh          343165\n",
      "Maharashtra             67357\n",
      "Punjab                  67064\n",
      "Gujarat                 60993\n",
      "Kerala                  51492\n",
      "Madhya Pradesh          39212\n",
      "Himachal Pradesh        28425\n",
      "Karnataka               26979\n",
      "Rajasthan               26003\n",
      "Haryana                 25773\n",
      "West Bengal             21664\n",
      "Uttrakhand              13976\n",
      "Odisha                  13104\n",
      "Tamil Nadu              11309\n",
      "Tripura                 10019\n",
      "Telangana                8040\n",
      "Jammu and Kashmir        5583\n",
      "Chattisgarh              4674\n",
      "Andhra Pradesh           2941\n",
      "Assam                    2535\n",
      "NCT of Delhi             2368\n",
      "Meghalaya                1880\n",
      "Nagaland                  977\n",
      "Manipur                   349\n",
      "Pondicherry               301\n",
      "Jharkhand                 300\n",
      "Goa                       287\n",
      "Mizoram                   173\n",
      "Andaman and Nicobar        33\n",
      "1.50                        1\n",
      "Name: count, dtype: int64\n",
      "---------------------------------------------\n",
      "district\n",
      "Bulandshahar        12430\n",
      "Muzaffarnagar       11513\n",
      "Saharanpur          11049\n",
      "Etah                10669\n",
      "Agra                10572\n",
      "                    ...  \n",
      "Theni                   2\n",
      "Krishnagiri             2\n",
      "Thiruchirappalli        1\n",
      "Vijayanagaram           1\n",
      "3000                    1\n",
      "Name: count, Length: 487, dtype: int64\n",
      "---------------------------------------------\n",
      "market\n",
      "Saharanpur            5453\n",
      "Muzzafarnagar         4955\n",
      "Pratapgarh            4934\n",
      "Kasganj               4743\n",
      "Mainpuri              4697\n",
      "                      ... \n",
      "Gangadhara               1\n",
      "Dondi                    1\n",
      "Ajitwal (Dala)           1\n",
      "Ajitwal (Chogawan)       1\n",
      "Nagarkurnool             1\n",
      "Name: count, Length: 2392, dtype: int64\n",
      "---------------------------------------------\n"
     ]
    }
   ],
   "source": [
    "for i in cat_cols:\n",
    "    print(data[i].value_counts())\n",
    "    print('---------------------------------------------')"
   ]
  },
  {
   "cell_type": "code",
   "execution_count": 162,
   "id": "5beed44c",
   "metadata": {
    "execution": {
     "iopub.execute_input": "2024-04-05T18:34:19.041328Z",
     "iopub.status.busy": "2024-04-05T18:34:19.040208Z",
     "iopub.status.idle": "2024-04-05T18:34:19.206657Z",
     "shell.execute_reply": "2024-04-05T18:34:19.205322Z",
     "shell.execute_reply.started": "2024-04-05T18:34:19.041285Z"
    }
   },
   "outputs": [
    {
     "data": {
      "text/html": [
       "<div>\n",
       "<style scoped>\n",
       "    .dataframe tbody tr th:only-of-type {\n",
       "        vertical-align: middle;\n",
       "    }\n",
       "\n",
       "    .dataframe tbody tr th {\n",
       "        vertical-align: top;\n",
       "    }\n",
       "\n",
       "    .dataframe thead th {\n",
       "        text-align: right;\n",
       "    }\n",
       "</style>\n",
       "<table border=\"1\" class=\"dataframe\">\n",
       "  <thead>\n",
       "    <tr style=\"text-align: right;\">\n",
       "      <th></th>\n",
       "      <th>commodity_name</th>\n",
       "      <th>state</th>\n",
       "      <th>district</th>\n",
       "      <th>market</th>\n",
       "      <th>min_price</th>\n",
       "      <th>max_price</th>\n",
       "      <th>modal_price</th>\n",
       "      <th>date</th>\n",
       "    </tr>\n",
       "  </thead>\n",
       "  <tbody>\n",
       "    <tr>\n",
       "      <th>834337</th>\n",
       "      <td>its</td>\n",
       "      <td>1.50</td>\n",
       "      <td>3000</td>\n",
       "      <td>5000</td>\n",
       "      <td>NaN</td>\n",
       "      <td>NaN</td>\n",
       "      <td>NaN</td>\n",
       "      <td>NaT</td>\n",
       "    </tr>\n",
       "  </tbody>\n",
       "</table>\n",
       "</div>"
      ],
      "text/plain": [
       "       commodity_name state district market  min_price  max_price  \\\n",
       "834337            its  1.50     3000   5000        NaN        NaN   \n",
       "\n",
       "        modal_price date  \n",
       "834337          NaN  NaT  "
      ]
     },
     "execution_count": 162,
     "metadata": {},
     "output_type": "execute_result"
    }
   ],
   "source": [
    "data[data['state'] == '1.50']"
   ]
  },
  {
   "cell_type": "code",
   "execution_count": 163,
   "id": "6d69170d",
   "metadata": {
    "execution": {
     "iopub.execute_input": "2024-04-05T18:34:19.208599Z",
     "iopub.status.busy": "2024-04-05T18:34:19.208201Z",
     "iopub.status.idle": "2024-04-05T18:34:19.377492Z",
     "shell.execute_reply": "2024-04-05T18:34:19.376246Z",
     "shell.execute_reply.started": "2024-04-05T18:34:19.208559Z"
    }
   },
   "outputs": [
    {
     "data": {
      "text/html": [
       "<div>\n",
       "<style scoped>\n",
       "    .dataframe tbody tr th:only-of-type {\n",
       "        vertical-align: middle;\n",
       "    }\n",
       "\n",
       "    .dataframe tbody tr th {\n",
       "        vertical-align: top;\n",
       "    }\n",
       "\n",
       "    .dataframe thead th {\n",
       "        text-align: right;\n",
       "    }\n",
       "</style>\n",
       "<table border=\"1\" class=\"dataframe\">\n",
       "  <thead>\n",
       "    <tr style=\"text-align: right;\">\n",
       "      <th></th>\n",
       "      <th>commodity_name</th>\n",
       "      <th>state</th>\n",
       "      <th>district</th>\n",
       "      <th>market</th>\n",
       "      <th>min_price</th>\n",
       "      <th>max_price</th>\n",
       "      <th>modal_price</th>\n",
       "      <th>date</th>\n",
       "    </tr>\n",
       "  </thead>\n",
       "  <tbody>\n",
       "    <tr>\n",
       "      <th>834337</th>\n",
       "      <td>its</td>\n",
       "      <td>1.50</td>\n",
       "      <td>3000</td>\n",
       "      <td>5000</td>\n",
       "      <td>NaN</td>\n",
       "      <td>NaN</td>\n",
       "      <td>NaN</td>\n",
       "      <td>NaT</td>\n",
       "    </tr>\n",
       "  </tbody>\n",
       "</table>\n",
       "</div>"
      ],
      "text/plain": [
       "       commodity_name state district market  min_price  max_price  \\\n",
       "834337            its  1.50     3000   5000        NaN        NaN   \n",
       "\n",
       "        modal_price date  \n",
       "834337          NaN  NaT  "
      ]
     },
     "execution_count": 163,
     "metadata": {},
     "output_type": "execute_result"
    }
   ],
   "source": [
    "data[data['district'] =='3000']"
   ]
  },
  {
   "cell_type": "code",
   "execution_count": 164,
   "id": "053d7e70",
   "metadata": {
    "execution": {
     "iopub.execute_input": "2024-04-05T18:34:19.379544Z",
     "iopub.status.busy": "2024-04-05T18:34:19.379129Z",
     "iopub.status.idle": "2024-04-05T18:34:19.477925Z",
     "shell.execute_reply": "2024-04-05T18:34:19.476809Z",
     "shell.execute_reply.started": "2024-04-05T18:34:19.379486Z"
    }
   },
   "outputs": [
    {
     "data": {
      "text/plain": [
       "array(['Amreli', 'Dhanera', 'Jamnagar', ..., 'Hingoli(Kanegoan Naka)',\n",
       "       'Jalgaon Jamod(Aasalgaon)', 'Nagarkurnool'], dtype=object)"
      ]
     },
     "execution_count": 164,
     "metadata": {},
     "output_type": "execute_result"
    }
   ],
   "source": [
    "data.market.unique()"
   ]
  },
  {
   "cell_type": "code",
   "execution_count": 165,
   "id": "e8139862",
   "metadata": {
    "execution": {
     "iopub.execute_input": "2024-04-05T18:34:19.480107Z",
     "iopub.status.busy": "2024-04-05T18:34:19.479337Z",
     "iopub.status.idle": "2024-04-05T18:34:19.858448Z",
     "shell.execute_reply": "2024-04-05T18:34:19.856907Z",
     "shell.execute_reply.started": "2024-04-05T18:34:19.480056Z"
    }
   },
   "outputs": [
    {
     "data": {
      "text/plain": [
       "commodity_name    1\n",
       "state             0\n",
       "district          0\n",
       "market            0\n",
       "min_price         1\n",
       "max_price         1\n",
       "modal_price       1\n",
       "date              1\n",
       "dtype: int64"
      ]
     },
     "execution_count": 165,
     "metadata": {},
     "output_type": "execute_result"
    }
   ],
   "source": [
    "data.isna().sum()"
   ]
  },
  {
   "cell_type": "code",
   "execution_count": 166,
   "id": "08296503",
   "metadata": {
    "execution": {
     "iopub.execute_input": "2024-04-05T18:34:19.860700Z",
     "iopub.status.busy": "2024-04-05T18:34:19.860222Z",
     "iopub.status.idle": "2024-04-05T18:34:20.542729Z",
     "shell.execute_reply": "2024-04-05T18:34:20.541582Z",
     "shell.execute_reply.started": "2024-04-05T18:34:19.860661Z"
    }
   },
   "outputs": [
    {
     "data": {
      "text/plain": [
       "120"
      ]
     },
     "execution_count": 166,
     "metadata": {},
     "output_type": "execute_result"
    }
   ],
   "source": [
    "data.duplicated().sum()"
   ]
  },
  {
   "cell_type": "code",
   "execution_count": 167,
   "id": "19ad6a9c",
   "metadata": {
    "execution": {
     "iopub.execute_input": "2024-04-05T18:34:20.545814Z",
     "iopub.status.busy": "2024-04-05T18:34:20.544540Z",
     "iopub.status.idle": "2024-04-05T18:34:20.660001Z",
     "shell.execute_reply": "2024-04-05T18:34:20.658725Z",
     "shell.execute_reply.started": "2024-04-05T18:34:20.545753Z"
    }
   },
   "outputs": [
    {
     "data": {
      "text/html": [
       "<div>\n",
       "<style scoped>\n",
       "    .dataframe tbody tr th:only-of-type {\n",
       "        vertical-align: middle;\n",
       "    }\n",
       "\n",
       "    .dataframe tbody tr th {\n",
       "        vertical-align: top;\n",
       "    }\n",
       "\n",
       "    .dataframe thead th {\n",
       "        text-align: right;\n",
       "    }\n",
       "</style>\n",
       "<table border=\"1\" class=\"dataframe\">\n",
       "  <thead>\n",
       "    <tr style=\"text-align: right;\">\n",
       "      <th></th>\n",
       "      <th>commodity_name</th>\n",
       "      <th>state</th>\n",
       "      <th>district</th>\n",
       "      <th>market</th>\n",
       "      <th>min_price</th>\n",
       "      <th>max_price</th>\n",
       "      <th>modal_price</th>\n",
       "      <th>date</th>\n",
       "    </tr>\n",
       "  </thead>\n",
       "  <tbody>\n",
       "    <tr>\n",
       "      <th>834417</th>\n",
       "      <td>NaN</td>\n",
       "      <td>Uttar Pradesh</td>\n",
       "      <td>Kanpur</td>\n",
       "      <td>Kanpur(Grain)</td>\n",
       "      <td>6600.0</td>\n",
       "      <td>6800.0</td>\n",
       "      <td>6700.0</td>\n",
       "      <td>2021-10-12</td>\n",
       "    </tr>\n",
       "  </tbody>\n",
       "</table>\n",
       "</div>"
      ],
      "text/plain": [
       "       commodity_name          state district         market  min_price  \\\n",
       "834417            NaN  Uttar Pradesh   Kanpur  Kanpur(Grain)     6600.0   \n",
       "\n",
       "        max_price  modal_price       date  \n",
       "834417     6800.0       6700.0 2021-10-12  "
      ]
     },
     "execution_count": 167,
     "metadata": {},
     "output_type": "execute_result"
    }
   ],
   "source": [
    "data[data.commodity_name.isna()]"
   ]
  },
  {
   "cell_type": "code",
   "execution_count": 168,
   "id": "82abdec9",
   "metadata": {
    "execution": {
     "iopub.execute_input": "2024-04-05T18:34:20.662321Z",
     "iopub.status.busy": "2024-04-05T18:34:20.661777Z",
     "iopub.status.idle": "2024-04-05T18:34:20.681886Z",
     "shell.execute_reply": "2024-04-05T18:34:20.680567Z",
     "shell.execute_reply.started": "2024-04-05T18:34:20.662268Z"
    }
   },
   "outputs": [
    {
     "data": {
      "text/html": [
       "<div>\n",
       "<style scoped>\n",
       "    .dataframe tbody tr th:only-of-type {\n",
       "        vertical-align: middle;\n",
       "    }\n",
       "\n",
       "    .dataframe tbody tr th {\n",
       "        vertical-align: top;\n",
       "    }\n",
       "\n",
       "    .dataframe thead th {\n",
       "        text-align: right;\n",
       "    }\n",
       "</style>\n",
       "<table border=\"1\" class=\"dataframe\">\n",
       "  <thead>\n",
       "    <tr style=\"text-align: right;\">\n",
       "      <th></th>\n",
       "      <th>commodity_name</th>\n",
       "      <th>state</th>\n",
       "      <th>district</th>\n",
       "      <th>market</th>\n",
       "      <th>min_price</th>\n",
       "      <th>max_price</th>\n",
       "      <th>modal_price</th>\n",
       "      <th>date</th>\n",
       "    </tr>\n",
       "  </thead>\n",
       "  <tbody>\n",
       "    <tr>\n",
       "      <th>834337</th>\n",
       "      <td>its</td>\n",
       "      <td>1.50</td>\n",
       "      <td>3000</td>\n",
       "      <td>5000</td>\n",
       "      <td>NaN</td>\n",
       "      <td>NaN</td>\n",
       "      <td>NaN</td>\n",
       "      <td>NaT</td>\n",
       "    </tr>\n",
       "  </tbody>\n",
       "</table>\n",
       "</div>"
      ],
      "text/plain": [
       "       commodity_name state district market  min_price  max_price  \\\n",
       "834337            its  1.50     3000   5000        NaN        NaN   \n",
       "\n",
       "        modal_price date  \n",
       "834337          NaN  NaT  "
      ]
     },
     "execution_count": 168,
     "metadata": {},
     "output_type": "execute_result"
    }
   ],
   "source": [
    "data[data.min_price.isna()]"
   ]
  },
  {
   "cell_type": "code",
   "execution_count": 169,
   "id": "54a0c6db",
   "metadata": {
    "execution": {
     "iopub.execute_input": "2024-04-05T18:34:20.684294Z",
     "iopub.status.busy": "2024-04-05T18:34:20.683877Z",
     "iopub.status.idle": "2024-04-05T18:34:20.795926Z",
     "shell.execute_reply": "2024-04-05T18:34:20.794543Z",
     "shell.execute_reply.started": "2024-04-05T18:34:20.684260Z"
    }
   },
   "outputs": [],
   "source": [
    "data.drop(index=834337,inplace=True)"
   ]
  },
  {
   "cell_type": "code",
   "execution_count": 170,
   "id": "63220d9a",
   "metadata": {
    "execution": {
     "iopub.execute_input": "2024-04-05T18:34:20.798129Z",
     "iopub.status.busy": "2024-04-05T18:34:20.797656Z",
     "iopub.status.idle": "2024-04-05T18:34:21.179354Z",
     "shell.execute_reply": "2024-04-05T18:34:21.178312Z",
     "shell.execute_reply.started": "2024-04-05T18:34:20.798089Z"
    }
   },
   "outputs": [
    {
     "data": {
      "text/plain": [
       "commodity_name    1\n",
       "state             0\n",
       "district          0\n",
       "market            0\n",
       "min_price         0\n",
       "max_price         0\n",
       "modal_price       0\n",
       "date              0\n",
       "dtype: int64"
      ]
     },
     "execution_count": 170,
     "metadata": {},
     "output_type": "execute_result"
    }
   ],
   "source": [
    "data.isna().sum()"
   ]
  },
  {
   "cell_type": "code",
   "execution_count": 171,
   "id": "4393e7b6",
   "metadata": {
    "execution": {
     "iopub.execute_input": "2024-04-05T18:34:21.181573Z",
     "iopub.status.busy": "2024-04-05T18:34:21.181102Z",
     "iopub.status.idle": "2024-04-05T18:34:21.622472Z",
     "shell.execute_reply": "2024-04-05T18:34:21.621051Z",
     "shell.execute_reply.started": "2024-04-05T18:34:21.181533Z"
    }
   },
   "outputs": [],
   "source": [
    "data = data.dropna()"
   ]
  },
  {
   "cell_type": "code",
   "execution_count": 172,
   "id": "7bc242ff",
   "metadata": {
    "execution": {
     "iopub.execute_input": "2024-04-05T18:34:21.624298Z",
     "iopub.status.busy": "2024-04-05T18:34:21.623953Z",
     "iopub.status.idle": "2024-04-05T18:34:21.994650Z",
     "shell.execute_reply": "2024-04-05T18:34:21.993404Z",
     "shell.execute_reply.started": "2024-04-05T18:34:21.624267Z"
    }
   },
   "outputs": [
    {
     "data": {
      "text/plain": [
       "commodity_name    0\n",
       "state             0\n",
       "district          0\n",
       "market            0\n",
       "min_price         0\n",
       "max_price         0\n",
       "modal_price       0\n",
       "date              0\n",
       "dtype: int64"
      ]
     },
     "execution_count": 172,
     "metadata": {},
     "output_type": "execute_result"
    }
   ],
   "source": [
    "data.isna().sum()"
   ]
  },
  {
   "cell_type": "code",
   "execution_count": 173,
   "id": "5a6f9858",
   "metadata": {
    "execution": {
     "iopub.execute_input": "2024-04-05T18:34:21.997289Z",
     "iopub.status.busy": "2024-04-05T18:34:21.996410Z",
     "iopub.status.idle": "2024-04-05T18:34:22.006358Z",
     "shell.execute_reply": "2024-04-05T18:34:22.005217Z",
     "shell.execute_reply.started": "2024-04-05T18:34:21.997243Z"
    }
   },
   "outputs": [
    {
     "data": {
      "text/plain": [
       "(836975, 8)"
      ]
     },
     "execution_count": 173,
     "metadata": {},
     "output_type": "execute_result"
    }
   ],
   "source": [
    "data.shape"
   ]
  },
  {
   "cell_type": "code",
   "execution_count": 174,
   "id": "74f87702",
   "metadata": {
    "execution": {
     "iopub.execute_input": "2024-04-05T18:34:22.008433Z",
     "iopub.status.busy": "2024-04-05T18:34:22.007982Z",
     "iopub.status.idle": "2024-04-05T18:34:22.019105Z",
     "shell.execute_reply": "2024-04-05T18:34:22.018081Z",
     "shell.execute_reply.started": "2024-04-05T18:34:22.008404Z"
    }
   },
   "outputs": [
    {
     "data": {
      "text/plain": [
       "commodity_name            object\n",
       "state                     object\n",
       "district                  object\n",
       "market                    object\n",
       "min_price                float64\n",
       "max_price                float64\n",
       "modal_price              float64\n",
       "date              datetime64[ns]\n",
       "dtype: object"
      ]
     },
     "execution_count": 174,
     "metadata": {},
     "output_type": "execute_result"
    }
   ],
   "source": [
    "data.dtypes"
   ]
  },
  {
   "cell_type": "code",
   "execution_count": 175,
   "id": "e812d247",
   "metadata": {
    "execution": {
     "iopub.execute_input": "2024-04-05T18:34:22.020851Z",
     "iopub.status.busy": "2024-04-05T18:34:22.020527Z",
     "iopub.status.idle": "2024-04-05T18:34:22.166944Z",
     "shell.execute_reply": "2024-04-05T18:34:22.165576Z",
     "shell.execute_reply.started": "2024-04-05T18:34:22.020824Z"
    }
   },
   "outputs": [],
   "source": [
    "data['DayOfWeek'] = data['date'].dt.dayofweek\n",
    "data['Month'] = data['date'].dt.month\n",
    "data['Quarter'] = data['date'].dt.quarter\n",
    "data['Year'] = data['date'].dt.year"
   ]
  },
  {
   "cell_type": "code",
   "execution_count": 176,
   "id": "2c4fb2fe",
   "metadata": {
    "execution": {
     "iopub.execute_input": "2024-04-05T18:34:22.169354Z",
     "iopub.status.busy": "2024-04-05T18:34:22.168875Z",
     "iopub.status.idle": "2024-04-05T18:34:22.219750Z",
     "shell.execute_reply": "2024-04-05T18:34:22.218546Z",
     "shell.execute_reply.started": "2024-04-05T18:34:22.169298Z"
    }
   },
   "outputs": [],
   "source": [
    "data['Month_max_price_mean'] = data.groupby(by='Month')['max_price'].transform('mean')\n",
    "data['Month_min_price_mean'] = data.groupby(by='Month')['min_price'].transform('mean')"
   ]
  },
  {
   "cell_type": "code",
   "execution_count": 177,
   "id": "d862a435",
   "metadata": {
    "execution": {
     "iopub.execute_input": "2024-04-05T18:34:22.230643Z",
     "iopub.status.busy": "2024-04-05T18:34:22.230174Z",
     "iopub.status.idle": "2024-04-05T18:34:22.241834Z",
     "shell.execute_reply": "2024-04-05T18:34:22.240287Z",
     "shell.execute_reply.started": "2024-04-05T18:34:22.230608Z"
    }
   },
   "outputs": [],
   "source": [
    "data['avg_price'] = (data['min_price'] + data['max_price']) / 2\n"
   ]
  },
  {
   "cell_type": "code",
   "execution_count": 178,
   "id": "da1a5eec",
   "metadata": {
    "execution": {
     "iopub.execute_input": "2024-04-05T18:34:22.243784Z",
     "iopub.status.busy": "2024-04-05T18:34:22.243060Z",
     "iopub.status.idle": "2024-04-05T18:34:22.738193Z",
     "shell.execute_reply": "2024-04-05T18:34:22.737103Z",
     "shell.execute_reply.started": "2024-04-05T18:34:22.243749Z"
    }
   },
   "outputs": [],
   "source": [
    "data['state_avg_price'] = data.groupby(by='state')['avg_price'].transform('mean')\n",
    "data['state_min_price'] = data.groupby(by='state')['avg_price'].transform('min')\n",
    "data['state_max_price'] = data.groupby(by='state')['avg_price'].transform('max')\n",
    "data['state_median_price'] = data.groupby(by='state')['avg_price'].transform('median')\n",
    "data['state_std_price'] = data.groupby(by='state')['avg_price'].transform('std')"
   ]
  },
  {
   "cell_type": "code",
   "execution_count": 179,
   "id": "8ffb8a0b",
   "metadata": {
    "execution": {
     "iopub.execute_input": "2024-04-05T18:34:22.742878Z",
     "iopub.status.busy": "2024-04-05T18:34:22.742497Z",
     "iopub.status.idle": "2024-04-05T18:34:23.467528Z",
     "shell.execute_reply": "2024-04-05T18:34:23.466477Z",
     "shell.execute_reply.started": "2024-04-05T18:34:22.742848Z"
    }
   },
   "outputs": [],
   "source": [
    "data['district_avg_price'] = data.groupby(by='district')['avg_price'].transform('mean')\n",
    "data['district_min_price'] = data.groupby(by='district')['avg_price'].transform('min')\n",
    "data['district_max_price'] = data.groupby(by='district')['avg_price'].transform('max')\n",
    "data['district_median_price'] = data.groupby(by='district')['avg_price'].transform('median')\n",
    "data['district_std_price'] = data.groupby(by='district')['avg_price'].transform('std')\n",
    "data['market_size'] = data.groupby('market')['market'].transform('count')\n"
   ]
  },
  {
   "cell_type": "code",
   "execution_count": 216,
   "id": "11f697fd",
   "metadata": {
    "execution": {
     "iopub.execute_input": "2024-04-05T19:39:16.592833Z",
     "iopub.status.busy": "2024-04-05T19:39:16.591963Z",
     "iopub.status.idle": "2024-04-05T19:39:16.957430Z",
     "shell.execute_reply": "2024-04-05T19:39:16.955974Z",
     "shell.execute_reply.started": "2024-04-05T19:39:16.592622Z"
    }
   },
   "outputs": [
    {
     "data": {
      "text/plain": [
       "min_price                10028\n",
       "max_price                12164\n",
       "DayOfWeek                    7\n",
       "Quarter                      4\n",
       "Year                         2\n",
       "Month_max_price_mean        10\n",
       "Month_min_price_mean        10\n",
       "avg_price                24740\n",
       "state_avg_price             29\n",
       "state_min_price             25\n",
       "state_max_price             28\n",
       "state_median_price          24\n",
       "state_std_price             29\n",
       "district_avg_price         486\n",
       "district_min_price         189\n",
       "district_max_price         341\n",
       "district_median_price      285\n",
       "market_size                802\n",
       "commodity_encoded          248\n",
       "district_label             486\n",
       "market_label              2391\n",
       "modal_price              12101\n",
       "Month                       10\n",
       "dtype: int64"
      ]
     },
     "execution_count": 216,
     "metadata": {},
     "output_type": "execute_result"
    }
   ],
   "source": [
    "data.nunique()"
   ]
  },
  {
   "cell_type": "code",
   "execution_count": 180,
   "id": "066eb678",
   "metadata": {
    "execution": {
     "iopub.execute_input": "2024-04-05T18:34:23.469781Z",
     "iopub.status.busy": "2024-04-05T18:34:23.469355Z",
     "iopub.status.idle": "2024-04-05T18:34:23.503714Z",
     "shell.execute_reply": "2024-04-05T18:34:23.502857Z",
     "shell.execute_reply.started": "2024-04-05T18:34:23.469750Z"
    }
   },
   "outputs": [
    {
     "data": {
      "text/html": [
       "<div>\n",
       "<style scoped>\n",
       "    .dataframe tbody tr th:only-of-type {\n",
       "        vertical-align: middle;\n",
       "    }\n",
       "\n",
       "    .dataframe tbody tr th {\n",
       "        vertical-align: top;\n",
       "    }\n",
       "\n",
       "    .dataframe thead th {\n",
       "        text-align: right;\n",
       "    }\n",
       "</style>\n",
       "<table border=\"1\" class=\"dataframe\">\n",
       "  <thead>\n",
       "    <tr style=\"text-align: right;\">\n",
       "      <th></th>\n",
       "      <th>commodity_name</th>\n",
       "      <th>state</th>\n",
       "      <th>district</th>\n",
       "      <th>market</th>\n",
       "      <th>min_price</th>\n",
       "      <th>max_price</th>\n",
       "      <th>modal_price</th>\n",
       "      <th>date</th>\n",
       "      <th>DayOfWeek</th>\n",
       "      <th>Month</th>\n",
       "      <th>...</th>\n",
       "      <th>state_min_price</th>\n",
       "      <th>state_max_price</th>\n",
       "      <th>state_median_price</th>\n",
       "      <th>state_std_price</th>\n",
       "      <th>district_avg_price</th>\n",
       "      <th>district_min_price</th>\n",
       "      <th>district_max_price</th>\n",
       "      <th>district_median_price</th>\n",
       "      <th>district_std_price</th>\n",
       "      <th>market_size</th>\n",
       "    </tr>\n",
       "  </thead>\n",
       "  <tbody>\n",
       "    <tr>\n",
       "      <th>0</th>\n",
       "      <td>Ajwan</td>\n",
       "      <td>Gujarat</td>\n",
       "      <td>Amreli</td>\n",
       "      <td>Amreli</td>\n",
       "      <td>63.25</td>\n",
       "      <td>79.55</td>\n",
       "      <td>79.55</td>\n",
       "      <td>2019-05-22</td>\n",
       "      <td>2</td>\n",
       "      <td>5</td>\n",
       "      <td>...</td>\n",
       "      <td>1.035</td>\n",
       "      <td>11800.0</td>\n",
       "      <td>35.675</td>\n",
       "      <td>410.913745</td>\n",
       "      <td>81.118479</td>\n",
       "      <td>2.00</td>\n",
       "      <td>9977.5</td>\n",
       "      <td>42.5</td>\n",
       "      <td>484.281189</td>\n",
       "      <td>1617</td>\n",
       "    </tr>\n",
       "    <tr>\n",
       "      <th>1</th>\n",
       "      <td>Ajwan</td>\n",
       "      <td>Gujarat</td>\n",
       "      <td>Banaskanth</td>\n",
       "      <td>Dhanera</td>\n",
       "      <td>80.05</td>\n",
       "      <td>80.05</td>\n",
       "      <td>80.05</td>\n",
       "      <td>2019-05-22</td>\n",
       "      <td>2</td>\n",
       "      <td>5</td>\n",
       "      <td>...</td>\n",
       "      <td>1.035</td>\n",
       "      <td>11800.0</td>\n",
       "      <td>35.675</td>\n",
       "      <td>410.913745</td>\n",
       "      <td>72.313411</td>\n",
       "      <td>3.95</td>\n",
       "      <td>9005.0</td>\n",
       "      <td>45.1</td>\n",
       "      <td>338.674871</td>\n",
       "      <td>1038</td>\n",
       "    </tr>\n",
       "    <tr>\n",
       "      <th>2</th>\n",
       "      <td>Ajwan</td>\n",
       "      <td>Gujarat</td>\n",
       "      <td>Jamnagar</td>\n",
       "      <td>Jamnagar</td>\n",
       "      <td>90.00</td>\n",
       "      <td>155.00</td>\n",
       "      <td>122.50</td>\n",
       "      <td>2019-05-22</td>\n",
       "      <td>2</td>\n",
       "      <td>5</td>\n",
       "      <td>...</td>\n",
       "      <td>1.035</td>\n",
       "      <td>11800.0</td>\n",
       "      <td>35.675</td>\n",
       "      <td>410.913745</td>\n",
       "      <td>142.634353</td>\n",
       "      <td>6.00</td>\n",
       "      <td>11800.0</td>\n",
       "      <td>45.5</td>\n",
       "      <td>856.334950</td>\n",
       "      <td>729</td>\n",
       "    </tr>\n",
       "    <tr>\n",
       "      <th>3</th>\n",
       "      <td>Ajwan</td>\n",
       "      <td>Gujarat</td>\n",
       "      <td>Mehsana</td>\n",
       "      <td>Kadi</td>\n",
       "      <td>94.50</td>\n",
       "      <td>112.50</td>\n",
       "      <td>107.00</td>\n",
       "      <td>2019-05-22</td>\n",
       "      <td>2</td>\n",
       "      <td>5</td>\n",
       "      <td>...</td>\n",
       "      <td>1.035</td>\n",
       "      <td>11800.0</td>\n",
       "      <td>35.675</td>\n",
       "      <td>410.913745</td>\n",
       "      <td>73.581506</td>\n",
       "      <td>1.75</td>\n",
       "      <td>9937.5</td>\n",
       "      <td>40.0</td>\n",
       "      <td>500.459039</td>\n",
       "      <td>446</td>\n",
       "    </tr>\n",
       "    <tr>\n",
       "      <th>4</th>\n",
       "      <td>Ajwan</td>\n",
       "      <td>Gujarat</td>\n",
       "      <td>Mehsana</td>\n",
       "      <td>Unjha</td>\n",
       "      <td>21.25</td>\n",
       "      <td>148.50</td>\n",
       "      <td>99.75</td>\n",
       "      <td>2019-05-22</td>\n",
       "      <td>2</td>\n",
       "      <td>5</td>\n",
       "      <td>...</td>\n",
       "      <td>1.035</td>\n",
       "      <td>11800.0</td>\n",
       "      <td>35.675</td>\n",
       "      <td>410.913745</td>\n",
       "      <td>73.581506</td>\n",
       "      <td>1.75</td>\n",
       "      <td>9937.5</td>\n",
       "      <td>40.0</td>\n",
       "      <td>500.459039</td>\n",
       "      <td>1293</td>\n",
       "    </tr>\n",
       "  </tbody>\n",
       "</table>\n",
       "<p>5 rows × 26 columns</p>\n",
       "</div>"
      ],
      "text/plain": [
       "  commodity_name    state    district    market  min_price  max_price  \\\n",
       "0          Ajwan  Gujarat      Amreli    Amreli      63.25      79.55   \n",
       "1          Ajwan  Gujarat  Banaskanth   Dhanera      80.05      80.05   \n",
       "2          Ajwan  Gujarat    Jamnagar  Jamnagar      90.00     155.00   \n",
       "3          Ajwan  Gujarat     Mehsana      Kadi      94.50     112.50   \n",
       "4          Ajwan  Gujarat     Mehsana     Unjha      21.25     148.50   \n",
       "\n",
       "   modal_price       date  DayOfWeek  Month  ...  state_min_price  \\\n",
       "0        79.55 2019-05-22          2      5  ...            1.035   \n",
       "1        80.05 2019-05-22          2      5  ...            1.035   \n",
       "2       122.50 2019-05-22          2      5  ...            1.035   \n",
       "3       107.00 2019-05-22          2      5  ...            1.035   \n",
       "4        99.75 2019-05-22          2      5  ...            1.035   \n",
       "\n",
       "   state_max_price  state_median_price  state_std_price  district_avg_price  \\\n",
       "0          11800.0              35.675       410.913745           81.118479   \n",
       "1          11800.0              35.675       410.913745           72.313411   \n",
       "2          11800.0              35.675       410.913745          142.634353   \n",
       "3          11800.0              35.675       410.913745           73.581506   \n",
       "4          11800.0              35.675       410.913745           73.581506   \n",
       "\n",
       "   district_min_price  district_max_price  district_median_price  \\\n",
       "0                2.00              9977.5                   42.5   \n",
       "1                3.95              9005.0                   45.1   \n",
       "2                6.00             11800.0                   45.5   \n",
       "3                1.75              9937.5                   40.0   \n",
       "4                1.75              9937.5                   40.0   \n",
       "\n",
       "   district_std_price  market_size  \n",
       "0          484.281189         1617  \n",
       "1          338.674871         1038  \n",
       "2          856.334950          729  \n",
       "3          500.459039          446  \n",
       "4          500.459039         1293  \n",
       "\n",
       "[5 rows x 26 columns]"
      ]
     },
     "execution_count": 180,
     "metadata": {},
     "output_type": "execute_result"
    }
   ],
   "source": [
    "data.head()"
   ]
  },
  {
   "cell_type": "code",
   "execution_count": 181,
   "id": "e54afd59",
   "metadata": {
    "execution": {
     "iopub.execute_input": "2024-04-05T18:34:23.505832Z",
     "iopub.status.busy": "2024-04-05T18:34:23.504958Z",
     "iopub.status.idle": "2024-04-05T18:34:23.607969Z",
     "shell.execute_reply": "2024-04-05T18:34:23.606837Z",
     "shell.execute_reply.started": "2024-04-05T18:34:23.505801Z"
    }
   },
   "outputs": [],
   "source": [
    "data['commodity_encoded'] = data.groupby('commodity_name')['avg_price'].transform('mean')"
   ]
  },
  {
   "cell_type": "code",
   "execution_count": 182,
   "id": "01d19453",
   "metadata": {
    "execution": {
     "iopub.execute_input": "2024-04-05T18:34:23.610198Z",
     "iopub.status.busy": "2024-04-05T18:34:23.609798Z",
     "iopub.status.idle": "2024-04-05T18:34:24.391025Z",
     "shell.execute_reply": "2024-04-05T18:34:24.389526Z",
     "shell.execute_reply.started": "2024-04-05T18:34:23.610165Z"
    }
   },
   "outputs": [],
   "source": [
    "from sklearn.preprocessing import LabelEncoder\n",
    "\n",
    "label_encoder = LabelEncoder()\n",
    "\n",
    "data['state_label'] = label_encoder.fit_transform(data['state'])\n",
    "data['district_label'] = label_encoder.fit_transform(data['district'])\n",
    "data['market_label'] = label_encoder.fit_transform(data['market'])"
   ]
  },
  {
   "cell_type": "code",
   "execution_count": 183,
   "id": "75b115c1",
   "metadata": {
    "execution": {
     "iopub.execute_input": "2024-04-05T18:34:24.393229Z",
     "iopub.status.busy": "2024-04-05T18:34:24.392837Z",
     "iopub.status.idle": "2024-04-05T18:34:24.508590Z",
     "shell.execute_reply": "2024-04-05T18:34:24.506976Z",
     "shell.execute_reply.started": "2024-04-05T18:34:24.393198Z"
    }
   },
   "outputs": [],
   "source": [
    "data.drop(columns=['commodity_name','state','district','market','date'],inplace=True)"
   ]
  },
  {
   "cell_type": "code",
   "execution_count": 184,
   "id": "68104f04",
   "metadata": {
    "execution": {
     "iopub.execute_input": "2024-04-05T18:34:24.510653Z",
     "iopub.status.busy": "2024-04-05T18:34:24.510239Z",
     "iopub.status.idle": "2024-04-05T18:34:24.547858Z",
     "shell.execute_reply": "2024-04-05T18:34:24.546370Z",
     "shell.execute_reply.started": "2024-04-05T18:34:24.510610Z"
    }
   },
   "outputs": [
    {
     "data": {
      "text/html": [
       "<div>\n",
       "<style scoped>\n",
       "    .dataframe tbody tr th:only-of-type {\n",
       "        vertical-align: middle;\n",
       "    }\n",
       "\n",
       "    .dataframe tbody tr th {\n",
       "        vertical-align: top;\n",
       "    }\n",
       "\n",
       "    .dataframe thead th {\n",
       "        text-align: right;\n",
       "    }\n",
       "</style>\n",
       "<table border=\"1\" class=\"dataframe\">\n",
       "  <thead>\n",
       "    <tr style=\"text-align: right;\">\n",
       "      <th></th>\n",
       "      <th>min_price</th>\n",
       "      <th>max_price</th>\n",
       "      <th>modal_price</th>\n",
       "      <th>DayOfWeek</th>\n",
       "      <th>Month</th>\n",
       "      <th>Quarter</th>\n",
       "      <th>Year</th>\n",
       "      <th>Month_max_price_mean</th>\n",
       "      <th>Month_min_price_mean</th>\n",
       "      <th>avg_price</th>\n",
       "      <th>...</th>\n",
       "      <th>district_avg_price</th>\n",
       "      <th>district_min_price</th>\n",
       "      <th>district_max_price</th>\n",
       "      <th>district_median_price</th>\n",
       "      <th>district_std_price</th>\n",
       "      <th>market_size</th>\n",
       "      <th>commodity_encoded</th>\n",
       "      <th>state_label</th>\n",
       "      <th>district_label</th>\n",
       "      <th>market_label</th>\n",
       "    </tr>\n",
       "  </thead>\n",
       "  <tbody>\n",
       "    <tr>\n",
       "      <th>0</th>\n",
       "      <td>63.25</td>\n",
       "      <td>79.55</td>\n",
       "      <td>79.55</td>\n",
       "      <td>2</td>\n",
       "      <td>5</td>\n",
       "      <td>2</td>\n",
       "      <td>2019</td>\n",
       "      <td>32.896709</td>\n",
       "      <td>28.153361</td>\n",
       "      <td>71.400</td>\n",
       "      <td>...</td>\n",
       "      <td>81.118479</td>\n",
       "      <td>2.00</td>\n",
       "      <td>9977.5</td>\n",
       "      <td>42.5</td>\n",
       "      <td>484.281189</td>\n",
       "      <td>1617</td>\n",
       "      <td>751.002245</td>\n",
       "      <td>5</td>\n",
       "      <td>15</td>\n",
       "      <td>78</td>\n",
       "    </tr>\n",
       "    <tr>\n",
       "      <th>1</th>\n",
       "      <td>80.05</td>\n",
       "      <td>80.05</td>\n",
       "      <td>80.05</td>\n",
       "      <td>2</td>\n",
       "      <td>5</td>\n",
       "      <td>2</td>\n",
       "      <td>2019</td>\n",
       "      <td>32.896709</td>\n",
       "      <td>28.153361</td>\n",
       "      <td>80.050</td>\n",
       "      <td>...</td>\n",
       "      <td>72.313411</td>\n",
       "      <td>3.95</td>\n",
       "      <td>9005.0</td>\n",
       "      <td>45.1</td>\n",
       "      <td>338.674871</td>\n",
       "      <td>1038</td>\n",
       "      <td>751.002245</td>\n",
       "      <td>5</td>\n",
       "      <td>39</td>\n",
       "      <td>593</td>\n",
       "    </tr>\n",
       "    <tr>\n",
       "      <th>2</th>\n",
       "      <td>90.00</td>\n",
       "      <td>155.00</td>\n",
       "      <td>122.50</td>\n",
       "      <td>2</td>\n",
       "      <td>5</td>\n",
       "      <td>2</td>\n",
       "      <td>2019</td>\n",
       "      <td>32.896709</td>\n",
       "      <td>28.153361</td>\n",
       "      <td>122.500</td>\n",
       "      <td>...</td>\n",
       "      <td>142.634353</td>\n",
       "      <td>6.00</td>\n",
       "      <td>11800.0</td>\n",
       "      <td>45.5</td>\n",
       "      <td>856.334950</td>\n",
       "      <td>729</td>\n",
       "      <td>751.002245</td>\n",
       "      <td>5</td>\n",
       "      <td>206</td>\n",
       "      <td>934</td>\n",
       "    </tr>\n",
       "    <tr>\n",
       "      <th>3</th>\n",
       "      <td>94.50</td>\n",
       "      <td>112.50</td>\n",
       "      <td>107.00</td>\n",
       "      <td>2</td>\n",
       "      <td>5</td>\n",
       "      <td>2</td>\n",
       "      <td>2019</td>\n",
       "      <td>32.896709</td>\n",
       "      <td>28.153361</td>\n",
       "      <td>103.500</td>\n",
       "      <td>...</td>\n",
       "      <td>73.581506</td>\n",
       "      <td>1.75</td>\n",
       "      <td>9937.5</td>\n",
       "      <td>40.0</td>\n",
       "      <td>500.459039</td>\n",
       "      <td>446</td>\n",
       "      <td>751.002245</td>\n",
       "      <td>5</td>\n",
       "      <td>304</td>\n",
       "      <td>999</td>\n",
       "    </tr>\n",
       "    <tr>\n",
       "      <th>4</th>\n",
       "      <td>21.25</td>\n",
       "      <td>148.50</td>\n",
       "      <td>99.75</td>\n",
       "      <td>2</td>\n",
       "      <td>5</td>\n",
       "      <td>2</td>\n",
       "      <td>2019</td>\n",
       "      <td>32.896709</td>\n",
       "      <td>28.153361</td>\n",
       "      <td>84.875</td>\n",
       "      <td>...</td>\n",
       "      <td>73.581506</td>\n",
       "      <td>1.75</td>\n",
       "      <td>9937.5</td>\n",
       "      <td>40.0</td>\n",
       "      <td>500.459039</td>\n",
       "      <td>1293</td>\n",
       "      <td>751.002245</td>\n",
       "      <td>5</td>\n",
       "      <td>304</td>\n",
       "      <td>2278</td>\n",
       "    </tr>\n",
       "  </tbody>\n",
       "</table>\n",
       "<p>5 rows × 25 columns</p>\n",
       "</div>"
      ],
      "text/plain": [
       "   min_price  max_price  modal_price  DayOfWeek  Month  Quarter  Year  \\\n",
       "0      63.25      79.55        79.55          2      5        2  2019   \n",
       "1      80.05      80.05        80.05          2      5        2  2019   \n",
       "2      90.00     155.00       122.50          2      5        2  2019   \n",
       "3      94.50     112.50       107.00          2      5        2  2019   \n",
       "4      21.25     148.50        99.75          2      5        2  2019   \n",
       "\n",
       "   Month_max_price_mean  Month_min_price_mean  avg_price  ...  \\\n",
       "0             32.896709             28.153361     71.400  ...   \n",
       "1             32.896709             28.153361     80.050  ...   \n",
       "2             32.896709             28.153361    122.500  ...   \n",
       "3             32.896709             28.153361    103.500  ...   \n",
       "4             32.896709             28.153361     84.875  ...   \n",
       "\n",
       "   district_avg_price  district_min_price  district_max_price  \\\n",
       "0           81.118479                2.00              9977.5   \n",
       "1           72.313411                3.95              9005.0   \n",
       "2          142.634353                6.00             11800.0   \n",
       "3           73.581506                1.75              9937.5   \n",
       "4           73.581506                1.75              9937.5   \n",
       "\n",
       "   district_median_price  district_std_price  market_size  commodity_encoded  \\\n",
       "0                   42.5          484.281189         1617         751.002245   \n",
       "1                   45.1          338.674871         1038         751.002245   \n",
       "2                   45.5          856.334950          729         751.002245   \n",
       "3                   40.0          500.459039          446         751.002245   \n",
       "4                   40.0          500.459039         1293         751.002245   \n",
       "\n",
       "   state_label  district_label  market_label  \n",
       "0            5              15            78  \n",
       "1            5              39           593  \n",
       "2            5             206           934  \n",
       "3            5             304           999  \n",
       "4            5             304          2278  \n",
       "\n",
       "[5 rows x 25 columns]"
      ]
     },
     "execution_count": 184,
     "metadata": {},
     "output_type": "execute_result"
    }
   ],
   "source": [
    "data.head()"
   ]
  },
  {
   "cell_type": "code",
   "execution_count": 185,
   "id": "6c0bbb85",
   "metadata": {
    "execution": {
     "iopub.execute_input": "2024-04-05T18:34:24.550723Z",
     "iopub.status.busy": "2024-04-05T18:34:24.550126Z",
     "iopub.status.idle": "2024-04-05T18:34:24.559307Z",
     "shell.execute_reply": "2024-04-05T18:34:24.558227Z",
     "shell.execute_reply.started": "2024-04-05T18:34:24.550624Z"
    }
   },
   "outputs": [
    {
     "data": {
      "text/plain": [
       "Index(['min_price', 'max_price', 'modal_price', 'DayOfWeek', 'Month',\n",
       "       'Quarter', 'Year', 'Month_max_price_mean', 'Month_min_price_mean',\n",
       "       'avg_price', 'state_avg_price', 'state_min_price', 'state_max_price',\n",
       "       'state_median_price', 'state_std_price', 'district_avg_price',\n",
       "       'district_min_price', 'district_max_price', 'district_median_price',\n",
       "       'district_std_price', 'market_size', 'commodity_encoded', 'state_label',\n",
       "       'district_label', 'market_label'],\n",
       "      dtype='object')"
      ]
     },
     "execution_count": 185,
     "metadata": {},
     "output_type": "execute_result"
    }
   ],
   "source": [
    "data.columns"
   ]
  },
  {
   "cell_type": "code",
   "execution_count": 186,
   "id": "b9ea5914",
   "metadata": {
    "execution": {
     "iopub.execute_input": "2024-04-05T18:34:24.561633Z",
     "iopub.status.busy": "2024-04-05T18:34:24.561157Z",
     "iopub.status.idle": "2024-04-05T18:34:24.931391Z",
     "shell.execute_reply": "2024-04-05T18:34:24.930009Z",
     "shell.execute_reply.started": "2024-04-05T18:34:24.561593Z"
    }
   },
   "outputs": [],
   "source": [
    "from scipy.stats import ttest_ind\n",
    "\n",
    "cols = ['min_price', 'max_price', 'DayOfWeek',\n",
    "       'Quarter', 'Year', 'Month_max_price_mean', 'Month_min_price_mean', 'avg_price',\n",
    "       'state_avg_price', 'state_min_price', 'state_max_price',\n",
    "       'state_median_price', 'state_std_price', 'district_avg_price',\n",
    "       'district_min_price', 'district_max_price', 'district_median_price',\n",
    "       'district_std_price', 'market_size']\n",
    "\n",
    "li = []\n",
    "for i in cols:\n",
    "    pvalue = ttest_ind(data[i],data.modal_price)[1]\n",
    "    \n",
    "    if pvalue<0.05:\n",
    "        li.append(i)\n",
    "        \n",
    "    else:\n",
    "        pass"
   ]
  },
  {
   "cell_type": "code",
   "execution_count": 187,
   "id": "370ae21f",
   "metadata": {
    "execution": {
     "iopub.execute_input": "2024-04-05T18:34:24.933451Z",
     "iopub.status.busy": "2024-04-05T18:34:24.933029Z",
     "iopub.status.idle": "2024-04-05T18:34:24.943042Z",
     "shell.execute_reply": "2024-04-05T18:34:24.941572Z",
     "shell.execute_reply.started": "2024-04-05T18:34:24.933411Z"
    }
   },
   "outputs": [],
   "source": [
    "import statsmodels.formula.api as sfa\n",
    "from statsmodels.stats.anova import anova_lm"
   ]
  },
  {
   "cell_type": "code",
   "execution_count": 188,
   "id": "37df07af",
   "metadata": {
    "execution": {
     "iopub.execute_input": "2024-04-05T18:34:24.945662Z",
     "iopub.status.busy": "2024-04-05T18:34:24.944841Z",
     "iopub.status.idle": "2024-04-05T18:34:26.258137Z",
     "shell.execute_reply": "2024-04-05T18:34:26.255937Z",
     "shell.execute_reply.started": "2024-04-05T18:34:24.945609Z"
    }
   },
   "outputs": [
    {
     "data": {
      "text/html": [
       "<div>\n",
       "<style scoped>\n",
       "    .dataframe tbody tr th:only-of-type {\n",
       "        vertical-align: middle;\n",
       "    }\n",
       "\n",
       "    .dataframe tbody tr th {\n",
       "        vertical-align: top;\n",
       "    }\n",
       "\n",
       "    .dataframe thead th {\n",
       "        text-align: right;\n",
       "    }\n",
       "</style>\n",
       "<table border=\"1\" class=\"dataframe\">\n",
       "  <thead>\n",
       "    <tr style=\"text-align: right;\">\n",
       "      <th></th>\n",
       "      <th>df</th>\n",
       "      <th>sum_sq</th>\n",
       "      <th>mean_sq</th>\n",
       "      <th>F</th>\n",
       "      <th>PR(&gt;F)</th>\n",
       "    </tr>\n",
       "  </thead>\n",
       "  <tbody>\n",
       "    <tr>\n",
       "      <th>market_size</th>\n",
       "      <td>1.0</td>\n",
       "      <td>9.534967e+08</td>\n",
       "      <td>9.534967e+08</td>\n",
       "      <td>1118.384048</td>\n",
       "      <td>4.848942e-245</td>\n",
       "    </tr>\n",
       "    <tr>\n",
       "      <th>commodity_encoded</th>\n",
       "      <td>1.0</td>\n",
       "      <td>5.505943e+11</td>\n",
       "      <td>5.505943e+11</td>\n",
       "      <td>645808.081689</td>\n",
       "      <td>0.000000e+00</td>\n",
       "    </tr>\n",
       "    <tr>\n",
       "      <th>state_label</th>\n",
       "      <td>1.0</td>\n",
       "      <td>1.787038e+05</td>\n",
       "      <td>1.787038e+05</td>\n",
       "      <td>0.209607</td>\n",
       "      <td>6.470758e-01</td>\n",
       "    </tr>\n",
       "    <tr>\n",
       "      <th>district_label</th>\n",
       "      <td>1.0</td>\n",
       "      <td>1.590018e+07</td>\n",
       "      <td>1.590018e+07</td>\n",
       "      <td>18.649778</td>\n",
       "      <td>1.570836e-05</td>\n",
       "    </tr>\n",
       "    <tr>\n",
       "      <th>market_label</th>\n",
       "      <td>1.0</td>\n",
       "      <td>3.446849e+07</td>\n",
       "      <td>3.446849e+07</td>\n",
       "      <td>40.429099</td>\n",
       "      <td>2.039863e-10</td>\n",
       "    </tr>\n",
       "    <tr>\n",
       "      <th>Month</th>\n",
       "      <td>1.0</td>\n",
       "      <td>1.246610e+09</td>\n",
       "      <td>1.246610e+09</td>\n",
       "      <td>1462.185088</td>\n",
       "      <td>1.222022e-319</td>\n",
       "    </tr>\n",
       "    <tr>\n",
       "      <th>Residual</th>\n",
       "      <td>836968.0</td>\n",
       "      <td>7.135709e+11</td>\n",
       "      <td>8.525665e+05</td>\n",
       "      <td>NaN</td>\n",
       "      <td>NaN</td>\n",
       "    </tr>\n",
       "  </tbody>\n",
       "</table>\n",
       "</div>"
      ],
      "text/plain": [
       "                         df        sum_sq       mean_sq              F  \\\n",
       "market_size             1.0  9.534967e+08  9.534967e+08    1118.384048   \n",
       "commodity_encoded       1.0  5.505943e+11  5.505943e+11  645808.081689   \n",
       "state_label             1.0  1.787038e+05  1.787038e+05       0.209607   \n",
       "district_label          1.0  1.590018e+07  1.590018e+07      18.649778   \n",
       "market_label            1.0  3.446849e+07  3.446849e+07      40.429099   \n",
       "Month                   1.0  1.246610e+09  1.246610e+09    1462.185088   \n",
       "Residual           836968.0  7.135709e+11  8.525665e+05            NaN   \n",
       "\n",
       "                          PR(>F)  \n",
       "market_size        4.848942e-245  \n",
       "commodity_encoded   0.000000e+00  \n",
       "state_label         6.470758e-01  \n",
       "district_label      1.570836e-05  \n",
       "market_label        2.039863e-10  \n",
       "Month              1.222022e-319  \n",
       "Residual                     NaN  "
      ]
     },
     "execution_count": 188,
     "metadata": {},
     "output_type": "execute_result"
    }
   ],
   "source": [
    "model = sfa.ols('modal_price~market_size+commodity_encoded+state_label+district_label+market_label+Month',data=data).fit()\n",
    "a = anova_lm(model)\n",
    "a"
   ]
  },
  {
   "cell_type": "code",
   "execution_count": 189,
   "id": "1556a3d3",
   "metadata": {
    "execution": {
     "iopub.execute_input": "2024-04-05T18:34:26.261831Z",
     "iopub.status.busy": "2024-04-05T18:34:26.260445Z",
     "iopub.status.idle": "2024-04-05T18:34:26.274838Z",
     "shell.execute_reply": "2024-04-05T18:34:26.273391Z",
     "shell.execute_reply.started": "2024-04-05T18:34:26.261770Z"
    }
   },
   "outputs": [
    {
     "data": {
      "text/plain": [
       "market_size           True\n",
       "commodity_encoded     True\n",
       "state_label          False\n",
       "district_label        True\n",
       "market_label          True\n",
       "Month                 True\n",
       "Residual             False\n",
       "Name: PR(>F), dtype: bool"
      ]
     },
     "execution_count": 189,
     "metadata": {},
     "output_type": "execute_result"
    }
   ],
   "source": [
    "a.iloc[:,-1]<0.05"
   ]
  },
  {
   "cell_type": "code",
   "execution_count": 190,
   "id": "9bf5b29b",
   "metadata": {
    "execution": {
     "iopub.execute_input": "2024-04-05T18:34:26.278170Z",
     "iopub.status.busy": "2024-04-05T18:34:26.277080Z",
     "iopub.status.idle": "2024-04-05T18:34:26.289795Z",
     "shell.execute_reply": "2024-04-05T18:34:26.288224Z",
     "shell.execute_reply.started": "2024-04-05T18:34:26.278113Z"
    }
   },
   "outputs": [
    {
     "data": {
      "text/plain": [
       "Index(['min_price', 'max_price', 'modal_price', 'DayOfWeek', 'Month',\n",
       "       'Quarter', 'Year', 'Month_max_price_mean', 'Month_min_price_mean',\n",
       "       'avg_price', 'state_avg_price', 'state_min_price', 'state_max_price',\n",
       "       'state_median_price', 'state_std_price', 'district_avg_price',\n",
       "       'district_min_price', 'district_max_price', 'district_median_price',\n",
       "       'district_std_price', 'market_size', 'commodity_encoded', 'state_label',\n",
       "       'district_label', 'market_label'],\n",
       "      dtype='object')"
      ]
     },
     "execution_count": 190,
     "metadata": {},
     "output_type": "execute_result"
    }
   ],
   "source": [
    "li2 = ['commodity_encoded','district_label','market_label','modal_price','Month']\n",
    "data.columns"
   ]
  },
  {
   "cell_type": "code",
   "execution_count": 191,
   "id": "e9056437",
   "metadata": {
    "execution": {
     "iopub.execute_input": "2024-04-05T18:34:26.293119Z",
     "iopub.status.busy": "2024-04-05T18:34:26.292126Z",
     "iopub.status.idle": "2024-04-05T18:34:26.308061Z",
     "shell.execute_reply": "2024-04-05T18:34:26.306398Z",
     "shell.execute_reply.started": "2024-04-05T18:34:26.293063Z"
    }
   },
   "outputs": [
    {
     "data": {
      "text/plain": [
       "['min_price',\n",
       " 'max_price',\n",
       " 'DayOfWeek',\n",
       " 'Quarter',\n",
       " 'Year',\n",
       " 'Month_max_price_mean',\n",
       " 'Month_min_price_mean',\n",
       " 'avg_price',\n",
       " 'state_avg_price',\n",
       " 'state_min_price',\n",
       " 'state_max_price',\n",
       " 'state_median_price',\n",
       " 'state_std_price',\n",
       " 'district_avg_price',\n",
       " 'district_min_price',\n",
       " 'district_max_price',\n",
       " 'district_median_price',\n",
       " 'market_size']"
      ]
     },
     "execution_count": 191,
     "metadata": {},
     "output_type": "execute_result"
    }
   ],
   "source": [
    "li"
   ]
  },
  {
   "cell_type": "code",
   "execution_count": 192,
   "id": "80b16be1",
   "metadata": {
    "execution": {
     "iopub.execute_input": "2024-04-05T18:34:26.314318Z",
     "iopub.status.busy": "2024-04-05T18:34:26.311583Z",
     "iopub.status.idle": "2024-04-05T18:34:26.913339Z",
     "shell.execute_reply": "2024-04-05T18:34:26.911776Z",
     "shell.execute_reply.started": "2024-04-05T18:34:26.314249Z"
    }
   },
   "outputs": [
    {
     "data": {
      "text/html": [
       "<div>\n",
       "<style scoped>\n",
       "    .dataframe tbody tr th:only-of-type {\n",
       "        vertical-align: middle;\n",
       "    }\n",
       "\n",
       "    .dataframe tbody tr th {\n",
       "        vertical-align: top;\n",
       "    }\n",
       "\n",
       "    .dataframe thead th {\n",
       "        text-align: right;\n",
       "    }\n",
       "</style>\n",
       "<table border=\"1\" class=\"dataframe\">\n",
       "  <thead>\n",
       "    <tr style=\"text-align: right;\">\n",
       "      <th></th>\n",
       "      <th>min_price</th>\n",
       "      <th>max_price</th>\n",
       "      <th>modal_price</th>\n",
       "      <th>DayOfWeek</th>\n",
       "      <th>Month</th>\n",
       "      <th>Quarter</th>\n",
       "      <th>Year</th>\n",
       "      <th>Month_max_price_mean</th>\n",
       "      <th>Month_min_price_mean</th>\n",
       "      <th>avg_price</th>\n",
       "      <th>...</th>\n",
       "      <th>state_median_price</th>\n",
       "      <th>state_std_price</th>\n",
       "      <th>district_avg_price</th>\n",
       "      <th>district_min_price</th>\n",
       "      <th>district_max_price</th>\n",
       "      <th>district_median_price</th>\n",
       "      <th>market_size</th>\n",
       "      <th>commodity_encoded</th>\n",
       "      <th>district_label</th>\n",
       "      <th>market_label</th>\n",
       "    </tr>\n",
       "  </thead>\n",
       "  <tbody>\n",
       "    <tr>\n",
       "      <th>0</th>\n",
       "      <td>63.25</td>\n",
       "      <td>79.55</td>\n",
       "      <td>79.55</td>\n",
       "      <td>2</td>\n",
       "      <td>5</td>\n",
       "      <td>2</td>\n",
       "      <td>2019</td>\n",
       "      <td>32.896709</td>\n",
       "      <td>28.153361</td>\n",
       "      <td>71.400</td>\n",
       "      <td>...</td>\n",
       "      <td>35.675</td>\n",
       "      <td>410.913745</td>\n",
       "      <td>81.118479</td>\n",
       "      <td>2.000</td>\n",
       "      <td>9977.5</td>\n",
       "      <td>42.500</td>\n",
       "      <td>1617</td>\n",
       "      <td>751.002245</td>\n",
       "      <td>15</td>\n",
       "      <td>78</td>\n",
       "    </tr>\n",
       "    <tr>\n",
       "      <th>1</th>\n",
       "      <td>80.05</td>\n",
       "      <td>80.05</td>\n",
       "      <td>80.05</td>\n",
       "      <td>2</td>\n",
       "      <td>5</td>\n",
       "      <td>2</td>\n",
       "      <td>2019</td>\n",
       "      <td>32.896709</td>\n",
       "      <td>28.153361</td>\n",
       "      <td>80.050</td>\n",
       "      <td>...</td>\n",
       "      <td>35.675</td>\n",
       "      <td>410.913745</td>\n",
       "      <td>72.313411</td>\n",
       "      <td>3.950</td>\n",
       "      <td>9005.0</td>\n",
       "      <td>45.100</td>\n",
       "      <td>1038</td>\n",
       "      <td>751.002245</td>\n",
       "      <td>39</td>\n",
       "      <td>593</td>\n",
       "    </tr>\n",
       "    <tr>\n",
       "      <th>2</th>\n",
       "      <td>90.00</td>\n",
       "      <td>155.00</td>\n",
       "      <td>122.50</td>\n",
       "      <td>2</td>\n",
       "      <td>5</td>\n",
       "      <td>2</td>\n",
       "      <td>2019</td>\n",
       "      <td>32.896709</td>\n",
       "      <td>28.153361</td>\n",
       "      <td>122.500</td>\n",
       "      <td>...</td>\n",
       "      <td>35.675</td>\n",
       "      <td>410.913745</td>\n",
       "      <td>142.634353</td>\n",
       "      <td>6.000</td>\n",
       "      <td>11800.0</td>\n",
       "      <td>45.500</td>\n",
       "      <td>729</td>\n",
       "      <td>751.002245</td>\n",
       "      <td>206</td>\n",
       "      <td>934</td>\n",
       "    </tr>\n",
       "    <tr>\n",
       "      <th>3</th>\n",
       "      <td>94.50</td>\n",
       "      <td>112.50</td>\n",
       "      <td>107.00</td>\n",
       "      <td>2</td>\n",
       "      <td>5</td>\n",
       "      <td>2</td>\n",
       "      <td>2019</td>\n",
       "      <td>32.896709</td>\n",
       "      <td>28.153361</td>\n",
       "      <td>103.500</td>\n",
       "      <td>...</td>\n",
       "      <td>35.675</td>\n",
       "      <td>410.913745</td>\n",
       "      <td>73.581506</td>\n",
       "      <td>1.750</td>\n",
       "      <td>9937.5</td>\n",
       "      <td>40.000</td>\n",
       "      <td>446</td>\n",
       "      <td>751.002245</td>\n",
       "      <td>304</td>\n",
       "      <td>999</td>\n",
       "    </tr>\n",
       "    <tr>\n",
       "      <th>4</th>\n",
       "      <td>21.25</td>\n",
       "      <td>148.50</td>\n",
       "      <td>99.75</td>\n",
       "      <td>2</td>\n",
       "      <td>5</td>\n",
       "      <td>2</td>\n",
       "      <td>2019</td>\n",
       "      <td>32.896709</td>\n",
       "      <td>28.153361</td>\n",
       "      <td>84.875</td>\n",
       "      <td>...</td>\n",
       "      <td>35.675</td>\n",
       "      <td>410.913745</td>\n",
       "      <td>73.581506</td>\n",
       "      <td>1.750</td>\n",
       "      <td>9937.5</td>\n",
       "      <td>40.000</td>\n",
       "      <td>1293</td>\n",
       "      <td>751.002245</td>\n",
       "      <td>304</td>\n",
       "      <td>2278</td>\n",
       "    </tr>\n",
       "    <tr>\n",
       "      <th>...</th>\n",
       "      <td>...</td>\n",
       "      <td>...</td>\n",
       "      <td>...</td>\n",
       "      <td>...</td>\n",
       "      <td>...</td>\n",
       "      <td>...</td>\n",
       "      <td>...</td>\n",
       "      <td>...</td>\n",
       "      <td>...</td>\n",
       "      <td>...</td>\n",
       "      <td>...</td>\n",
       "      <td>...</td>\n",
       "      <td>...</td>\n",
       "      <td>...</td>\n",
       "      <td>...</td>\n",
       "      <td>...</td>\n",
       "      <td>...</td>\n",
       "      <td>...</td>\n",
       "      <td>...</td>\n",
       "      <td>...</td>\n",
       "      <td>...</td>\n",
       "    </tr>\n",
       "    <tr>\n",
       "      <th>836972</th>\n",
       "      <td>5100.00</td>\n",
       "      <td>5500.00</td>\n",
       "      <td>5300.00</td>\n",
       "      <td>2</td>\n",
       "      <td>10</td>\n",
       "      <td>4</td>\n",
       "      <td>2021</td>\n",
       "      <td>1216.475900</td>\n",
       "      <td>1072.432381</td>\n",
       "      <td>5300.000</td>\n",
       "      <td>...</td>\n",
       "      <td>35.675</td>\n",
       "      <td>410.913745</td>\n",
       "      <td>72.937591</td>\n",
       "      <td>4.625</td>\n",
       "      <td>5550.0</td>\n",
       "      <td>27.875</td>\n",
       "      <td>153</td>\n",
       "      <td>5845.592006</td>\n",
       "      <td>63</td>\n",
       "      <td>930</td>\n",
       "    </tr>\n",
       "    <tr>\n",
       "      <th>836973</th>\n",
       "      <td>3500.00</td>\n",
       "      <td>5500.00</td>\n",
       "      <td>5000.00</td>\n",
       "      <td>2</td>\n",
       "      <td>10</td>\n",
       "      <td>4</td>\n",
       "      <td>2021</td>\n",
       "      <td>1216.475900</td>\n",
       "      <td>1072.432381</td>\n",
       "      <td>4500.000</td>\n",
       "      <td>...</td>\n",
       "      <td>35.675</td>\n",
       "      <td>410.913745</td>\n",
       "      <td>78.916584</td>\n",
       "      <td>1.035</td>\n",
       "      <td>5762.5</td>\n",
       "      <td>37.550</td>\n",
       "      <td>1318</td>\n",
       "      <td>5845.592006</td>\n",
       "      <td>378</td>\n",
       "      <td>942</td>\n",
       "    </tr>\n",
       "    <tr>\n",
       "      <th>836974</th>\n",
       "      <td>5300.00</td>\n",
       "      <td>6225.00</td>\n",
       "      <td>5650.00</td>\n",
       "      <td>2</td>\n",
       "      <td>10</td>\n",
       "      <td>4</td>\n",
       "      <td>2021</td>\n",
       "      <td>1216.475900</td>\n",
       "      <td>1072.432381</td>\n",
       "      <td>5762.500</td>\n",
       "      <td>...</td>\n",
       "      <td>35.675</td>\n",
       "      <td>410.913745</td>\n",
       "      <td>78.916584</td>\n",
       "      <td>1.035</td>\n",
       "      <td>5762.5</td>\n",
       "      <td>37.550</td>\n",
       "      <td>1955</td>\n",
       "      <td>5845.592006</td>\n",
       "      <td>378</td>\n",
       "      <td>1832</td>\n",
       "    </tr>\n",
       "    <tr>\n",
       "      <th>836975</th>\n",
       "      <td>4750.00</td>\n",
       "      <td>5750.00</td>\n",
       "      <td>5250.00</td>\n",
       "      <td>2</td>\n",
       "      <td>10</td>\n",
       "      <td>4</td>\n",
       "      <td>2021</td>\n",
       "      <td>1216.475900</td>\n",
       "      <td>1072.432381</td>\n",
       "      <td>5250.000</td>\n",
       "      <td>...</td>\n",
       "      <td>35.675</td>\n",
       "      <td>410.913745</td>\n",
       "      <td>103.700627</td>\n",
       "      <td>2.400</td>\n",
       "      <td>5800.0</td>\n",
       "      <td>42.500</td>\n",
       "      <td>1065</td>\n",
       "      <td>5845.592006</td>\n",
       "      <td>219</td>\n",
       "      <td>2352</td>\n",
       "    </tr>\n",
       "    <tr>\n",
       "      <th>836976</th>\n",
       "      <td>10500.00</td>\n",
       "      <td>11500.00</td>\n",
       "      <td>11000.00</td>\n",
       "      <td>2</td>\n",
       "      <td>10</td>\n",
       "      <td>4</td>\n",
       "      <td>2021</td>\n",
       "      <td>1216.475900</td>\n",
       "      <td>1072.432381</td>\n",
       "      <td>11000.000</td>\n",
       "      <td>...</td>\n",
       "      <td>38.500</td>\n",
       "      <td>3082.691963</td>\n",
       "      <td>2338.784717</td>\n",
       "      <td>8.000</td>\n",
       "      <td>50050.0</td>\n",
       "      <td>45.000</td>\n",
       "      <td>593</td>\n",
       "      <td>5845.592006</td>\n",
       "      <td>239</td>\n",
       "      <td>1595</td>\n",
       "    </tr>\n",
       "  </tbody>\n",
       "</table>\n",
       "<p>836975 rows × 23 columns</p>\n",
       "</div>"
      ],
      "text/plain": [
       "        min_price  max_price  modal_price  DayOfWeek  Month  Quarter  Year  \\\n",
       "0           63.25      79.55        79.55          2      5        2  2019   \n",
       "1           80.05      80.05        80.05          2      5        2  2019   \n",
       "2           90.00     155.00       122.50          2      5        2  2019   \n",
       "3           94.50     112.50       107.00          2      5        2  2019   \n",
       "4           21.25     148.50        99.75          2      5        2  2019   \n",
       "...           ...        ...          ...        ...    ...      ...   ...   \n",
       "836972    5100.00    5500.00      5300.00          2     10        4  2021   \n",
       "836973    3500.00    5500.00      5000.00          2     10        4  2021   \n",
       "836974    5300.00    6225.00      5650.00          2     10        4  2021   \n",
       "836975    4750.00    5750.00      5250.00          2     10        4  2021   \n",
       "836976   10500.00   11500.00     11000.00          2     10        4  2021   \n",
       "\n",
       "        Month_max_price_mean  Month_min_price_mean  avg_price  ...  \\\n",
       "0                  32.896709             28.153361     71.400  ...   \n",
       "1                  32.896709             28.153361     80.050  ...   \n",
       "2                  32.896709             28.153361    122.500  ...   \n",
       "3                  32.896709             28.153361    103.500  ...   \n",
       "4                  32.896709             28.153361     84.875  ...   \n",
       "...                      ...                   ...        ...  ...   \n",
       "836972           1216.475900           1072.432381   5300.000  ...   \n",
       "836973           1216.475900           1072.432381   4500.000  ...   \n",
       "836974           1216.475900           1072.432381   5762.500  ...   \n",
       "836975           1216.475900           1072.432381   5250.000  ...   \n",
       "836976           1216.475900           1072.432381  11000.000  ...   \n",
       "\n",
       "        state_median_price  state_std_price  district_avg_price  \\\n",
       "0                   35.675       410.913745           81.118479   \n",
       "1                   35.675       410.913745           72.313411   \n",
       "2                   35.675       410.913745          142.634353   \n",
       "3                   35.675       410.913745           73.581506   \n",
       "4                   35.675       410.913745           73.581506   \n",
       "...                    ...              ...                 ...   \n",
       "836972              35.675       410.913745           72.937591   \n",
       "836973              35.675       410.913745           78.916584   \n",
       "836974              35.675       410.913745           78.916584   \n",
       "836975              35.675       410.913745          103.700627   \n",
       "836976              38.500      3082.691963         2338.784717   \n",
       "\n",
       "        district_min_price  district_max_price  district_median_price  \\\n",
       "0                    2.000              9977.5                 42.500   \n",
       "1                    3.950              9005.0                 45.100   \n",
       "2                    6.000             11800.0                 45.500   \n",
       "3                    1.750              9937.5                 40.000   \n",
       "4                    1.750              9937.5                 40.000   \n",
       "...                    ...                 ...                    ...   \n",
       "836972               4.625              5550.0                 27.875   \n",
       "836973               1.035              5762.5                 37.550   \n",
       "836974               1.035              5762.5                 37.550   \n",
       "836975               2.400              5800.0                 42.500   \n",
       "836976               8.000             50050.0                 45.000   \n",
       "\n",
       "        market_size  commodity_encoded  district_label  market_label  \n",
       "0              1617         751.002245              15            78  \n",
       "1              1038         751.002245              39           593  \n",
       "2               729         751.002245             206           934  \n",
       "3               446         751.002245             304           999  \n",
       "4              1293         751.002245             304          2278  \n",
       "...             ...                ...             ...           ...  \n",
       "836972          153        5845.592006              63           930  \n",
       "836973         1318        5845.592006             378           942  \n",
       "836974         1955        5845.592006             378          1832  \n",
       "836975         1065        5845.592006             219          2352  \n",
       "836976          593        5845.592006             239          1595  \n",
       "\n",
       "[836975 rows x 23 columns]"
      ]
     },
     "execution_count": 192,
     "metadata": {},
     "output_type": "execute_result"
    }
   ],
   "source": [
    "data[['min_price', 'max_price', 'modal_price', 'DayOfWeek', 'Month',\n",
    "       'Quarter', 'Year', 'Month_max_price_mean', 'Month_min_price_mean', 'avg_price',\n",
    "       'state_avg_price', 'state_min_price', 'state_max_price',\n",
    "       'state_median_price','state_std_price', 'district_avg_price',\n",
    "       'district_min_price', 'district_max_price', 'district_median_price','market_size', 'commodity_encoded',\n",
    "       'district_label', 'market_label']]"
   ]
  },
  {
   "cell_type": "code",
   "execution_count": 193,
   "id": "478edb11",
   "metadata": {
    "execution": {
     "iopub.execute_input": "2024-04-05T18:34:31.805556Z",
     "iopub.status.busy": "2024-04-05T18:34:31.805011Z",
     "iopub.status.idle": "2024-04-05T18:34:32.633577Z",
     "shell.execute_reply": "2024-04-05T18:34:32.632311Z",
     "shell.execute_reply.started": "2024-04-05T18:34:31.805489Z"
    }
   },
   "outputs": [
    {
     "data": {
      "text/html": [
       "<div>\n",
       "<style scoped>\n",
       "    .dataframe tbody tr th:only-of-type {\n",
       "        vertical-align: middle;\n",
       "    }\n",
       "\n",
       "    .dataframe tbody tr th {\n",
       "        vertical-align: top;\n",
       "    }\n",
       "\n",
       "    .dataframe thead th {\n",
       "        text-align: right;\n",
       "    }\n",
       "</style>\n",
       "<table border=\"1\" class=\"dataframe\">\n",
       "  <thead>\n",
       "    <tr style=\"text-align: right;\">\n",
       "      <th></th>\n",
       "      <th>min_price</th>\n",
       "      <th>max_price</th>\n",
       "      <th>DayOfWeek</th>\n",
       "      <th>Quarter</th>\n",
       "      <th>Year</th>\n",
       "      <th>Month_max_price_mean</th>\n",
       "      <th>Month_min_price_mean</th>\n",
       "      <th>avg_price</th>\n",
       "      <th>state_avg_price</th>\n",
       "      <th>state_min_price</th>\n",
       "      <th>...</th>\n",
       "      <th>district_avg_price</th>\n",
       "      <th>district_min_price</th>\n",
       "      <th>district_max_price</th>\n",
       "      <th>district_median_price</th>\n",
       "      <th>market_size</th>\n",
       "      <th>commodity_encoded</th>\n",
       "      <th>district_label</th>\n",
       "      <th>market_label</th>\n",
       "      <th>modal_price</th>\n",
       "      <th>Month</th>\n",
       "    </tr>\n",
       "  </thead>\n",
       "  <tbody>\n",
       "    <tr>\n",
       "      <th>0</th>\n",
       "      <td>63.25</td>\n",
       "      <td>79.55</td>\n",
       "      <td>2</td>\n",
       "      <td>2</td>\n",
       "      <td>2019</td>\n",
       "      <td>32.896709</td>\n",
       "      <td>28.153361</td>\n",
       "      <td>71.400</td>\n",
       "      <td>69.786212</td>\n",
       "      <td>1.035</td>\n",
       "      <td>...</td>\n",
       "      <td>81.118479</td>\n",
       "      <td>2.000</td>\n",
       "      <td>9977.5</td>\n",
       "      <td>42.500</td>\n",
       "      <td>1617</td>\n",
       "      <td>751.002245</td>\n",
       "      <td>15</td>\n",
       "      <td>78</td>\n",
       "      <td>79.55</td>\n",
       "      <td>5</td>\n",
       "    </tr>\n",
       "    <tr>\n",
       "      <th>1</th>\n",
       "      <td>80.05</td>\n",
       "      <td>80.05</td>\n",
       "      <td>2</td>\n",
       "      <td>2</td>\n",
       "      <td>2019</td>\n",
       "      <td>32.896709</td>\n",
       "      <td>28.153361</td>\n",
       "      <td>80.050</td>\n",
       "      <td>69.786212</td>\n",
       "      <td>1.035</td>\n",
       "      <td>...</td>\n",
       "      <td>72.313411</td>\n",
       "      <td>3.950</td>\n",
       "      <td>9005.0</td>\n",
       "      <td>45.100</td>\n",
       "      <td>1038</td>\n",
       "      <td>751.002245</td>\n",
       "      <td>39</td>\n",
       "      <td>593</td>\n",
       "      <td>80.05</td>\n",
       "      <td>5</td>\n",
       "    </tr>\n",
       "    <tr>\n",
       "      <th>2</th>\n",
       "      <td>90.00</td>\n",
       "      <td>155.00</td>\n",
       "      <td>2</td>\n",
       "      <td>2</td>\n",
       "      <td>2019</td>\n",
       "      <td>32.896709</td>\n",
       "      <td>28.153361</td>\n",
       "      <td>122.500</td>\n",
       "      <td>69.786212</td>\n",
       "      <td>1.035</td>\n",
       "      <td>...</td>\n",
       "      <td>142.634353</td>\n",
       "      <td>6.000</td>\n",
       "      <td>11800.0</td>\n",
       "      <td>45.500</td>\n",
       "      <td>729</td>\n",
       "      <td>751.002245</td>\n",
       "      <td>206</td>\n",
       "      <td>934</td>\n",
       "      <td>122.50</td>\n",
       "      <td>5</td>\n",
       "    </tr>\n",
       "    <tr>\n",
       "      <th>3</th>\n",
       "      <td>94.50</td>\n",
       "      <td>112.50</td>\n",
       "      <td>2</td>\n",
       "      <td>2</td>\n",
       "      <td>2019</td>\n",
       "      <td>32.896709</td>\n",
       "      <td>28.153361</td>\n",
       "      <td>103.500</td>\n",
       "      <td>69.786212</td>\n",
       "      <td>1.035</td>\n",
       "      <td>...</td>\n",
       "      <td>73.581506</td>\n",
       "      <td>1.750</td>\n",
       "      <td>9937.5</td>\n",
       "      <td>40.000</td>\n",
       "      <td>446</td>\n",
       "      <td>751.002245</td>\n",
       "      <td>304</td>\n",
       "      <td>999</td>\n",
       "      <td>107.00</td>\n",
       "      <td>5</td>\n",
       "    </tr>\n",
       "    <tr>\n",
       "      <th>4</th>\n",
       "      <td>21.25</td>\n",
       "      <td>148.50</td>\n",
       "      <td>2</td>\n",
       "      <td>2</td>\n",
       "      <td>2019</td>\n",
       "      <td>32.896709</td>\n",
       "      <td>28.153361</td>\n",
       "      <td>84.875</td>\n",
       "      <td>69.786212</td>\n",
       "      <td>1.035</td>\n",
       "      <td>...</td>\n",
       "      <td>73.581506</td>\n",
       "      <td>1.750</td>\n",
       "      <td>9937.5</td>\n",
       "      <td>40.000</td>\n",
       "      <td>1293</td>\n",
       "      <td>751.002245</td>\n",
       "      <td>304</td>\n",
       "      <td>2278</td>\n",
       "      <td>99.75</td>\n",
       "      <td>5</td>\n",
       "    </tr>\n",
       "    <tr>\n",
       "      <th>...</th>\n",
       "      <td>...</td>\n",
       "      <td>...</td>\n",
       "      <td>...</td>\n",
       "      <td>...</td>\n",
       "      <td>...</td>\n",
       "      <td>...</td>\n",
       "      <td>...</td>\n",
       "      <td>...</td>\n",
       "      <td>...</td>\n",
       "      <td>...</td>\n",
       "      <td>...</td>\n",
       "      <td>...</td>\n",
       "      <td>...</td>\n",
       "      <td>...</td>\n",
       "      <td>...</td>\n",
       "      <td>...</td>\n",
       "      <td>...</td>\n",
       "      <td>...</td>\n",
       "      <td>...</td>\n",
       "      <td>...</td>\n",
       "      <td>...</td>\n",
       "    </tr>\n",
       "    <tr>\n",
       "      <th>836972</th>\n",
       "      <td>5100.00</td>\n",
       "      <td>5500.00</td>\n",
       "      <td>2</td>\n",
       "      <td>4</td>\n",
       "      <td>2021</td>\n",
       "      <td>1216.475900</td>\n",
       "      <td>1072.432381</td>\n",
       "      <td>5300.000</td>\n",
       "      <td>69.786212</td>\n",
       "      <td>1.035</td>\n",
       "      <td>...</td>\n",
       "      <td>72.937591</td>\n",
       "      <td>4.625</td>\n",
       "      <td>5550.0</td>\n",
       "      <td>27.875</td>\n",
       "      <td>153</td>\n",
       "      <td>5845.592006</td>\n",
       "      <td>63</td>\n",
       "      <td>930</td>\n",
       "      <td>5300.00</td>\n",
       "      <td>10</td>\n",
       "    </tr>\n",
       "    <tr>\n",
       "      <th>836973</th>\n",
       "      <td>3500.00</td>\n",
       "      <td>5500.00</td>\n",
       "      <td>2</td>\n",
       "      <td>4</td>\n",
       "      <td>2021</td>\n",
       "      <td>1216.475900</td>\n",
       "      <td>1072.432381</td>\n",
       "      <td>4500.000</td>\n",
       "      <td>69.786212</td>\n",
       "      <td>1.035</td>\n",
       "      <td>...</td>\n",
       "      <td>78.916584</td>\n",
       "      <td>1.035</td>\n",
       "      <td>5762.5</td>\n",
       "      <td>37.550</td>\n",
       "      <td>1318</td>\n",
       "      <td>5845.592006</td>\n",
       "      <td>378</td>\n",
       "      <td>942</td>\n",
       "      <td>5000.00</td>\n",
       "      <td>10</td>\n",
       "    </tr>\n",
       "    <tr>\n",
       "      <th>836974</th>\n",
       "      <td>5300.00</td>\n",
       "      <td>6225.00</td>\n",
       "      <td>2</td>\n",
       "      <td>4</td>\n",
       "      <td>2021</td>\n",
       "      <td>1216.475900</td>\n",
       "      <td>1072.432381</td>\n",
       "      <td>5762.500</td>\n",
       "      <td>69.786212</td>\n",
       "      <td>1.035</td>\n",
       "      <td>...</td>\n",
       "      <td>78.916584</td>\n",
       "      <td>1.035</td>\n",
       "      <td>5762.5</td>\n",
       "      <td>37.550</td>\n",
       "      <td>1955</td>\n",
       "      <td>5845.592006</td>\n",
       "      <td>378</td>\n",
       "      <td>1832</td>\n",
       "      <td>5650.00</td>\n",
       "      <td>10</td>\n",
       "    </tr>\n",
       "    <tr>\n",
       "      <th>836975</th>\n",
       "      <td>4750.00</td>\n",
       "      <td>5750.00</td>\n",
       "      <td>2</td>\n",
       "      <td>4</td>\n",
       "      <td>2021</td>\n",
       "      <td>1216.475900</td>\n",
       "      <td>1072.432381</td>\n",
       "      <td>5250.000</td>\n",
       "      <td>69.786212</td>\n",
       "      <td>1.035</td>\n",
       "      <td>...</td>\n",
       "      <td>103.700627</td>\n",
       "      <td>2.400</td>\n",
       "      <td>5800.0</td>\n",
       "      <td>42.500</td>\n",
       "      <td>1065</td>\n",
       "      <td>5845.592006</td>\n",
       "      <td>219</td>\n",
       "      <td>2352</td>\n",
       "      <td>5250.00</td>\n",
       "      <td>10</td>\n",
       "    </tr>\n",
       "    <tr>\n",
       "      <th>836976</th>\n",
       "      <td>10500.00</td>\n",
       "      <td>11500.00</td>\n",
       "      <td>2</td>\n",
       "      <td>4</td>\n",
       "      <td>2021</td>\n",
       "      <td>1216.475900</td>\n",
       "      <td>1072.432381</td>\n",
       "      <td>11000.000</td>\n",
       "      <td>402.955048</td>\n",
       "      <td>1.200</td>\n",
       "      <td>...</td>\n",
       "      <td>2338.784717</td>\n",
       "      <td>8.000</td>\n",
       "      <td>50050.0</td>\n",
       "      <td>45.000</td>\n",
       "      <td>593</td>\n",
       "      <td>5845.592006</td>\n",
       "      <td>239</td>\n",
       "      <td>1595</td>\n",
       "      <td>11000.00</td>\n",
       "      <td>10</td>\n",
       "    </tr>\n",
       "  </tbody>\n",
       "</table>\n",
       "<p>836975 rows × 23 columns</p>\n",
       "</div>"
      ],
      "text/plain": [
       "        min_price  max_price  DayOfWeek  Quarter  Year  Month_max_price_mean  \\\n",
       "0           63.25      79.55          2        2  2019             32.896709   \n",
       "1           80.05      80.05          2        2  2019             32.896709   \n",
       "2           90.00     155.00          2        2  2019             32.896709   \n",
       "3           94.50     112.50          2        2  2019             32.896709   \n",
       "4           21.25     148.50          2        2  2019             32.896709   \n",
       "...           ...        ...        ...      ...   ...                   ...   \n",
       "836972    5100.00    5500.00          2        4  2021           1216.475900   \n",
       "836973    3500.00    5500.00          2        4  2021           1216.475900   \n",
       "836974    5300.00    6225.00          2        4  2021           1216.475900   \n",
       "836975    4750.00    5750.00          2        4  2021           1216.475900   \n",
       "836976   10500.00   11500.00          2        4  2021           1216.475900   \n",
       "\n",
       "        Month_min_price_mean  avg_price  state_avg_price  state_min_price  \\\n",
       "0                  28.153361     71.400        69.786212            1.035   \n",
       "1                  28.153361     80.050        69.786212            1.035   \n",
       "2                  28.153361    122.500        69.786212            1.035   \n",
       "3                  28.153361    103.500        69.786212            1.035   \n",
       "4                  28.153361     84.875        69.786212            1.035   \n",
       "...                      ...        ...              ...              ...   \n",
       "836972           1072.432381   5300.000        69.786212            1.035   \n",
       "836973           1072.432381   4500.000        69.786212            1.035   \n",
       "836974           1072.432381   5762.500        69.786212            1.035   \n",
       "836975           1072.432381   5250.000        69.786212            1.035   \n",
       "836976           1072.432381  11000.000       402.955048            1.200   \n",
       "\n",
       "        ...  district_avg_price  district_min_price  district_max_price  \\\n",
       "0       ...           81.118479               2.000              9977.5   \n",
       "1       ...           72.313411               3.950              9005.0   \n",
       "2       ...          142.634353               6.000             11800.0   \n",
       "3       ...           73.581506               1.750              9937.5   \n",
       "4       ...           73.581506               1.750              9937.5   \n",
       "...     ...                 ...                 ...                 ...   \n",
       "836972  ...           72.937591               4.625              5550.0   \n",
       "836973  ...           78.916584               1.035              5762.5   \n",
       "836974  ...           78.916584               1.035              5762.5   \n",
       "836975  ...          103.700627               2.400              5800.0   \n",
       "836976  ...         2338.784717               8.000             50050.0   \n",
       "\n",
       "        district_median_price  market_size  commodity_encoded  district_label  \\\n",
       "0                      42.500         1617         751.002245              15   \n",
       "1                      45.100         1038         751.002245              39   \n",
       "2                      45.500          729         751.002245             206   \n",
       "3                      40.000          446         751.002245             304   \n",
       "4                      40.000         1293         751.002245             304   \n",
       "...                       ...          ...                ...             ...   \n",
       "836972                 27.875          153        5845.592006              63   \n",
       "836973                 37.550         1318        5845.592006             378   \n",
       "836974                 37.550         1955        5845.592006             378   \n",
       "836975                 42.500         1065        5845.592006             219   \n",
       "836976                 45.000          593        5845.592006             239   \n",
       "\n",
       "        market_label  modal_price  Month  \n",
       "0                 78        79.55      5  \n",
       "1                593        80.05      5  \n",
       "2                934       122.50      5  \n",
       "3                999       107.00      5  \n",
       "4               2278        99.75      5  \n",
       "...              ...          ...    ...  \n",
       "836972           930      5300.00     10  \n",
       "836973           942      5000.00     10  \n",
       "836974          1832      5650.00     10  \n",
       "836975          2352      5250.00     10  \n",
       "836976          1595     11000.00     10  \n",
       "\n",
       "[836975 rows x 23 columns]"
      ]
     },
     "execution_count": 193,
     "metadata": {},
     "output_type": "execute_result"
    }
   ],
   "source": [
    "data=data.loc[:,li+li2]\n",
    "data"
   ]
  },
  {
   "cell_type": "code",
   "execution_count": 194,
   "id": "478968eb",
   "metadata": {
    "execution": {
     "iopub.execute_input": "2024-04-05T18:34:33.569310Z",
     "iopub.status.busy": "2024-04-05T18:34:33.567706Z",
     "iopub.status.idle": "2024-04-05T18:34:33.576305Z",
     "shell.execute_reply": "2024-04-05T18:34:33.574639Z",
     "shell.execute_reply.started": "2024-04-05T18:34:33.569256Z"
    }
   },
   "outputs": [],
   "source": [
    "num = ['min_price', 'max_price','Month_max_price_mean', 'Month_min_price_mean',\n",
    "       'avg_price', 'state_avg_price',\n",
    "       'state_min_price', 'state_max_price', 'state_median_price',\n",
    "       'state_std_price', 'district_avg_price', 'district_min_price',\n",
    "       'district_max_price', 'district_median_price', 'market_size','modal_price']\n",
    "\n",
    "cat = [ 'DayOfWeek', 'Month', 'Quarter', 'Year','commodity_encoded', 'district_label', 'market_label']"
   ]
  },
  {
   "cell_type": "code",
   "execution_count": 195,
   "id": "f5406454",
   "metadata": {
    "execution": {
     "iopub.execute_input": "2024-04-05T18:34:34.910984Z",
     "iopub.status.busy": "2024-04-05T18:34:34.908472Z",
     "iopub.status.idle": "2024-04-05T18:34:34.974164Z",
     "shell.execute_reply": "2024-04-05T18:34:34.972752Z",
     "shell.execute_reply.started": "2024-04-05T18:34:34.910909Z"
    }
   },
   "outputs": [
    {
     "data": {
      "text/html": [
       "<div>\n",
       "<style scoped>\n",
       "    .dataframe tbody tr th:only-of-type {\n",
       "        vertical-align: middle;\n",
       "    }\n",
       "\n",
       "    .dataframe tbody tr th {\n",
       "        vertical-align: top;\n",
       "    }\n",
       "\n",
       "    .dataframe thead th {\n",
       "        text-align: right;\n",
       "    }\n",
       "</style>\n",
       "<table border=\"1\" class=\"dataframe\">\n",
       "  <thead>\n",
       "    <tr style=\"text-align: right;\">\n",
       "      <th></th>\n",
       "      <th>DayOfWeek</th>\n",
       "      <th>Month</th>\n",
       "      <th>Quarter</th>\n",
       "      <th>Year</th>\n",
       "      <th>commodity_encoded</th>\n",
       "      <th>district_label</th>\n",
       "      <th>market_label</th>\n",
       "    </tr>\n",
       "  </thead>\n",
       "  <tbody>\n",
       "    <tr>\n",
       "      <th>0</th>\n",
       "      <td>2</td>\n",
       "      <td>5</td>\n",
       "      <td>2</td>\n",
       "      <td>2019</td>\n",
       "      <td>751.002245</td>\n",
       "      <td>15</td>\n",
       "      <td>78</td>\n",
       "    </tr>\n",
       "    <tr>\n",
       "      <th>1</th>\n",
       "      <td>2</td>\n",
       "      <td>5</td>\n",
       "      <td>2</td>\n",
       "      <td>2019</td>\n",
       "      <td>751.002245</td>\n",
       "      <td>39</td>\n",
       "      <td>593</td>\n",
       "    </tr>\n",
       "    <tr>\n",
       "      <th>2</th>\n",
       "      <td>2</td>\n",
       "      <td>5</td>\n",
       "      <td>2</td>\n",
       "      <td>2019</td>\n",
       "      <td>751.002245</td>\n",
       "      <td>206</td>\n",
       "      <td>934</td>\n",
       "    </tr>\n",
       "    <tr>\n",
       "      <th>3</th>\n",
       "      <td>2</td>\n",
       "      <td>5</td>\n",
       "      <td>2</td>\n",
       "      <td>2019</td>\n",
       "      <td>751.002245</td>\n",
       "      <td>304</td>\n",
       "      <td>999</td>\n",
       "    </tr>\n",
       "    <tr>\n",
       "      <th>4</th>\n",
       "      <td>2</td>\n",
       "      <td>5</td>\n",
       "      <td>2</td>\n",
       "      <td>2019</td>\n",
       "      <td>751.002245</td>\n",
       "      <td>304</td>\n",
       "      <td>2278</td>\n",
       "    </tr>\n",
       "    <tr>\n",
       "      <th>...</th>\n",
       "      <td>...</td>\n",
       "      <td>...</td>\n",
       "      <td>...</td>\n",
       "      <td>...</td>\n",
       "      <td>...</td>\n",
       "      <td>...</td>\n",
       "      <td>...</td>\n",
       "    </tr>\n",
       "    <tr>\n",
       "      <th>836972</th>\n",
       "      <td>2</td>\n",
       "      <td>10</td>\n",
       "      <td>4</td>\n",
       "      <td>2021</td>\n",
       "      <td>5845.592006</td>\n",
       "      <td>63</td>\n",
       "      <td>930</td>\n",
       "    </tr>\n",
       "    <tr>\n",
       "      <th>836973</th>\n",
       "      <td>2</td>\n",
       "      <td>10</td>\n",
       "      <td>4</td>\n",
       "      <td>2021</td>\n",
       "      <td>5845.592006</td>\n",
       "      <td>378</td>\n",
       "      <td>942</td>\n",
       "    </tr>\n",
       "    <tr>\n",
       "      <th>836974</th>\n",
       "      <td>2</td>\n",
       "      <td>10</td>\n",
       "      <td>4</td>\n",
       "      <td>2021</td>\n",
       "      <td>5845.592006</td>\n",
       "      <td>378</td>\n",
       "      <td>1832</td>\n",
       "    </tr>\n",
       "    <tr>\n",
       "      <th>836975</th>\n",
       "      <td>2</td>\n",
       "      <td>10</td>\n",
       "      <td>4</td>\n",
       "      <td>2021</td>\n",
       "      <td>5845.592006</td>\n",
       "      <td>219</td>\n",
       "      <td>2352</td>\n",
       "    </tr>\n",
       "    <tr>\n",
       "      <th>836976</th>\n",
       "      <td>2</td>\n",
       "      <td>10</td>\n",
       "      <td>4</td>\n",
       "      <td>2021</td>\n",
       "      <td>5845.592006</td>\n",
       "      <td>239</td>\n",
       "      <td>1595</td>\n",
       "    </tr>\n",
       "  </tbody>\n",
       "</table>\n",
       "<p>836975 rows × 7 columns</p>\n",
       "</div>"
      ],
      "text/plain": [
       "        DayOfWeek  Month  Quarter  Year  commodity_encoded  district_label  \\\n",
       "0               2      5        2  2019         751.002245              15   \n",
       "1               2      5        2  2019         751.002245              39   \n",
       "2               2      5        2  2019         751.002245             206   \n",
       "3               2      5        2  2019         751.002245             304   \n",
       "4               2      5        2  2019         751.002245             304   \n",
       "...           ...    ...      ...   ...                ...             ...   \n",
       "836972          2     10        4  2021        5845.592006              63   \n",
       "836973          2     10        4  2021        5845.592006             378   \n",
       "836974          2     10        4  2021        5845.592006             378   \n",
       "836975          2     10        4  2021        5845.592006             219   \n",
       "836976          2     10        4  2021        5845.592006             239   \n",
       "\n",
       "        market_label  \n",
       "0                 78  \n",
       "1                593  \n",
       "2                934  \n",
       "3                999  \n",
       "4               2278  \n",
       "...              ...  \n",
       "836972           930  \n",
       "836973           942  \n",
       "836974          1832  \n",
       "836975          2352  \n",
       "836976          1595  \n",
       "\n",
       "[836975 rows x 7 columns]"
      ]
     },
     "execution_count": 195,
     "metadata": {},
     "output_type": "execute_result"
    }
   ],
   "source": [
    "data[cat]"
   ]
  },
  {
   "cell_type": "code",
   "execution_count": 196,
   "id": "fe3751a4",
   "metadata": {
    "execution": {
     "iopub.execute_input": "2024-04-05T18:34:36.003371Z",
     "iopub.status.busy": "2024-04-05T18:34:36.002858Z",
     "iopub.status.idle": "2024-04-05T18:34:36.930472Z",
     "shell.execute_reply": "2024-04-05T18:34:36.929497Z",
     "shell.execute_reply.started": "2024-04-05T18:34:36.003336Z"
    }
   },
   "outputs": [
    {
     "data": {
      "text/html": [
       "<div>\n",
       "<style scoped>\n",
       "    .dataframe tbody tr th:only-of-type {\n",
       "        vertical-align: middle;\n",
       "    }\n",
       "\n",
       "    .dataframe tbody tr th {\n",
       "        vertical-align: top;\n",
       "    }\n",
       "\n",
       "    .dataframe thead th {\n",
       "        text-align: right;\n",
       "    }\n",
       "</style>\n",
       "<table border=\"1\" class=\"dataframe\">\n",
       "  <thead>\n",
       "    <tr style=\"text-align: right;\">\n",
       "      <th></th>\n",
       "      <th>min_price</th>\n",
       "      <th>max_price</th>\n",
       "      <th>Month_max_price_mean</th>\n",
       "      <th>Month_min_price_mean</th>\n",
       "      <th>avg_price</th>\n",
       "      <th>state_avg_price</th>\n",
       "      <th>state_min_price</th>\n",
       "      <th>state_max_price</th>\n",
       "      <th>state_median_price</th>\n",
       "      <th>state_std_price</th>\n",
       "      <th>district_avg_price</th>\n",
       "      <th>district_min_price</th>\n",
       "      <th>district_max_price</th>\n",
       "      <th>district_median_price</th>\n",
       "      <th>market_size</th>\n",
       "      <th>modal_price</th>\n",
       "    </tr>\n",
       "  </thead>\n",
       "  <tbody>\n",
       "    <tr>\n",
       "      <th>0</th>\n",
       "      <td>1.696078</td>\n",
       "      <td>1.849153</td>\n",
       "      <td>-1.012976</td>\n",
       "      <td>-0.592464</td>\n",
       "      <td>1.811111</td>\n",
       "      <td>-1.000000</td>\n",
       "      <td>1.035</td>\n",
       "      <td>0.415525</td>\n",
       "      <td>3.004695</td>\n",
       "      <td>-1.240027</td>\n",
       "      <td>0.022652</td>\n",
       "      <td>-0.072464</td>\n",
       "      <td>1.545556</td>\n",
       "      <td>2.436775</td>\n",
       "      <td>0.216929</td>\n",
       "      <td>2.115242</td>\n",
       "    </tr>\n",
       "    <tr>\n",
       "      <th>1</th>\n",
       "      <td>2.354902</td>\n",
       "      <td>1.866102</td>\n",
       "      <td>-1.012976</td>\n",
       "      <td>-0.592464</td>\n",
       "      <td>2.131481</td>\n",
       "      <td>-1.000000</td>\n",
       "      <td>1.035</td>\n",
       "      <td>0.415525</td>\n",
       "      <td>3.004695</td>\n",
       "      <td>-1.240027</td>\n",
       "      <td>-0.135417</td>\n",
       "      <td>0.492754</td>\n",
       "      <td>1.113333</td>\n",
       "      <td>2.746206</td>\n",
       "      <td>-0.076533</td>\n",
       "      <td>2.133829</td>\n",
       "    </tr>\n",
       "    <tr>\n",
       "      <th>2</th>\n",
       "      <td>2.745098</td>\n",
       "      <td>4.406780</td>\n",
       "      <td>-1.012976</td>\n",
       "      <td>-0.592464</td>\n",
       "      <td>3.703704</td>\n",
       "      <td>-1.000000</td>\n",
       "      <td>1.035</td>\n",
       "      <td>0.415525</td>\n",
       "      <td>3.004695</td>\n",
       "      <td>-1.240027</td>\n",
       "      <td>1.126991</td>\n",
       "      <td>1.086957</td>\n",
       "      <td>2.355556</td>\n",
       "      <td>2.793811</td>\n",
       "      <td>-0.233147</td>\n",
       "      <td>3.711896</td>\n",
       "    </tr>\n",
       "    <tr>\n",
       "      <th>3</th>\n",
       "      <td>2.921569</td>\n",
       "      <td>2.966102</td>\n",
       "      <td>-1.012976</td>\n",
       "      <td>-0.592464</td>\n",
       "      <td>3.000000</td>\n",
       "      <td>-1.000000</td>\n",
       "      <td>1.035</td>\n",
       "      <td>0.415525</td>\n",
       "      <td>3.004695</td>\n",
       "      <td>-1.240027</td>\n",
       "      <td>-0.112652</td>\n",
       "      <td>-0.144928</td>\n",
       "      <td>1.527778</td>\n",
       "      <td>2.139244</td>\n",
       "      <td>-0.376584</td>\n",
       "      <td>3.135688</td>\n",
       "    </tr>\n",
       "    <tr>\n",
       "      <th>4</th>\n",
       "      <td>0.049020</td>\n",
       "      <td>4.186441</td>\n",
       "      <td>-1.012976</td>\n",
       "      <td>-0.592464</td>\n",
       "      <td>2.310185</td>\n",
       "      <td>-1.000000</td>\n",
       "      <td>1.035</td>\n",
       "      <td>0.415525</td>\n",
       "      <td>3.004695</td>\n",
       "      <td>-1.240027</td>\n",
       "      <td>-0.112652</td>\n",
       "      <td>-0.144928</td>\n",
       "      <td>1.527778</td>\n",
       "      <td>2.139244</td>\n",
       "      <td>0.052712</td>\n",
       "      <td>2.866171</td>\n",
       "    </tr>\n",
       "    <tr>\n",
       "      <th>...</th>\n",
       "      <td>...</td>\n",
       "      <td>...</td>\n",
       "      <td>...</td>\n",
       "      <td>...</td>\n",
       "      <td>...</td>\n",
       "      <td>...</td>\n",
       "      <td>...</td>\n",
       "      <td>...</td>\n",
       "      <td>...</td>\n",
       "      <td>...</td>\n",
       "      <td>...</td>\n",
       "      <td>...</td>\n",
       "      <td>...</td>\n",
       "      <td>...</td>\n",
       "      <td>...</td>\n",
       "      <td>...</td>\n",
       "    </tr>\n",
       "    <tr>\n",
       "      <th>836970</th>\n",
       "      <td>199.215686</td>\n",
       "      <td>185.593220</td>\n",
       "      <td>499.358784</td>\n",
       "      <td>523.063464</td>\n",
       "      <td>195.462963</td>\n",
       "      <td>-1.000000</td>\n",
       "      <td>1.035</td>\n",
       "      <td>0.415525</td>\n",
       "      <td>3.004695</td>\n",
       "      <td>-1.240027</td>\n",
       "      <td>-0.124212</td>\n",
       "      <td>0.688406</td>\n",
       "      <td>-0.422222</td>\n",
       "      <td>0.696221</td>\n",
       "      <td>-0.525089</td>\n",
       "      <td>196.184015</td>\n",
       "    </tr>\n",
       "    <tr>\n",
       "      <th>836971</th>\n",
       "      <td>136.470588</td>\n",
       "      <td>185.593220</td>\n",
       "      <td>499.358784</td>\n",
       "      <td>523.063464</td>\n",
       "      <td>165.833333</td>\n",
       "      <td>-1.000000</td>\n",
       "      <td>1.035</td>\n",
       "      <td>0.415525</td>\n",
       "      <td>3.004695</td>\n",
       "      <td>-1.240027</td>\n",
       "      <td>-0.016877</td>\n",
       "      <td>-0.352174</td>\n",
       "      <td>-0.327778</td>\n",
       "      <td>1.847664</td>\n",
       "      <td>0.065383</td>\n",
       "      <td>185.031599</td>\n",
       "    </tr>\n",
       "    <tr>\n",
       "      <th>836972</th>\n",
       "      <td>207.058824</td>\n",
       "      <td>210.169492</td>\n",
       "      <td>499.358784</td>\n",
       "      <td>523.063464</td>\n",
       "      <td>212.592593</td>\n",
       "      <td>-1.000000</td>\n",
       "      <td>1.035</td>\n",
       "      <td>0.415525</td>\n",
       "      <td>3.004695</td>\n",
       "      <td>-1.240027</td>\n",
       "      <td>-0.016877</td>\n",
       "      <td>-0.352174</td>\n",
       "      <td>-0.327778</td>\n",
       "      <td>1.847664</td>\n",
       "      <td>0.388241</td>\n",
       "      <td>209.195167</td>\n",
       "    </tr>\n",
       "    <tr>\n",
       "      <th>836973</th>\n",
       "      <td>185.490196</td>\n",
       "      <td>194.067797</td>\n",
       "      <td>499.358784</td>\n",
       "      <td>523.063464</td>\n",
       "      <td>193.611111</td>\n",
       "      <td>-1.000000</td>\n",
       "      <td>1.035</td>\n",
       "      <td>0.415525</td>\n",
       "      <td>3.004695</td>\n",
       "      <td>-1.240027</td>\n",
       "      <td>0.428049</td>\n",
       "      <td>0.043478</td>\n",
       "      <td>-0.311111</td>\n",
       "      <td>2.436775</td>\n",
       "      <td>-0.062848</td>\n",
       "      <td>194.325279</td>\n",
       "    </tr>\n",
       "    <tr>\n",
       "      <th>836974</th>\n",
       "      <td>410.980392</td>\n",
       "      <td>388.983051</td>\n",
       "      <td>499.358784</td>\n",
       "      <td>523.063464</td>\n",
       "      <td>406.574074</td>\n",
       "      <td>13.230293</td>\n",
       "      <td>1.200</td>\n",
       "      <td>7.401826</td>\n",
       "      <td>3.535211</td>\n",
       "      <td>13.615103</td>\n",
       "      <td>40.552479</td>\n",
       "      <td>1.666667</td>\n",
       "      <td>19.355556</td>\n",
       "      <td>2.734305</td>\n",
       "      <td>-0.302078</td>\n",
       "      <td>408.079926</td>\n",
       "    </tr>\n",
       "  </tbody>\n",
       "</table>\n",
       "<p>836975 rows × 16 columns</p>\n",
       "</div>"
      ],
      "text/plain": [
       "         min_price   max_price  Month_max_price_mean  Month_min_price_mean  \\\n",
       "0         1.696078    1.849153             -1.012976             -0.592464   \n",
       "1         2.354902    1.866102             -1.012976             -0.592464   \n",
       "2         2.745098    4.406780             -1.012976             -0.592464   \n",
       "3         2.921569    2.966102             -1.012976             -0.592464   \n",
       "4         0.049020    4.186441             -1.012976             -0.592464   \n",
       "...            ...         ...                   ...                   ...   \n",
       "836970  199.215686  185.593220            499.358784            523.063464   \n",
       "836971  136.470588  185.593220            499.358784            523.063464   \n",
       "836972  207.058824  210.169492            499.358784            523.063464   \n",
       "836973  185.490196  194.067797            499.358784            523.063464   \n",
       "836974  410.980392  388.983051            499.358784            523.063464   \n",
       "\n",
       "         avg_price  state_avg_price  state_min_price  state_max_price  \\\n",
       "0         1.811111        -1.000000            1.035         0.415525   \n",
       "1         2.131481        -1.000000            1.035         0.415525   \n",
       "2         3.703704        -1.000000            1.035         0.415525   \n",
       "3         3.000000        -1.000000            1.035         0.415525   \n",
       "4         2.310185        -1.000000            1.035         0.415525   \n",
       "...            ...              ...              ...              ...   \n",
       "836970  195.462963        -1.000000            1.035         0.415525   \n",
       "836971  165.833333        -1.000000            1.035         0.415525   \n",
       "836972  212.592593        -1.000000            1.035         0.415525   \n",
       "836973  193.611111        -1.000000            1.035         0.415525   \n",
       "836974  406.574074        13.230293            1.200         7.401826   \n",
       "\n",
       "        state_median_price  state_std_price  district_avg_price  \\\n",
       "0                 3.004695        -1.240027            0.022652   \n",
       "1                 3.004695        -1.240027           -0.135417   \n",
       "2                 3.004695        -1.240027            1.126991   \n",
       "3                 3.004695        -1.240027           -0.112652   \n",
       "4                 3.004695        -1.240027           -0.112652   \n",
       "...                    ...              ...                 ...   \n",
       "836970            3.004695        -1.240027           -0.124212   \n",
       "836971            3.004695        -1.240027           -0.016877   \n",
       "836972            3.004695        -1.240027           -0.016877   \n",
       "836973            3.004695        -1.240027            0.428049   \n",
       "836974            3.535211        13.615103           40.552479   \n",
       "\n",
       "        district_min_price  district_max_price  district_median_price  \\\n",
       "0                -0.072464            1.545556               2.436775   \n",
       "1                 0.492754            1.113333               2.746206   \n",
       "2                 1.086957            2.355556               2.793811   \n",
       "3                -0.144928            1.527778               2.139244   \n",
       "4                -0.144928            1.527778               2.139244   \n",
       "...                    ...                 ...                    ...   \n",
       "836970            0.688406           -0.422222               0.696221   \n",
       "836971           -0.352174           -0.327778               1.847664   \n",
       "836972           -0.352174           -0.327778               1.847664   \n",
       "836973            0.043478           -0.311111               2.436775   \n",
       "836974            1.666667           19.355556               2.734305   \n",
       "\n",
       "        market_size  modal_price  \n",
       "0          0.216929     2.115242  \n",
       "1         -0.076533     2.133829  \n",
       "2         -0.233147     3.711896  \n",
       "3         -0.376584     3.135688  \n",
       "4          0.052712     2.866171  \n",
       "...             ...          ...  \n",
       "836970    -0.525089   196.184015  \n",
       "836971     0.065383   185.031599  \n",
       "836972     0.388241   209.195167  \n",
       "836973    -0.062848   194.325279  \n",
       "836974    -0.302078   408.079926  \n",
       "\n",
       "[836975 rows x 16 columns]"
      ]
     },
     "execution_count": 196,
     "metadata": {},
     "output_type": "execute_result"
    }
   ],
   "source": [
    "from sklearn.preprocessing import RobustScaler\n",
    "rb = RobustScaler()\n",
    "data_sc = rb.fit_transform(data[num])\n",
    "data_sc = pd.DataFrame(data_sc,columns = num)\n",
    "data_sc"
   ]
  },
  {
   "cell_type": "code",
   "execution_count": 197,
   "id": "62b23616",
   "metadata": {
    "execution": {
     "iopub.execute_input": "2024-04-05T18:34:38.382717Z",
     "iopub.status.busy": "2024-04-05T18:34:38.382142Z",
     "iopub.status.idle": "2024-04-05T18:34:38.552269Z",
     "shell.execute_reply": "2024-04-05T18:34:38.550412Z",
     "shell.execute_reply.started": "2024-04-05T18:34:38.382674Z"
    }
   },
   "outputs": [],
   "source": [
    "data.reset_index(drop=True, inplace=True)\n",
    "data_sc.reset_index(drop=True, inplace=True)\n",
    "data_scale = pd.concat([data[['DayOfWeek', 'Month', 'Quarter', 'Year','commodity_encoded', 'district_label', 'market_label']], data_sc], axis=1)\n"
   ]
  },
  {
   "cell_type": "code",
   "execution_count": 198,
   "id": "3bba8cc0",
   "metadata": {
    "execution": {
     "iopub.execute_input": "2024-04-05T18:34:49.615689Z",
     "iopub.status.busy": "2024-04-05T18:34:49.615178Z",
     "iopub.status.idle": "2024-04-05T18:34:49.623995Z",
     "shell.execute_reply": "2024-04-05T18:34:49.622569Z",
     "shell.execute_reply.started": "2024-04-05T18:34:49.615650Z"
    }
   },
   "outputs": [
    {
     "data": {
      "text/plain": [
       "(836975, 23)"
      ]
     },
     "execution_count": 198,
     "metadata": {},
     "output_type": "execute_result"
    }
   ],
   "source": [
    "data_scale.shape"
   ]
  },
  {
   "cell_type": "code",
   "execution_count": 199,
   "id": "69a8986e",
   "metadata": {
    "execution": {
     "iopub.execute_input": "2024-04-05T18:34:51.839733Z",
     "iopub.status.busy": "2024-04-05T18:34:51.839215Z",
     "iopub.status.idle": "2024-04-05T18:34:52.484018Z",
     "shell.execute_reply": "2024-04-05T18:34:52.482710Z",
     "shell.execute_reply.started": "2024-04-05T18:34:51.839691Z"
    }
   },
   "outputs": [
    {
     "data": {
      "text/plain": [
       "((585882, 22), (585882,), (251093, 22), (251093,), (836975, 23), (836975, 23))"
      ]
     },
     "execution_count": 199,
     "metadata": {},
     "output_type": "execute_result"
    }
   ],
   "source": [
    "x= data_scale.drop(columns='modal_price')\n",
    "y = data_scale['modal_price']\n",
    "\n",
    "from sklearn.model_selection import train_test_split\n",
    "\n",
    "trainx,testx,trainy,testy = train_test_split(x,y,train_size=0.70,random_state=20)\n",
    "\n",
    "trainx.shape,trainy.shape,testx.shape,testy.shape,data.shape,data_scale.shape"
   ]
  },
  {
   "cell_type": "code",
   "execution_count": 202,
   "id": "65132be6",
   "metadata": {
    "execution": {
     "iopub.execute_input": "2024-04-05T18:35:24.165954Z",
     "iopub.status.busy": "2024-04-05T18:35:24.164279Z",
     "iopub.status.idle": "2024-04-05T18:35:25.731310Z",
     "shell.execute_reply": "2024-04-05T18:35:25.729398Z",
     "shell.execute_reply.started": "2024-04-05T18:35:24.165896Z"
    }
   },
   "outputs": [
    {
     "data": {
      "text/html": [
       "<table class=\"simpletable\">\n",
       "<caption>OLS Regression Results</caption>\n",
       "<tr>\n",
       "  <th>Dep. Variable:</th>       <td>modal_price</td>   <th>  R-squared:         </th>  <td>   0.665</td>  \n",
       "</tr>\n",
       "<tr>\n",
       "  <th>Model:</th>                   <td>OLS</td>       <th>  Adj. R-squared:    </th>  <td>   0.665</td>  \n",
       "</tr>\n",
       "<tr>\n",
       "  <th>Method:</th>             <td>Least Squares</td>  <th>  F-statistic:       </th>  <td>5.539e+04</td> \n",
       "</tr>\n",
       "<tr>\n",
       "  <th>Date:</th>             <td>Fri, 05 Apr 2024</td> <th>  Prob (F-statistic):</th>   <td>  0.00</td>   \n",
       "</tr>\n",
       "<tr>\n",
       "  <th>Time:</th>                 <td>18:35:25</td>     <th>  Log-Likelihood:    </th> <td>-2.7531e+06</td>\n",
       "</tr>\n",
       "<tr>\n",
       "  <th>No. Observations:</th>      <td>585882</td>      <th>  AIC:               </th>  <td>5.506e+06</td> \n",
       "</tr>\n",
       "<tr>\n",
       "  <th>Df Residuals:</th>          <td>585860</td>      <th>  BIC:               </th>  <td>5.507e+06</td> \n",
       "</tr>\n",
       "<tr>\n",
       "  <th>Df Model:</th>              <td>    21</td>      <th>                     </th>      <td> </td>     \n",
       "</tr>\n",
       "<tr>\n",
       "  <th>Covariance Type:</th>      <td>nonrobust</td>    <th>                     </th>      <td> </td>     \n",
       "</tr>\n",
       "</table>\n",
       "<table class=\"simpletable\">\n",
       "<tr>\n",
       "            <td></td>               <th>coef</th>     <th>std err</th>      <th>t</th>      <th>P>|t|</th>  <th>[0.025</th>    <th>0.975]</th>  \n",
       "</tr>\n",
       "<tr>\n",
       "  <th>const</th>                 <td>-2917.7036</td> <td>  105.144</td> <td>  -27.750</td> <td> 0.000</td> <td>-3123.782</td> <td>-2711.625</td>\n",
       "</tr>\n",
       "<tr>\n",
       "  <th>DayOfWeek</th>             <td>    0.0510</td> <td>    0.020</td> <td>    2.556</td> <td> 0.011</td> <td>    0.012</td> <td>    0.090</td>\n",
       "</tr>\n",
       "<tr>\n",
       "  <th>Month</th>                 <td>    0.1971</td> <td>    0.060</td> <td>    3.269</td> <td> 0.001</td> <td>    0.079</td> <td>    0.315</td>\n",
       "</tr>\n",
       "<tr>\n",
       "  <th>Quarter</th>               <td>   -0.1359</td> <td>    0.155</td> <td>   -0.875</td> <td> 0.382</td> <td>   -0.440</td> <td>    0.169</td>\n",
       "</tr>\n",
       "<tr>\n",
       "  <th>Year</th>                  <td>    1.4448</td> <td>    0.052</td> <td>   27.759</td> <td> 0.000</td> <td>    1.343</td> <td>    1.547</td>\n",
       "</tr>\n",
       "<tr>\n",
       "  <th>commodity_encoded</th>     <td>   -0.0011</td> <td> 6.66e-05</td> <td>  -16.472</td> <td> 0.000</td> <td>   -0.001</td> <td>   -0.001</td>\n",
       "</tr>\n",
       "<tr>\n",
       "  <th>district_label</th>        <td>    0.0004</td> <td>    0.000</td> <td>    1.454</td> <td> 0.146</td> <td>   -0.000</td> <td>    0.001</td>\n",
       "</tr>\n",
       "<tr>\n",
       "  <th>market_label</th>          <td>   -0.0002</td> <td> 5.64e-05</td> <td>   -4.022</td> <td> 0.000</td> <td>   -0.000</td> <td>   -0.000</td>\n",
       "</tr>\n",
       "<tr>\n",
       "  <th>min_price</th>             <td>   -0.9085</td> <td>    0.003</td> <td> -312.705</td> <td> 0.000</td> <td>   -0.914</td> <td>   -0.903</td>\n",
       "</tr>\n",
       "<tr>\n",
       "  <th>max_price</th>             <td>    1.3565</td> <td>    0.003</td> <td>  458.899</td> <td> 0.000</td> <td>    1.351</td> <td>    1.362</td>\n",
       "</tr>\n",
       "<tr>\n",
       "  <th>Month_max_price_mean</th>  <td>    2.7317</td> <td>    0.376</td> <td>    7.272</td> <td> 0.000</td> <td>    1.995</td> <td>    3.468</td>\n",
       "</tr>\n",
       "<tr>\n",
       "  <th>Month_min_price_mean</th>  <td>   -2.6017</td> <td>    0.359</td> <td>   -7.254</td> <td> 0.000</td> <td>   -3.305</td> <td>   -1.899</td>\n",
       "</tr>\n",
       "<tr>\n",
       "  <th>avg_price</th>             <td>    0.3120</td> <td>    0.001</td> <td>  508.086</td> <td> 0.000</td> <td>    0.311</td> <td>    0.313</td>\n",
       "</tr>\n",
       "<tr>\n",
       "  <th>state_avg_price</th>       <td>   -0.7023</td> <td>    0.025</td> <td>  -27.759</td> <td> 0.000</td> <td>   -0.752</td> <td>   -0.653</td>\n",
       "</tr>\n",
       "<tr>\n",
       "  <th>state_min_price</th>       <td>    0.0784</td> <td>    0.038</td> <td>    2.085</td> <td> 0.037</td> <td>    0.005</td> <td>    0.152</td>\n",
       "</tr>\n",
       "<tr>\n",
       "  <th>state_max_price</th>       <td>   -0.4957</td> <td>    0.025</td> <td>  -19.970</td> <td> 0.000</td> <td>   -0.544</td> <td>   -0.447</td>\n",
       "</tr>\n",
       "<tr>\n",
       "  <th>state_median_price</th>    <td>    0.1230</td> <td>    0.004</td> <td>   30.436</td> <td> 0.000</td> <td>    0.115</td> <td>    0.131</td>\n",
       "</tr>\n",
       "<tr>\n",
       "  <th>state_std_price</th>       <td>    1.0191</td> <td>    0.037</td> <td>   27.762</td> <td> 0.000</td> <td>    0.947</td> <td>    1.091</td>\n",
       "</tr>\n",
       "<tr>\n",
       "  <th>district_avg_price</th>    <td>   -0.7003</td> <td>    0.004</td> <td> -175.494</td> <td> 0.000</td> <td>   -0.708</td> <td>   -0.693</td>\n",
       "</tr>\n",
       "<tr>\n",
       "  <th>district_min_price</th>    <td>    0.0204</td> <td>    0.003</td> <td>    7.713</td> <td> 0.000</td> <td>    0.015</td> <td>    0.026</td>\n",
       "</tr>\n",
       "<tr>\n",
       "  <th>district_max_price</th>    <td>    0.6105</td> <td>    0.012</td> <td>   49.166</td> <td> 0.000</td> <td>    0.586</td> <td>    0.635</td>\n",
       "</tr>\n",
       "<tr>\n",
       "  <th>district_median_price</th> <td>    0.0037</td> <td>    0.002</td> <td>    2.113</td> <td> 0.035</td> <td>    0.000</td> <td>    0.007</td>\n",
       "</tr>\n",
       "<tr>\n",
       "  <th>market_size</th>           <td>   -0.5064</td> <td>    0.056</td> <td>   -9.015</td> <td> 0.000</td> <td>   -0.616</td> <td>   -0.396</td>\n",
       "</tr>\n",
       "</table>\n",
       "<table class=\"simpletable\">\n",
       "<tr>\n",
       "  <th>Omnibus:</th>       <td>565503.936</td> <th>  Durbin-Watson:     </th>    <td>   2.000</td>    \n",
       "</tr>\n",
       "<tr>\n",
       "  <th>Prob(Omnibus):</th>   <td> 0.000</td>   <th>  Jarque-Bera (JB):  </th> <td>21001493236.797</td>\n",
       "</tr>\n",
       "<tr>\n",
       "  <th>Skew:</th>            <td>-2.933</td>   <th>  Prob(JB):          </th>    <td>    0.00</td>    \n",
       "</tr>\n",
       "<tr>\n",
       "  <th>Kurtosis:</th>        <td>930.506</td>  <th>  Cond. No.          </th>    <td>8.10e+16</td>    \n",
       "</tr>\n",
       "</table><br/><br/>Notes:<br/>[1] Standard Errors assume that the covariance matrix of the errors is correctly specified.<br/>[2] The smallest eigenvalue is 5.07e-22. This might indicate that there are<br/>strong multicollinearity problems or that the design matrix is singular."
      ],
      "text/latex": [
       "\\begin{center}\n",
       "\\begin{tabular}{lclc}\n",
       "\\toprule\n",
       "\\textbf{Dep. Variable:}          &   modal\\_price   & \\textbf{  R-squared:         } &        0.665     \\\\\n",
       "\\textbf{Model:}                  &       OLS        & \\textbf{  Adj. R-squared:    } &        0.665     \\\\\n",
       "\\textbf{Method:}                 &  Least Squares   & \\textbf{  F-statistic:       } &    5.539e+04     \\\\\n",
       "\\textbf{Date:}                   & Fri, 05 Apr 2024 & \\textbf{  Prob (F-statistic):} &        0.00      \\\\\n",
       "\\textbf{Time:}                   &     18:35:25     & \\textbf{  Log-Likelihood:    } &   -2.7531e+06    \\\\\n",
       "\\textbf{No. Observations:}       &      585882      & \\textbf{  AIC:               } &    5.506e+06     \\\\\n",
       "\\textbf{Df Residuals:}           &      585860      & \\textbf{  BIC:               } &    5.507e+06     \\\\\n",
       "\\textbf{Df Model:}               &          21      & \\textbf{                     } &                  \\\\\n",
       "\\textbf{Covariance Type:}        &    nonrobust     & \\textbf{                     } &                  \\\\\n",
       "\\bottomrule\n",
       "\\end{tabular}\n",
       "\\begin{tabular}{lcccccc}\n",
       "                                 & \\textbf{coef} & \\textbf{std err} & \\textbf{t} & \\textbf{P$> |$t$|$} & \\textbf{[0.025} & \\textbf{0.975]}  \\\\\n",
       "\\midrule\n",
       "\\textbf{const}                   &   -2917.7036  &      105.144     &   -27.750  &         0.000        &    -3123.782    &    -2711.625     \\\\\n",
       "\\textbf{DayOfWeek}               &       0.0510  &        0.020     &     2.556  &         0.011        &        0.012    &        0.090     \\\\\n",
       "\\textbf{Month}                   &       0.1971  &        0.060     &     3.269  &         0.001        &        0.079    &        0.315     \\\\\n",
       "\\textbf{Quarter}                 &      -0.1359  &        0.155     &    -0.875  &         0.382        &       -0.440    &        0.169     \\\\\n",
       "\\textbf{Year}                    &       1.4448  &        0.052     &    27.759  &         0.000        &        1.343    &        1.547     \\\\\n",
       "\\textbf{commodity\\_encoded}      &      -0.0011  &     6.66e-05     &   -16.472  &         0.000        &       -0.001    &       -0.001     \\\\\n",
       "\\textbf{district\\_label}         &       0.0004  &        0.000     &     1.454  &         0.146        &       -0.000    &        0.001     \\\\\n",
       "\\textbf{market\\_label}           &      -0.0002  &     5.64e-05     &    -4.022  &         0.000        &       -0.000    &       -0.000     \\\\\n",
       "\\textbf{min\\_price}              &      -0.9085  &        0.003     &  -312.705  &         0.000        &       -0.914    &       -0.903     \\\\\n",
       "\\textbf{max\\_price}              &       1.3565  &        0.003     &   458.899  &         0.000        &        1.351    &        1.362     \\\\\n",
       "\\textbf{Month\\_max\\_price\\_mean} &       2.7317  &        0.376     &     7.272  &         0.000        &        1.995    &        3.468     \\\\\n",
       "\\textbf{Month\\_min\\_price\\_mean} &      -2.6017  &        0.359     &    -7.254  &         0.000        &       -3.305    &       -1.899     \\\\\n",
       "\\textbf{avg\\_price}              &       0.3120  &        0.001     &   508.086  &         0.000        &        0.311    &        0.313     \\\\\n",
       "\\textbf{state\\_avg\\_price}       &      -0.7023  &        0.025     &   -27.759  &         0.000        &       -0.752    &       -0.653     \\\\\n",
       "\\textbf{state\\_min\\_price}       &       0.0784  &        0.038     &     2.085  &         0.037        &        0.005    &        0.152     \\\\\n",
       "\\textbf{state\\_max\\_price}       &      -0.4957  &        0.025     &   -19.970  &         0.000        &       -0.544    &       -0.447     \\\\\n",
       "\\textbf{state\\_median\\_price}    &       0.1230  &        0.004     &    30.436  &         0.000        &        0.115    &        0.131     \\\\\n",
       "\\textbf{state\\_std\\_price}       &       1.0191  &        0.037     &    27.762  &         0.000        &        0.947    &        1.091     \\\\\n",
       "\\textbf{district\\_avg\\_price}    &      -0.7003  &        0.004     &  -175.494  &         0.000        &       -0.708    &       -0.693     \\\\\n",
       "\\textbf{district\\_min\\_price}    &       0.0204  &        0.003     &     7.713  &         0.000        &        0.015    &        0.026     \\\\\n",
       "\\textbf{district\\_max\\_price}    &       0.6105  &        0.012     &    49.166  &         0.000        &        0.586    &        0.635     \\\\\n",
       "\\textbf{district\\_median\\_price} &       0.0037  &        0.002     &     2.113  &         0.035        &        0.000    &        0.007     \\\\\n",
       "\\textbf{market\\_size}            &      -0.5064  &        0.056     &    -9.015  &         0.000        &       -0.616    &       -0.396     \\\\\n",
       "\\bottomrule\n",
       "\\end{tabular}\n",
       "\\begin{tabular}{lclc}\n",
       "\\textbf{Omnibus:}       & 565503.936 & \\textbf{  Durbin-Watson:     } &        2.000     \\\\\n",
       "\\textbf{Prob(Omnibus):} &    0.000   & \\textbf{  Jarque-Bera (JB):  } & 21001493236.797  \\\\\n",
       "\\textbf{Skew:}          &   -2.933   & \\textbf{  Prob(JB):          } &         0.00     \\\\\n",
       "\\textbf{Kurtosis:}      &  930.506   & \\textbf{  Cond. No.          } &     8.10e+16     \\\\\n",
       "\\bottomrule\n",
       "\\end{tabular}\n",
       "%\\caption{OLS Regression Results}\n",
       "\\end{center}\n",
       "\n",
       "Notes: \\newline\n",
       " [1] Standard Errors assume that the covariance matrix of the errors is correctly specified. \\newline\n",
       " [2] The smallest eigenvalue is 5.07e-22. This might indicate that there are \\newline\n",
       " strong multicollinearity problems or that the design matrix is singular."
      ],
      "text/plain": [
       "<class 'statsmodels.iolib.summary.Summary'>\n",
       "\"\"\"\n",
       "                            OLS Regression Results                            \n",
       "==============================================================================\n",
       "Dep. Variable:            modal_price   R-squared:                       0.665\n",
       "Model:                            OLS   Adj. R-squared:                  0.665\n",
       "Method:                 Least Squares   F-statistic:                 5.539e+04\n",
       "Date:                Fri, 05 Apr 2024   Prob (F-statistic):               0.00\n",
       "Time:                        18:35:25   Log-Likelihood:            -2.7531e+06\n",
       "No. Observations:              585882   AIC:                         5.506e+06\n",
       "Df Residuals:                  585860   BIC:                         5.507e+06\n",
       "Df Model:                          21                                         \n",
       "Covariance Type:            nonrobust                                         \n",
       "=========================================================================================\n",
       "                            coef    std err          t      P>|t|      [0.025      0.975]\n",
       "-----------------------------------------------------------------------------------------\n",
       "const                 -2917.7036    105.144    -27.750      0.000   -3123.782   -2711.625\n",
       "DayOfWeek                 0.0510      0.020      2.556      0.011       0.012       0.090\n",
       "Month                     0.1971      0.060      3.269      0.001       0.079       0.315\n",
       "Quarter                  -0.1359      0.155     -0.875      0.382      -0.440       0.169\n",
       "Year                      1.4448      0.052     27.759      0.000       1.343       1.547\n",
       "commodity_encoded        -0.0011   6.66e-05    -16.472      0.000      -0.001      -0.001\n",
       "district_label            0.0004      0.000      1.454      0.146      -0.000       0.001\n",
       "market_label             -0.0002   5.64e-05     -4.022      0.000      -0.000      -0.000\n",
       "min_price                -0.9085      0.003   -312.705      0.000      -0.914      -0.903\n",
       "max_price                 1.3565      0.003    458.899      0.000       1.351       1.362\n",
       "Month_max_price_mean      2.7317      0.376      7.272      0.000       1.995       3.468\n",
       "Month_min_price_mean     -2.6017      0.359     -7.254      0.000      -3.305      -1.899\n",
       "avg_price                 0.3120      0.001    508.086      0.000       0.311       0.313\n",
       "state_avg_price          -0.7023      0.025    -27.759      0.000      -0.752      -0.653\n",
       "state_min_price           0.0784      0.038      2.085      0.037       0.005       0.152\n",
       "state_max_price          -0.4957      0.025    -19.970      0.000      -0.544      -0.447\n",
       "state_median_price        0.1230      0.004     30.436      0.000       0.115       0.131\n",
       "state_std_price           1.0191      0.037     27.762      0.000       0.947       1.091\n",
       "district_avg_price       -0.7003      0.004   -175.494      0.000      -0.708      -0.693\n",
       "district_min_price        0.0204      0.003      7.713      0.000       0.015       0.026\n",
       "district_max_price        0.6105      0.012     49.166      0.000       0.586       0.635\n",
       "district_median_price     0.0037      0.002      2.113      0.035       0.000       0.007\n",
       "market_size              -0.5064      0.056     -9.015      0.000      -0.616      -0.396\n",
       "==============================================================================\n",
       "Omnibus:                   565503.936   Durbin-Watson:                   2.000\n",
       "Prob(Omnibus):                  0.000   Jarque-Bera (JB):      21001493236.797\n",
       "Skew:                          -2.933   Prob(JB):                         0.00\n",
       "Kurtosis:                     930.506   Cond. No.                     8.10e+16\n",
       "==============================================================================\n",
       "\n",
       "Notes:\n",
       "[1] Standard Errors assume that the covariance matrix of the errors is correctly specified.\n",
       "[2] The smallest eigenvalue is 5.07e-22. This might indicate that there are\n",
       "strong multicollinearity problems or that the design matrix is singular.\n",
       "\"\"\""
      ]
     },
     "execution_count": 202,
     "metadata": {},
     "output_type": "execute_result"
    }
   ],
   "source": [
    "import statsmodels.api as sma\n",
    "trainx_c = sma.add_constant(trainx)\n",
    "model = sma.OLS(trainy,trainx_c).fit()\n",
    "model.summary()"
   ]
  },
  {
   "cell_type": "code",
   "execution_count": null,
   "id": "059de2db",
   "metadata": {},
   "outputs": [],
   "source": []
  },
  {
   "cell_type": "markdown",
   "id": "b0ef410a",
   "metadata": {
    "execution": {
     "iopub.status.busy": "2024-04-05T17:23:55.300195Z",
     "iopub.status.idle": "2024-04-05T17:23:55.301776Z",
     "shell.execute_reply": "2024-04-05T17:23:55.301422Z",
     "shell.execute_reply.started": "2024-04-05T17:23:55.301384Z"
    }
   },
   "source": [
    "x= data.drop(columns='modal_price')\n",
    "y = data['modal_price']\n",
    "\n",
    "from sklearn.model_selection import train_test_split\n",
    "\n",
    "trainx,testx,trainy,testy = train_test_split(x,y,train_size=0.70,random_state=20)\n",
    "\n",
    "trainx.shape,trainy.shape,testx.shape,testy.shape,data.shape"
   ]
  },
  {
   "cell_type": "code",
   "execution_count": 203,
   "id": "d8844ee3",
   "metadata": {
    "execution": {
     "iopub.execute_input": "2024-04-05T18:35:32.354733Z",
     "iopub.status.busy": "2024-04-05T18:35:32.353271Z",
     "iopub.status.idle": "2024-04-05T18:35:32.361628Z",
     "shell.execute_reply": "2024-04-05T18:35:32.360254Z",
     "shell.execute_reply.started": "2024-04-05T18:35:32.354661Z"
    }
   },
   "outputs": [],
   "source": [
    "from sklearn.linear_model import LinearRegression\n",
    "from sklearn.tree import DecisionTreeRegressor\n",
    "from sklearn.ensemble import RandomForestRegressor,GradientBoostingRegressor,AdaBoostRegressor\n",
    "from xgboost import XGBRegressor"
   ]
  },
  {
   "cell_type": "code",
   "execution_count": 204,
   "id": "a8ac4926",
   "metadata": {
    "execution": {
     "iopub.execute_input": "2024-04-05T18:35:32.834415Z",
     "iopub.status.busy": "2024-04-05T18:35:32.833525Z",
     "iopub.status.idle": "2024-04-05T18:35:32.842600Z",
     "shell.execute_reply": "2024-04-05T18:35:32.841203Z",
     "shell.execute_reply.started": "2024-04-05T18:35:32.834357Z"
    }
   },
   "outputs": [],
   "source": [
    "# base model\n",
    "def base_models():\n",
    "    models = dict()\n",
    "    models['LR'] = LinearRegression()\n",
    "    models['DTREE'] = DecisionTreeRegressor()\n",
    "    models['RF'] = RandomForestRegressor()\n",
    "    models['GBM'] = GradientBoostingRegressor()\n",
    "    models['XGB'] = XGBRegressor()\n",
    "    models['ADA'] = AdaBoostRegressor()\n",
    "    return models"
   ]
  },
  {
   "cell_type": "code",
   "execution_count": 205,
   "id": "e8e7bcfd",
   "metadata": {
    "execution": {
     "iopub.execute_input": "2024-04-05T18:35:34.679982Z",
     "iopub.status.busy": "2024-04-05T18:35:34.679435Z",
     "iopub.status.idle": "2024-04-05T18:35:34.687869Z",
     "shell.execute_reply": "2024-04-05T18:35:34.686246Z",
     "shell.execute_reply.started": "2024-04-05T18:35:34.679942Z"
    }
   },
   "outputs": [],
   "source": [
    "from sklearn.model_selection import KFold,cross_val_score\n",
    "\n",
    "def eval_models(model):\n",
    "    cv = KFold(n_splits=5,shuffle=True,random_state=1001)\n",
    "    scores = cross_val_score(estimator=model,X =x,y = y,cv=cv,scoring='r2',\n",
    "                            n_jobs=-1)\n",
    "    return scores"
   ]
  },
  {
   "cell_type": "markdown",
   "id": "2d6e71e1",
   "metadata": {
    "execution": {
     "iopub.execute_input": "2024-04-05T17:43:50.812852Z",
     "iopub.status.busy": "2024-04-05T17:43:50.812345Z",
     "iopub.status.idle": "2024-04-05T18:03:42.029242Z",
     "shell.execute_reply": "2024-04-05T18:03:42.027348Z",
     "shell.execute_reply.started": "2024-04-05T17:43:50.812817Z"
    }
   },
   "source": [
    "###### lets use the functions to calculate the scores........\n",
    "import numpy as np\n",
    "models = base_models()\n",
    "\n",
    "result , names = list() , list()\n",
    "\n",
    "for name , mymodel in models.items():\n",
    "    finalscore = eval_models(mymodel)\n",
    "    result.append(finalscore)\n",
    "    names.append(name)\n",
    "    print(name,np.mean((result)))"
   ]
  },
  {
   "cell_type": "markdown",
   "id": "a24b01d0",
   "metadata": {},
   "source": []
  },
  {
   "cell_type": "code",
   "execution_count": 206,
   "id": "60a1d90c",
   "metadata": {
    "execution": {
     "iopub.execute_input": "2024-04-05T18:35:41.380698Z",
     "iopub.status.busy": "2024-04-05T18:35:41.380110Z",
     "iopub.status.idle": "2024-04-05T18:35:41.387694Z",
     "shell.execute_reply": "2024-04-05T18:35:41.386123Z",
     "shell.execute_reply.started": "2024-04-05T18:35:41.380645Z"
    }
   },
   "outputs": [],
   "source": [
    "from sklearn.metrics import r2_score,mean_absolute_error,mean_squared_error\n",
    "from sklearn.metrics import mean_absolute_percentage_error"
   ]
  },
  {
   "cell_type": "code",
   "execution_count": 207,
   "id": "ae56cedd",
   "metadata": {
    "execution": {
     "iopub.execute_input": "2024-04-05T18:35:45.099802Z",
     "iopub.status.busy": "2024-04-05T18:35:45.099269Z",
     "iopub.status.idle": "2024-04-05T18:35:45.109661Z",
     "shell.execute_reply": "2024-04-05T18:35:45.108165Z",
     "shell.execute_reply.started": "2024-04-05T18:35:45.099761Z"
    }
   },
   "outputs": [],
   "source": [
    "def model_validation(model,trainx,trainy,testx,testy):\n",
    "    m = model\n",
    "    m.fit(trainx,trainy)\n",
    "    pred = m.predict(testx)\n",
    "    print('MSE',mean_squared_error(testy,pred))\n",
    "    print('RMSE',np.sqrt(mean_squared_error(testy,pred)))\n",
    "    print('MAE',mean_absolute_error(testy,pred))\n",
    "    print('MAPE',mean_absolute_percentage_error(testy,pred))\n",
    "    r2 = r2_score(testy,pred)\n",
    "    print('R Squared:',r2)"
   ]
  },
  {
   "cell_type": "markdown",
   "id": "30f2b70e",
   "metadata": {},
   "source": [
    "### Random Forest "
   ]
  },
  {
   "cell_type": "code",
   "execution_count": 208,
   "id": "0df6b032",
   "metadata": {
    "execution": {
     "iopub.execute_input": "2024-04-05T18:35:56.640029Z",
     "iopub.status.busy": "2024-04-05T18:35:56.639451Z",
     "iopub.status.idle": "2024-04-05T18:41:08.967870Z",
     "shell.execute_reply": "2024-04-05T18:41:08.966429Z",
     "shell.execute_reply.started": "2024-04-05T18:35:56.639988Z"
    }
   },
   "outputs": [
    {
     "name": "stdout",
     "output_type": "stream",
     "text": [
      "MSE 114.2537592824835\n",
      "RMSE 10.688955013586853\n",
      "MAE 0.41975710026845575\n",
      "MAPE 16334334258.424595\n",
      "R Squared: 0.9442244865396253\n"
     ]
    }
   ],
   "source": [
    "model_validation(RandomForestRegressor(max_depth=6,n_estimators=300,warm_start=True,n_jobs=-1),trainx,trainy,testx,testy)"
   ]
  },
  {
   "cell_type": "code",
   "execution_count": 209,
   "id": "13648f06",
   "metadata": {
    "execution": {
     "iopub.execute_input": "2024-04-05T18:41:08.971169Z",
     "iopub.status.busy": "2024-04-05T18:41:08.970441Z",
     "iopub.status.idle": "2024-04-05T18:46:24.551260Z",
     "shell.execute_reply": "2024-04-05T18:46:24.549970Z",
     "shell.execute_reply.started": "2024-04-05T18:41:08.971121Z"
    }
   },
   "outputs": [
    {
     "name": "stdout",
     "output_type": "stream",
     "text": [
      "MSE 51.99987366393992\n",
      "RMSE 7.211093791092994\n",
      "MAE 0.3754569973624457\n",
      "MAPE 17432419926.077103\n",
      "R Squared: 0.975346954426942\n"
     ]
    }
   ],
   "source": [
    "model_validation(RandomForestRegressor(max_depth=6,n_estimators=300,warm_start=True,n_jobs=-1),trainx,trainy,trainx,trainy)"
   ]
  },
  {
   "cell_type": "markdown",
   "id": "51e15c53",
   "metadata": {},
   "source": [
    "### Decision Tree"
   ]
  },
  {
   "cell_type": "code",
   "execution_count": 210,
   "id": "8a91aacf",
   "metadata": {
    "execution": {
     "iopub.execute_input": "2024-04-05T18:46:24.553080Z",
     "iopub.status.busy": "2024-04-05T18:46:24.552727Z",
     "iopub.status.idle": "2024-04-05T18:46:27.763760Z",
     "shell.execute_reply": "2024-04-05T18:46:27.762311Z",
     "shell.execute_reply.started": "2024-04-05T18:46:24.553049Z"
    }
   },
   "outputs": [
    {
     "name": "stdout",
     "output_type": "stream",
     "text": [
      "MSE 212.56327183836183\n",
      "RMSE 14.579549781744353\n",
      "MAE 0.7000568514022606\n",
      "MAPE 44689292135.039085\n",
      "R Squared: 0.8962325116997749\n"
     ]
    }
   ],
   "source": [
    "model_validation(model=DecisionTreeRegressor(max_depth=5),trainx=trainx,trainy=trainy,\n",
    "                testx=testx,testy=testy)"
   ]
  },
  {
   "cell_type": "code",
   "execution_count": 211,
   "id": "b7817f3b",
   "metadata": {
    "execution": {
     "iopub.execute_input": "2024-04-05T18:46:27.768319Z",
     "iopub.status.busy": "2024-04-05T18:46:27.767933Z",
     "iopub.status.idle": "2024-04-05T18:46:30.990403Z",
     "shell.execute_reply": "2024-04-05T18:46:30.988880Z",
     "shell.execute_reply.started": "2024-04-05T18:46:27.768289Z"
    }
   },
   "outputs": [
    {
     "name": "stdout",
     "output_type": "stream",
     "text": [
      "MSE 166.05582790341347\n",
      "RMSE 12.88626508742597\n",
      "MAE 0.6743928678052213\n",
      "MAPE 42509447591.950356\n",
      "R Squared: 0.9212732338653042\n"
     ]
    }
   ],
   "source": [
    "model_validation(model=DecisionTreeRegressor(max_depth=5),trainx=trainx,trainy=trainy,\n",
    "                testx=trainx,testy=trainy)"
   ]
  },
  {
   "cell_type": "markdown",
   "id": "a35cb736",
   "metadata": {},
   "source": [
    "### Adaboost"
   ]
  },
  {
   "cell_type": "code",
   "execution_count": 212,
   "id": "20fa5058",
   "metadata": {
    "execution": {
     "iopub.execute_input": "2024-04-05T18:46:30.992272Z",
     "iopub.status.busy": "2024-04-05T18:46:30.991899Z",
     "iopub.status.idle": "2024-04-05T18:46:53.621794Z",
     "shell.execute_reply": "2024-04-05T18:46:53.620335Z",
     "shell.execute_reply.started": "2024-04-05T18:46:30.992240Z"
    }
   },
   "outputs": [
    {
     "name": "stdout",
     "output_type": "stream",
     "text": [
      "MSE 462.1161959317089\n",
      "RMSE 21.496888052267213\n",
      "MAE 1.887793820587042\n",
      "MAPE 253582514902.46982\n",
      "R Squared: 0.7744077020457586\n"
     ]
    }
   ],
   "source": [
    "model_validation(model=AdaBoostRegressor(n_estimators=150\n",
    "                                        ),trainx=trainx,trainy=trainy,\n",
    "                testx=testx,testy=testy)"
   ]
  },
  {
   "cell_type": "code",
   "execution_count": 213,
   "id": "3f4e6b73",
   "metadata": {
    "execution": {
     "iopub.execute_input": "2024-04-05T18:46:53.623610Z",
     "iopub.status.busy": "2024-04-05T18:46:53.623278Z",
     "iopub.status.idle": "2024-04-05T18:47:23.812007Z",
     "shell.execute_reply": "2024-04-05T18:47:23.810817Z",
     "shell.execute_reply.started": "2024-04-05T18:46:53.623580Z"
    }
   },
   "outputs": [
    {
     "name": "stdout",
     "output_type": "stream",
     "text": [
      "MSE 338.25717521019465\n",
      "RMSE 18.391769224579637\n",
      "MAE 1.6925259319026342\n",
      "MAPE 242138708785.3319\n",
      "R Squared: 0.8396328881534642\n"
     ]
    }
   ],
   "source": [
    "model_validation(model=AdaBoostRegressor(n_estimators=150\n",
    "                                        ),trainx=trainx,trainy=trainy,\n",
    "                testx=trainx,testy=trainy)"
   ]
  },
  {
   "cell_type": "markdown",
   "id": "4c23d50b",
   "metadata": {},
   "source": [
    "### XGB"
   ]
  },
  {
   "cell_type": "code",
   "execution_count": 214,
   "id": "60e63f96",
   "metadata": {
    "execution": {
     "iopub.execute_input": "2024-04-05T18:47:23.814456Z",
     "iopub.status.busy": "2024-04-05T18:47:23.813667Z",
     "iopub.status.idle": "2024-04-05T18:47:27.242371Z",
     "shell.execute_reply": "2024-04-05T18:47:27.241270Z",
     "shell.execute_reply.started": "2024-04-05T18:47:23.814393Z"
    }
   },
   "outputs": [
    {
     "name": "stdout",
     "output_type": "stream",
     "text": [
      "MSE 505.93470833609643\n",
      "RMSE 22.492992427333817\n",
      "MAE 0.8600960475290875\n",
      "MAPE 30626664637.226757\n",
      "R Squared: 0.7530167207443739\n"
     ]
    }
   ],
   "source": [
    "from xgboost import XGBRegressor\n",
    "model_validation(model=XGBRegressor(max_depth=5,n_estimator=150),trainx=trainx,trainy=trainy,\n",
    "                testx=testx,testy=testy)"
   ]
  },
  {
   "cell_type": "code",
   "execution_count": 215,
   "id": "e8e849ac",
   "metadata": {
    "execution": {
     "iopub.execute_input": "2024-04-05T18:47:27.244880Z",
     "iopub.status.busy": "2024-04-05T18:47:27.244481Z",
     "iopub.status.idle": "2024-04-05T18:47:31.048237Z",
     "shell.execute_reply": "2024-04-05T18:47:31.046977Z",
     "shell.execute_reply.started": "2024-04-05T18:47:27.244849Z"
    }
   },
   "outputs": [
    {
     "name": "stdout",
     "output_type": "stream",
     "text": [
      "MSE 359.4748512565818\n",
      "RMSE 18.95982202597329\n",
      "MAE 0.7321961162981896\n",
      "MAPE 28127412882.613266\n",
      "R Squared: 0.8295736265116671\n"
     ]
    }
   ],
   "source": [
    "model_validation(model=XGBRegressor(max_depth=5,n_estimator=150),trainx=trainx,trainy=trainy,\n",
    "                testx=trainx,testy=trainy)"
   ]
  },
  {
   "cell_type": "code",
   "execution_count": null,
   "id": "653ad6c3",
   "metadata": {},
   "outputs": [],
   "source": []
  },
  {
   "cell_type": "markdown",
   "id": "42279779",
   "metadata": {},
   "source": [
    "### Stacking"
   ]
  },
  {
   "cell_type": "code",
   "execution_count": 147,
   "id": "71cb0380",
   "metadata": {
    "execution": {
     "iopub.execute_input": "2024-04-05T18:22:45.360639Z",
     "iopub.status.busy": "2024-04-05T18:22:45.359424Z",
     "iopub.status.idle": "2024-04-05T18:27:53.588912Z",
     "shell.execute_reply": "2024-04-05T18:27:53.587568Z",
     "shell.execute_reply.started": "2024-04-05T18:22:45.360582Z"
    }
   },
   "outputs": [],
   "source": [
    "from sklearn.ensemble import StackingRegressor\n",
    "\n",
    "DT = DecisionTreeRegressor()\n",
    "ADA = AdaBoostRegressor()\n",
    "RF = RandomForestRegressor()\n",
    "base_estimators = [('DT',DT),('ADA',ADA)]\n",
    "stack = StackingRegressor(estimators = base_estimators,final_estimator=RF,cv=5)\n",
    "\n",
    "pred = stack.fit(trainx,trainy).predict(testx)\n"
   ]
  },
  {
   "cell_type": "code",
   "execution_count": 148,
   "id": "934a14c2",
   "metadata": {
    "execution": {
     "iopub.execute_input": "2024-04-05T18:27:53.592349Z",
     "iopub.status.busy": "2024-04-05T18:27:53.591853Z",
     "iopub.status.idle": "2024-04-05T18:27:53.610485Z",
     "shell.execute_reply": "2024-04-05T18:27:53.609035Z",
     "shell.execute_reply.started": "2024-04-05T18:27:53.592304Z"
    }
   },
   "outputs": [
    {
     "name": "stdout",
     "output_type": "stream",
     "text": [
      "MSE 160.59415434641113\n",
      "RMSE 12.672574890148061\n",
      "MAE 0.27262126408291826\n",
      "MAPE 9643291057.998806\n",
      "R Squared: 0.9216023921343391\n"
     ]
    }
   ],
   "source": [
    "print('MSE',mean_squared_error(testy,pred))\n",
    "print('RMSE',np.sqrt(mean_squared_error(testy,pred)))\n",
    "print('MAE',mean_absolute_error(testy,pred))\n",
    "print('MAPE',mean_absolute_percentage_error(testy,pred))\n",
    "r2 = r2_score(testy,pred)\n",
    "print('R Squared:',r2)"
   ]
  },
  {
   "cell_type": "markdown",
   "id": "3bc9898d",
   "metadata": {},
   "source": [
    "* MSE 114.2537592824835\n",
    "* RMSE 10.688955013586853\n",
    "* MAE 0.41975710026845575\n",
    "* MAPE 16334334258.424595\n",
    "* R Squared: 0.9442244865396253"
   ]
  },
  {
   "cell_type": "markdown",
   "id": "dcdbeeb2",
   "metadata": {},
   "source": [
    "# END........."
   ]
  }
 ],
 "metadata": {
  "kaggle": {
   "accelerator": "none",
   "dataSources": [
    {
     "datasetId": 4553153,
     "sourceId": 7780733,
     "sourceType": "datasetVersion"
    }
   ],
   "dockerImageVersionId": 30664,
   "isGpuEnabled": false,
   "isInternetEnabled": true,
   "language": "python",
   "sourceType": "notebook"
  },
  "kernelspec": {
   "display_name": "Python 3 (ipykernel)",
   "language": "python",
   "name": "python3"
  },
  "language_info": {
   "codemirror_mode": {
    "name": "ipython",
    "version": 3
   },
   "file_extension": ".py",
   "mimetype": "text/x-python",
   "name": "python",
   "nbconvert_exporter": "python",
   "pygments_lexer": "ipython3",
   "version": "3.11.3"
  }
 },
 "nbformat": 4,
 "nbformat_minor": 5
}
